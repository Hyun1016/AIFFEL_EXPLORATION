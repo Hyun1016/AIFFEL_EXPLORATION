{
  "nbformat": 4,
  "nbformat_minor": 0,
  "metadata": {
    "colab": {
      "name": "[EX-07]Abstract_news",
      "provenance": [],
      "collapsed_sections": [],
      "machine_shape": "hm"
    },
    "kernelspec": {
      "name": "python3",
      "display_name": "Python 3"
    },
    "language_info": {
      "name": "python"
    },
    "accelerator": "GPU"
  },
  "cells": [
    {
      "cell_type": "markdown",
      "source": [
        "#  프로젝트: 뉴스기사 요약해보기\n",
        "\n",
        "---"
      ],
      "metadata": {
        "id": "tQhG-qAmLOId"
      }
    },
    {
      "cell_type": "markdown",
      "source": [
        "## Prestep. Model Import\n",
        "---"
      ],
      "metadata": {
        "id": "zexvJv_cLyfT"
      }
    },
    {
      "cell_type": "code",
      "source": [
        "!pip install summa"
      ],
      "metadata": {
        "colab": {
          "base_uri": "https://localhost:8080/"
        },
        "id": "B8lygi0TFE7f",
        "outputId": "faf84cdb-9293-4904-bd2c-d1099d95da64"
      },
      "execution_count": null,
      "outputs": [
        {
          "output_type": "stream",
          "name": "stdout",
          "text": [
            "Looking in indexes: https://pypi.org/simple, https://us-python.pkg.dev/colab-wheels/public/simple/\n",
            "Collecting summa\n",
            "  Downloading summa-1.2.0.tar.gz (54 kB)\n",
            "\u001b[K     |████████████████████████████████| 54 kB 2.2 MB/s \n",
            "\u001b[?25hRequirement already satisfied: scipy>=0.19 in /usr/local/lib/python3.7/dist-packages (from summa) (1.4.1)\n",
            "Requirement already satisfied: numpy>=1.13.3 in /usr/local/lib/python3.7/dist-packages (from scipy>=0.19->summa) (1.21.6)\n",
            "Building wheels for collected packages: summa\n",
            "  Building wheel for summa (setup.py) ... \u001b[?25l\u001b[?25hdone\n",
            "  Created wheel for summa: filename=summa-1.2.0-py3-none-any.whl size=54412 sha256=5b19554296eec7466cbb4c2b5afad63d58b341bf396874e661fe9ad44b8f02e2\n",
            "  Stored in directory: /root/.cache/pip/wheels/29/64/ac/7b443477588d365ef37ada30d456bdf5f07dc5be9f6324cb6e\n",
            "Successfully built summa\n",
            "Installing collected packages: summa\n",
            "Successfully installed summa-1.2.0\n"
          ]
        }
      ]
    },
    {
      "cell_type": "code",
      "source": [
        "!pip install pyyaml h5py "
      ],
      "metadata": {
        "colab": {
          "base_uri": "https://localhost:8080/"
        },
        "id": "-y3bZ1sJm-3N",
        "outputId": "8d06be89-6838-4a3b-cfe1-4c1fbe07d605"
      },
      "execution_count": null,
      "outputs": [
        {
          "output_type": "stream",
          "name": "stdout",
          "text": [
            "Looking in indexes: https://pypi.org/simple, https://us-python.pkg.dev/colab-wheels/public/simple/\n",
            "Requirement already satisfied: pyyaml in /usr/local/lib/python3.7/dist-packages (3.13)\n",
            "Requirement already satisfied: h5py in /usr/local/lib/python3.7/dist-packages (3.1.0)\n",
            "Requirement already satisfied: cached-property in /usr/local/lib/python3.7/dist-packages (from h5py) (1.5.2)\n",
            "Requirement already satisfied: numpy>=1.14.5 in /usr/local/lib/python3.7/dist-packages (from h5py) (1.21.6)\n"
          ]
        }
      ]
    },
    {
      "cell_type": "code",
      "source": [
        "import os\n",
        "\n",
        "import pandas as pd\n",
        "import urllib.request\n",
        "from nltk.corpus import stopwords #불용어 처리 라이브러리\n",
        "from bs4 import BeautifulSoup\n",
        "import re\n",
        "\n",
        "import multiprocessing as mp   # 멀티 프로세싱으로 전처리 속도를 획기적으로 줄여봅시다\n",
        "from multiprocessing import Pool\n",
        "import numpy as np\n",
        "import time\n",
        "from functools import partial  # map을 할 때 함수에 여러 인자를 넣어줄 수 있도록 합니다\n",
        "import matplotlib.pyplot as plt\n",
        "\n",
        "from tensorflow import keras\n",
        "import tensorflow as tf\n",
        "from tensorflow.keras.preprocessing.text import Tokenizer \n",
        "from tensorflow.keras.preprocessing.sequence import pad_sequences\n",
        "\n",
        "from tensorflow.keras.layers import Input, LSTM, Embedding, Dense, Concatenate\n",
        "from tensorflow.keras.models import Model\n",
        "from tensorflow.keras.callbacks import EarlyStopping, ModelCheckpoint\n",
        "\n",
        "import requests\n",
        "from summa.summarizer import summarize"
      ],
      "metadata": {
        "id": "cJjnhLDTZoD-"
      },
      "execution_count": null,
      "outputs": []
    },
    {
      "cell_type": "code",
      "source": [
        "import nltk\n",
        "nltk.download('punkt')\n",
        "nltk.download('stopwords')"
      ],
      "metadata": {
        "colab": {
          "base_uri": "https://localhost:8080/"
        },
        "id": "-_Py1-0tW5bt",
        "outputId": "4d9b5e9d-dd98-4f69-f3fd-dc08e558c438"
      },
      "execution_count": null,
      "outputs": [
        {
          "output_type": "stream",
          "name": "stdout",
          "text": [
            "[nltk_data] Downloading package punkt to /root/nltk_data...\n",
            "[nltk_data]   Unzipping tokenizers/punkt.zip.\n",
            "[nltk_data] Downloading package stopwords to /root/nltk_data...\n",
            "[nltk_data]   Unzipping corpora/stopwords.zip.\n"
          ]
        },
        {
          "output_type": "execute_result",
          "data": {
            "text/plain": [
              "True"
            ]
          },
          "metadata": {},
          "execution_count": 3
        }
      ]
    },
    {
      "cell_type": "markdown",
      "source": [
        "## Step 1. 데이터 수집하기\n",
        "\n",
        "---"
      ],
      "metadata": {
        "id": "3Irs0cSxLXOa"
      }
    },
    {
      "cell_type": "code",
      "source": [
        "import urllib.request\n",
        "urllib.request.urlretrieve(\"https://raw.githubusercontent.com/sunnysai12345/News_Summary/master/news_summary_more.csv\", filename=\"news_summary_more.csv\")\n",
        "data = pd.read_csv('news_summary_more.csv', encoding='iso-8859-1')"
      ],
      "metadata": {
        "id": "2choWYNzLt0M"
      },
      "execution_count": null,
      "outputs": []
    },
    {
      "cell_type": "code",
      "source": [
        "data.sample(10)"
      ],
      "metadata": {
        "colab": {
          "base_uri": "https://localhost:8080/",
          "height": 363
        },
        "id": "G6CPx8JBZxJ1",
        "outputId": "546e6356-103c-43ee-97bf-12f76c220077"
      },
      "execution_count": null,
      "outputs": [
        {
          "output_type": "execute_result",
          "data": {
            "text/plain": [
              "                                               headlines  \\\n",
              "40843  Steve Smith to not appeal his 12-month ban fro...   \n",
              "48316  AI, Vistara flights come within 100ft, avoid c...   \n",
              "72243  Trump's attacks on media have concrete aims: U...   \n",
              "93732  Study finds first ever evidence of rescue beha...   \n",
              "52689  The greatest wall is the one and only Rahul Dr...   \n",
              "51368  Firecracker unit owner arrested in Bawana fire...   \n",
              "24948  War with Iran would be mother of all wars: Rou...   \n",
              "8849   Nepotism exists but there are stars who're not...   \n",
              "97417  Jharkhand village names streets after most edu...   \n",
              "49892  Firm that helps make VR content without coding...   \n",
              "\n",
              "                                                    text  \n",
              "40843  Former Australian captain Steve Smith has conf...  \n",
              "48316  A mid-air collision between an Air India aircr...  \n",
              "72243  US President Donald Trump's attacks against me...  \n",
              "93732  Researchers have found the first evidence of r...  \n",
              "52689  Wishing Rahul Dravid on his 45th birthday, Sac...  \n",
              "51368  The Delhi Police on Sunday arrested Manoj Jain...  \n",
              "24948  Warning the US against provoking Iran, Preside...  \n",
              "8849   Preity Zinta, while talking about nepotism, sa...  \n",
              "97417  Juri, a village in Jharkhand's East Singhbhum ...  \n",
              "49892  Bengaluru-headquartered virtual reality (VR) s...  "
            ],
            "text/html": [
              "\n",
              "  <div id=\"df-0e088a63-c6e4-4323-b5a2-107562278f29\">\n",
              "    <div class=\"colab-df-container\">\n",
              "      <div>\n",
              "<style scoped>\n",
              "    .dataframe tbody tr th:only-of-type {\n",
              "        vertical-align: middle;\n",
              "    }\n",
              "\n",
              "    .dataframe tbody tr th {\n",
              "        vertical-align: top;\n",
              "    }\n",
              "\n",
              "    .dataframe thead th {\n",
              "        text-align: right;\n",
              "    }\n",
              "</style>\n",
              "<table border=\"1\" class=\"dataframe\">\n",
              "  <thead>\n",
              "    <tr style=\"text-align: right;\">\n",
              "      <th></th>\n",
              "      <th>headlines</th>\n",
              "      <th>text</th>\n",
              "    </tr>\n",
              "  </thead>\n",
              "  <tbody>\n",
              "    <tr>\n",
              "      <th>40843</th>\n",
              "      <td>Steve Smith to not appeal his 12-month ban fro...</td>\n",
              "      <td>Former Australian captain Steve Smith has conf...</td>\n",
              "    </tr>\n",
              "    <tr>\n",
              "      <th>48316</th>\n",
              "      <td>AI, Vistara flights come within 100ft, avoid c...</td>\n",
              "      <td>A mid-air collision between an Air India aircr...</td>\n",
              "    </tr>\n",
              "    <tr>\n",
              "      <th>72243</th>\n",
              "      <td>Trump's attacks on media have concrete aims: U...</td>\n",
              "      <td>US President Donald Trump's attacks against me...</td>\n",
              "    </tr>\n",
              "    <tr>\n",
              "      <th>93732</th>\n",
              "      <td>Study finds first ever evidence of rescue beha...</td>\n",
              "      <td>Researchers have found the first evidence of r...</td>\n",
              "    </tr>\n",
              "    <tr>\n",
              "      <th>52689</th>\n",
              "      <td>The greatest wall is the one and only Rahul Dr...</td>\n",
              "      <td>Wishing Rahul Dravid on his 45th birthday, Sac...</td>\n",
              "    </tr>\n",
              "    <tr>\n",
              "      <th>51368</th>\n",
              "      <td>Firecracker unit owner arrested in Bawana fire...</td>\n",
              "      <td>The Delhi Police on Sunday arrested Manoj Jain...</td>\n",
              "    </tr>\n",
              "    <tr>\n",
              "      <th>24948</th>\n",
              "      <td>War with Iran would be mother of all wars: Rou...</td>\n",
              "      <td>Warning the US against provoking Iran, Preside...</td>\n",
              "    </tr>\n",
              "    <tr>\n",
              "      <th>8849</th>\n",
              "      <td>Nepotism exists but there are stars who're not...</td>\n",
              "      <td>Preity Zinta, while talking about nepotism, sa...</td>\n",
              "    </tr>\n",
              "    <tr>\n",
              "      <th>97417</th>\n",
              "      <td>Jharkhand village names streets after most edu...</td>\n",
              "      <td>Juri, a village in Jharkhand's East Singhbhum ...</td>\n",
              "    </tr>\n",
              "    <tr>\n",
              "      <th>49892</th>\n",
              "      <td>Firm that helps make VR content without coding...</td>\n",
              "      <td>Bengaluru-headquartered virtual reality (VR) s...</td>\n",
              "    </tr>\n",
              "  </tbody>\n",
              "</table>\n",
              "</div>\n",
              "      <button class=\"colab-df-convert\" onclick=\"convertToInteractive('df-0e088a63-c6e4-4323-b5a2-107562278f29')\"\n",
              "              title=\"Convert this dataframe to an interactive table.\"\n",
              "              style=\"display:none;\">\n",
              "        \n",
              "  <svg xmlns=\"http://www.w3.org/2000/svg\" height=\"24px\"viewBox=\"0 0 24 24\"\n",
              "       width=\"24px\">\n",
              "    <path d=\"M0 0h24v24H0V0z\" fill=\"none\"/>\n",
              "    <path d=\"M18.56 5.44l.94 2.06.94-2.06 2.06-.94-2.06-.94-.94-2.06-.94 2.06-2.06.94zm-11 1L8.5 8.5l.94-2.06 2.06-.94-2.06-.94L8.5 2.5l-.94 2.06-2.06.94zm10 10l.94 2.06.94-2.06 2.06-.94-2.06-.94-.94-2.06-.94 2.06-2.06.94z\"/><path d=\"M17.41 7.96l-1.37-1.37c-.4-.4-.92-.59-1.43-.59-.52 0-1.04.2-1.43.59L10.3 9.45l-7.72 7.72c-.78.78-.78 2.05 0 2.83L4 21.41c.39.39.9.59 1.41.59.51 0 1.02-.2 1.41-.59l7.78-7.78 2.81-2.81c.8-.78.8-2.07 0-2.86zM5.41 20L4 18.59l7.72-7.72 1.47 1.35L5.41 20z\"/>\n",
              "  </svg>\n",
              "      </button>\n",
              "      \n",
              "  <style>\n",
              "    .colab-df-container {\n",
              "      display:flex;\n",
              "      flex-wrap:wrap;\n",
              "      gap: 12px;\n",
              "    }\n",
              "\n",
              "    .colab-df-convert {\n",
              "      background-color: #E8F0FE;\n",
              "      border: none;\n",
              "      border-radius: 50%;\n",
              "      cursor: pointer;\n",
              "      display: none;\n",
              "      fill: #1967D2;\n",
              "      height: 32px;\n",
              "      padding: 0 0 0 0;\n",
              "      width: 32px;\n",
              "    }\n",
              "\n",
              "    .colab-df-convert:hover {\n",
              "      background-color: #E2EBFA;\n",
              "      box-shadow: 0px 1px 2px rgba(60, 64, 67, 0.3), 0px 1px 3px 1px rgba(60, 64, 67, 0.15);\n",
              "      fill: #174EA6;\n",
              "    }\n",
              "\n",
              "    [theme=dark] .colab-df-convert {\n",
              "      background-color: #3B4455;\n",
              "      fill: #D2E3FC;\n",
              "    }\n",
              "\n",
              "    [theme=dark] .colab-df-convert:hover {\n",
              "      background-color: #434B5C;\n",
              "      box-shadow: 0px 1px 3px 1px rgba(0, 0, 0, 0.15);\n",
              "      filter: drop-shadow(0px 1px 2px rgba(0, 0, 0, 0.3));\n",
              "      fill: #FFFFFF;\n",
              "    }\n",
              "  </style>\n",
              "\n",
              "      <script>\n",
              "        const buttonEl =\n",
              "          document.querySelector('#df-0e088a63-c6e4-4323-b5a2-107562278f29 button.colab-df-convert');\n",
              "        buttonEl.style.display =\n",
              "          google.colab.kernel.accessAllowed ? 'block' : 'none';\n",
              "\n",
              "        async function convertToInteractive(key) {\n",
              "          const element = document.querySelector('#df-0e088a63-c6e4-4323-b5a2-107562278f29');\n",
              "          const dataTable =\n",
              "            await google.colab.kernel.invokeFunction('convertToInteractive',\n",
              "                                                     [key], {});\n",
              "          if (!dataTable) return;\n",
              "\n",
              "          const docLinkHtml = 'Like what you see? Visit the ' +\n",
              "            '<a target=\"_blank\" href=https://colab.research.google.com/notebooks/data_table.ipynb>data table notebook</a>'\n",
              "            + ' to learn more about interactive tables.';\n",
              "          element.innerHTML = '';\n",
              "          dataTable['output_type'] = 'display_data';\n",
              "          await google.colab.output.renderOutput(dataTable, element);\n",
              "          const docLink = document.createElement('div');\n",
              "          docLink.innerHTML = docLinkHtml;\n",
              "          element.appendChild(docLink);\n",
              "        }\n",
              "      </script>\n",
              "    </div>\n",
              "  </div>\n",
              "  "
            ]
          },
          "metadata": {},
          "execution_count": 5
        }
      ]
    },
    {
      "cell_type": "markdown",
      "source": [
        "10개를 출력해보니 기사제목과 기사 내용 2개로 나눠져 있습니다.\n",
        "\n",
        "뉴스의 제목이 곧 요약이니 이를 기준삼아 학습시키면 될 거같습니다."
      ],
      "metadata": {
        "id": "CIESUKYCVcgc"
      }
    },
    {
      "cell_type": "markdown",
      "source": [
        "## Step 2. 데이터 전처리하기 (추상적 요약)\n",
        "\n",
        "---"
      ],
      "metadata": {
        "id": "pB7Cq33pLYP5"
      }
    },
    {
      "cell_type": "markdown",
      "source": [
        "### 중복값과 결측치 제거"
      ],
      "metadata": {
        "id": "hxG9_ajOWDcU"
      }
    },
    {
      "cell_type": "code",
      "source": [
        "len(data)"
      ],
      "metadata": {
        "colab": {
          "base_uri": "https://localhost:8080/"
        },
        "id": "IR06jcAhjLk6",
        "outputId": "a1e0a3ee-f496-4a17-a2c4-8f5650d020c5"
      },
      "execution_count": null,
      "outputs": [
        {
          "output_type": "execute_result",
          "data": {
            "text/plain": [
              "98401"
            ]
          },
          "metadata": {},
          "execution_count": 6
        }
      ]
    },
    {
      "cell_type": "markdown",
      "source": [
        "### 결측치 확인"
      ],
      "metadata": {
        "id": "IIfWD-vFY0k1"
      }
    },
    {
      "cell_type": "code",
      "source": [
        "print(data.isnull().sum())"
      ],
      "metadata": {
        "colab": {
          "base_uri": "https://localhost:8080/"
        },
        "id": "hHI4-8EaXQCL",
        "outputId": "b5af2d5b-0f76-407d-c25f-89263b5f2f4f"
      },
      "execution_count": null,
      "outputs": [
        {
          "output_type": "stream",
          "name": "stdout",
          "text": [
            "headlines    0\n",
            "text         0\n",
            "dtype: int64\n"
          ]
        }
      ]
    },
    {
      "cell_type": "markdown",
      "source": [
        "결측치가 없음을 확인했습니다."
      ],
      "metadata": {
        "id": "9M8XGFgvY4ES"
      }
    },
    {
      "cell_type": "code",
      "source": [
        "print('Text 열에서 중복을 배제한 유일한 샘플의 수 :', data['text'].nunique())\n",
        "print('Headlines 열에서 중복을 배제한 유일한 샘플의 수 :', data['headlines'].nunique())"
      ],
      "metadata": {
        "colab": {
          "base_uri": "https://localhost:8080/"
        },
        "id": "iGTlHIhmZ-aA",
        "outputId": "9efecd46-1b93-403e-8c1c-568f067c4441"
      },
      "execution_count": null,
      "outputs": [
        {
          "output_type": "stream",
          "name": "stdout",
          "text": [
            "Text 열에서 중복을 배제한 유일한 샘플의 수 : 98360\n",
            "Headlines 열에서 중복을 배제한 유일한 샘플의 수 : 98280\n"
          ]
        }
      ]
    },
    {
      "cell_type": "markdown",
      "source": [
        "Text 열에서 중복을 배제한 유일한 샘플의 수 : 98360\n",
        "\\\n",
        "Headline 열에서 중복을 배제한 유일한 샘플의 수 : 98280\n",
        "\n",
        "Headline의 중복을 처리해야 할지 말아야 할지 고민이다. "
      ],
      "metadata": {
        "id": "SAUJeoPpX315"
      }
    },
    {
      "cell_type": "markdown",
      "source": [
        "### Headline 에서 중복된 위치 찾기"
      ],
      "metadata": {
        "id": "x8nLtCNwCTi8"
      }
    },
    {
      "cell_type": "code",
      "source": [
        "# headline에서 중복된 위치 찾기\n",
        "duplicated_headlines = data.duplicated(subset=['headlines'], keep=False)\n",
        "duplicated_location = data.loc[duplicated_headlines,'headlines' ]\n",
        "print(duplicated_location)"
      ],
      "metadata": {
        "colab": {
          "base_uri": "https://localhost:8080/"
        },
        "id": "NlZMe_cEhLIE",
        "outputId": "28a611ce-7d79-4c58-9286-06ce8265ba69"
      },
      "execution_count": null,
      "outputs": [
        {
          "output_type": "stream",
          "name": "stdout",
          "text": [
            "23       Isha Ambani features on February cover of Vogu...\n",
            "24       Indian Oil looking for annual deal to buy crud...\n",
            "25       Pacer once took 7 wickets for just 1 run in 32...\n",
            "416      Mughal Gardens to open for public from February 6\n",
            "1017     Longest Test innings was longer than 10 footba...\n",
            "                               ...                        \n",
            "95135    Parveen Babi was 1st Indian film star on TIME ...\n",
            "95473    Sachin had not let Sehwag watch 2011 World Cup...\n",
            "95670    How did the tradition of April Fools' Day orig...\n",
            "96540    Sachin first opened in ODIs due to Sidhu's 'st...\n",
            "97489              Who are the richest women in the world?\n",
            "Name: headlines, Length: 235, dtype: object\n"
          ]
        }
      ]
    },
    {
      "cell_type": "markdown",
      "source": [
        "중복된 위치를 찾아봐도 뭐가 중복되었는지 알 수 없다. \n"
      ],
      "metadata": {
        "id": "kMssOQjJkkNQ"
      }
    },
    {
      "cell_type": "code",
      "source": [
        "duplicated_location.to_frame()"
      ],
      "metadata": {
        "colab": {
          "base_uri": "https://localhost:8080/",
          "height": 424
        },
        "id": "pfcw8DMTltuY",
        "outputId": "1b079de5-5d5d-4707-f46d-e5d783db56a8"
      },
      "execution_count": null,
      "outputs": [
        {
          "output_type": "execute_result",
          "data": {
            "text/plain": [
              "                                               headlines\n",
              "23     Isha Ambani features on February cover of Vogu...\n",
              "24     Indian Oil looking for annual deal to buy crud...\n",
              "25     Pacer once took 7 wickets for just 1 run in 32...\n",
              "416    Mughal Gardens to open for public from February 6\n",
              "1017   Longest Test innings was longer than 10 footba...\n",
              "...                                                  ...\n",
              "95135  Parveen Babi was 1st Indian film star on TIME ...\n",
              "95473  Sachin had not let Sehwag watch 2011 World Cup...\n",
              "95670  How did the tradition of April Fools' Day orig...\n",
              "96540  Sachin first opened in ODIs due to Sidhu's 'st...\n",
              "97489            Who are the richest women in the world?\n",
              "\n",
              "[235 rows x 1 columns]"
            ],
            "text/html": [
              "\n",
              "  <div id=\"df-d74ce187-dd6c-4c98-b249-e69de46abccd\">\n",
              "    <div class=\"colab-df-container\">\n",
              "      <div>\n",
              "<style scoped>\n",
              "    .dataframe tbody tr th:only-of-type {\n",
              "        vertical-align: middle;\n",
              "    }\n",
              "\n",
              "    .dataframe tbody tr th {\n",
              "        vertical-align: top;\n",
              "    }\n",
              "\n",
              "    .dataframe thead th {\n",
              "        text-align: right;\n",
              "    }\n",
              "</style>\n",
              "<table border=\"1\" class=\"dataframe\">\n",
              "  <thead>\n",
              "    <tr style=\"text-align: right;\">\n",
              "      <th></th>\n",
              "      <th>headlines</th>\n",
              "    </tr>\n",
              "  </thead>\n",
              "  <tbody>\n",
              "    <tr>\n",
              "      <th>23</th>\n",
              "      <td>Isha Ambani features on February cover of Vogu...</td>\n",
              "    </tr>\n",
              "    <tr>\n",
              "      <th>24</th>\n",
              "      <td>Indian Oil looking for annual deal to buy crud...</td>\n",
              "    </tr>\n",
              "    <tr>\n",
              "      <th>25</th>\n",
              "      <td>Pacer once took 7 wickets for just 1 run in 32...</td>\n",
              "    </tr>\n",
              "    <tr>\n",
              "      <th>416</th>\n",
              "      <td>Mughal Gardens to open for public from February 6</td>\n",
              "    </tr>\n",
              "    <tr>\n",
              "      <th>1017</th>\n",
              "      <td>Longest Test innings was longer than 10 footba...</td>\n",
              "    </tr>\n",
              "    <tr>\n",
              "      <th>...</th>\n",
              "      <td>...</td>\n",
              "    </tr>\n",
              "    <tr>\n",
              "      <th>95135</th>\n",
              "      <td>Parveen Babi was 1st Indian film star on TIME ...</td>\n",
              "    </tr>\n",
              "    <tr>\n",
              "      <th>95473</th>\n",
              "      <td>Sachin had not let Sehwag watch 2011 World Cup...</td>\n",
              "    </tr>\n",
              "    <tr>\n",
              "      <th>95670</th>\n",
              "      <td>How did the tradition of April Fools' Day orig...</td>\n",
              "    </tr>\n",
              "    <tr>\n",
              "      <th>96540</th>\n",
              "      <td>Sachin first opened in ODIs due to Sidhu's 'st...</td>\n",
              "    </tr>\n",
              "    <tr>\n",
              "      <th>97489</th>\n",
              "      <td>Who are the richest women in the world?</td>\n",
              "    </tr>\n",
              "  </tbody>\n",
              "</table>\n",
              "<p>235 rows × 1 columns</p>\n",
              "</div>\n",
              "      <button class=\"colab-df-convert\" onclick=\"convertToInteractive('df-d74ce187-dd6c-4c98-b249-e69de46abccd')\"\n",
              "              title=\"Convert this dataframe to an interactive table.\"\n",
              "              style=\"display:none;\">\n",
              "        \n",
              "  <svg xmlns=\"http://www.w3.org/2000/svg\" height=\"24px\"viewBox=\"0 0 24 24\"\n",
              "       width=\"24px\">\n",
              "    <path d=\"M0 0h24v24H0V0z\" fill=\"none\"/>\n",
              "    <path d=\"M18.56 5.44l.94 2.06.94-2.06 2.06-.94-2.06-.94-.94-2.06-.94 2.06-2.06.94zm-11 1L8.5 8.5l.94-2.06 2.06-.94-2.06-.94L8.5 2.5l-.94 2.06-2.06.94zm10 10l.94 2.06.94-2.06 2.06-.94-2.06-.94-.94-2.06-.94 2.06-2.06.94z\"/><path d=\"M17.41 7.96l-1.37-1.37c-.4-.4-.92-.59-1.43-.59-.52 0-1.04.2-1.43.59L10.3 9.45l-7.72 7.72c-.78.78-.78 2.05 0 2.83L4 21.41c.39.39.9.59 1.41.59.51 0 1.02-.2 1.41-.59l7.78-7.78 2.81-2.81c.8-.78.8-2.07 0-2.86zM5.41 20L4 18.59l7.72-7.72 1.47 1.35L5.41 20z\"/>\n",
              "  </svg>\n",
              "      </button>\n",
              "      \n",
              "  <style>\n",
              "    .colab-df-container {\n",
              "      display:flex;\n",
              "      flex-wrap:wrap;\n",
              "      gap: 12px;\n",
              "    }\n",
              "\n",
              "    .colab-df-convert {\n",
              "      background-color: #E8F0FE;\n",
              "      border: none;\n",
              "      border-radius: 50%;\n",
              "      cursor: pointer;\n",
              "      display: none;\n",
              "      fill: #1967D2;\n",
              "      height: 32px;\n",
              "      padding: 0 0 0 0;\n",
              "      width: 32px;\n",
              "    }\n",
              "\n",
              "    .colab-df-convert:hover {\n",
              "      background-color: #E2EBFA;\n",
              "      box-shadow: 0px 1px 2px rgba(60, 64, 67, 0.3), 0px 1px 3px 1px rgba(60, 64, 67, 0.15);\n",
              "      fill: #174EA6;\n",
              "    }\n",
              "\n",
              "    [theme=dark] .colab-df-convert {\n",
              "      background-color: #3B4455;\n",
              "      fill: #D2E3FC;\n",
              "    }\n",
              "\n",
              "    [theme=dark] .colab-df-convert:hover {\n",
              "      background-color: #434B5C;\n",
              "      box-shadow: 0px 1px 3px 1px rgba(0, 0, 0, 0.15);\n",
              "      filter: drop-shadow(0px 1px 2px rgba(0, 0, 0, 0.3));\n",
              "      fill: #FFFFFF;\n",
              "    }\n",
              "  </style>\n",
              "\n",
              "      <script>\n",
              "        const buttonEl =\n",
              "          document.querySelector('#df-d74ce187-dd6c-4c98-b249-e69de46abccd button.colab-df-convert');\n",
              "        buttonEl.style.display =\n",
              "          google.colab.kernel.accessAllowed ? 'block' : 'none';\n",
              "\n",
              "        async function convertToInteractive(key) {\n",
              "          const element = document.querySelector('#df-d74ce187-dd6c-4c98-b249-e69de46abccd');\n",
              "          const dataTable =\n",
              "            await google.colab.kernel.invokeFunction('convertToInteractive',\n",
              "                                                     [key], {});\n",
              "          if (!dataTable) return;\n",
              "\n",
              "          const docLinkHtml = 'Like what you see? Visit the ' +\n",
              "            '<a target=\"_blank\" href=https://colab.research.google.com/notebooks/data_table.ipynb>data table notebook</a>'\n",
              "            + ' to learn more about interactive tables.';\n",
              "          element.innerHTML = '';\n",
              "          dataTable['output_type'] = 'display_data';\n",
              "          await google.colab.output.renderOutput(dataTable, element);\n",
              "          const docLink = document.createElement('div');\n",
              "          docLink.innerHTML = docLinkHtml;\n",
              "          element.appendChild(docLink);\n",
              "        }\n",
              "      </script>\n",
              "    </div>\n",
              "  </div>\n",
              "  "
            ]
          },
          "metadata": {},
          "execution_count": 10
        }
      ]
    },
    {
      "cell_type": "markdown",
      "source": [
        "일단은 중복되는 Text만 제거"
      ],
      "metadata": {
        "id": "aWaMqYwKobuT"
      }
    },
    {
      "cell_type": "code",
      "source": [
        "data.drop_duplicates(subset = ['text'], inplace=True)\n",
        "print('전체 샘플수 :', (len(data)))"
      ],
      "metadata": {
        "colab": {
          "base_uri": "https://localhost:8080/"
        },
        "id": "sAz1_4okoWXW",
        "outputId": "55a73ec2-a3d4-44f0-a853-7dc720e5ffa1"
      },
      "execution_count": null,
      "outputs": [
        {
          "output_type": "stream",
          "name": "stdout",
          "text": [
            "전체 샘플수 : 98360\n"
          ]
        }
      ]
    },
    {
      "cell_type": "markdown",
      "source": [
        "## 텍스트 정규화와 불용어 제거"
      ],
      "metadata": {
        "id": "uQtjDft_mPWD"
      }
    },
    {
      "cell_type": "code",
      "source": [
        "contractions = {\"ain't\": \"is not\", \"aren't\": \"are not\",\"can't\": \"cannot\", \"'cause\": \"because\", \"could've\": \"could have\", \"couldn't\": \"could not\",\n",
        "                           \"didn't\": \"did not\",  \"doesn't\": \"does not\", \"don't\": \"do not\", \"hadn't\": \"had not\", \"hasn't\": \"has not\", \"haven't\": \"have not\",\n",
        "                           \"he'd\": \"he would\",\"he'll\": \"he will\", \"he's\": \"he is\", \"how'd\": \"how did\", \"how'd'y\": \"how do you\", \"how'll\": \"how will\", \"how's\": \"how is\",\n",
        "                           \"I'd\": \"I would\", \"I'd've\": \"I would have\", \"I'll\": \"I will\", \"I'll've\": \"I will have\",\"I'm\": \"I am\", \"I've\": \"I have\", \"i'd\": \"i would\",\n",
        "                           \"i'd've\": \"i would have\", \"i'll\": \"i will\",  \"i'll've\": \"i will have\",\"i'm\": \"i am\", \"i've\": \"i have\", \"isn't\": \"is not\", \"it'd\": \"it would\",\n",
        "                           \"it'd've\": \"it would have\", \"it'll\": \"it will\", \"it'll've\": \"it will have\",\"it's\": \"it is\", \"let's\": \"let us\", \"ma'am\": \"madam\",\n",
        "                           \"mayn't\": \"may not\", \"might've\": \"might have\",\"mightn't\": \"might not\",\"mightn't've\": \"might not have\", \"must've\": \"must have\",\n",
        "                           \"mustn't\": \"must not\", \"mustn't've\": \"must not have\", \"needn't\": \"need not\", \"needn't've\": \"need not have\",\"o'clock\": \"of the clock\",\n",
        "                           \"oughtn't\": \"ought not\", \"oughtn't've\": \"ought not have\", \"shan't\": \"shall not\", \"sha'n't\": \"shall not\", \"shan't've\": \"shall not have\",\n",
        "                           \"she'd\": \"she would\", \"she'd've\": \"she would have\", \"she'll\": \"she will\", \"she'll've\": \"she will have\", \"she's\": \"she is\",\n",
        "                           \"should've\": \"should have\", \"shouldn't\": \"should not\", \"shouldn't've\": \"should not have\", \"so've\": \"so have\",\"so's\": \"so as\",\n",
        "                           \"this's\": \"this is\",\"that'd\": \"that would\", \"that'd've\": \"that would have\", \"that's\": \"that is\", \"there'd\": \"there would\",\n",
        "                           \"there'd've\": \"there would have\", \"there's\": \"there is\", \"here's\": \"here is\",\"they'd\": \"they would\", \"they'd've\": \"they would have\",\n",
        "                           \"they'll\": \"they will\", \"they'll've\": \"they will have\", \"they're\": \"they are\", \"they've\": \"they have\", \"to've\": \"to have\",\n",
        "                           \"wasn't\": \"was not\", \"we'd\": \"we would\", \"we'd've\": \"we would have\", \"we'll\": \"we will\", \"we'll've\": \"we will have\", \"we're\": \"we are\",\n",
        "                           \"we've\": \"we have\", \"weren't\": \"were not\", \"what'll\": \"what will\", \"what'll've\": \"what will have\", \"what're\": \"what are\",\n",
        "                           \"what's\": \"what is\", \"what've\": \"what have\", \"when's\": \"when is\", \"when've\": \"when have\", \"where'd\": \"where did\", \"where's\": \"where is\",\n",
        "                           \"where've\": \"where have\", \"who'll\": \"who will\", \"who'll've\": \"who will have\", \"who's\": \"who is\", \"who've\": \"who have\",\n",
        "                           \"why's\": \"why is\", \"why've\": \"why have\", \"will've\": \"will have\", \"won't\": \"will not\", \"won't've\": \"will not have\",\n",
        "                           \"would've\": \"would have\", \"wouldn't\": \"would not\", \"wouldn't've\": \"would not have\", \"y'all\": \"you all\",\n",
        "                           \"y'all'd\": \"you all would\",\"y'all'd've\": \"you all would have\",\"y'all're\": \"you all are\",\"y'all've\": \"you all have\",\n",
        "                           \"you'd\": \"you would\", \"you'd've\": \"you would have\", \"you'll\": \"you will\", \"you'll've\": \"you will have\",\n",
        "                           \"you're\": \"you are\", \"you've\": \"you have\"}\n",
        "\n",
        "print(\"정규화 사전의 수: \", len(contractions))"
      ],
      "metadata": {
        "colab": {
          "base_uri": "https://localhost:8080/"
        },
        "id": "eUMIUMzEolGD",
        "outputId": "851f6806-c339-406c-ffb1-c83b224c9831"
      },
      "execution_count": null,
      "outputs": [
        {
          "output_type": "stream",
          "name": "stdout",
          "text": [
            "정규화 사전의 수:  120\n"
          ]
        }
      ]
    },
    {
      "cell_type": "markdown",
      "source": [
        "불용어 사전 개수"
      ],
      "metadata": {
        "id": "NzArcuoSmQJX"
      }
    },
    {
      "cell_type": "code",
      "source": [
        "print('불용어 개수 :', len(stopwords.words('english') ))\n",
        "print(stopwords.words('english'))"
      ],
      "metadata": {
        "colab": {
          "base_uri": "https://localhost:8080/"
        },
        "id": "VnCRhFmyorcB",
        "outputId": "b9435d37-2bbd-4832-c9f1-56f6b5939be5"
      },
      "execution_count": null,
      "outputs": [
        {
          "output_type": "stream",
          "name": "stdout",
          "text": [
            "불용어 개수 : 179\n",
            "['i', 'me', 'my', 'myself', 'we', 'our', 'ours', 'ourselves', 'you', \"you're\", \"you've\", \"you'll\", \"you'd\", 'your', 'yours', 'yourself', 'yourselves', 'he', 'him', 'his', 'himself', 'she', \"she's\", 'her', 'hers', 'herself', 'it', \"it's\", 'its', 'itself', 'they', 'them', 'their', 'theirs', 'themselves', 'what', 'which', 'who', 'whom', 'this', 'that', \"that'll\", 'these', 'those', 'am', 'is', 'are', 'was', 'were', 'be', 'been', 'being', 'have', 'has', 'had', 'having', 'do', 'does', 'did', 'doing', 'a', 'an', 'the', 'and', 'but', 'if', 'or', 'because', 'as', 'until', 'while', 'of', 'at', 'by', 'for', 'with', 'about', 'against', 'between', 'into', 'through', 'during', 'before', 'after', 'above', 'below', 'to', 'from', 'up', 'down', 'in', 'out', 'on', 'off', 'over', 'under', 'again', 'further', 'then', 'once', 'here', 'there', 'when', 'where', 'why', 'how', 'all', 'any', 'both', 'each', 'few', 'more', 'most', 'other', 'some', 'such', 'no', 'nor', 'not', 'only', 'own', 'same', 'so', 'than', 'too', 'very', 's', 't', 'can', 'will', 'just', 'don', \"don't\", 'should', \"should've\", 'now', 'd', 'll', 'm', 'o', 're', 've', 'y', 'ain', 'aren', \"aren't\", 'couldn', \"couldn't\", 'didn', \"didn't\", 'doesn', \"doesn't\", 'hadn', \"hadn't\", 'hasn', \"hasn't\", 'haven', \"haven't\", 'isn', \"isn't\", 'ma', 'mightn', \"mightn't\", 'mustn', \"mustn't\", 'needn', \"needn't\", 'shan', \"shan't\", 'shouldn', \"shouldn't\", 'wasn', \"wasn't\", 'weren', \"weren't\", 'won', \"won't\", 'wouldn', \"wouldn't\"]\n"
          ]
        }
      ]
    },
    {
      "cell_type": "markdown",
      "source": [
        "### 전처리 함수"
      ],
      "metadata": {
        "id": "fmv6VzL4orMv"
      }
    },
    {
      "cell_type": "code",
      "source": [
        "# 데이터 전처리 함수\n",
        "def preprocess_sentence(sentence, remove_stopwords=True):\n",
        "    sentence = sentence.lower() # 텍스트 소문자화\n",
        "    sentence = BeautifulSoup(sentence, \"lxml\").text # <br />, <a href = ...> 등의 html 태그 제거\n",
        "    sentence = re.sub(r'\\([^)]*\\)', '', sentence) # 괄호로 닫힌 문자열 (...) 제거 Ex) my husband (and myself!) for => my husband for\n",
        "    sentence = re.sub('\"','', sentence) # 쌍따옴표 \" 제거\n",
        "    sentence = ' '.join([contractions[t] if t in contractions else t for t in sentence.split(\" \")]) # 약어 정규화\n",
        "    sentence = re.sub(r\"'s\\b\",\"\", sentence) # 소유격 제거. Ex) roland's -> roland\n",
        "    sentence = re.sub(\"[^a-zA-Z]\", \" \", sentence) # 영어 외 문자(숫자, 특수문자 등) 공백으로 변환\n",
        "    sentence = re.sub('[m]{2,}', 'mm', sentence) # m이 3개 이상이면 2개로 변경. Ex) ummmmmmm yeah -> umm yeah\n",
        "    \n",
        "    # 불용어 제거 (Text)\n",
        "    if remove_stopwords:\n",
        "        tokens = ' '.join(word for word in sentence.split() if not word in stopwords.words('english') if len(word) > 1)\n",
        "    # 불용어 미제거 (Summary)\n",
        "    else:\n",
        "        tokens = ' '.join(word for word in sentence.split() if len(word) > 1)\n",
        "    return tokens"
      ],
      "metadata": {
        "id": "5sEorS8koyg4"
      },
      "execution_count": null,
      "outputs": []
    },
    {
      "cell_type": "code",
      "source": [
        "temp_text = 'Everything I bought was great, infact I ordered twice and the third ordered was<br />for my mother and father.'\n",
        "temp_headlines = 'Great way to start (or finish) the day!!!'\n",
        "\n",
        "print(\"text: \", preprocess_sentence(temp_text))\n",
        "print(\"summary:\", preprocess_sentence(temp_headlines, False))  # 불용어를 제거하지 않습니다."
      ],
      "metadata": {
        "colab": {
          "base_uri": "https://localhost:8080/"
        },
        "id": "EASjdXDBo2Ry",
        "outputId": "9393fe84-47c2-4336-afdd-df48ec31592f"
      },
      "execution_count": null,
      "outputs": [
        {
          "output_type": "stream",
          "name": "stdout",
          "text": [
            "text:  everything bought great infact ordered twice third ordered wasfor mother father\n",
            "summary: great way to start the day\n"
          ]
        }
      ]
    },
    {
      "cell_type": "markdown",
      "source": [
        "### 훈련 데이터 전체에 대해서 전처리를 수행"
      ],
      "metadata": {
        "id": "9Ta-7SsNmbwd"
      }
    },
    {
      "cell_type": "markdown",
      "source": [
        "Text 에 대해 전처리"
      ],
      "metadata": {
        "id": "PJqKgYfxBX0f"
      }
    },
    {
      "cell_type": "code",
      "source": [
        "clean_text = []\n",
        "# 전체 Text 데이터에 대한 전처리 : 10분 이상 시간이 걸릴 수 있습니다. \n",
        "for s in data['text']:\n",
        "    clean_text.append(preprocess_sentence(s))\n",
        "\n",
        "# 전처리 후 출력\n",
        "print(\"Text 전처리 후 결과: \", clean_text[:5])"
      ],
      "metadata": {
        "colab": {
          "base_uri": "https://localhost:8080/"
        },
        "id": "wP1UGO0MBVhT",
        "outputId": "bc9f4a77-0428-41c0-c0dc-be121defb1c0"
      },
      "execution_count": null,
      "outputs": [
        {
          "output_type": "stream",
          "name": "stdout",
          "text": [
            "Text 전처리 후 결과:  ['saurav kant alumnus upgrad iiit pg program machine learning artificial intelligence sr systems engineer infosys almost years work experience program upgrad degree career support helped transition data scientist tech mahindra salary hike upgrad online power learning powered lakh careers', 'kunal shah credit card bill payment platform cred gave users chance win free food swiggy one year pranav kaushik delhi techie bagged reward spending cred coins users get one cred coin per rupee bill paid used avail rewards brands like ixigo bookmyshow ubereats cult fit', 'new zealand defeated india wickets fourth odi hamilton thursday win first match five match odi series india lost international match rohit sharma captaincy consecutive victories dating back march match witnessed india getting seventh lowest total odi cricket history', 'aegon life iterm insurance plan customers enjoy tax benefits premiums paid save taxes plan provides life cover age years also customers options insure critical illnesses disability accidental death benefit rider life cover age years', 'speaking sexual harassment allegations rajkumar hirani sonam kapoor said known hirani many years true metoo movement get derailed metoo movement always believe woman case need reserve judgment added hirani accused assistant worked sanju']\n"
          ]
        }
      ]
    },
    {
      "cell_type": "markdown",
      "source": [
        "Headlines 에 대해 전처리"
      ],
      "metadata": {
        "id": "KMxfWJmFBbGK"
      }
    },
    {
      "cell_type": "code",
      "source": [
        "clean_headlines = []\n",
        "# 전체 Summary 데이터에 대한 전처리 : 5분 이상 시간이 걸릴 수 있습니다. \n",
        "for s in data['headlines']:\n",
        "    clean_headlines.append(preprocess_sentence(s, False))\n",
        "\n",
        "print(\"headlines 전처리 후 결과: \", clean_headlines[:5])"
      ],
      "metadata": {
        "colab": {
          "base_uri": "https://localhost:8080/"
        },
        "id": "7uoAAmGOBXJI",
        "outputId": "877a986a-4a97-4018-d0f4-db61f35f8eb5"
      },
      "execution_count": null,
      "outputs": [
        {
          "output_type": "stream",
          "name": "stdout",
          "text": [
            "headlines 전처리 후 결과:  ['upgrad learner switches to career in ml al with salary hike', 'delhi techie wins free food from swiggy for one year on cred', 'new zealand end rohit sharma led india match winning streak', 'aegon life iterm insurance plan helps customers save tax', 'have known hirani for yrs what if metoo claims are not true sonam']\n"
          ]
        }
      ]
    },
    {
      "cell_type": "markdown",
      "source": [
        "전처리 후 결측치가 발생했는지 확인"
      ],
      "metadata": {
        "id": "evVlqb2xZhgb"
      }
    },
    {
      "cell_type": "code",
      "source": [
        "data['text'] = clean_text\n",
        "data['headlines'] = clean_headlines\n",
        "\n",
        "# 빈 값을 Null 값으로 변환\n",
        "data.replace('', np.nan, inplace=True)"
      ],
      "metadata": {
        "id": "nsJyyzKqZg8w"
      },
      "execution_count": null,
      "outputs": []
    },
    {
      "cell_type": "code",
      "source": [
        "data.isnull().sum()"
      ],
      "metadata": {
        "colab": {
          "base_uri": "https://localhost:8080/"
        },
        "id": "rvRxQxRkZwiA",
        "outputId": "c7d3aa3b-f92a-495f-df3a-29f796f809e9"
      },
      "execution_count": null,
      "outputs": [
        {
          "output_type": "execute_result",
          "data": {
            "text/plain": [
              "headlines         0\n",
              "text              0\n",
              "decoder_input     0\n",
              "decoder_target    0\n",
              "dtype: int64"
            ]
          },
          "metadata": {},
          "execution_count": 59
        }
      ]
    },
    {
      "cell_type": "code",
      "source": [
        "data.dropna(axis=0, inplace=True)\n",
        "print('전체 샘플수 :', (len(data)))"
      ],
      "metadata": {
        "colab": {
          "base_uri": "https://localhost:8080/"
        },
        "id": "JI33ua0bZx5G",
        "outputId": "bc013140-72d0-4e60-cac9-4620ccc24587"
      },
      "execution_count": null,
      "outputs": [
        {
          "output_type": "stream",
          "name": "stdout",
          "text": [
            "전체 샘플수 : 98360\n"
          ]
        }
      ]
    },
    {
      "cell_type": "markdown",
      "source": [
        "전처리한 데이터 저장."
      ],
      "metadata": {
        "id": "Wna7zOcKedER"
      }
    },
    {
      "cell_type": "code",
      "source": [
        "import pickle\n",
        "\n",
        "path = \"/content/drive/MyDrive/Data/002NLP/review/data\""
      ],
      "metadata": {
        "id": "azwtHnwDnHpe"
      },
      "execution_count": null,
      "outputs": []
    },
    {
      "cell_type": "code",
      "source": [
        "# wb \n",
        "\n",
        "# ## Save pickle\n",
        "# with open(path + \"/clean_text.pickle\",\"wb\") as ct:\n",
        "#     pickle.dump(clean_text, ct)\n",
        "\n",
        "# with open(path + \"/clean_summary.pickle\",\"wb\") as cs:\n",
        "#     pickle.dump(clean_summary, cs)"
      ],
      "metadata": {
        "id": "dsr4vWVQdzMc"
      },
      "execution_count": null,
      "outputs": []
    },
    {
      "cell_type": "markdown",
      "source": [
        "전처리한 데이터 불러오기\n",
        "\n",
        "불러오기 전 원본 데이터 불러오기"
      ],
      "metadata": {
        "id": "Id__chRreklG"
      }
    },
    {
      "cell_type": "code",
      "source": [
        "## Load pickle\n",
        "with open(path + \"/clean_text.pickle\",\"rb\") as ct:\n",
        "    clean_text = pickle.load(ct)\n",
        "\n",
        "with open(path + \"/clean_summary.pickle\",\"rb\") as cs:\n",
        "    clean_summary = pickle.load(cs)"
      ],
      "metadata": {
        "id": "3hYgsKoHejuq"
      },
      "execution_count": null,
      "outputs": []
    },
    {
      "cell_type": "markdown",
      "source": [
        "## 텍스트 길이 분포 출력"
      ],
      "metadata": {
        "id": "PgP17G1zmcsm"
      }
    },
    {
      "cell_type": "code",
      "source": [
        "# 길이 분포 출력\n",
        "import matplotlib.pyplot as plt\n",
        "\n",
        "text_len = [len(s.split()) for s in data['text']]\n",
        "headlines_len = [len(s.split()) for s in data['headlines']]\n",
        "\n",
        "print('텍스트의 최소 길이 : {}'.format(np.min(text_len)))\n",
        "print('텍스트의 최대 길이 : {}'.format(np.max(text_len)))\n",
        "print('텍스트의 평균 길이 : {}'.format(np.mean(text_len)))\n",
        "print('제목의 최소 길이 : {}'.format(np.min(headlines_len)))\n",
        "print('제목의 최대 길이 : {}'.format(np.max(headlines_len)))\n",
        "print('제목의 평균 길이 : {}'.format(np.mean(headlines_len)))\n",
        "\n",
        "plt.subplot(1,2,1)\n",
        "plt.boxplot(text_len)\n",
        "plt.title('text')\n",
        "plt.subplot(1,2,2)\n",
        "plt.boxplot(headlines_len)\n",
        "plt.title('headlines')\n",
        "plt.tight_layout()\n",
        "plt.show()\n",
        "\n",
        "plt.title('text')\n",
        "plt.hist(text_len, bins = 40)\n",
        "plt.xlabel('length of samples')\n",
        "plt.ylabel('number of samples')\n",
        "plt.show()\n",
        "\n",
        "plt.title('headlines')\n",
        "plt.hist(headlines_len, bins = 40)\n",
        "plt.xlabel('length of samples')\n",
        "plt.ylabel('number of samples')\n",
        "plt.show()"
      ],
      "metadata": {
        "colab": {
          "base_uri": "https://localhost:8080/",
          "height": 963
        },
        "id": "-Lp3NjdXZ1SM",
        "outputId": "765e8388-d368-4f8a-d6f5-064d1c7f111d"
      },
      "execution_count": null,
      "outputs": [
        {
          "output_type": "stream",
          "name": "stdout",
          "text": [
            "텍스트의 최소 길이 : 1\n",
            "텍스트의 최대 길이 : 60\n",
            "텍스트의 평균 길이 : 35.09968483123221\n",
            "제목의 최소 길이 : 1\n",
            "제목의 최대 길이 : 16\n",
            "제목의 평균 길이 : 9.299532330215534\n"
          ]
        },
        {
          "output_type": "display_data",
          "data": {
            "text/plain": [
              "<Figure size 432x288 with 2 Axes>"
            ],
            "image/png": "[encoded data removed]"
          },
          "metadata": {
            "needs_background": "light"
          }
        },
        {
          "output_type": "display_data",
          "data": {
            "text/plain": [
              "<Figure size 432x288 with 1 Axes>"
            ],
            "image/png": "[encoded data removed]"
          },
          "metadata": {
            "needs_background": "light"
          }
        },
        {
          "output_type": "display_data",
          "data": {
            "text/plain": [
              "<Figure size 432x288 with 1 Axes>"
            ],
            "image/png": "[encoded data removed]"
          },
          "metadata": {
            "needs_background": "light"
          }
        }
      ]
    },
    {
      "cell_type": "code",
      "source": [
        "text_max_len = 50\n",
        "headlines_max_len = 10"
      ],
      "metadata": {
        "id": "1RjCRDlCaLjx"
      },
      "execution_count": null,
      "outputs": []
    },
    {
      "cell_type": "markdown",
      "source": [
        "## 시작 토큰과 종료 토큰 추가하기"
      ],
      "metadata": {
        "id": "HWrszt_umg6J"
      }
    },
    {
      "cell_type": "markdown",
      "source": [
        "###  훈련 데이터와 테스트 데이터를 분리"
      ],
      "metadata": {
        "id": "zqdWndt7mjRt"
      }
    },
    {
      "cell_type": "code",
      "source": [
        "# 요약 데이터에는 시작 토큰과 종료 토큰을 추가한다.\n",
        "data['decoder_input'] = data['headlines'].apply(lambda x : 'sostoken '+ x)\n",
        "data['decoder_target'] = data['headlines'].apply(lambda x : x + ' eostoken')\n",
        "data.head()"
      ],
      "metadata": {
        "colab": {
          "base_uri": "https://localhost:8080/",
          "height": 206
        },
        "id": "56ijsGencjN4",
        "outputId": "59d51368-d5c3-4cdb-afeb-204f166daff4"
      },
      "execution_count": null,
      "outputs": [
        {
          "output_type": "execute_result",
          "data": {
            "text/plain": [
              "                                           headlines  \\\n",
              "0  upGrad learner switches to career in ML & Al w...   \n",
              "1  Delhi techie wins free food from Swiggy for on...   \n",
              "2  New Zealand end Rohit Sharma-led India's 12-ma...   \n",
              "3  Aegon life iTerm insurance plan helps customer...   \n",
              "4  Have known Hirani for yrs, what if MeToo claim...   \n",
              "\n",
              "                                                text  \\\n",
              "0  Saurav Kant, an alumnus of upGrad and IIIT-B's...   \n",
              "1  Kunal Shah's credit card bill payment platform...   \n",
              "2  New Zealand defeated India by 8 wickets in the...   \n",
              "3  With Aegon Life iTerm Insurance plan, customer...   \n",
              "4  Speaking about the sexual harassment allegatio...   \n",
              "\n",
              "                                       decoder_input  \\\n",
              "0  sostoken upGrad learner switches to career in ...   \n",
              "1  sostoken Delhi techie wins free food from Swig...   \n",
              "2  sostoken New Zealand end Rohit Sharma-led Indi...   \n",
              "3  sostoken Aegon life iTerm insurance plan helps...   \n",
              "4  sostoken Have known Hirani for yrs, what if Me...   \n",
              "\n",
              "                                      decoder_target  \n",
              "0  upGrad learner switches to career in ML & Al w...  \n",
              "1  Delhi techie wins free food from Swiggy for on...  \n",
              "2  New Zealand end Rohit Sharma-led India's 12-ma...  \n",
              "3  Aegon life iTerm insurance plan helps customer...  \n",
              "4  Have known Hirani for yrs, what if MeToo claim...  "
            ],
            "text/html": [
              "\n",
              "  <div id=\"df-ad66dc66-d53c-48bc-be6f-9ad9004a1f68\">\n",
              "    <div class=\"colab-df-container\">\n",
              "      <div>\n",
              "<style scoped>\n",
              "    .dataframe tbody tr th:only-of-type {\n",
              "        vertical-align: middle;\n",
              "    }\n",
              "\n",
              "    .dataframe tbody tr th {\n",
              "        vertical-align: top;\n",
              "    }\n",
              "\n",
              "    .dataframe thead th {\n",
              "        text-align: right;\n",
              "    }\n",
              "</style>\n",
              "<table border=\"1\" class=\"dataframe\">\n",
              "  <thead>\n",
              "    <tr style=\"text-align: right;\">\n",
              "      <th></th>\n",
              "      <th>headlines</th>\n",
              "      <th>text</th>\n",
              "      <th>decoder_input</th>\n",
              "      <th>decoder_target</th>\n",
              "    </tr>\n",
              "  </thead>\n",
              "  <tbody>\n",
              "    <tr>\n",
              "      <th>0</th>\n",
              "      <td>upGrad learner switches to career in ML &amp; Al w...</td>\n",
              "      <td>Saurav Kant, an alumnus of upGrad and IIIT-B's...</td>\n",
              "      <td>sostoken upGrad learner switches to career in ...</td>\n",
              "      <td>upGrad learner switches to career in ML &amp; Al w...</td>\n",
              "    </tr>\n",
              "    <tr>\n",
              "      <th>1</th>\n",
              "      <td>Delhi techie wins free food from Swiggy for on...</td>\n",
              "      <td>Kunal Shah's credit card bill payment platform...</td>\n",
              "      <td>sostoken Delhi techie wins free food from Swig...</td>\n",
              "      <td>Delhi techie wins free food from Swiggy for on...</td>\n",
              "    </tr>\n",
              "    <tr>\n",
              "      <th>2</th>\n",
              "      <td>New Zealand end Rohit Sharma-led India's 12-ma...</td>\n",
              "      <td>New Zealand defeated India by 8 wickets in the...</td>\n",
              "      <td>sostoken New Zealand end Rohit Sharma-led Indi...</td>\n",
              "      <td>New Zealand end Rohit Sharma-led India's 12-ma...</td>\n",
              "    </tr>\n",
              "    <tr>\n",
              "      <th>3</th>\n",
              "      <td>Aegon life iTerm insurance plan helps customer...</td>\n",
              "      <td>With Aegon Life iTerm Insurance plan, customer...</td>\n",
              "      <td>sostoken Aegon life iTerm insurance plan helps...</td>\n",
              "      <td>Aegon life iTerm insurance plan helps customer...</td>\n",
              "    </tr>\n",
              "    <tr>\n",
              "      <th>4</th>\n",
              "      <td>Have known Hirani for yrs, what if MeToo claim...</td>\n",
              "      <td>Speaking about the sexual harassment allegatio...</td>\n",
              "      <td>sostoken Have known Hirani for yrs, what if Me...</td>\n",
              "      <td>Have known Hirani for yrs, what if MeToo claim...</td>\n",
              "    </tr>\n",
              "  </tbody>\n",
              "</table>\n",
              "</div>\n",
              "      <button class=\"colab-df-convert\" onclick=\"convertToInteractive('df-ad66dc66-d53c-48bc-be6f-9ad9004a1f68')\"\n",
              "              title=\"Convert this dataframe to an interactive table.\"\n",
              "              style=\"display:none;\">\n",
              "        \n",
              "  <svg xmlns=\"http://www.w3.org/2000/svg\" height=\"24px\"viewBox=\"0 0 24 24\"\n",
              "       width=\"24px\">\n",
              "    <path d=\"M0 0h24v24H0V0z\" fill=\"none\"/>\n",
              "    <path d=\"M18.56 5.44l.94 2.06.94-2.06 2.06-.94-2.06-.94-.94-2.06-.94 2.06-2.06.94zm-11 1L8.5 8.5l.94-2.06 2.06-.94-2.06-.94L8.5 2.5l-.94 2.06-2.06.94zm10 10l.94 2.06.94-2.06 2.06-.94-2.06-.94-.94-2.06-.94 2.06-2.06.94z\"/><path d=\"M17.41 7.96l-1.37-1.37c-.4-.4-.92-.59-1.43-.59-.52 0-1.04.2-1.43.59L10.3 9.45l-7.72 7.72c-.78.78-.78 2.05 0 2.83L4 21.41c.39.39.9.59 1.41.59.51 0 1.02-.2 1.41-.59l7.78-7.78 2.81-2.81c.8-.78.8-2.07 0-2.86zM5.41 20L4 18.59l7.72-7.72 1.47 1.35L5.41 20z\"/>\n",
              "  </svg>\n",
              "      </button>\n",
              "      \n",
              "  <style>\n",
              "    .colab-df-container {\n",
              "      display:flex;\n",
              "      flex-wrap:wrap;\n",
              "      gap: 12px;\n",
              "    }\n",
              "\n",
              "    .colab-df-convert {\n",
              "      background-color: #E8F0FE;\n",
              "      border: none;\n",
              "      border-radius: 50%;\n",
              "      cursor: pointer;\n",
              "      display: none;\n",
              "      fill: #1967D2;\n",
              "      height: 32px;\n",
              "      padding: 0 0 0 0;\n",
              "      width: 32px;\n",
              "    }\n",
              "\n",
              "    .colab-df-convert:hover {\n",
              "      background-color: #E2EBFA;\n",
              "      box-shadow: 0px 1px 2px rgba(60, 64, 67, 0.3), 0px 1px 3px 1px rgba(60, 64, 67, 0.15);\n",
              "      fill: #174EA6;\n",
              "    }\n",
              "\n",
              "    [theme=dark] .colab-df-convert {\n",
              "      background-color: #3B4455;\n",
              "      fill: #D2E3FC;\n",
              "    }\n",
              "\n",
              "    [theme=dark] .colab-df-convert:hover {\n",
              "      background-color: #434B5C;\n",
              "      box-shadow: 0px 1px 3px 1px rgba(0, 0, 0, 0.15);\n",
              "      filter: drop-shadow(0px 1px 2px rgba(0, 0, 0, 0.3));\n",
              "      fill: #FFFFFF;\n",
              "    }\n",
              "  </style>\n",
              "\n",
              "      <script>\n",
              "        const buttonEl =\n",
              "          document.querySelector('#df-ad66dc66-d53c-48bc-be6f-9ad9004a1f68 button.colab-df-convert');\n",
              "        buttonEl.style.display =\n",
              "          google.colab.kernel.accessAllowed ? 'block' : 'none';\n",
              "\n",
              "        async function convertToInteractive(key) {\n",
              "          const element = document.querySelector('#df-ad66dc66-d53c-48bc-be6f-9ad9004a1f68');\n",
              "          const dataTable =\n",
              "            await google.colab.kernel.invokeFunction('convertToInteractive',\n",
              "                                                     [key], {});\n",
              "          if (!dataTable) return;\n",
              "\n",
              "          const docLinkHtml = 'Like what you see? Visit the ' +\n",
              "            '<a target=\"_blank\" href=https://colab.research.google.com/notebooks/data_table.ipynb>data table notebook</a>'\n",
              "            + ' to learn more about interactive tables.';\n",
              "          element.innerHTML = '';\n",
              "          dataTable['output_type'] = 'display_data';\n",
              "          await google.colab.output.renderOutput(dataTable, element);\n",
              "          const docLink = document.createElement('div');\n",
              "          docLink.innerHTML = docLinkHtml;\n",
              "          element.appendChild(docLink);\n",
              "        }\n",
              "      </script>\n",
              "    </div>\n",
              "  </div>\n",
              "  "
            ]
          },
          "metadata": {},
          "execution_count": 8
        }
      ]
    },
    {
      "cell_type": "markdown",
      "source": [
        "인코더의 입력, 디코더의 입력과 레이블을 각각 다시 Numpy 타입으로 저장"
      ],
      "metadata": {
        "id": "_M1E7-n8c52E"
      }
    },
    {
      "cell_type": "code",
      "source": [
        "encoder_input = np.array(data['text']) # 인코더의 입력\n",
        "decoder_input = np.array(data['decoder_input']) # 디코더의 입력\n",
        "decoder_target = np.array(data['decoder_target']) # 디코더의 레이블"
      ],
      "metadata": {
        "id": "u4-ldA9sc9UY"
      },
      "execution_count": null,
      "outputs": []
    },
    {
      "cell_type": "markdown",
      "source": [
        "### 훈련 데이터와 테스트 데이터를 분리"
      ],
      "metadata": {
        "id": "KjOoc9oQc9v9"
      }
    },
    {
      "cell_type": "markdown",
      "source": [
        "```encoder_input```과 크기와 형태가 같은 랜덤한 정수 시퀀스 생성"
      ],
      "metadata": {
        "id": "cQnxe0L6fuQa"
      }
    },
    {
      "cell_type": "code",
      "source": [
        "indices = np.arange(encoder_input.shape[0])\n",
        "np.random.shuffle(indices)\n",
        "print(indices)"
      ],
      "metadata": {
        "colab": {
          "base_uri": "https://localhost:8080/"
        },
        "id": "wOcRB_u4ftcs",
        "outputId": "f0e27acc-cd2c-488f-f7d4-d40a8540c0f1"
      },
      "execution_count": null,
      "outputs": [
        {
          "output_type": "stream",
          "name": "stdout",
          "text": [
            "[ 4966 40443 65638 ... 86307 43001 76955]\n"
          ]
        }
      ]
    },
    {
      "cell_type": "markdown",
      "source": [
        "이 정수 시퀀스를 이용해 데이터 샘플 순서를 재정의"
      ],
      "metadata": {
        "id": "zEuWPt0Kfyod"
      }
    },
    {
      "cell_type": "code",
      "source": [
        "encoder_input = encoder_input[indices]\n",
        "decoder_input = decoder_input[indices]\n",
        "decoder_target = decoder_target[indices]"
      ],
      "metadata": {
        "id": "-rtFVVv5fq7L"
      },
      "execution_count": null,
      "outputs": []
    },
    {
      "cell_type": "markdown",
      "source": [
        "훈련 데이터와 테스트 데이터  8:2의 비율로 분리한다."
      ],
      "metadata": {
        "id": "zaUavUeSgTCP"
      }
    },
    {
      "cell_type": "code",
      "source": [
        "n_of_val = int(len(encoder_input)*0.2)\n",
        "print('테스트 데이터의 수 :', n_of_val)"
      ],
      "metadata": {
        "colab": {
          "base_uri": "https://localhost:8080/"
        },
        "id": "xX_kklq7fq0z",
        "outputId": "e8c131e0-7da8-40e2-9213-581681a68262"
      },
      "execution_count": null,
      "outputs": [
        {
          "output_type": "stream",
          "name": "stdout",
          "text": [
            "테스트 데이터의 수 : 19680\n"
          ]
        }
      ]
    },
    {
      "cell_type": "code",
      "source": [
        "encoder_input_train = encoder_input[:-n_of_val]\n",
        "decoder_input_train = decoder_input[:-n_of_val]\n",
        "decoder_target_train = decoder_target[:-n_of_val]\n",
        "\n",
        "encoder_input_test = encoder_input[-n_of_val:]\n",
        "decoder_input_test = decoder_input[-n_of_val:]\n",
        "decoder_target_test = decoder_target[-n_of_val:]\n",
        "\n",
        "print('훈련 데이터의 개수 :', len(encoder_input_train))\n",
        "print('훈련 레이블의 개수 :', len(decoder_input_train))\n",
        "print('테스트 데이터의 개수 :', len(encoder_input_test))\n",
        "print('테스트 레이블의 개수 :', len(decoder_input_test))"
      ],
      "metadata": {
        "colab": {
          "base_uri": "https://localhost:8080/"
        },
        "id": "86jkhBsMgYVl",
        "outputId": "61f6d4de-5667-4998-8ef4-d428e3270122"
      },
      "execution_count": null,
      "outputs": [
        {
          "output_type": "stream",
          "name": "stdout",
          "text": [
            "훈련 데이터의 개수 : 78721\n",
            "훈련 레이블의 개수 : 78721\n",
            "테스트 데이터의 개수 : 19680\n",
            "테스트 레이블의 개수 : 19680\n"
          ]
        }
      ]
    },
    {
      "cell_type": "markdown",
      "source": [
        "## 정수 인코딩"
      ],
      "metadata": {
        "id": "5-PDQ-r3mmQV"
      }
    },
    {
      "cell_type": "markdown",
      "source": [
        "### 단어 집합(vocabulary) 만들기 및 정수 인코딩"
      ],
      "metadata": {
        "id": "Q-V_kim2mqzd"
      }
    },
    {
      "cell_type": "markdown",
      "source": [
        "훈련데이터로 단어 집합 생성하기"
      ],
      "metadata": {
        "id": "PZDVybUTl-zc"
      }
    },
    {
      "cell_type": "code",
      "source": [
        "src_tokenizer = Tokenizer() # 토크나이저 정의\n",
        "src_tokenizer.fit_on_texts(encoder_input_train) # 입력된 데이터로부터 단어 집합 생성"
      ],
      "metadata": {
        "id": "-fIJCSybgccs"
      },
      "execution_count": null,
      "outputs": []
    },
    {
      "cell_type": "markdown",
      "source": [
        "훈련데이터로 단어집합을 생성하였다.\n",
        "\n",
        "단어 집합은 ```src_tokenizer.word_index```에 저장됨.\n",
        "빈도수가 낮은 단어들은 허수로 생각하고 훈련 데이터에서 제외하고 진행"
      ],
      "metadata": {
        "id": "REaaVbl-g8ph"
      }
    },
    {
      "cell_type": "markdown",
      "source": [
        "등장 빈도수가 7회 미만인 단어들의 비중을 차지하는지 확인\n",
        "\n",
        "```src_tokenizer.word_counts.items()```를 통해서 통계적인 정보를 얻을 수 있음."
      ],
      "metadata": {
        "id": "Yla8FICkhAMr"
      }
    },
    {
      "cell_type": "markdown",
      "source": [
        "## 패딩하기"
      ],
      "metadata": {
        "id": "g8rQWKv-mtfG"
      }
    },
    {
      "cell_type": "code",
      "source": [
        "threshold = 7\n",
        "total_cnt = len(src_tokenizer.word_index) # 단어의 수\n",
        "rare_cnt = 0 # 등장 빈도수가 threshold보다 작은 단어의 개수를 카운트\n",
        "total_freq = 0 # 훈련 데이터의 전체 단어 빈도수 총 합\n",
        "rare_freq = 0 # 등장 빈도수가 threshold보다 작은 단어의 등장 빈도수의 총 합\n",
        "\n",
        "# 단어와 빈도수의 쌍(pair)을 key와 value로 받는다.\n",
        "for key, value in src_tokenizer.word_counts.items():\n",
        "    total_freq = total_freq + value\n",
        "\n",
        "    # 단어의 등장 빈도수가 threshold보다 작으면\n",
        "    if(value < threshold):\n",
        "        rare_cnt = rare_cnt + 1\n",
        "        rare_freq = rare_freq + value\n",
        "\n",
        "print('단어 집합(vocabulary)의 크기 :', total_cnt)\n",
        "print('등장 빈도가 %s번 이하인 희귀 단어의 수: %s'%(threshold - 1, rare_cnt))\n",
        "print('단어 집합에서 희귀 단어를 제외시킬 경우의 단어 집합의 크기 %s'%(total_cnt - rare_cnt))\n",
        "print(\"단어 집합에서 희귀 단어의 비율:\", (rare_cnt / total_cnt)*100)\n",
        "print(\"전체 등장 빈도에서 희귀 단어 등장 빈도 비율:\", (rare_freq / total_freq)*100)"
      ],
      "metadata": {
        "colab": {
          "base_uri": "https://localhost:8080/"
        },
        "id": "MWZ02kN4gtZ0",
        "outputId": "7cd708f0-1a77-4ab1-cd83-28093f2b5521"
      },
      "execution_count": null,
      "outputs": [
        {
          "output_type": "stream",
          "name": "stdout",
          "text": [
            "단어 집합(vocabulary)의 크기 : 91111\n",
            "등장 빈도가 6번 이하인 희귀 단어의 수: 66325\n",
            "단어 집합에서 희귀 단어를 제외시킬 경우의 단어 집합의 크기 24786\n",
            "단어 집합에서 희귀 단어의 비율: 72.79582048270791\n",
            "전체 등장 빈도에서 희귀 단어 등장 빈도 비율: 2.7235829185608114\n"
          ]
        }
      ]
    },
    {
      "cell_type": "markdown",
      "source": [
        "등장 빈도가 threshold 값인 7회 미만, 즉 6회 이하인 단어들은 단어 집합에서 약 70%를 차지하지만 실제 훈련 데이터 등장 비율은 3.48%밖에 안되므로 허수라 생각할 수 있다.\n",
        "\n",
        "등장 빈도가 6회 이하인 단어들은 정수 인코딩 과정에서 빼고, 훈련 데이터에서 제거\n",
        "\n",
        "따라서 이를 제외한 단어 집합의 크기를 22100으로 제한\n",
        "\n",
        "num_words로 단어 집합의 크기를 제한"
      ],
      "metadata": {
        "id": "O1OiCa8LhLAw"
      }
    },
    {
      "cell_type": "code",
      "source": [
        "src_vocab = 22100\n",
        "src_tokenizer = Tokenizer(num_words=src_vocab) # 단어 집합의 크기를 22100으로 제한\n",
        "src_tokenizer.fit_on_texts(encoder_input_train) # 단어 집합 재생성"
      ],
      "metadata": {
        "id": "vXmywGcnhKh2"
      },
      "execution_count": null,
      "outputs": []
    },
    {
      "cell_type": "code",
      "source": [
        "# 텍스트 시퀀스를 정수 시퀀스로 변환\n",
        "encoder_input_train = src_tokenizer.texts_to_sequences(encoder_input_train) \n",
        "encoder_input_test = src_tokenizer.texts_to_sequences(encoder_input_test)\n",
        "\n",
        "# 잘 진행되었는지 샘플 출력\n",
        "print(encoder_input_train[:3])"
      ],
      "metadata": {
        "colab": {
          "base_uri": "https://localhost:8080/"
        },
        "id": "PnpiGvT1lUnt",
        "outputId": "64efa1ea-1c4e-49c6-ee18-384ba4f6d059"
      },
      "execution_count": null,
      "outputs": [
        {
          "output_type": "stream",
          "name": "stdout",
          "text": [
            "[[1, 2607, 240, 4028, 21488, 4842, 1981, 4, 1, 5, 6577, 4, 3582, 8, 1085, 9, 2353, 2863, 2924, 21, 9031, 368, 32, 9, 245, 210, 184, 129, 44, 69, 36, 54, 106, 5, 2451, 10864, 6073, 4, 1, 4842, 11, 20273, 36, 24, 621, 5, 276, 9032, 1, 4842, 12, 11327, 454, 20, 13646, 8616], [955, 3, 1190, 4, 256, 683, 13232, 73, 58, 6513, 1927, 12507, 356, 51, 11, 14, 23, 17533, 94, 16, 87, 56, 1799, 6791, 1546, 15, 109, 1102, 14, 63, 10, 11, 1, 2893, 23, 25, 15053, 113, 18, 56, 7047, 17, 4802, 12507, 12, 92, 496, 9, 523, 11, 15606, 6, 7047, 1, 190, 788, 5, 1906], [3, 1367, 2623, 318, 2981, 8, 593, 17, 6315, 104, 22, 852, 6, 115, 24, 317, 735, 4350, 723, 199, 14, 6177, 51, 2, 3141, 6122, 11, 14, 82, 1169, 89, 1180, 1, 723, 128, 1335, 51, 2, 1315, 9, 6122, 36, 3, 154, 1161, 847, 1, 1293, 16, 1, 190, 1620, 13, 1236, 15, 61]]\n"
          ]
        }
      ]
    },
    {
      "cell_type": "markdown",
      "source": [
        "headlines에 대해서도 동일한 작업을 수행. \n",
        "\n",
        "```decoder_input_train```을 입력으로 전체 단어 집합과 각 단어에 대한 빈도수를 계산한다."
      ],
      "metadata": {
        "id": "a19hIy1SltRa"
      }
    },
    {
      "cell_type": "code",
      "source": [
        "tar_tokenizer = Tokenizer()\n",
        "tar_tokenizer.fit_on_texts(decoder_input_train)"
      ],
      "metadata": {
        "id": "ymBErt3Ulrie"
      },
      "execution_count": null,
      "outputs": []
    },
    {
      "cell_type": "code",
      "source": [
        "threshold = 6\n",
        "total_cnt = len(tar_tokenizer.word_index) # 단어의 수\n",
        "rare_cnt = 0 # 등장 빈도수가 threshold보다 작은 단어의 개수를 카운트\n",
        "total_freq = 0 # 훈련 데이터의 전체 단어 빈도수 총 합\n",
        "rare_freq = 0 # 등장 빈도수가 threshold보다 작은 단어의 등장 빈도수의 총 합\n",
        "\n",
        "# 단어와 빈도수의 쌍(pair)을 key와 value로 받는다.\n",
        "for key, value in tar_tokenizer.word_counts.items():\n",
        "    total_freq = total_freq + value\n",
        "\n",
        "    # 단어의 등장 빈도수가 threshold보다 작으면\n",
        "    if(value < threshold):\n",
        "        rare_cnt = rare_cnt + 1\n",
        "        rare_freq = rare_freq + value\n",
        "\n",
        "print('단어 집합(vocabulary)의 크기 :', total_cnt)\n",
        "print('등장 빈도가 %s번 이하인 희귀 단어의 수: %s'%(threshold - 1, rare_cnt))\n",
        "print('단어 집합에서 희귀 단어를 제외시킬 경우의 단어 집합의 크기 %s'%(total_cnt - rare_cnt))\n",
        "print(\"단어 집합에서 희귀 단어의 비율:\", (rare_cnt / total_cnt)*100)\n",
        "print(\"전체 등장 빈도에서 희귀 단어 등장 빈도 비율:\", (rare_freq / total_freq)*100)"
      ],
      "metadata": {
        "colab": {
          "base_uri": "https://localhost:8080/"
        },
        "id": "3KJftFCpl9Zv",
        "outputId": "c4eec9e1-445b-429f-d87a-e47f01be38b1"
      },
      "execution_count": null,
      "outputs": [
        {
          "output_type": "stream",
          "name": "stdout",
          "text": [
            "단어 집합(vocabulary)의 크기 : 40807\n",
            "등장 빈도가 5번 이하인 희귀 단어의 수: 29509\n",
            "단어 집합에서 희귀 단어를 제외시킬 경우의 단어 집합의 크기 11298\n",
            "단어 집합에서 희귀 단어의 비율: 72.31357365157939\n",
            "전체 등장 빈도에서 희귀 단어 등장 빈도 비율: 6.151271164044469\n"
          ]
        }
      ]
    },
    {
      "cell_type": "markdown",
      "source": [
        "등장 빈도가 5회 이하인 단어들은 단어 집합에서 약 65%를 차지하고 있음. \n",
        "\n",
        "아까와 마찬가지로 실제로 훈련 데이터에서 등장 비율은 4.65%밖에 되지 않는다.\n",
        "\n",
        "19700 을 단어 집합의 크기로 제한"
      ],
      "metadata": {
        "id": "cdbASnunmJTd"
      }
    },
    {
      "cell_type": "code",
      "source": [
        "tar_vocab = 19700\n",
        "tar_tokenizer = Tokenizer(num_words=tar_vocab) \n",
        "tar_tokenizer.fit_on_texts(decoder_input_train)\n",
        "tar_tokenizer.fit_on_texts(decoder_target_train)\n",
        "\n",
        "# 텍스트 시퀀스를 정수 시퀀스로 변환\n",
        "decoder_input_train = tar_tokenizer.texts_to_sequences(decoder_input_train) \n",
        "decoder_target_train = tar_tokenizer.texts_to_sequences(decoder_target_train)\n",
        "decoder_input_test = tar_tokenizer.texts_to_sequences(decoder_input_test)\n",
        "decoder_target_test = tar_tokenizer.texts_to_sequences(decoder_target_test)\n",
        "\n",
        "# 잘 변환되었는지 확인\n",
        "print('input')\n",
        "print('input ',decoder_input_train[:5])\n",
        "print('target')\n",
        "print('decoder ',decoder_target_train[:5])"
      ],
      "metadata": {
        "colab": {
          "base_uri": "https://localhost:8080/"
        },
        "id": "kbgD_TUDmnws",
        "outputId": "79e4d9ff-2b3f-44c6-dd1a-64e77da52de8"
      },
      "execution_count": null,
      "outputs": [
        {
          "output_type": "stream",
          "name": "stdout",
          "text": [
            "input\n",
            "input  [[1, 4472, 391, 17586, 5923, 867, 5, 1589, 4, 537], [1, 5291, 72, 81, 163, 889, 704, 7689, 86], [1, 19, 140, 68, 335, 3, 2637, 5708, 142, 89, 424, 5, 12698], [1, 875, 1225, 146, 1307, 648, 37, 392, 1384], [1, 153, 99, 506, 4922, 48, 340, 5, 357, 8, 12, 62, 174]]\n",
            "target\n",
            "decoder  [[4472, 391, 17586, 5923, 867, 5, 1589, 4, 537, 2], [5291, 72, 81, 163, 889, 704, 7689, 86, 2], [19, 140, 68, 335, 3, 2637, 5708, 142, 89, 424, 5, 12698, 2], [875, 1225, 146, 1307, 648, 37, 392, 1384, 2], [153, 99, 506, 4922, 48, 340, 5, 357, 8, 12, 62, 174, 2]]\n"
          ]
        }
      ]
    },
    {
      "cell_type": "code",
      "source": [
        "drop_train = [index for index, sentence in enumerate(decoder_input_train) if len(sentence) == 1]\n",
        "drop_test = [index for index, sentence in enumerate(decoder_input_test) if len(sentence) == 1]\n",
        "\n",
        "print('삭제할 훈련 데이터의 개수 :', len(drop_train))\n",
        "print('삭제할 테스트 데이터의 개수 :', len(drop_test))\n",
        "\n",
        "encoder_input_train = [sentence for index, sentence in enumerate(encoder_input_train) if index not in drop_train]\n",
        "decoder_input_train = [sentence for index, sentence in enumerate(decoder_input_train) if index not in drop_train]\n",
        "decoder_target_train = [sentence for index, sentence in enumerate(decoder_target_train) if index not in drop_train]\n",
        "\n",
        "encoder_input_test = [sentence for index, sentence in enumerate(encoder_input_test) if index not in drop_test]\n",
        "decoder_input_test = [sentence for index, sentence in enumerate(decoder_input_test) if index not in drop_test]\n",
        "decoder_target_test = [sentence for index, sentence in enumerate(decoder_target_test) if index not in drop_test]\n",
        "\n",
        "print('훈련 데이터의 개수 :', len(encoder_input_train))\n",
        "print('훈련 레이블의 개수 :', len(decoder_input_train))\n",
        "print('테스트 데이터의 개수 :', len(encoder_input_test))\n",
        "print('테스트 레이블의 개수 :', len(decoder_input_test))"
      ],
      "metadata": {
        "colab": {
          "base_uri": "https://localhost:8080/"
        },
        "id": "JtMyyL0Fn4Mf",
        "outputId": "3ec4dfc2-4083-4fc2-fef3-b90554fa0e05"
      },
      "execution_count": null,
      "outputs": [
        {
          "output_type": "stream",
          "name": "stdout",
          "text": [
            "삭제할 훈련 데이터의 개수 : 0\n",
            "삭제할 테스트 데이터의 개수 : 0\n",
            "훈련 데이터의 개수 : 78721\n",
            "훈련 레이블의 개수 : 78721\n",
            "테스트 데이터의 개수 : 19680\n",
            "테스트 레이블의 개수 : 19680\n"
          ]
        }
      ]
    },
    {
      "cell_type": "code",
      "source": [
        "encoder_input_train = pad_sequences(encoder_input_train, maxlen=text_max_len, padding='post')\n",
        "encoder_input_test = pad_sequences(encoder_input_test, maxlen=text_max_len, padding='post')\n",
        "decoder_input_train = pad_sequences(decoder_input_train, maxlen=headlines_max_len, padding='post')\n",
        "decoder_target_train = pad_sequences(decoder_target_train, maxlen=headlines_max_len, padding='post')\n",
        "decoder_input_test = pad_sequences(decoder_input_test, maxlen=headlines_max_len, padding='post')\n",
        "decoder_target_test = pad_sequences(decoder_target_test, maxlen=headlines_max_len, padding='post')"
      ],
      "metadata": {
        "id": "MOhIz6Kzok1f"
      },
      "execution_count": null,
      "outputs": []
    },
    {
      "cell_type": "markdown",
      "source": [
        "## Step 3. 어텐션 메커니즘 사용하기 (추상적 요약)\n",
        "\n",
        "---"
      ],
      "metadata": {
        "id": "BLjHw3BSLdnb"
      }
    },
    {
      "cell_type": "markdown",
      "source": [
        "### 인코더 설계"
      ],
      "metadata": {
        "id": "H0QLi_ndmqIw"
      }
    },
    {
      "cell_type": "code",
      "source": [
        "from tensorflow.keras.layers import Input, LSTM, Embedding, Dense, Concatenate, TimeDistributed\n",
        "from tensorflow.keras.models import Model\n",
        "from tensorflow.keras.callbacks import EarlyStopping, ModelCheckpoint\n",
        "\n",
        "\n",
        "# 인코더 설계 시작\n",
        "embedding_dim = 128\n",
        "hidden_size = 256\n",
        "\n",
        "# 인코더\n",
        "encoder_inputs = Input(shape=(text_max_len,))\n",
        "\n",
        "# 인코더의 임베딩 층\n",
        "enc_emb = Embedding(src_vocab, embedding_dim)(encoder_inputs)\n",
        "\n",
        "# 인코더의 LSTM 1\n",
        "encoder_lstm1 = LSTM(hidden_size, return_sequences=True, return_state=True ,dropout = 0.4, recurrent_dropout = 0.4)\n",
        "# encoder_lstm1 = LSTM(hidden_size, return_sequences=True, return_state=True ,dropout = 0.4)\n",
        "encoder_output1, state_h1, state_c1 = encoder_lstm1(enc_emb)\n",
        "\n",
        "# 인코더의 LSTM 2\n",
        "encoder_lstm2 = LSTM(hidden_size, return_sequences=True, return_state=True, dropout=0.4, recurrent_dropout=0.4)\n",
        "# encoder_lstm2 = LSTM(hidden_size, return_sequences=True, return_state=True, dropout=0.4)\n",
        "encoder_output2, state_h2, state_c2 = encoder_lstm2(encoder_output1)\n",
        "\n",
        "# 인코더의 LSTM 3\n",
        "encoder_lstm3 = LSTM(hidden_size, return_state=True, return_sequences=True, dropout=0.4, recurrent_dropout=0.4)\n",
        "# encoder_lstm3 = LSTM(hidden_size, return_state=True, return_sequences=True, dropout=0.4)\n",
        "encoder_outputs, state_h, state_c= encoder_lstm3(encoder_output2)"
      ],
      "metadata": {
        "colab": {
          "base_uri": "https://localhost:8080/"
        },
        "id": "8SfTJ6RVZ-sZ",
        "outputId": "1b7bc55b-2ea6-423b-b21c-d7b34c7cc3ae"
      },
      "execution_count": null,
      "outputs": [
        {
          "output_type": "stream",
          "name": "stdout",
          "text": [
            "WARNING:tensorflow:Layer lstm will not use cuDNN kernels since it doesn't meet the criteria. It will use a generic GPU kernel as fallback when running on GPU.\n",
            "WARNING:tensorflow:Layer lstm_1 will not use cuDNN kernels since it doesn't meet the criteria. It will use a generic GPU kernel as fallback when running on GPU.\n",
            "WARNING:tensorflow:Layer lstm_2 will not use cuDNN kernels since it doesn't meet the criteria. It will use a generic GPU kernel as fallback when running on GPU.\n"
          ]
        }
      ]
    },
    {
      "cell_type": "markdown",
      "source": [
        "### 디코더 설계"
      ],
      "metadata": {
        "id": "zd4WvRxWnNp7"
      }
    },
    {
      "cell_type": "code",
      "source": [
        "# 디코더 설계\n",
        "decoder_inputs = Input(shape=(None,))\n",
        "\n",
        "# 디코더의 임베딩 층\n",
        "dec_emb_layer = Embedding(tar_vocab, embedding_dim)\n",
        "dec_emb = dec_emb_layer(decoder_inputs)\n",
        "\n",
        "# 디코더의 LSTM\n",
        "decoder_lstm = LSTM(hidden_size, return_sequences=True, return_state=True, dropout=0.4, recurrent_dropout=0.2)\n",
        "# decoder_lstm = LSTM(hidden_size, return_sequences=True, return_state=True, dropout=0.4)\n",
        "decoder_outputs, _, _ = decoder_lstm(dec_emb, initial_state=[state_h, state_c])"
      ],
      "metadata": {
        "colab": {
          "base_uri": "https://localhost:8080/"
        },
        "id": "NCHiFC2inMy_",
        "outputId": "64468120-b52f-4f3c-e738-8650a49c7c68"
      },
      "execution_count": null,
      "outputs": [
        {
          "output_type": "stream",
          "name": "stdout",
          "text": [
            "WARNING:tensorflow:Layer lstm_3 will not use cuDNN kernels since it doesn't meet the criteria. It will use a generic GPU kernel as fallback when running on GPU.\n"
          ]
        }
      ]
    },
    {
      "cell_type": "markdown",
      "source": [
        "### 디코더의 출력층을 설계"
      ],
      "metadata": {
        "id": "ZIAo6eQMnSWj"
      }
    },
    {
      "cell_type": "code",
      "source": [
        "# 디코더의 출력층\n",
        "decoder_softmax_layer = Dense(tar_vocab, activation='softmax')\n",
        "decoder_softmax_outputs = decoder_softmax_layer(decoder_outputs) \n",
        "\n",
        "# 모델 정의\n",
        "model = Model([encoder_inputs, decoder_inputs], decoder_softmax_outputs)\n",
        "model.summary()"
      ],
      "metadata": {
        "colab": {
          "base_uri": "https://localhost:8080/"
        },
        "id": "useFKrV-nR94",
        "outputId": "fb6047c4-f2eb-4733-d2de-554a278e7d67"
      },
      "execution_count": null,
      "outputs": [
        {
          "output_type": "stream",
          "name": "stdout",
          "text": [
            "Model: \"model\"\n",
            "__________________________________________________________________________________________________\n",
            " Layer (type)                   Output Shape         Param #     Connected to                     \n",
            "==================================================================================================\n",
            " input_1 (InputLayer)           [(None, 50)]         0           []                               \n",
            "                                                                                                  \n",
            " embedding (Embedding)          (None, 50, 128)      2828800     ['input_1[0][0]']                \n",
            "                                                                                                  \n",
            " lstm (LSTM)                    [(None, 50, 256),    394240      ['embedding[0][0]']              \n",
            "                                 (None, 256),                                                     \n",
            "                                 (None, 256)]                                                     \n",
            "                                                                                                  \n",
            " input_2 (InputLayer)           [(None, None)]       0           []                               \n",
            "                                                                                                  \n",
            " lstm_1 (LSTM)                  [(None, 50, 256),    525312      ['lstm[0][0]']                   \n",
            "                                 (None, 256),                                                     \n",
            "                                 (None, 256)]                                                     \n",
            "                                                                                                  \n",
            " embedding_1 (Embedding)        (None, None, 128)    2521600     ['input_2[0][0]']                \n",
            "                                                                                                  \n",
            " lstm_2 (LSTM)                  [(None, 50, 256),    525312      ['lstm_1[0][0]']                 \n",
            "                                 (None, 256),                                                     \n",
            "                                 (None, 256)]                                                     \n",
            "                                                                                                  \n",
            " lstm_3 (LSTM)                  [(None, None, 256),  394240      ['embedding_1[0][0]',            \n",
            "                                 (None, 256),                     'lstm_2[0][1]',                 \n",
            "                                 (None, 256)]                     'lstm_2[0][2]']                 \n",
            "                                                                                                  \n",
            " dense (Dense)                  (None, None, 19700)  5062900     ['lstm_3[0][0]']                 \n",
            "                                                                                                  \n",
            "==================================================================================================\n",
            "Total params: 12,252,404\n",
            "Trainable params: 12,252,404\n",
            "Non-trainable params: 0\n",
            "__________________________________________________________________________________________________\n"
          ]
        }
      ]
    },
    {
      "cell_type": "markdown",
      "source": [
        "1200만개의 파라미터는 너무 많은것 같습니다."
      ],
      "metadata": {
        "id": "cf4BvCTCT3FZ"
      }
    },
    {
      "cell_type": "markdown",
      "source": [
        "## 어텐션 메커니즘"
      ],
      "metadata": {
        "id": "mZuNc5VinXwT"
      }
    },
    {
      "cell_type": "code",
      "source": [
        "from tensorflow.keras.layers import AdditiveAttention\n",
        "\n",
        "# 어텐션 층(어텐션 함수)\n",
        "attn_layer = AdditiveAttention(name='attention_layer')\n",
        "\n",
        "# 인코더와 디코더의 모든 time step의 hidden state를 어텐션 층에 전달하고 결과를 리턴\n",
        "attn_out = attn_layer([decoder_outputs, encoder_outputs])\n",
        "\n",
        "\n",
        "# 어텐션의 결과와 디코더의 hidden state들을 연결\n",
        "decoder_concat_input = Concatenate(axis=-1, name='concat_layer')([decoder_outputs, attn_out])\n",
        "\n",
        "# 디코더의 출력층\n",
        "decoder_softmax_layer = Dense(tar_vocab, activation='softmax')\n",
        "decoder_softmax_outputs = decoder_softmax_layer(decoder_concat_input)\n",
        "\n",
        "# 모델 정의\n",
        "model = Model([encoder_inputs, decoder_inputs], decoder_softmax_outputs)\n",
        "model.summary()"
      ],
      "metadata": {
        "colab": {
          "base_uri": "https://localhost:8080/"
        },
        "id": "d_DJFw9NnZsR",
        "outputId": "c4ca084a-0ee1-4af2-ab55-d9e3b2dd907d"
      },
      "execution_count": null,
      "outputs": [
        {
          "output_type": "stream",
          "name": "stdout",
          "text": [
            "Model: \"model_1\"\n",
            "__________________________________________________________________________________________________\n",
            " Layer (type)                   Output Shape         Param #     Connected to                     \n",
            "==================================================================================================\n",
            " input_1 (InputLayer)           [(None, 50)]         0           []                               \n",
            "                                                                                                  \n",
            " embedding (Embedding)          (None, 50, 128)      2828800     ['input_1[0][0]']                \n",
            "                                                                                                  \n",
            " lstm (LSTM)                    [(None, 50, 256),    394240      ['embedding[0][0]']              \n",
            "                                 (None, 256),                                                     \n",
            "                                 (None, 256)]                                                     \n",
            "                                                                                                  \n",
            " input_2 (InputLayer)           [(None, None)]       0           []                               \n",
            "                                                                                                  \n",
            " lstm_1 (LSTM)                  [(None, 50, 256),    525312      ['lstm[0][0]']                   \n",
            "                                 (None, 256),                                                     \n",
            "                                 (None, 256)]                                                     \n",
            "                                                                                                  \n",
            " embedding_1 (Embedding)        (None, None, 128)    2521600     ['input_2[0][0]']                \n",
            "                                                                                                  \n",
            " lstm_2 (LSTM)                  [(None, 50, 256),    525312      ['lstm_1[0][0]']                 \n",
            "                                 (None, 256),                                                     \n",
            "                                 (None, 256)]                                                     \n",
            "                                                                                                  \n",
            " lstm_3 (LSTM)                  [(None, None, 256),  394240      ['embedding_1[0][0]',            \n",
            "                                 (None, 256),                     'lstm_2[0][1]',                 \n",
            "                                 (None, 256)]                     'lstm_2[0][2]']                 \n",
            "                                                                                                  \n",
            " attention_layer (AdditiveAtten  (None, None, 256)   256         ['lstm_3[0][0]',                 \n",
            " tion)                                                            'lstm_2[0][0]']                 \n",
            "                                                                                                  \n",
            " concat_layer (Concatenate)     (None, None, 512)    0           ['lstm_3[0][0]',                 \n",
            "                                                                  'attention_layer[0][0]']        \n",
            "                                                                                                  \n",
            " dense_1 (Dense)                (None, None, 19700)  10106100    ['concat_layer[0][0]']           \n",
            "                                                                                                  \n",
            "==================================================================================================\n",
            "Total params: 17,295,860\n",
            "Trainable params: 17,295,860\n",
            "Non-trainable params: 0\n",
            "__________________________________________________________________________________________________\n"
          ]
        }
      ]
    },
    {
      "cell_type": "markdown",
      "source": [
        "이제는 파라미터의 개수가 1730만에 육박한다. 학습이 오래 걸릴것으로 예상된다."
      ],
      "metadata": {
        "id": "1QZzgavpWLr2"
      }
    },
    {
      "cell_type": "markdown",
      "source": [
        "## 모델 테스트"
      ],
      "metadata": {
        "id": "AnE5obqBnZWI"
      }
    },
    {
      "cell_type": "markdown",
      "source": [
        "### 가중치 저장 및 early stop 콜백 설정"
      ],
      "metadata": {
        "id": "JiqKyPsSURF0"
      }
    },
    {
      "cell_type": "code",
      "source": [
        "checkpoint_path = \"/content/drive/MyDrive/weight_callback/ex07/cp.ckpt\"\n",
        "checkpoint_dir = os.path.dirname(checkpoint_path)\n",
        "\n",
        "# 모델의 가중치를 저장하는 콜백 만들기\n",
        "cp_callback = tf.keras.callbacks.ModelCheckpoint(filepath=checkpoint_path,\n",
        "                                                 save_weights_only=True,\n",
        "                                                 verbose=1)\n",
        "\n",
        "# 옵티마이저의 상태를 저장하는 것과 관련되어 경고가 발생할 수 있습니다.\n",
        "# 이 경고는 (그리고 이 노트북의 다른 비슷한 경고는) 이전 사용 방식을 권장하지 않기 위함이며 무시해도 좋습니다."
      ],
      "metadata": {
        "id": "UtKpLNnWm2qn"
      },
      "execution_count": null,
      "outputs": []
    },
    {
      "cell_type": "code",
      "source": [
        "# early stop 조건을 설정.\n",
        "es = EarlyStopping(monitor='val_loss', patience=2, verbose=1)"
      ],
      "metadata": {
        "id": "Xelv-bbOONjj"
      },
      "execution_count": null,
      "outputs": []
    },
    {
      "cell_type": "markdown",
      "source": [
        "tensorflow에서의 callbacks 함수를 사용해 다양한 옵션을 사용할 수 있는데 그 중 checkpoint를 사용하여 학습한 모델의 가중치를 불러 오거나, earlystop을 설정 할 수 있다.\n",
        "\n"
      ],
      "metadata": {
        "id": "mRQOJUmxOA0D"
      }
    },
    {
      "cell_type": "code",
      "source": [
        "model.compile(optimizer='rmsprop', loss='sparse_categorical_crossentropy')\n",
        "history = model.fit(x=[encoder_input_train, decoder_input_train], y=decoder_target_train, \\\n",
        "          validation_data=([encoder_input_test, decoder_input_test], decoder_target_test), \\\n",
        "          batch_size=256, callbacks=[es,cp_callback], epochs=50)"
      ],
      "metadata": {
        "id": "AwoBrH8Wnd3-",
        "colab": {
          "base_uri": "https://localhost:8080/"
        },
        "outputId": "6aa876b3-fc4d-4169-814a-a724c807ebf2"
      },
      "execution_count": null,
      "outputs": [
        {
          "output_type": "stream",
          "name": "stdout",
          "text": [
            "Epoch 1/50\n",
            "308/308 [==============================] - ETA: 0s - loss: 6.8976\n",
            "Epoch 1: saving model to /content/drive/MyDrive/weight_callback/ex07/cp.ckpt\n",
            "308/308 [==============================] - 224s 689ms/step - loss: 6.8976 - val_loss: 6.4498\n",
            "Epoch 2/50\n",
            "308/308 [==============================] - ETA: 0s - loss: 6.3801\n",
            "Epoch 2: saving model to /content/drive/MyDrive/weight_callback/ex07/cp.ckpt\n",
            "308/308 [==============================] - 215s 698ms/step - loss: 6.3801 - val_loss: 6.1022\n",
            "Epoch 3/50\n",
            "308/308 [==============================] - ETA: 0s - loss: 6.0102\n",
            "Epoch 3: saving model to /content/drive/MyDrive/weight_callback/ex07/cp.ckpt\n",
            "308/308 [==============================] - 212s 689ms/step - loss: 6.0102 - val_loss: 5.8276\n",
            "Epoch 4/50\n",
            "308/308 [==============================] - ETA: 0s - loss: 5.7151\n",
            "Epoch 4: saving model to /content/drive/MyDrive/weight_callback/ex07/cp.ckpt\n",
            "308/308 [==============================] - 211s 686ms/step - loss: 5.7151 - val_loss: 5.5935\n",
            "Epoch 5/50\n",
            "308/308 [==============================] - ETA: 0s - loss: 5.4943\n",
            "Epoch 5: saving model to /content/drive/MyDrive/weight_callback/ex07/cp.ckpt\n",
            "308/308 [==============================] - 211s 685ms/step - loss: 5.4943 - val_loss: 5.4206\n",
            "Epoch 6/50\n",
            "308/308 [==============================] - ETA: 0s - loss: 5.3079\n",
            "Epoch 6: saving model to /content/drive/MyDrive/weight_callback/ex07/cp.ckpt\n",
            "308/308 [==============================] - 206s 670ms/step - loss: 5.3079 - val_loss: 5.2985\n",
            "Epoch 7/50\n",
            "308/308 [==============================] - ETA: 0s - loss: 5.1452\n",
            "Epoch 7: saving model to /content/drive/MyDrive/weight_callback/ex07/cp.ckpt\n",
            "308/308 [==============================] - 206s 668ms/step - loss: 5.1452 - val_loss: 5.1918\n",
            "Epoch 8/50\n",
            "308/308 [==============================] - ETA: 0s - loss: 5.0016\n",
            "Epoch 8: saving model to /content/drive/MyDrive/weight_callback/ex07/cp.ckpt\n",
            "308/308 [==============================] - 205s 666ms/step - loss: 5.0016 - val_loss: 5.1120\n",
            "Epoch 9/50\n",
            "308/308 [==============================] - ETA: 0s - loss: 4.8787\n",
            "Epoch 9: saving model to /content/drive/MyDrive/weight_callback/ex07/cp.ckpt\n",
            "308/308 [==============================] - 205s 664ms/step - loss: 4.8787 - val_loss: 5.0501\n",
            "Epoch 10/50\n",
            "308/308 [==============================] - ETA: 0s - loss: 4.7695\n",
            "Epoch 10: saving model to /content/drive/MyDrive/weight_callback/ex07/cp.ckpt\n",
            "308/308 [==============================] - 205s 664ms/step - loss: 4.7695 - val_loss: 4.9930\n",
            "Epoch 11/50\n",
            "308/308 [==============================] - ETA: 0s - loss: 4.6672\n",
            "Epoch 11: saving model to /content/drive/MyDrive/weight_callback/ex07/cp.ckpt\n",
            "308/308 [==============================] - 205s 665ms/step - loss: 4.6672 - val_loss: 4.9414\n",
            "Epoch 12/50\n",
            "308/308 [==============================] - ETA: 0s - loss: 4.5752\n",
            "Epoch 12: saving model to /content/drive/MyDrive/weight_callback/ex07/cp.ckpt\n",
            "308/308 [==============================] - 204s 663ms/step - loss: 4.5752 - val_loss: 4.9012\n",
            "Epoch 13/50\n",
            "308/308 [==============================] - ETA: 0s - loss: 4.4933\n",
            "Epoch 13: saving model to /content/drive/MyDrive/weight_callback/ex07/cp.ckpt\n",
            "308/308 [==============================] - 206s 669ms/step - loss: 4.4933 - val_loss: 4.8788\n",
            "Epoch 14/50\n",
            "308/308 [==============================] - ETA: 0s - loss: 4.4076\n",
            "Epoch 14: saving model to /content/drive/MyDrive/weight_callback/ex07/cp.ckpt\n",
            "308/308 [==============================] - 205s 665ms/step - loss: 4.4076 - val_loss: 4.8452\n",
            "Epoch 15/50\n",
            "308/308 [==============================] - ETA: 0s - loss: 4.3343\n",
            "Epoch 15: saving model to /content/drive/MyDrive/weight_callback/ex07/cp.ckpt\n",
            "308/308 [==============================] - 204s 664ms/step - loss: 4.3343 - val_loss: 4.8331\n",
            "Epoch 16/50\n",
            "308/308 [==============================] - ETA: 0s - loss: 4.2674\n",
            "Epoch 16: saving model to /content/drive/MyDrive/weight_callback/ex07/cp.ckpt\n",
            "308/308 [==============================] - 205s 666ms/step - loss: 4.2674 - val_loss: 4.8152\n",
            "Epoch 17/50\n",
            "308/308 [==============================] - ETA: 0s - loss: 4.2033\n",
            "Epoch 17: saving model to /content/drive/MyDrive/weight_callback/ex07/cp.ckpt\n",
            "308/308 [==============================] - 206s 669ms/step - loss: 4.2033 - val_loss: 4.7933\n",
            "Epoch 18/50\n",
            "308/308 [==============================] - ETA: 0s - loss: 4.1461\n",
            "Epoch 18: saving model to /content/drive/MyDrive/weight_callback/ex07/cp.ckpt\n",
            "308/308 [==============================] - 209s 678ms/step - loss: 4.1461 - val_loss: 4.7755\n",
            "Epoch 19/50\n",
            "308/308 [==============================] - ETA: 0s - loss: 4.0952\n",
            "Epoch 19: saving model to /content/drive/MyDrive/weight_callback/ex07/cp.ckpt\n",
            "308/308 [==============================] - 205s 665ms/step - loss: 4.0952 - val_loss: 4.7685\n",
            "Epoch 20/50\n",
            "308/308 [==============================] - ETA: 0s - loss: 4.0458\n",
            "Epoch 20: saving model to /content/drive/MyDrive/weight_callback/ex07/cp.ckpt\n",
            "308/308 [==============================] - 205s 667ms/step - loss: 4.0458 - val_loss: 4.7623\n",
            "Epoch 21/50\n",
            "308/308 [==============================] - ETA: 0s - loss: 3.9955\n",
            "Epoch 21: saving model to /content/drive/MyDrive/weight_callback/ex07/cp.ckpt\n",
            "308/308 [==============================] - 205s 666ms/step - loss: 3.9955 - val_loss: 4.7502\n",
            "Epoch 22/50\n",
            "308/308 [==============================] - ETA: 0s - loss: 3.9458\n",
            "Epoch 22: saving model to /content/drive/MyDrive/weight_callback/ex07/cp.ckpt\n",
            "308/308 [==============================] - 205s 667ms/step - loss: 3.9458 - val_loss: 4.7559\n",
            "Epoch 23/50\n",
            "308/308 [==============================] - ETA: 0s - loss: 3.9006\n",
            "Epoch 23: saving model to /content/drive/MyDrive/weight_callback/ex07/cp.ckpt\n",
            "308/308 [==============================] - 205s 666ms/step - loss: 3.9006 - val_loss: 4.7491\n",
            "Epoch 24/50\n",
            "308/308 [==============================] - ETA: 0s - loss: 3.8591\n",
            "Epoch 24: saving model to /content/drive/MyDrive/weight_callback/ex07/cp.ckpt\n",
            "308/308 [==============================] - 207s 672ms/step - loss: 3.8591 - val_loss: 4.7465\n",
            "Epoch 25/50\n",
            "308/308 [==============================] - ETA: 0s - loss: 3.8115\n",
            "Epoch 25: saving model to /content/drive/MyDrive/weight_callback/ex07/cp.ckpt\n",
            "308/308 [==============================] - 203s 659ms/step - loss: 3.8115 - val_loss: 4.7502\n",
            "Epoch 26/50\n",
            "308/308 [==============================] - ETA: 0s - loss: 3.7703\n",
            "Epoch 26: saving model to /content/drive/MyDrive/weight_callback/ex07/cp.ckpt\n",
            "308/308 [==============================] - 203s 660ms/step - loss: 3.7703 - val_loss: 4.7390\n",
            "Epoch 27/50\n",
            "308/308 [==============================] - ETA: 0s - loss: 3.7294\n",
            "Epoch 27: saving model to /content/drive/MyDrive/weight_callback/ex07/cp.ckpt\n",
            "308/308 [==============================] - 203s 658ms/step - loss: 3.7294 - val_loss: 4.7432\n",
            "Epoch 28/50\n",
            "308/308 [==============================] - ETA: 0s - loss: 3.6903\n",
            "Epoch 28: saving model to /content/drive/MyDrive/weight_callback/ex07/cp.ckpt\n",
            "308/308 [==============================] - 206s 670ms/step - loss: 3.6903 - val_loss: 4.7523\n",
            "Epoch 28: early stopping\n"
          ]
        }
      ]
    },
    {
      "cell_type": "markdown",
      "source": [
        "### 학습된 가중치 로드"
      ],
      "metadata": {
        "id": "b8ZzxgZKPuru"
      }
    },
    {
      "cell_type": "code",
      "source": [
        "#model.load_weights(checkpoint_path)"
      ],
      "metadata": {
        "id": "uEFQ4qOjPcYM"
      },
      "execution_count": null,
      "outputs": []
    },
    {
      "cell_type": "markdown",
      "source": [
        "### Loss Visualization"
      ],
      "metadata": {
        "id": "83MaIGfcniBE"
      }
    },
    {
      "cell_type": "code",
      "source": [
        "plt.plot(history.history['loss'], label='train')\n",
        "plt.plot(history.history['val_loss'], label='test')\n",
        "plt.legend()\n",
        "plt.show()"
      ],
      "metadata": {
        "colab": {
          "base_uri": "https://localhost:8080/",
          "height": 266
        },
        "id": "V4Chq1uHnhhU",
        "outputId": "5a7154a2-b1e7-4628-f70e-556793d1bb3a"
      },
      "execution_count": null,
      "outputs": [
        {
          "output_type": "display_data",
          "data": {
            "text/plain": [
              "<Figure size 432x288 with 1 Axes>"
            ],
            "image/png": "[encoded data removed]"
          },
          "metadata": {
            "needs_background": "light"
          }
        }
      ]
    },
    {
      "cell_type": "markdown",
      "source": [
        "train데이터의loss는 꾸준히 감소하는 반면, test data(val data)의 loss는 4.7에서 수렴하는 경향을 보였다."
      ],
      "metadata": {
        "id": "BoaDTSQ9Ox45"
      }
    },
    {
      "cell_type": "markdown",
      "source": [
        "## 인퍼런스 모델 구현하기"
      ],
      "metadata": {
        "id": "97rK2a20nm9U"
      }
    },
    {
      "cell_type": "code",
      "source": [
        "src_index_to_word = src_tokenizer.index_word # 원문 단어 집합에서 정수 -> 단어를 얻음\n",
        "tar_word_to_index = tar_tokenizer.word_index # 요약 단어 집합에서 단어 -> 정수를 얻음\n",
        "tar_index_to_word = tar_tokenizer.index_word # 요약 단어 집합에서 정수 -> 단어를 얻음"
      ],
      "metadata": {
        "id": "aKlYL7CyaAUJ"
      },
      "execution_count": null,
      "outputs": []
    },
    {
      "cell_type": "code",
      "source": [
        "# 인코더 설계\n",
        "encoder_model = Model(inputs=encoder_inputs, outputs=[encoder_outputs, state_h, state_c])\n",
        "\n",
        "# 이전 시점의 상태들을 저장하는 텐서\n",
        "decoder_state_input_h = Input(shape=(hidden_size,))\n",
        "decoder_state_input_c = Input(shape=(hidden_size,))\n",
        "\n",
        "dec_emb2 = dec_emb_layer(decoder_inputs)\n",
        "\n",
        "# 문장의 다음 단어를 예측하기 위해서 초기 상태(initial_state)를 이전 시점의 상태로 사용. 이는 뒤의 함수 decode_sequence()에 구현\n",
        "# 훈련 과정에서와 달리 LSTM의 리턴하는 은닉 상태와 셀 상태인 state_h와 state_c를 버리지 않음.\n",
        "decoder_outputs2, state_h2, state_c2 = decoder_lstm(dec_emb2, initial_state=[decoder_state_input_h, decoder_state_input_c])\n"
      ],
      "metadata": {
        "id": "xk7xiT18nuWq"
      },
      "execution_count": null,
      "outputs": []
    },
    {
      "cell_type": "markdown",
      "source": [
        "### 어텐션 메커니즘을 사용하는 출력층을 설계"
      ],
      "metadata": {
        "id": "EqtppgyNny21"
      }
    },
    {
      "cell_type": "code",
      "source": [
        "# 어텐션 함수\n",
        "decoder_hidden_state_input = Input(shape=(text_max_len, hidden_size))\n",
        "attn_out_inf = attn_layer([decoder_outputs2, decoder_hidden_state_input])\n",
        "decoder_inf_concat = Concatenate(axis=-1, name='concat')([decoder_outputs2, attn_out_inf])\n",
        "\n",
        "# 디코더의 출력층\n",
        "decoder_outputs2 = decoder_softmax_layer(decoder_inf_concat) \n",
        "\n",
        "# 최종 디코더 모델\n",
        "decoder_model = Model(\n",
        "    [decoder_inputs] + [decoder_hidden_state_input,decoder_state_input_h, decoder_state_input_c],\n",
        "    [decoder_outputs2] + [state_h2, state_c2])"
      ],
      "metadata": {
        "id": "abZxTGScnyOD"
      },
      "execution_count": null,
      "outputs": []
    },
    {
      "cell_type": "markdown",
      "source": [
        "### 인퍼런스 단계에서 단어 시퀀스를 완성하는 함수"
      ],
      "metadata": {
        "id": "uEMejO-xn3B2"
      }
    },
    {
      "cell_type": "code",
      "source": [
        "def decode_sequence(input_seq):\n",
        "    # 입력으로부터 인코더의 상태를 얻음\n",
        "    e_out, e_h, e_c = encoder_model.predict(input_seq)\n",
        "\n",
        "     # <SOS>에 해당하는 토큰 생성\n",
        "    target_seq = np.zeros((1,1))\n",
        "    target_seq[0, 0] = tar_word_to_index['sostoken']\n",
        "\n",
        "    stop_condition = False\n",
        "    decoded_sentence = ''\n",
        "    while not stop_condition: # stop_condition이 True가 될 때까지 루프 반복\n",
        "\n",
        "        output_tokens, h, c = decoder_model.predict([target_seq] + [e_out, e_h, e_c])\n",
        "        sampled_token_index = np.argmax(output_tokens[0, -1, :])\n",
        "        sampled_token = tar_index_to_word[sampled_token_index]\n",
        "\n",
        "        if (sampled_token!='eostoken'):\n",
        "            decoded_sentence += ' '+sampled_token\n",
        "\n",
        "        #  <eos>에 도달하거나 최대 길이를 넘으면 중단.\n",
        "        if (sampled_token == 'eostoken'  or len(decoded_sentence.split()) >= (headlines_max_len-1)):\n",
        "            stop_condition = True\n",
        "\n",
        "        # 길이가 1인 타겟 시퀀스를 업데이트\n",
        "        target_seq = np.zeros((1,1))\n",
        "        target_seq[0, 0] = sampled_token_index\n",
        "\n",
        "        # 상태를 업데이트 합니다.\n",
        "        e_h, e_c = h, c\n",
        "\n",
        "    return decoded_sentence"
      ],
      "metadata": {
        "id": "EbALokYUn3t4"
      },
      "execution_count": null,
      "outputs": []
    },
    {
      "cell_type": "markdown",
      "source": [
        "## 모델 테스트"
      ],
      "metadata": {
        "id": "BzwJs_zpoAYD"
      }
    },
    {
      "cell_type": "code",
      "source": [
        "# 원문의 정수 시퀀스를 텍스트 시퀀스로 변환\n",
        "def seq2text(input_seq):\n",
        "    temp=''\n",
        "    for i in input_seq:\n",
        "        if (i!=0):\n",
        "            temp = temp + src_index_to_word[i]+' '\n",
        "    return temp\n",
        "\n",
        "# 요약문의 정수 시퀀스를 텍스트 시퀀스로 변환\n",
        "def seq2summary(input_seq):\n",
        "    temp=''\n",
        "    for i in input_seq:\n",
        "        if ((i!=0 and i!=tar_word_to_index['sostoken']) and i!=tar_word_to_index['eostoken']):\n",
        "            temp = temp + tar_index_to_word[i] + ' '\n",
        "    return temp"
      ],
      "metadata": {
        "id": "DpfkuSX_n922"
      },
      "execution_count": null,
      "outputs": []
    },
    {
      "cell_type": "markdown",
      "source": [
        "## Step 4. 실제 결과와 요약문 비교하기 (추상적 요약)\n",
        "\n",
        "---"
      ],
      "metadata": {
        "id": "Bw1g29XGLgmC"
      }
    },
    {
      "cell_type": "markdown",
      "source": [
        "25개의 문장을 비교해보았다."
      ],
      "metadata": {
        "id": "ULM8ivKiXCUW"
      }
    },
    {
      "cell_type": "code",
      "source": [
        "for i in range(25):\n",
        "    print(\"원문 :\", seq2text(encoder_input_test[i]))\n",
        "    print(\"실제 요약 :\", seq2summary(decoder_input_test[i]))\n",
        "    print(\"예측 요약 :\", decode_sequence(encoder_input_test[i].reshape(1, text_max_len)))\n",
        "    print(\"\\n\")"
      ],
      "metadata": {
        "id": "Kw_eNAsxnsbJ",
        "colab": {
          "base_uri": "https://localhost:8080/"
        },
        "outputId": "dd44c630-c93f-4bc9-d13f-637bd247befc"
      },
      "execution_count": null,
      "outputs": [
        {
          "output_type": "stream",
          "name": "stdout",
          "text": [
            "원문 : intentionally cropped photos of president donald trump's inauguration to remove empty space and make the audience look larger trump claimed footage of the event did not match with the number of people he saw from the stage white house had claimed trump's inauguration had attracted the largest ever inauguration audience \n",
            "실제 요약 : photographer admits he edited trump's inauguration pics report \n",
            "예측 요약 :  trump slams trump for calling him\n",
            "\n",
            "\n",
            "원문 : hyderabad for allegedly making false promises to the nris of exchanging the old demonetised notes an official said demonetised currency notes of ã¢ââ¹500 and ã¢ââ¹1 000 totalling up to ã¢ââ¹1 85 crore were seized from the accused along with this the cops also seized two cars and 13 mobile phones \n",
            "실제 요약 : hyderabad 13 held for promising nris to exchange old notes \n",
            "예측 요약 :  delhi govt issues ã¢ââ¹5 crore for cash notes\n",
            "\n",
            "\n",
            "원문 : fraud got into an argument with the police on a facebook post appealing for communities across the uk to look out for her the 40 year old who called the police pig denied the allegations the police requested her to sort the matter by herself at the nearest police station \n",
            "실제 요약 : woman argues with police on look out post on fb \n",
            "예측 요약 :  man who was shot dead by posing as ceo\n",
            "\n",
            "\n",
            "원문 : its formula 1 inspired which is said to be at around 3 million weighing at around kg the comes with a 6 5 litre engine that can give over 1 000 horsepower the car reportedly aims to be the world's fastest production car and is scheduled for delivery in 2019 \n",
            "실제 요약 : aston martin shows official images of its \n",
            "예측 요약 :  world's largest richest person is time\n",
            "\n",
            "\n",
            "원문 : preliminary results for q1 2017 posting its highest quarterly operating profit in three years at over 8 7 billion this comes amid an ongoing bribery and embezzlement trial against the group's chief jay y lee and the company's recovery from the global recall of its exploding galaxy note 7 smartphones \n",
            "실제 요약 : samsung posts best profit in 3 years despite bribery scandal \n",
            "예측 요약 :  india's richest man posts rise in revenue at crore\n",
            "\n",
            "\n",
            "원문 : said bangladesh posed a big challenge to india's security just like china and pakistan bangladesh was only a so called friend because it had caused india the most harm through illegal intrusion he added he further said the government was using modern technology to curb all intrusion including from bangladesh \n",
            "실제 요약 : so called ally b'desh a threat to india's security minister \n",
            "예측 요약 :  india is a mistake indian defence minister\n",
            "\n",
            "\n",
            "원문 : on tuesday tweeted that he was glad pm narendra modi was talking about corruption and that he now invites him to walk the talk siddaramaiah asked pm modi to appoint lok pal investigate justice death investigate the astronomical rise of jay shah and appoint an person as bjp's cm candidate \n",
            "실제 요약 : invite pm modi to the on corruption k'taka cm \n",
            "예측 요약 :  pm modi is a pm modi\n",
            "\n",
            "\n",
            "원문 : sentenced to 12 months imprisonment for stealing debit cards and a birthday singh khera stole two punjab national bank cards and their pin numbers withdrawing ã¢ââ¹67 000 from atm machines khera whose sentence has been suspended for two years due to a heart condition was a for over 15 years \n",
            "실제 요약 : british indian postman steals debit cards birthday \n",
            "예측 요약 :  man jailed for stealing atm from atm\n",
            "\n",
            "\n",
            "원문 : the foreign black money law enacted in 2015 the government said a one time compliance opportunity was provided to those with foreign assets which have previously not been disclosed in this compliance window which closed on september 30 2015 involving undisclosed foreign assets worth over ã¢ââ¹4 100 crore were made \n",
            "실제 요약 : assets worth ã¢ââ¹6 000cr detected under foreign black money law \n",
            "예측 요약 :  india to create money laundering under black money\n",
            "\n",
            "\n",
            "원문 : on amazon india for just one hour was sold out within 5 minutes according to oneplus the open sale of oneplus 5t will begin in india from november 28 and will be available on all channels including amazon in oneplusstore in select croma stores and in bengaluru and delhi ncr \n",
            "실제 요약 : in 5 mins on amazon open sale from nov 28 \n",
            "예측 요약 :  oneplus india launches its first ever oneplus\n",
            "\n",
            "\n",
            "원문 : on her sexual harassment allegations against nana patekar tanushree dutta said i'm hurt as these are people who do movies on social causes she added when it comes to standing up and doing something about what is happening in front of you there are these statements that don't make sense \n",
            "실제 요약 : do films on social cause tanushree on big b's remark \n",
            "예측 요약 :  tanushree nana tanushree nana tanushree nana nana tanushree row\n",
            "\n",
            "\n",
            "원문 : cm j jayalalithaa cannot be termed a convict in a disproportionate assets case and dismissed a petition challenging construction of a memorial for her stating she's a convict the court observed she can't be called a convict as the supreme court her sentencing in the case because of her death \n",
            "실제 요약 : cannot be termed a convict in assets case madras hc \n",
            "예측 요약 :  jayalalithaa has jayalalithaa's treatment sasikala sasikala\n",
            "\n",
            "\n",
            "원문 : to ndtv group for alleged breaches of foreign exchange rules amounting to ã¢ââ¹4 300 crore ndtv rejected the allegations saying it's targeted for its fair and independent journalism and that its persecution is intended to signal to other media that unless they fall in line they will face similar consequences \n",
            "실제 요약 : notice to ndtv over ã¢ââ¹4 300 crore forex rule violation \n",
            "예측 요약 :  censor board film to be banned by copyright reports\n",
            "\n",
            "\n",
            "원문 : along with an apology note that read please forgive me i did this because of my circumstances and i'm sorry the owners had filed a police complaint on finding the ornaments missing at home after returning from a wedding the thief on thursday left the stolen jewels at their gate \n",
            "실제 요약 : kerala thief returns stolen jewels along with apology note \n",
            "예측 요약 :  i t dept assaulted me for harassing me hrithik\n",
            "\n",
            "\n",
            "원문 : noida suffered a free fall from the 14th floor till the seventh after a reported power cut cctv footage showed two women were in the elevator one of whom suffered three fractures while the other remained unhurt residents accused the builder of negligence but no official complaint has been registered \n",
            "실제 요약 : free falls 7 floors in up woman suffers 3 fractures \n",
            "예측 요약 :  gurugram civic body opens fire in gurugram\n",
            "\n",
            "\n",
            "원문 : sydney test india's kl rahul attempted to take marcus catch off ravindra jadeja by putting in a full length dive from mid on jadeja started celebrating thinking the catch was taken however rahul the ball landed short on field umpire ian and gave a up to rahul appreciating his honesty \n",
            "실제 요약 : rahul admits catch wasn't clean umpire and gives up \n",
            "예측 요약 :  hardik pandya calls himself with ball during pitch\n",
            "\n",
            "\n",
            "원문 : evacuated after a staffer found a toy grenade inside a and alerted the authorities mistaking the toy to be an explosive device while seven flights were delayed authorities allowed passengers to re enter the airport after about an hour and a half security and safety always first airport officials tweeted \n",
            "실제 요약 : us airport evacuated after toy grenade found in bathroom \n",
            "예측 요약 :  us airport found dead in thai cave rescue plane\n",
            "\n",
            "\n",
            "원문 : along with the defence research and development organisation successfully test fired indigenously developed lightweight bomb named smart anti weapon in odisha three tests were conducted with different release conditions and ranges and were all successful following the feat drdo chairman notified that would soon be inducted into the armed forces \n",
            "실제 요약 : indian air force drdo successfully test fire bomb \n",
            "예측 요약 :  pakistan launches its first ever cyber test\n",
            "\n",
            "\n",
            "원문 : the rafale deal as the 'great rafale and demanded a joint parliamentary committee to investigate the alleged misappropriation in the deal problem is your supreme leader is protecting his friend this may be tweeted rahul this comes after finance minister arun jaitley posed 15 questions to congress on the deal \n",
            "실제 요약 : rahul demands joint parliamentary panel to probe rafale deal \n",
            "예측 요약 :  rafale deal not rafale jaitley on rafale deal\n",
            "\n",
            "\n",
            "원문 : more than 185 000 ã¢ââ¹1 2 crore from a homeless customer davis devised a scheme to steal money when the customer went to deposit a garbage bag full of cash he used the stolen cash for the down payment on his home to pay off debts and fund several vacations \n",
            "실제 요약 : bank staff stole ã¢ââ¹1 2 crore from homeless man for \n",
            "예측 요약 :  ã¢ââ¹1 000 crore for ã¢ââ¹1 000 crore in bitcoin\n",
            "\n",
            "\n",
            "원문 : resume and cover letter as after his teacher asked the students to write and cover letters as marvel characters the student's assignment had 'i am written against every entry including name address email id and qualifications is an tree man who only speaks or responds with the words 'i am \n",
            "실제 요약 : student writes his resume as marvel character \n",
            "예측 요약 :  students who slammed for students to school search\n",
            "\n",
            "\n",
            "원문 : permits for all kinds of vehicles including two wheelers by states is legal the government is in favour of shared mobility which will help in reducing pressure on city and ease traffic jams he added he further said the state governments are competent to frame regulations for enabling bike taxis \n",
            "실제 요약 : taxi permits to two wheelers by states legal government \n",
            "예측 요약 :  govt to curb odd even if vehicles oppose ngt\n",
            "\n",
            "\n",
            "원문 : airport for carrying a live bullet in the baggage according to officials the soldier raj had been travelling to delhi on leave and was handed over to the army for investigation earlier on monday a jawan was arrested for carrying two hand grenades in his baggage during the security screening \n",
            "실제 요약 : live bullet found in army jawan's bag at srinagar airport \n",
            "예측 요약 :  airport carrying jawans at airport airport arrested\n",
            "\n",
            "\n",
            "원문 : navy divers have retrieved one of the black boxes from the lion air plane that crashed into the sea on monday with 189 people on board some parts of the plane's and personal belongings of the passengers were also recovered the plane had lost contact 13 minutes after take off \n",
            "실제 요약 : of indonesian plane that crashed with 189 on board found \n",
            "예측 요약 :  plane makes emergency landing after landing in canada\n",
            "\n",
            "\n",
            "원문 : large cars by 5 and mid size cars by 2 there is no change in the gst cess on small petrol and diesel cars hybrid cars or on 13 seater vehicles the total tax incidence on suvs large cars and mid size cars is now 50 48 and 45 respectively \n",
            "실제 요약 : hikes cess on suvs by 7 large cars by 5 \n",
            "예측 요약 :  gst launches cars to have cars in cars\n",
            "\n",
            "\n"
          ]
        }
      ]
    },
    {
      "cell_type": "markdown",
      "source": [
        "뭔가 잘 안됨"
      ],
      "metadata": {
        "id": "40nqgMYZBxT-"
      }
    },
    {
      "cell_type": "markdown",
      "source": [
        "## Step 5. Summa을 이용해서 추출적 요약해보기\n",
        "\n",
        "---"
      ],
      "metadata": {
        "id": "UZtn2rUrLhZy"
      }
    },
    {
      "cell_type": "markdown",
      "source": [
        "출처 :\n",
        "\n",
        "https://github.com/hyyoo3526/AIFFEL_EXPLORATION/blob/main/EXPLORATION_10/EXPLORATION_IC1_10_news_summarization.ipynb\n",
        "\n"
      ],
      "metadata": {
        "id": "iQRBqHIiXo5X"
      }
    },
    {
      "cell_type": "markdown",
      "source": [
        "text (str) : 요약할 테스트.\n",
        "\n",
        "ratio (float, optional) – 요약문에서 원본에서 선택되는 문장 비율. 0~1 사이값\n",
        "\n",
        "words (int or None, optional) – 출력에 포함할 단어 수.\n",
        "\n",
        "만약, ratio와 함께 두 파라미터가 모두 제공되는 경우 ratio는 무시한다.\n",
        "split (bool, optional) – True면 문장 list / False는 조인(join)된 문자열을 반환"
      ],
      "metadata": {
        "id": "w9rTbpyVMwrK"
      }
    },
    {
      "cell_type": "code",
      "execution_count": null,
      "metadata": {
        "id": "4qf2vqyqLMNu",
        "colab": {
          "base_uri": "https://localhost:8080/"
        },
        "outputId": "31f67312-f6f9-4aba-bc02-8695fa3b88e4"
      },
      "outputs": [
        {
          "output_type": "stream",
          "name": "stdout",
          "text": [
            "Summary:\n",
            "원문 : Saurav Kant, an alumnus of upGrad and IIIT-B's PG Program in Machine learning and Artificial Intelligence, was a Sr Systems Engineer at Infosys with almost 5 years of work experience. The program and upGrad's 360-degree career support helped him transition to a Data Scientist at Tech Mahindra with 90% salary hike. upGrad's Online Power Learning has powered 3 lakh+ careers.\n",
            "실제 요약 : upGrad learner switches to career in ML & Al with 90% salary hike\n",
            "추출적 요약 : upGrad's Online Power Learning has powered 3 lakh+ careers.\n",
            "\n",
            "\n",
            "원문 : Kunal Shah's credit card bill payment platform, CRED, gave users a chance to win free food from Swiggy for one year. Pranav Kaushik, a Delhi techie, bagged this reward after spending 2000 CRED coins. Users get one CRED coin per rupee of bill paid, which can be used to avail rewards from brands like Ixigo, BookMyShow, UberEats, Cult.Fit and more.\n",
            "실제 요약 : Delhi techie wins free food from Swiggy for one year on CRED\n",
            "추출적 요약 : Users get one CRED coin per rupee of bill paid, which can be used to avail rewards from brands like Ixigo, BookMyShow, UberEats, Cult.Fit and more.\n",
            "\n",
            "\n",
            "원문 : New Zealand defeated India by 8 wickets in the fourth ODI at Hamilton on Thursday to win their first match of the five-match ODI series. India lost an international match under Rohit Sharma's captaincy after 12 consecutive victories dating back to March 2018. The match witnessed India getting all out for 92, their seventh lowest total in ODI cricket history.\n",
            "실제 요약 : New Zealand end Rohit Sharma-led India's 12-match winning streak\n",
            "추출적 요약 : The match witnessed India getting all out for 92, their seventh lowest total in ODI cricket history.\n",
            "\n",
            "\n",
            "원문 : With Aegon Life iTerm Insurance plan, customers can enjoy tax benefits on your premiums paid and save up to Ã¢ÂÂ¹46,800^ on taxes. The plan provides life cover up to the age of 100 years. Also, customers have options to insure against Critical Illnesses, Disability and Accidental Death Benefit Rider with a life cover up to the age of 80 years.\n",
            "실제 요약 : Aegon life iTerm insurance plan helps customers save tax\n",
            "추출적 요약 : Also, customers have options to insure against Critical Illnesses, Disability and Accidental Death Benefit Rider with a life cover up to the age of 80 years.\n",
            "\n",
            "\n",
            "원문 : Speaking about the sexual harassment allegations against Rajkumar Hirani, Sonam Kapoor said, \"I've known Hirani for many years...What if it's not true, the [#MeToo] movement will get derailed.\" \"In the #MeToo movement, I always believe a woman. But in this case, we need to reserve our judgment,\" she added. Hirani has been accused by an assistant who worked in 'Sanju'.\n",
            "실제 요약 : Have known Hirani for yrs, what if MeToo claims are not true: Sonam\n",
            "추출적 요약 : Speaking about the sexual harassment allegations against Rajkumar Hirani, Sonam Kapoor said, \"I've known Hirani for many years...What if it's not true, the [#MeToo] movement will get derailed.\" \"In the #MeToo movement, I always believe a woman.\n",
            "\n",
            "\n",
            "원문 : Pakistani singer Rahat Fateh Ali Khan has denied receiving any notice from the Enforcement Directorate over allegedly smuggling foreign currency out of India. \"It would have been better if the authorities would have served the notice first if any and then publicised this,\" reads a press release issued on behalf of Rahat. The statement further called the allegation \"bizarre\".\n",
            "실제 요약 : Rahat Fateh Ali Khan denies getting notice for smuggling currency\n",
            "추출적 요약 : Pakistani singer Rahat Fateh Ali Khan has denied receiving any notice from the Enforcement Directorate over allegedly smuggling foreign currency out of India.\n",
            "\n",
            "\n",
            "원문 : India recorded their lowest ODI total in New Zealand after getting all out for 92 runs in 30.5 overs in the fourth ODI at Hamilton on Thursday. Seven of India's batsmen were dismissed for single-digit scores, while their number ten batsman Yuzvendra Chahal top-scored with 18*(37). India's previous lowest ODI total in New Zealand was 108.\n",
            "실제 요약 : India get all out for 92, their lowest ODI total in New Zealand\n",
            "추출적 요약 : India's previous lowest ODI total in New Zealand was 108.\n",
            "\n",
            "\n",
            "원문 : Weeks after ex-CBI Director Alok Verma told the Department of Personnel and Training to consider him retired, the Home Ministry asked him to join work on the last day of his fixed tenure as Director on Thursday. The ministry directed him to immediately join as DG, Fire Services, the post he was transferred to after his removal as CBI chief.\n",
            "실제 요약 : Govt directs Alok Verma to join work 1 day before his retirement\n",
            "추출적 요약 : Weeks after ex-CBI Director Alok Verma told the Department of Personnel and Training to consider him retired, the Home Ministry asked him to join work on the last day of his fixed tenure as Director on Thursday.\n",
            "\n",
            "\n",
            "원문 : Andhra Pradesh CM N Chandrababu Naidu has said, \"When I met then US President Bill Clinton, I addressed him as Mr Clinton, not as 'sir'. (PM Narendra) Modi is my junior in politics...I addressed him as sir 10 times.\" \"I did this...to satisfy his ego in the hope that he will do justice to the state,\" he added.\n",
            "실제 요약 : Called PM Modi 'sir' 10 times to satisfy his ego: Andhra CM\n",
            "추출적 요약 : Andhra Pradesh CM N Chandrababu Naidu has said, \"When I met then US President Bill Clinton, I addressed him as Mr Clinton, not as 'sir'.\n",
            "\n",
            "\n",
            "원문 : Congress candidate Shafia Zubair won the Ramgarh Assembly seat in Rajasthan, by defeating BJP's Sukhwant Singh with a margin of 12,228 votes in the bypoll. With this victory, Congress has taken its total to 100 seats in the 200-member assembly. The election to the Ramgarh seat was delayed due to the death of sitting MLA and BSP candidate Laxman Singh.\n",
            "실제 요약 : Cong wins Ramgarh bypoll in Rajasthan, takes total to 100 seats\n",
            "추출적 요약 : Congress candidate Shafia Zubair won the Ramgarh Assembly seat in Rajasthan, by defeating BJP's Sukhwant Singh with a margin of 12,228 votes in the bypoll.\n",
            "\n",
            "\n"
          ]
        }
      ],
      "source": [
        "print('Summary:')\n",
        "for i in range(10):\n",
        "    print(\"원문 :\", data['text'][i])\n",
        "    print(\"실제 요약 :\", data['headlines'][i])\n",
        "    print(\"추출적 요약 :\", summarize(data[\"text\"][i], ratio=0.5))\n",
        "    print(\"\\n\")"
      ]
    },
    {
      "cell_type": "markdown",
      "source": [
        "전반적으로 요약이 잘 된것 같은 문장도 있지만 문장의 길이가 긴 문장은 여지없이 텍스트 내용을 그대로 가져왔다."
      ],
      "metadata": {
        "id": "BUQOpNfcVHQ_"
      }
    },
    {
      "cell_type": "code",
      "source": [
        "print('Summary:')\n",
        "for i in range(10):\n",
        "    print(\"원문 :\", data['text'][i])\n",
        "    print(\"실제 요약 :\", data['headlines'][i])\n",
        "    print(\"추출적 요약 :\", summarize(data[\"text\"][i], ratio=0.5, split=True))\n",
        "    print(\"\\n\")"
      ],
      "metadata": {
        "colab": {
          "base_uri": "https://localhost:8080/"
        },
        "id": "tWhpE5EV18vg",
        "outputId": "988c9cb3-751d-4926-b71f-1a287b9e7281"
      },
      "execution_count": null,
      "outputs": [
        {
          "output_type": "stream",
          "name": "stdout",
          "text": [
            "Summary:\n",
            "원문 : Saurav Kant, an alumnus of upGrad and IIIT-B's PG Program in Machine learning and Artificial Intelligence, was a Sr Systems Engineer at Infosys with almost 5 years of work experience. The program and upGrad's 360-degree career support helped him transition to a Data Scientist at Tech Mahindra with 90% salary hike. upGrad's Online Power Learning has powered 3 lakh+ careers.\n",
            "실제 요약 : upGrad learner switches to career in ML & Al with 90% salary hike\n",
            "추출적 요약 : [\"upGrad's Online Power Learning has powered 3 lakh+ careers.\"]\n",
            "\n",
            "\n",
            "원문 : Kunal Shah's credit card bill payment platform, CRED, gave users a chance to win free food from Swiggy for one year. Pranav Kaushik, a Delhi techie, bagged this reward after spending 2000 CRED coins. Users get one CRED coin per rupee of bill paid, which can be used to avail rewards from brands like Ixigo, BookMyShow, UberEats, Cult.Fit and more.\n",
            "실제 요약 : Delhi techie wins free food from Swiggy for one year on CRED\n",
            "추출적 요약 : ['Users get one CRED coin per rupee of bill paid, which can be used to avail rewards from brands like Ixigo, BookMyShow, UberEats, Cult.Fit and more.']\n",
            "\n",
            "\n",
            "원문 : New Zealand defeated India by 8 wickets in the fourth ODI at Hamilton on Thursday to win their first match of the five-match ODI series. India lost an international match under Rohit Sharma's captaincy after 12 consecutive victories dating back to March 2018. The match witnessed India getting all out for 92, their seventh lowest total in ODI cricket history.\n",
            "실제 요약 : New Zealand end Rohit Sharma-led India's 12-match winning streak\n",
            "추출적 요약 : ['The match witnessed India getting all out for 92, their seventh lowest total in ODI cricket history.']\n",
            "\n",
            "\n",
            "원문 : With Aegon Life iTerm Insurance plan, customers can enjoy tax benefits on your premiums paid and save up to Ã¢ÂÂ¹46,800^ on taxes. The plan provides life cover up to the age of 100 years. Also, customers have options to insure against Critical Illnesses, Disability and Accidental Death Benefit Rider with a life cover up to the age of 80 years.\n",
            "실제 요약 : Aegon life iTerm insurance plan helps customers save tax\n",
            "추출적 요약 : ['Also, customers have options to insure against Critical Illnesses, Disability and Accidental Death Benefit Rider with a life cover up to the age of 80 years.']\n",
            "\n",
            "\n",
            "원문 : Speaking about the sexual harassment allegations against Rajkumar Hirani, Sonam Kapoor said, \"I've known Hirani for many years...What if it's not true, the [#MeToo] movement will get derailed.\" \"In the #MeToo movement, I always believe a woman. But in this case, we need to reserve our judgment,\" she added. Hirani has been accused by an assistant who worked in 'Sanju'.\n",
            "실제 요약 : Have known Hirani for yrs, what if MeToo claims are not true: Sonam\n",
            "추출적 요약 : ['Speaking about the sexual harassment allegations against Rajkumar Hirani, Sonam Kapoor said, \"I\\'ve known Hirani for many years...What if it\\'s not true, the [#MeToo] movement will get derailed.\" \"In the #MeToo movement, I always believe a woman.']\n",
            "\n",
            "\n",
            "원문 : Pakistani singer Rahat Fateh Ali Khan has denied receiving any notice from the Enforcement Directorate over allegedly smuggling foreign currency out of India. \"It would have been better if the authorities would have served the notice first if any and then publicised this,\" reads a press release issued on behalf of Rahat. The statement further called the allegation \"bizarre\".\n",
            "실제 요약 : Rahat Fateh Ali Khan denies getting notice for smuggling currency\n",
            "추출적 요약 : ['Pakistani singer Rahat Fateh Ali Khan has denied receiving any notice from the Enforcement Directorate over allegedly smuggling foreign currency out of India.']\n",
            "\n",
            "\n",
            "원문 : India recorded their lowest ODI total in New Zealand after getting all out for 92 runs in 30.5 overs in the fourth ODI at Hamilton on Thursday. Seven of India's batsmen were dismissed for single-digit scores, while their number ten batsman Yuzvendra Chahal top-scored with 18*(37). India's previous lowest ODI total in New Zealand was 108.\n",
            "실제 요약 : India get all out for 92, their lowest ODI total in New Zealand\n",
            "추출적 요약 : [\"India's previous lowest ODI total in New Zealand was 108.\"]\n",
            "\n",
            "\n",
            "원문 : Weeks after ex-CBI Director Alok Verma told the Department of Personnel and Training to consider him retired, the Home Ministry asked him to join work on the last day of his fixed tenure as Director on Thursday. The ministry directed him to immediately join as DG, Fire Services, the post he was transferred to after his removal as CBI chief.\n",
            "실제 요약 : Govt directs Alok Verma to join work 1 day before his retirement\n",
            "추출적 요약 : ['Weeks after ex-CBI Director Alok Verma told the Department of Personnel and Training to consider him retired, the Home Ministry asked him to join work on the last day of his fixed tenure as Director on Thursday.']\n",
            "\n",
            "\n",
            "원문 : Andhra Pradesh CM N Chandrababu Naidu has said, \"When I met then US President Bill Clinton, I addressed him as Mr Clinton, not as 'sir'. (PM Narendra) Modi is my junior in politics...I addressed him as sir 10 times.\" \"I did this...to satisfy his ego in the hope that he will do justice to the state,\" he added.\n",
            "실제 요약 : Called PM Modi 'sir' 10 times to satisfy his ego: Andhra CM\n",
            "추출적 요약 : ['Andhra Pradesh CM N Chandrababu Naidu has said, \"When I met then US President Bill Clinton, I addressed him as Mr Clinton, not as \\'sir\\'.']\n",
            "\n",
            "\n",
            "원문 : Congress candidate Shafia Zubair won the Ramgarh Assembly seat in Rajasthan, by defeating BJP's Sukhwant Singh with a margin of 12,228 votes in the bypoll. With this victory, Congress has taken its total to 100 seats in the 200-member assembly. The election to the Ramgarh seat was delayed due to the death of sitting MLA and BSP candidate Laxman Singh.\n",
            "실제 요약 : Cong wins Ramgarh bypoll in Rajasthan, takes total to 100 seats\n",
            "추출적 요약 : [\"Congress candidate Shafia Zubair won the Ramgarh Assembly seat in Rajasthan, by defeating BJP's Sukhwant Singh with a margin of 12,228 votes in the bypoll.\"]\n",
            "\n",
            "\n"
          ]
        }
      ]
    },
    {
      "cell_type": "markdown",
      "source": [
        "위와 마찬가지이다."
      ],
      "metadata": {
        "id": "I0l4wfw_VkN9"
      }
    },
    {
      "cell_type": "code",
      "source": [
        "print('Summary:')\n",
        "for i in range(10):\n",
        "    print(\"원문 :\", data['text'][i])\n",
        "    print(\"실제 요약 :\", data['headlines'][i])\n",
        "    print(\"추출적 요약 :\", summarize(data[\"text\"][i], words=15))\n",
        "    print(\"\\n\")"
      ],
      "metadata": {
        "colab": {
          "base_uri": "https://localhost:8080/"
        },
        "id": "_CmCdLqT1-2f",
        "outputId": "a3e1cfb0-8efc-44d2-b627-4767630464e6"
      },
      "execution_count": 79,
      "outputs": [
        {
          "output_type": "stream",
          "name": "stdout",
          "text": [
            "Summary:\n",
            "원문 : Saurav Kant, an alumnus of upGrad and IIIT-B's PG Program in Machine learning and Artificial Intelligence, was a Sr Systems Engineer at Infosys with almost 5 years of work experience. The program and upGrad's 360-degree career support helped him transition to a Data Scientist at Tech Mahindra with 90% salary hike. upGrad's Online Power Learning has powered 3 lakh+ careers.\n",
            "실제 요약 : upGrad learner switches to career in ML & Al with 90% salary hike\n",
            "추출적 요약 : upGrad's Online Power Learning has powered 3 lakh+ careers.\n",
            "\n",
            "\n",
            "원문 : Kunal Shah's credit card bill payment platform, CRED, gave users a chance to win free food from Swiggy for one year. Pranav Kaushik, a Delhi techie, bagged this reward after spending 2000 CRED coins. Users get one CRED coin per rupee of bill paid, which can be used to avail rewards from brands like Ixigo, BookMyShow, UberEats, Cult.Fit and more.\n",
            "실제 요약 : Delhi techie wins free food from Swiggy for one year on CRED\n",
            "추출적 요약 : Users get one CRED coin per rupee of bill paid, which can be used to avail rewards from brands like Ixigo, BookMyShow, UberEats, Cult.Fit and more.\n",
            "\n",
            "\n",
            "원문 : New Zealand defeated India by 8 wickets in the fourth ODI at Hamilton on Thursday to win their first match of the five-match ODI series. India lost an international match under Rohit Sharma's captaincy after 12 consecutive victories dating back to March 2018. The match witnessed India getting all out for 92, their seventh lowest total in ODI cricket history.\n",
            "실제 요약 : New Zealand end Rohit Sharma-led India's 12-match winning streak\n",
            "추출적 요약 : The match witnessed India getting all out for 92, their seventh lowest total in ODI cricket history.\n",
            "\n",
            "\n",
            "원문 : With Aegon Life iTerm Insurance plan, customers can enjoy tax benefits on your premiums paid and save up to Ã¢ÂÂ¹46,800^ on taxes. The plan provides life cover up to the age of 100 years. Also, customers have options to insure against Critical Illnesses, Disability and Accidental Death Benefit Rider with a life cover up to the age of 80 years.\n",
            "실제 요약 : Aegon life iTerm insurance plan helps customers save tax\n",
            "추출적 요약 : Also, customers have options to insure against Critical Illnesses, Disability and Accidental Death Benefit Rider with a life cover up to the age of 80 years.\n",
            "\n",
            "\n",
            "원문 : Speaking about the sexual harassment allegations against Rajkumar Hirani, Sonam Kapoor said, \"I've known Hirani for many years...What if it's not true, the [#MeToo] movement will get derailed.\" \"In the #MeToo movement, I always believe a woman. But in this case, we need to reserve our judgment,\" she added. Hirani has been accused by an assistant who worked in 'Sanju'.\n",
            "실제 요약 : Have known Hirani for yrs, what if MeToo claims are not true: Sonam\n",
            "추출적 요약 : \n",
            "\n",
            "\n",
            "원문 : Pakistani singer Rahat Fateh Ali Khan has denied receiving any notice from the Enforcement Directorate over allegedly smuggling foreign currency out of India. \"It would have been better if the authorities would have served the notice first if any and then publicised this,\" reads a press release issued on behalf of Rahat. The statement further called the allegation \"bizarre\".\n",
            "실제 요약 : Rahat Fateh Ali Khan denies getting notice for smuggling currency\n",
            "추출적 요약 : Pakistani singer Rahat Fateh Ali Khan has denied receiving any notice from the Enforcement Directorate over allegedly smuggling foreign currency out of India.\n",
            "\n",
            "\n",
            "원문 : India recorded their lowest ODI total in New Zealand after getting all out for 92 runs in 30.5 overs in the fourth ODI at Hamilton on Thursday. Seven of India's batsmen were dismissed for single-digit scores, while their number ten batsman Yuzvendra Chahal top-scored with 18*(37). India's previous lowest ODI total in New Zealand was 108.\n",
            "실제 요약 : India get all out for 92, their lowest ODI total in New Zealand\n",
            "추출적 요약 : India's previous lowest ODI total in New Zealand was 108.\n",
            "\n",
            "\n",
            "원문 : Weeks after ex-CBI Director Alok Verma told the Department of Personnel and Training to consider him retired, the Home Ministry asked him to join work on the last day of his fixed tenure as Director on Thursday. The ministry directed him to immediately join as DG, Fire Services, the post he was transferred to after his removal as CBI chief.\n",
            "실제 요약 : Govt directs Alok Verma to join work 1 day before his retirement\n",
            "추출적 요약 : \n",
            "\n",
            "\n",
            "원문 : Andhra Pradesh CM N Chandrababu Naidu has said, \"When I met then US President Bill Clinton, I addressed him as Mr Clinton, not as 'sir'. (PM Narendra) Modi is my junior in politics...I addressed him as sir 10 times.\" \"I did this...to satisfy his ego in the hope that he will do justice to the state,\" he added.\n",
            "실제 요약 : Called PM Modi 'sir' 10 times to satisfy his ego: Andhra CM\n",
            "추출적 요약 : Andhra Pradesh CM N Chandrababu Naidu has said, \"When I met then US President Bill Clinton, I addressed him as Mr Clinton, not as 'sir'.\n",
            "\n",
            "\n",
            "원문 : Congress candidate Shafia Zubair won the Ramgarh Assembly seat in Rajasthan, by defeating BJP's Sukhwant Singh with a margin of 12,228 votes in the bypoll. With this victory, Congress has taken its total to 100 seats in the 200-member assembly. The election to the Ramgarh seat was delayed due to the death of sitting MLA and BSP candidate Laxman Singh.\n",
            "실제 요약 : Cong wins Ramgarh bypoll in Rajasthan, takes total to 100 seats\n",
            "추출적 요약 : Congress candidate Shafia Zubair won the Ramgarh Assembly seat in Rajasthan, by defeating BJP's Sukhwant Singh with a margin of 12,228 votes in the bypoll.\n",
            "\n",
            "\n"
          ]
        }
      ]
    },
    {
      "cell_type": "markdown",
      "source": [
        "이번에는 아예 요약을 하지 못한 경우도 있었다. 추출적 요약은 생각보다 성능이 좋지 않다."
      ],
      "metadata": {
        "id": "Mgx251znVw5S"
      }
    },
    {
      "cell_type": "markdown",
      "source": [
        "## 회고"
      ],
      "metadata": {
        "id": "6lpisdJfYZOa"
      }
    },
    {
      "cell_type": "markdown",
      "source": [
        "이번 노드에서 배운점은 자연어를 처리할 때 어떤 프로세스로 진행이 되는지,\n",
        "어떻게 RNN 모델을 사용하는지 어떻게 layer를 쌓게 되는지 조금은 알 거 같다.\n",
        "\n",
        "그 외에 데이터의 용량이 260MB정도밖에 안되었지만, 이 데이터들을 전처리할 때도 시간이 많이 들었고, 모델에 학습시키는데에도 시간이 꽤 많이 들었다. 따라서 모델을 이해하지 못한 채로 하이퍼 파라미터등을 변경하기엔 시간이 빡빡하여 진행하지는 않았다.\n",
        "\n",
        "이번에 진행했던 추상적 요약에서 약 25개 정도의 문장을 요약해 낸 결과, 문법에 맞지 않는 문장, 내용을 짐작 할 수 없는 문장, 쓸데없이 단어가 반복되어 완성도가 떨어지는 문장들이 있었다.\n",
        "\n",
        "또한 원문 text에서 손상된 텍스트 파일이 발견된 점, 제거되지 않은 특수문자가 있었다는 점에서 많이 아쉬웠다. 만약 전처리 과정에서 이들을 걸러냈더라면 조금 더 나은 결과를 얻을 수 있었을 것으로 예상할 수 있기에 더 아쉽다."
      ],
      "metadata": {
        "id": "kE4ffxFYYb6m"
      }
    }
  ]
}
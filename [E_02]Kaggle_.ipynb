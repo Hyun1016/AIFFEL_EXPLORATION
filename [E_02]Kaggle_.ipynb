{
  "cells": [
    {
      "cell_type": "markdown",
      "id": "ae68fb6e",
      "metadata": {
        "id": "ae68fb6e"
      },
      "source": [
        "# 😶 데이터 가져오기\n",
        "\n",
        "as_frame 옵션을 통해 데이터를 데이터 프레임형식으로 가져올지 말지를 결정할 수 있습니다.\n",
        "\n",
        "데이터가 어떻게 되어있는지 보기 편하게 데이터 프레임 형식으로 본 후 np어레이 형식으로 바꾸려 합니다."
      ]
    },
    {
      "cell_type": "code",
      "execution_count": 378,
      "id": "7e5e95f1",
      "metadata": {
        "id": "7e5e95f1"
      },
      "outputs": [],
      "source": [
        "from sklearn.datasets import load_diabetes\n",
        "import pandas as pd\n",
        "from pandas import DataFrame\n",
        "import numpy as np\n",
        "#df 형식으로 자료를 불러올 것인지 as_frame 인자를 통해 결정할 수 있습니다. default값이 False이므로 아무것도 입력하지 않으면 자료들이\n",
        "# ndarray형식으로 가져와진답니다.\n",
        "diabets = load_diabetes(as_frame=1)"
      ]
    },
    {
      "cell_type": "markdown",
      "id": "74146582",
      "metadata": {
        "id": "74146582"
      },
      "source": [
        "먼저 변수 X,y에 당뇨병 데이터의 feature 와 label을 각각 할당해 줍니다."
      ]
    },
    {
      "cell_type": "code",
      "execution_count": 379,
      "id": "02a6915f",
      "metadata": {
        "id": "02a6915f"
      },
      "outputs": [],
      "source": [
        "df_X = diabets.data\n",
        "df_y = diabets.target"
      ]
    },
    {
      "cell_type": "code",
      "execution_count": 380,
      "id": "bd244a89",
      "metadata": {
        "colab": {
          "base_uri": "https://localhost:8080/"
        },
        "id": "bd244a89",
        "outputId": "997ede8b-b59f-4d36-a8af-b2bd044878d0"
      },
      "outputs": [
        {
          "output_type": "stream",
          "name": "stdout",
          "text": [
            ".. _diabetes_dataset:\n",
            "\n",
            "Diabetes dataset\n",
            "----------------\n",
            "\n",
            "Ten baseline variables, age, sex, body mass index, average blood\n",
            "pressure, and six blood serum measurements were obtained for each of n =\n",
            "442 diabetes patients, as well as the response of interest, a\n",
            "quantitative measure of disease progression one year after baseline.\n",
            "\n",
            "**Data Set Characteristics:**\n",
            "\n",
            "  :Number of Instances: 442\n",
            "\n",
            "  :Number of Attributes: First 10 columns are numeric predictive values\n",
            "\n",
            "  :Target: Column 11 is a quantitative measure of disease progression one year after baseline\n",
            "\n",
            "  :Attribute Information:\n",
            "      - age     age in years\n",
            "      - sex\n",
            "      - bmi     body mass index\n",
            "      - bp      average blood pressure\n",
            "      - s1      tc, total serum cholesterol\n",
            "      - s2      ldl, low-density lipoproteins\n",
            "      - s3      hdl, high-density lipoproteins\n",
            "      - s4      tch, total cholesterol / HDL\n",
            "      - s5      ltg, possibly log of serum triglycerides level\n",
            "      - s6      glu, blood sugar level\n",
            "\n",
            "Note: Each of these 10 feature variables have been mean centered and scaled by the standard deviation times `n_samples` (i.e. the sum of squares of each column totals 1).\n",
            "\n",
            "Source URL:\n",
            "https://www4.stat.ncsu.edu/~boos/var.select/diabetes.html\n",
            "\n",
            "For more information see:\n",
            "Bradley Efron, Trevor Hastie, Iain Johnstone and Robert Tibshirani (2004) \"Least Angle Regression,\" Annals of Statistics (with discussion), 407-499.\n",
            "(https://web.stanford.edu/~hastie/Papers/LARS/LeastAngle_2002.pdf)\n"
          ]
        }
      ],
      "source": [
        "print(diabets.DESCR)"
      ]
    },
    {
      "cell_type": "code",
      "execution_count": 381,
      "id": "c5cad564",
      "metadata": {
        "colab": {
          "base_uri": "https://localhost:8080/"
        },
        "id": "c5cad564",
        "outputId": "7e7adc1d-3b24-4d2a-c1b8-853c2da9bfd6",
        "scrolled": true
      },
      "outputs": [
        {
          "output_type": "execute_result",
          "data": {
            "text/plain": [
              "(pandas.core.frame.DataFrame, pandas.core.series.Series)"
            ]
          },
          "metadata": {},
          "execution_count": 381
        }
      ],
      "source": [
        "type(df_X),type(df_y)"
      ]
    },
    {
      "cell_type": "markdown",
      "id": "234cc0b3",
      "metadata": {
        "id": "234cc0b3"
      },
      "source": [
        "데이터의 type을 확인해 본 결과.\n",
        "X는 dataframe y는 Series 자료 형식이네요. Series 형식은 dict형식과 비슷하다 합니다."
      ]
    },
    {
      "cell_type": "code",
      "execution_count": 382,
      "id": "706a0dc7",
      "metadata": {
        "colab": {
          "base_uri": "https://localhost:8080/"
        },
        "id": "706a0dc7",
        "outputId": "27f85a68-764a-49b5-e2d0-d08d39fa7bf6",
        "scrolled": true
      },
      "outputs": [
        {
          "output_type": "execute_result",
          "data": {
            "text/plain": [
              "((442, 10), (442,))"
            ]
          },
          "metadata": {},
          "execution_count": 382
        }
      ],
      "source": [
        "df_X.shape,df_y.shape"
      ]
    },
    {
      "cell_type": "markdown",
      "id": "242525c0",
      "metadata": {
        "id": "242525c0"
      },
      "source": [
        "df_X = 442개 데이터, 10개 columns\n",
        "\n",
        "df_y = 442개 데이터의 배열."
      ]
    },
    {
      "cell_type": "code",
      "execution_count": 383,
      "id": "0a12ff34",
      "metadata": {
        "colab": {
          "base_uri": "https://localhost:8080/",
          "height": 206
        },
        "id": "0a12ff34",
        "outputId": "762ddf5f-2845-4448-843c-cc5fc1254ed1",
        "scrolled": true
      },
      "outputs": [
        {
          "output_type": "execute_result",
          "data": {
            "text/plain": [
              "        age       sex       bmi        bp        s1        s2        s3  \\\n",
              "0  0.038076  0.050680  0.061696  0.021872 -0.044223 -0.034821 -0.043401   \n",
              "1 -0.001882 -0.044642 -0.051474 -0.026328 -0.008449 -0.019163  0.074412   \n",
              "2  0.085299  0.050680  0.044451 -0.005671 -0.045599 -0.034194 -0.032356   \n",
              "3 -0.089063 -0.044642 -0.011595 -0.036656  0.012191  0.024991 -0.036038   \n",
              "4  0.005383 -0.044642 -0.036385  0.021872  0.003935  0.015596  0.008142   \n",
              "\n",
              "         s4        s5        s6  \n",
              "0 -0.002592  0.019908 -0.017646  \n",
              "1 -0.039493 -0.068330 -0.092204  \n",
              "2 -0.002592  0.002864 -0.025930  \n",
              "3  0.034309  0.022692 -0.009362  \n",
              "4 -0.002592 -0.031991 -0.046641  "
            ],
            "text/html": [
              "\n",
              "  <div id=\"df-82f884ea-40a7-4f6f-ba16-eaa5556c38e8\">\n",
              "    <div class=\"colab-df-container\">\n",
              "      <div>\n",
              "<style scoped>\n",
              "    .dataframe tbody tr th:only-of-type {\n",
              "        vertical-align: middle;\n",
              "    }\n",
              "\n",
              "    .dataframe tbody tr th {\n",
              "        vertical-align: top;\n",
              "    }\n",
              "\n",
              "    .dataframe thead th {\n",
              "        text-align: right;\n",
              "    }\n",
              "</style>\n",
              "<table border=\"1\" class=\"dataframe\">\n",
              "  <thead>\n",
              "    <tr style=\"text-align: right;\">\n",
              "      <th></th>\n",
              "      <th>age</th>\n",
              "      <th>sex</th>\n",
              "      <th>bmi</th>\n",
              "      <th>bp</th>\n",
              "      <th>s1</th>\n",
              "      <th>s2</th>\n",
              "      <th>s3</th>\n",
              "      <th>s4</th>\n",
              "      <th>s5</th>\n",
              "      <th>s6</th>\n",
              "    </tr>\n",
              "  </thead>\n",
              "  <tbody>\n",
              "    <tr>\n",
              "      <th>0</th>\n",
              "      <td>0.038076</td>\n",
              "      <td>0.050680</td>\n",
              "      <td>0.061696</td>\n",
              "      <td>0.021872</td>\n",
              "      <td>-0.044223</td>\n",
              "      <td>-0.034821</td>\n",
              "      <td>-0.043401</td>\n",
              "      <td>-0.002592</td>\n",
              "      <td>0.019908</td>\n",
              "      <td>-0.017646</td>\n",
              "    </tr>\n",
              "    <tr>\n",
              "      <th>1</th>\n",
              "      <td>-0.001882</td>\n",
              "      <td>-0.044642</td>\n",
              "      <td>-0.051474</td>\n",
              "      <td>-0.026328</td>\n",
              "      <td>-0.008449</td>\n",
              "      <td>-0.019163</td>\n",
              "      <td>0.074412</td>\n",
              "      <td>-0.039493</td>\n",
              "      <td>-0.068330</td>\n",
              "      <td>-0.092204</td>\n",
              "    </tr>\n",
              "    <tr>\n",
              "      <th>2</th>\n",
              "      <td>0.085299</td>\n",
              "      <td>0.050680</td>\n",
              "      <td>0.044451</td>\n",
              "      <td>-0.005671</td>\n",
              "      <td>-0.045599</td>\n",
              "      <td>-0.034194</td>\n",
              "      <td>-0.032356</td>\n",
              "      <td>-0.002592</td>\n",
              "      <td>0.002864</td>\n",
              "      <td>-0.025930</td>\n",
              "    </tr>\n",
              "    <tr>\n",
              "      <th>3</th>\n",
              "      <td>-0.089063</td>\n",
              "      <td>-0.044642</td>\n",
              "      <td>-0.011595</td>\n",
              "      <td>-0.036656</td>\n",
              "      <td>0.012191</td>\n",
              "      <td>0.024991</td>\n",
              "      <td>-0.036038</td>\n",
              "      <td>0.034309</td>\n",
              "      <td>0.022692</td>\n",
              "      <td>-0.009362</td>\n",
              "    </tr>\n",
              "    <tr>\n",
              "      <th>4</th>\n",
              "      <td>0.005383</td>\n",
              "      <td>-0.044642</td>\n",
              "      <td>-0.036385</td>\n",
              "      <td>0.021872</td>\n",
              "      <td>0.003935</td>\n",
              "      <td>0.015596</td>\n",
              "      <td>0.008142</td>\n",
              "      <td>-0.002592</td>\n",
              "      <td>-0.031991</td>\n",
              "      <td>-0.046641</td>\n",
              "    </tr>\n",
              "  </tbody>\n",
              "</table>\n",
              "</div>\n",
              "      <button class=\"colab-df-convert\" onclick=\"convertToInteractive('df-82f884ea-40a7-4f6f-ba16-eaa5556c38e8')\"\n",
              "              title=\"Convert this dataframe to an interactive table.\"\n",
              "              style=\"display:none;\">\n",
              "        \n",
              "  <svg xmlns=\"http://www.w3.org/2000/svg\" height=\"24px\"viewBox=\"0 0 24 24\"\n",
              "       width=\"24px\">\n",
              "    <path d=\"M0 0h24v24H0V0z\" fill=\"none\"/>\n",
              "    <path d=\"M18.56 5.44l.94 2.06.94-2.06 2.06-.94-2.06-.94-.94-2.06-.94 2.06-2.06.94zm-11 1L8.5 8.5l.94-2.06 2.06-.94-2.06-.94L8.5 2.5l-.94 2.06-2.06.94zm10 10l.94 2.06.94-2.06 2.06-.94-2.06-.94-.94-2.06-.94 2.06-2.06.94z\"/><path d=\"M17.41 7.96l-1.37-1.37c-.4-.4-.92-.59-1.43-.59-.52 0-1.04.2-1.43.59L10.3 9.45l-7.72 7.72c-.78.78-.78 2.05 0 2.83L4 21.41c.39.39.9.59 1.41.59.51 0 1.02-.2 1.41-.59l7.78-7.78 2.81-2.81c.8-.78.8-2.07 0-2.86zM5.41 20L4 18.59l7.72-7.72 1.47 1.35L5.41 20z\"/>\n",
              "  </svg>\n",
              "      </button>\n",
              "      \n",
              "  <style>\n",
              "    .colab-df-container {\n",
              "      display:flex;\n",
              "      flex-wrap:wrap;\n",
              "      gap: 12px;\n",
              "    }\n",
              "\n",
              "    .colab-df-convert {\n",
              "      background-color: #E8F0FE;\n",
              "      border: none;\n",
              "      border-radius: 50%;\n",
              "      cursor: pointer;\n",
              "      display: none;\n",
              "      fill: #1967D2;\n",
              "      height: 32px;\n",
              "      padding: 0 0 0 0;\n",
              "      width: 32px;\n",
              "    }\n",
              "\n",
              "    .colab-df-convert:hover {\n",
              "      background-color: #E2EBFA;\n",
              "      box-shadow: 0px 1px 2px rgba(60, 64, 67, 0.3), 0px 1px 3px 1px rgba(60, 64, 67, 0.15);\n",
              "      fill: #174EA6;\n",
              "    }\n",
              "\n",
              "    [theme=dark] .colab-df-convert {\n",
              "      background-color: #3B4455;\n",
              "      fill: #D2E3FC;\n",
              "    }\n",
              "\n",
              "    [theme=dark] .colab-df-convert:hover {\n",
              "      background-color: #434B5C;\n",
              "      box-shadow: 0px 1px 3px 1px rgba(0, 0, 0, 0.15);\n",
              "      filter: drop-shadow(0px 1px 2px rgba(0, 0, 0, 0.3));\n",
              "      fill: #FFFFFF;\n",
              "    }\n",
              "  </style>\n",
              "\n",
              "      <script>\n",
              "        const buttonEl =\n",
              "          document.querySelector('#df-82f884ea-40a7-4f6f-ba16-eaa5556c38e8 button.colab-df-convert');\n",
              "        buttonEl.style.display =\n",
              "          google.colab.kernel.accessAllowed ? 'block' : 'none';\n",
              "\n",
              "        async function convertToInteractive(key) {\n",
              "          const element = document.querySelector('#df-82f884ea-40a7-4f6f-ba16-eaa5556c38e8');\n",
              "          const dataTable =\n",
              "            await google.colab.kernel.invokeFunction('convertToInteractive',\n",
              "                                                     [key], {});\n",
              "          if (!dataTable) return;\n",
              "\n",
              "          const docLinkHtml = 'Like what you see? Visit the ' +\n",
              "            '<a target=\"_blank\" href=https://colab.research.google.com/notebooks/data_table.ipynb>data table notebook</a>'\n",
              "            + ' to learn more about interactive tables.';\n",
              "          element.innerHTML = '';\n",
              "          dataTable['output_type'] = 'display_data';\n",
              "          await google.colab.output.renderOutput(dataTable, element);\n",
              "          const docLink = document.createElement('div');\n",
              "          docLink.innerHTML = docLinkHtml;\n",
              "          element.appendChild(docLink);\n",
              "        }\n",
              "      </script>\n",
              "    </div>\n",
              "  </div>\n",
              "  "
            ]
          },
          "metadata": {},
          "execution_count": 383
        }
      ],
      "source": [
        "df_X.head()"
      ]
    },
    {
      "cell_type": "code",
      "execution_count": 384,
      "id": "c956f929",
      "metadata": {
        "colab": {
          "base_uri": "https://localhost:8080/"
        },
        "id": "c956f929",
        "outputId": "3d701499-106a-43f2-b338-f67bb101996e",
        "scrolled": true
      },
      "outputs": [
        {
          "output_type": "execute_result",
          "data": {
            "text/plain": [
              "0    151.0\n",
              "1     75.0\n",
              "2    141.0\n",
              "3    206.0\n",
              "4    135.0\n",
              "Name: target, dtype: float64"
            ]
          },
          "metadata": {},
          "execution_count": 384
        }
      ],
      "source": [
        "df_y.head()"
      ]
    },
    {
      "cell_type": "markdown",
      "id": "2489acd8",
      "metadata": {
        "id": "2489acd8"
      },
      "source": [
        "범주형 데이터를 연속형 데이터처럼 변환해야 할 줄 알았으나 데이터를 살펴보니 \n",
        "\n",
        "이미 데이터들의 Scale이 잘 정규화되어있어 그럴 필요가 없었습니다."
      ]
    },
    {
      "cell_type": "markdown",
      "id": "09135a6c",
      "metadata": {
        "id": "09135a6c"
      },
      "source": [
        "# 😶 모델에 입력할 데이터 X,y 준비하기\n",
        "\n",
        "to_numpy() 함수를 사용해서 X,y를 np array형식으로 변경하겠습니다."
      ]
    },
    {
      "cell_type": "code",
      "execution_count": 385,
      "id": "857b6e28",
      "metadata": {
        "id": "857b6e28"
      },
      "outputs": [],
      "source": [
        "X = df_X.to_numpy()\n",
        "y = df_y.to_numpy()"
      ]
    },
    {
      "cell_type": "code",
      "execution_count": 386,
      "id": "30081ecb",
      "metadata": {
        "colab": {
          "base_uri": "https://localhost:8080/"
        },
        "id": "30081ecb",
        "outputId": "9e1e0698-6e2d-4d51-a23c-5e1e87050bbb",
        "scrolled": true
      },
      "outputs": [
        {
          "output_type": "execute_result",
          "data": {
            "text/plain": [
              "(442, 10)"
            ]
          },
          "metadata": {},
          "execution_count": 386
        }
      ],
      "source": [
        "X.shape"
      ]
    },
    {
      "cell_type": "code",
      "execution_count": 387,
      "id": "14f48df3",
      "metadata": {
        "colab": {
          "base_uri": "https://localhost:8080/"
        },
        "id": "14f48df3",
        "outputId": "47db606c-ad5c-48c6-960e-46f43a5f0c5e",
        "scrolled": true
      },
      "outputs": [
        {
          "output_type": "execute_result",
          "data": {
            "text/plain": [
              "(442,)"
            ]
          },
          "metadata": {},
          "execution_count": 387
        }
      ],
      "source": [
        "y.shape"
      ]
    },
    {
      "cell_type": "markdown",
      "id": "e716b2e9",
      "metadata": {
        "id": "e716b2e9"
      },
      "source": [
        "# 😶훈련용 데이터와 Test용 데이터로 분리."
      ]
    },
    {
      "cell_type": "code",
      "execution_count": 388,
      "id": "174a162c",
      "metadata": {
        "id": "174a162c"
      },
      "outputs": [],
      "source": [
        "from sklearn.model_selection import train_test_split\n",
        "X_train, X_test, y_train, y_test = train_test_split(X, \n",
        "                                                    y, \n",
        "                                                    test_size=0.2, \n",
        "                                                    random_state=3489)"
      ]
    },
    {
      "cell_type": "code",
      "execution_count": 389,
      "id": "d37c1181",
      "metadata": {
        "colab": {
          "base_uri": "https://localhost:8080/"
        },
        "id": "d37c1181",
        "outputId": "210346d6-ffad-42ee-8e0b-c35fe6930840"
      },
      "outputs": [
        {
          "output_type": "stream",
          "name": "stdout",
          "text": [
            "<class 'numpy.ndarray'>\n",
            "<class 'float'>\n"
          ]
        }
      ],
      "source": [
        "#W와 b의 초기값 설정\n",
        "W = np.random.rand(10)\n",
        "b = np.random.rand(1) \n",
        "\n",
        "bn = np.random.rand()\n",
        "\n",
        "\n",
        "\n",
        "print(type(b))\n",
        "print(type(bn))\n",
        "\n"
      ]
    },
    {
      "cell_type": "code",
      "execution_count": 390,
      "id": "8fab243e",
      "metadata": {
        "colab": {
          "base_uri": "https://localhost:8080/"
        },
        "id": "8fab243e",
        "outputId": "d2ccab4d-1e59-456d-9f73-c0f8e0140454"
      },
      "outputs": [
        {
          "output_type": "stream",
          "name": "stdout",
          "text": [
            "[0.88291605 0.83155354 0.28877506 0.04632404 0.93554744 0.01567419\n",
            " 0.28716871 0.64354528 0.34464962 0.56861314]\n",
            "(10,)\n",
            "[0.96910974]\n"
          ]
        }
      ],
      "source": [
        "print(W)\n",
        "print(W.shape)\n",
        "print(b)"
      ]
    },
    {
      "cell_type": "markdown",
      "id": "0406a551",
      "metadata": {
        "id": "0406a551"
      },
      "source": [
        "# 😶모델 준비하기"
      ]
    },
    {
      "cell_type": "code",
      "execution_count": 391,
      "id": "93fd12f6",
      "metadata": {
        "id": "93fd12f6"
      },
      "outputs": [],
      "source": [
        "#벡터의 내적과 브로드캐스트 연산을 이용하여 모델을 만든다.\n",
        "# dot 연산은 1차원 배열과 n*m차원의 벡터의 연산을 지원한다.\n",
        "def model(X,W,b):\n",
        "    pred_y = X.dot(W)+b\n",
        "    return pred_y"
      ]
    },
    {
      "cell_type": "markdown",
      "id": "563ceafc",
      "metadata": {
        "id": "563ceafc"
      },
      "source": [
        "모델에 X,W,b를 넣어서 계산해본 결과 생각한 대로 (442,) 배열이 나왔다.\n",
        "\n",
        "이대로 써도 됨"
      ]
    },
    {
      "cell_type": "markdown",
      "id": "d937c932",
      "metadata": {
        "id": "d937c932"
      },
      "source": [
        "# 😶손실함수 loss 정의하기"
      ]
    },
    {
      "cell_type": "code",
      "execution_count": 392,
      "id": "d45f7c7d",
      "metadata": {
        "id": "d45f7c7d",
        "colab": {
          "base_uri": "https://localhost:8080/"
        },
        "outputId": "0267b001-f5bf-4b7e-9de0-403afa49be3b"
      },
      "outputs": [
        {
          "output_type": "stream",
          "name": "stdout",
          "text": [
            "shape of predicted y: (442,)\n",
            "shape of error: (442,)\n",
            "shape of squared error: (442,)\n",
            "Value of MSE: 28772.00858542018\n"
          ]
        }
      ],
      "source": [
        "# y에 모델링한 결과를 할당.\n",
        "pred_y = model(X,W,b)\n",
        "\n",
        "# 결과의 shape을 출력 (검증)\n",
        "print('shape of predicted y:', pred_y.shape)\n",
        "\n",
        "\n",
        "# 실제 y와 pred_y 간의 오차를 정의\n",
        "er_t = y-pred_y \n",
        "\n",
        "\n",
        "# 결과의 shape을 출력 (검증)\n",
        "print('shape of error:', er_t.shape)\n",
        "sqer_t = er_t**2\n",
        "\n",
        "\n",
        "# MSE 값 출력 (검증)\n",
        "mse_t = sqer_t.mean()\n",
        "print('shape of squared error:', sqer_t.shape)\n",
        "print('Value of MSE:', mse_t)\n",
        "\n",
        "\n",
        "# Root Mean Squre Error 구하는 함수를 정의\n",
        "def RMSE(y_actual,y_predict):\n",
        "    er = y_actual-y_predict\n",
        "    sqer = er**2\n",
        "    #sqer의 평균을 구해 제곱근을 구하여 rmse에 할당.\n",
        "    rmse = np.sqrt(sqer.mean())\n",
        "    return rmse"
      ]
    },
    {
      "cell_type": "code",
      "execution_count": 393,
      "id": "d3d710d7",
      "metadata": {
        "id": "d3d710d7"
      },
      "outputs": [],
      "source": [
        "# RMSE값 출력(검증)\n",
        "# test_rmse_t = RMSE(y,pred_y)\n",
        "# print('Value of RMSE:',test_rmse_t)"
      ]
    },
    {
      "cell_type": "code",
      "execution_count": 394,
      "id": "076b2b02",
      "metadata": {
        "id": "076b2b02"
      },
      "outputs": [],
      "source": [
        "# 손실함수 Loss를 정의\n",
        "def loss(x,w,b,y):\n",
        "    '모델에서 예측한 pred_y와 실제 y의 error을 통해 RMSE 값을 반환'\n",
        "    pred_y = model(x,w,b)\n",
        "    l = RMSE(y,pred_y)\n",
        "    return l"
      ]
    },
    {
      "cell_type": "markdown",
      "id": "85dc8c0d",
      "metadata": {
        "id": "85dc8c0d"
      },
      "source": [
        "# 😶기울기를 구하는 gradient 함수 구현하기"
      ]
    },
    {
      "cell_type": "markdown",
      "id": "82afbd75",
      "metadata": {
        "id": "82afbd75"
      },
      "source": [
        "RMSE를 사용한 Loss에 대한 Gradient를 구하는 함수는 다음 공식을 구현해서 만들었습니다.\n",
        "\n",
        "$∂L \\over \\partialω_i$ =  $1 \\over N \\times RMSE$$ \\sum_{i=1}^N x_i \\left\\{y_{i,pred}-y_{i,true} \\right\\}$\n",
        "\n",
        "$∂L \\over \\partial b$ = $1 \\over N \\times RMSE $$ \\sum_{i=1}^N\\left\\{y_{i,pred}-y_{i,true} \\right\\}$\n",
        "\n"
      ]
    },
    {
      "cell_type": "markdown",
      "id": "72a634ba",
      "metadata": {
        "id": "72a634ba"
      },
      "source": [
        "\n",
        "하지만 위 공식에서 무언가 이상함을 느끼지 않으셨나요?\n",
        "\n",
        "gradient는 특정한 $ω_i$ 와 b에 대해 미분한 것이므로 $∂L \\over \\partialω_i$ 공식을 표기할 때 밑첨자 때문에 혼동을 주며, 직관적인 이해도 쉽지 않습니다.\n",
        "\n",
        "따라서 이와 같은 표기로 공식을 표현하는 것이 더 합리적인 것 같습니다.\n",
        "\n",
        "$∂L \\over \\partialω_k$ =  $1 \\over N \\times RMSE$$ \\sum_{i=1}^N x^k_i \\left\\{y_{i,pred}-y_{i,true} \\right\\}$\n",
        "\n",
        "$ω_k$ = k번째의 가중치\n",
        "\n",
        "$x^k_i$ = k 번째의 feature의 i번째 데이터\n",
        "\n",
        "N = 데이터의 총 개수\n",
        "\n",
        "RMSE = 실제 데이터와 모델의 RMSE값\n",
        "\n",
        "$y_{i,true}$ = i번째 label 데이터\n",
        "\n",
        "$y_{i,pred}$ = i번째 predicted 데이터"
      ]
    },
    {
      "cell_type": "code",
      "execution_count": 395,
      "id": "9aafbd71",
      "metadata": {
        "id": "9aafbd71"
      },
      "outputs": [],
      "source": [
        "def gradient(X, W, b, y):\n",
        "    pred_y = model(X, W, b)\n",
        "    #label데이터의 총 개수를 N으로 지정.(헷갈림 방지)\n",
        "    N = len(y)\n",
        "    rmse = RMSE(y,pred_y)    \n",
        "    # X의 shape은 (442,10) er의 shape은 (442,) 벡터의 내적을 수행할 수 없으므로 전치행렬 메서드로 shape을 (10,442)로 바꿔준 후 계산.\n",
        "    dW =1/(rmse*N)*X.T.dot(pred_y - y)\n",
        "    # b의 gradient 계산\n",
        "    db = (1/rmse) * (pred_y - y).mean()\n",
        "    return dW, db"
      ]
    },
    {
      "cell_type": "code",
      "execution_count": 396,
      "id": "d917214f",
      "metadata": {
        "colab": {
          "base_uri": "https://localhost:8080/"
        },
        "id": "d917214f",
        "outputId": "04d8ca63-2bc6-4d50-b545-9de7fb027680"
      },
      "outputs": [
        {
          "output_type": "stream",
          "name": "stdout",
          "text": [
            "dW: [-0.0040343  -0.00091211 -0.01264605 -0.00951514 -0.00455143 -0.0037332\n",
            "  0.00851253 -0.00926857 -0.0121943  -0.00823525]\n",
            "shape of dW : (10,)\n",
            "db: -0.8911778024731023\n"
          ]
        }
      ],
      "source": [
        "dW, db = gradient(X, W, b, y)\n",
        "print(\"dW:\", dW)\n",
        "print(\"shape of dW :\",W.shape)\n",
        "print(\"db:\", db)"
      ]
    },
    {
      "cell_type": "markdown",
      "id": "3f2cab47",
      "metadata": {
        "id": "3f2cab47"
      },
      "source": [
        "# 😶모델 학습하기"
      ]
    },
    {
      "cell_type": "code",
      "execution_count": 397,
      "id": "d370b614",
      "metadata": {
        "id": "d370b614"
      },
      "outputs": [],
      "source": [
        "# 학습률 후보 생성\n",
        "LEARNING_RATE_for_test =[0.1,1,10,15,50,75,100,150,500,750,1000]"
      ]
    },
    {
      "cell_type": "code",
      "execution_count": 398,
      "id": "a251966f",
      "metadata": {
        "id": "a251966f"
      },
      "outputs": [],
      "source": [
        "def Training(X, W, b, y):\n",
        "    #결과 입력할 빈 리스트 생성\n",
        "    losses_t = []\n",
        "    #LEARNING_RATE_for_test 개수만큼 LEARNING_RATE 달라지게 1000회 학습\n",
        "    for a in LEARNING_RATE_for_test:\n",
        "        for i in range(1, 1001):\n",
        "            dW, db = gradient(X, W, b, y)\n",
        "            W -= a * dW\n",
        "            b -= a * db\n",
        "            L = loss(X, W, b, y)\n",
        "            if i == 1000:\n",
        "                losses_t.append(L)\n",
        "    return losses_t\n",
        "    print(losses_t)        "
      ]
    },
    {
      "cell_type": "code",
      "execution_count": 399,
      "id": "8d08b37c",
      "metadata": {
        "id": "8d08b37c",
        "colab": {
          "base_uri": "https://localhost:8080/",
          "height": 394
        },
        "outputId": "4fe0a9c2-73ab-4ea2-d8bf-fe651da47edc"
      },
      "outputs": [
        {
          "output_type": "execute_result",
          "data": {
            "text/plain": [
              "    LR_t Value  Loss Value\n",
              "0          0.1  106.187540\n",
              "1          1.0   75.377071\n",
              "2         10.0   60.551335\n",
              "3         15.0   56.040088\n",
              "4         50.0   54.414740\n",
              "5         75.0   54.364007\n",
              "6        100.0   54.351019\n",
              "7        150.0   75.000885\n",
              "8        500.0  250.002971\n",
              "9        750.0  375.004458\n",
              "10      1000.0  500.005944"
            ],
            "text/html": [
              "\n",
              "  <div id=\"df-ae3c9fff-6f29-460b-9181-0a87a7fb5617\">\n",
              "    <div class=\"colab-df-container\">\n",
              "      <div>\n",
              "<style scoped>\n",
              "    .dataframe tbody tr th:only-of-type {\n",
              "        vertical-align: middle;\n",
              "    }\n",
              "\n",
              "    .dataframe tbody tr th {\n",
              "        vertical-align: top;\n",
              "    }\n",
              "\n",
              "    .dataframe thead th {\n",
              "        text-align: right;\n",
              "    }\n",
              "</style>\n",
              "<table border=\"1\" class=\"dataframe\">\n",
              "  <thead>\n",
              "    <tr style=\"text-align: right;\">\n",
              "      <th></th>\n",
              "      <th>LR_t Value</th>\n",
              "      <th>Loss Value</th>\n",
              "    </tr>\n",
              "  </thead>\n",
              "  <tbody>\n",
              "    <tr>\n",
              "      <th>0</th>\n",
              "      <td>0.1</td>\n",
              "      <td>106.187540</td>\n",
              "    </tr>\n",
              "    <tr>\n",
              "      <th>1</th>\n",
              "      <td>1.0</td>\n",
              "      <td>75.377071</td>\n",
              "    </tr>\n",
              "    <tr>\n",
              "      <th>2</th>\n",
              "      <td>10.0</td>\n",
              "      <td>60.551335</td>\n",
              "    </tr>\n",
              "    <tr>\n",
              "      <th>3</th>\n",
              "      <td>15.0</td>\n",
              "      <td>56.040088</td>\n",
              "    </tr>\n",
              "    <tr>\n",
              "      <th>4</th>\n",
              "      <td>50.0</td>\n",
              "      <td>54.414740</td>\n",
              "    </tr>\n",
              "    <tr>\n",
              "      <th>5</th>\n",
              "      <td>75.0</td>\n",
              "      <td>54.364007</td>\n",
              "    </tr>\n",
              "    <tr>\n",
              "      <th>6</th>\n",
              "      <td>100.0</td>\n",
              "      <td>54.351019</td>\n",
              "    </tr>\n",
              "    <tr>\n",
              "      <th>7</th>\n",
              "      <td>150.0</td>\n",
              "      <td>75.000885</td>\n",
              "    </tr>\n",
              "    <tr>\n",
              "      <th>8</th>\n",
              "      <td>500.0</td>\n",
              "      <td>250.002971</td>\n",
              "    </tr>\n",
              "    <tr>\n",
              "      <th>9</th>\n",
              "      <td>750.0</td>\n",
              "      <td>375.004458</td>\n",
              "    </tr>\n",
              "    <tr>\n",
              "      <th>10</th>\n",
              "      <td>1000.0</td>\n",
              "      <td>500.005944</td>\n",
              "    </tr>\n",
              "  </tbody>\n",
              "</table>\n",
              "</div>\n",
              "      <button class=\"colab-df-convert\" onclick=\"convertToInteractive('df-ae3c9fff-6f29-460b-9181-0a87a7fb5617')\"\n",
              "              title=\"Convert this dataframe to an interactive table.\"\n",
              "              style=\"display:none;\">\n",
              "        \n",
              "  <svg xmlns=\"http://www.w3.org/2000/svg\" height=\"24px\"viewBox=\"0 0 24 24\"\n",
              "       width=\"24px\">\n",
              "    <path d=\"M0 0h24v24H0V0z\" fill=\"none\"/>\n",
              "    <path d=\"M18.56 5.44l.94 2.06.94-2.06 2.06-.94-2.06-.94-.94-2.06-.94 2.06-2.06.94zm-11 1L8.5 8.5l.94-2.06 2.06-.94-2.06-.94L8.5 2.5l-.94 2.06-2.06.94zm10 10l.94 2.06.94-2.06 2.06-.94-2.06-.94-.94-2.06-.94 2.06-2.06.94z\"/><path d=\"M17.41 7.96l-1.37-1.37c-.4-.4-.92-.59-1.43-.59-.52 0-1.04.2-1.43.59L10.3 9.45l-7.72 7.72c-.78.78-.78 2.05 0 2.83L4 21.41c.39.39.9.59 1.41.59.51 0 1.02-.2 1.41-.59l7.78-7.78 2.81-2.81c.8-.78.8-2.07 0-2.86zM5.41 20L4 18.59l7.72-7.72 1.47 1.35L5.41 20z\"/>\n",
              "  </svg>\n",
              "      </button>\n",
              "      \n",
              "  <style>\n",
              "    .colab-df-container {\n",
              "      display:flex;\n",
              "      flex-wrap:wrap;\n",
              "      gap: 12px;\n",
              "    }\n",
              "\n",
              "    .colab-df-convert {\n",
              "      background-color: #E8F0FE;\n",
              "      border: none;\n",
              "      border-radius: 50%;\n",
              "      cursor: pointer;\n",
              "      display: none;\n",
              "      fill: #1967D2;\n",
              "      height: 32px;\n",
              "      padding: 0 0 0 0;\n",
              "      width: 32px;\n",
              "    }\n",
              "\n",
              "    .colab-df-convert:hover {\n",
              "      background-color: #E2EBFA;\n",
              "      box-shadow: 0px 1px 2px rgba(60, 64, 67, 0.3), 0px 1px 3px 1px rgba(60, 64, 67, 0.15);\n",
              "      fill: #174EA6;\n",
              "    }\n",
              "\n",
              "    [theme=dark] .colab-df-convert {\n",
              "      background-color: #3B4455;\n",
              "      fill: #D2E3FC;\n",
              "    }\n",
              "\n",
              "    [theme=dark] .colab-df-convert:hover {\n",
              "      background-color: #434B5C;\n",
              "      box-shadow: 0px 1px 3px 1px rgba(0, 0, 0, 0.15);\n",
              "      filter: drop-shadow(0px 1px 2px rgba(0, 0, 0, 0.3));\n",
              "      fill: #FFFFFF;\n",
              "    }\n",
              "  </style>\n",
              "\n",
              "      <script>\n",
              "        const buttonEl =\n",
              "          document.querySelector('#df-ae3c9fff-6f29-460b-9181-0a87a7fb5617 button.colab-df-convert');\n",
              "        buttonEl.style.display =\n",
              "          google.colab.kernel.accessAllowed ? 'block' : 'none';\n",
              "\n",
              "        async function convertToInteractive(key) {\n",
              "          const element = document.querySelector('#df-ae3c9fff-6f29-460b-9181-0a87a7fb5617');\n",
              "          const dataTable =\n",
              "            await google.colab.kernel.invokeFunction('convertToInteractive',\n",
              "                                                     [key], {});\n",
              "          if (!dataTable) return;\n",
              "\n",
              "          const docLinkHtml = 'Like what you see? Visit the ' +\n",
              "            '<a target=\"_blank\" href=https://colab.research.google.com/notebooks/data_table.ipynb>data table notebook</a>'\n",
              "            + ' to learn more about interactive tables.';\n",
              "          element.innerHTML = '';\n",
              "          dataTable['output_type'] = 'display_data';\n",
              "          await google.colab.output.renderOutput(dataTable, element);\n",
              "          const docLink = document.createElement('div');\n",
              "          docLink.innerHTML = docLinkHtml;\n",
              "          element.appendChild(docLink);\n",
              "        }\n",
              "      </script>\n",
              "    </div>\n",
              "  </div>\n",
              "  "
            ]
          },
          "metadata": {},
          "execution_count": 399
        }
      ],
      "source": [
        "#LEARNING_RATE 별로 학습된 모델의 Loss를 Dataframe형식으로 생성.\n",
        "list_of_loss = Training(X_train, W, b, y_train)\n",
        "Loss_df = pd.DataFrame({\"LR_t Value\":LEARNING_RATE_for_test,\"Loss Value\":list_of_loss})\n",
        "Loss_df"
      ]
    },
    {
      "cell_type": "markdown",
      "id": "cc2a580a",
      "metadata": {
        "id": "cc2a580a"
      },
      "source": [
        "LEARNING RATE(학습률)은 대략적으로 15~100 사이의 수이면 성능에 큰 차이가 없음을 알았습니다.\n",
        "\\\n",
        "\\\n",
        "75이상의 LEARNING RATE에서 소수점 3자리부터의 Loss값이 줄어들지만 아주 작은 차이인데요\n",
        "\\\n",
        "\\\n",
        "별 차이 없으니까 이 사이의 숫자 아무거나 적어도 성능엔 큰 영향이 없을거 같습니다."
      ]
    },
    {
      "cell_type": "code",
      "execution_count": 400,
      "id": "10472fa4",
      "metadata": {
        "colab": {
          "base_uri": "https://localhost:8080/"
        },
        "id": "10472fa4",
        "outputId": "ce6c5db1-0c64-490e-8267-64572585202d"
      },
      "outputs": [
        {
          "output_type": "stream",
          "name": "stdout",
          "text": [
            "[650.15503987]\n"
          ]
        }
      ],
      "source": [
        "# 학습률 한 개에 대해서 학습.\n",
        "LEARNING_RATE = 18.2233\n",
        "print(b)"
      ]
    },
    {
      "cell_type": "code",
      "execution_count": 401,
      "id": "07f0efeb",
      "metadata": {
        "id": "07f0efeb"
      },
      "outputs": [],
      "source": [
        "losses = []\n",
        "# 문제는 자료형이었다..\n",
        "def Training_for_plot(X, W, k, y):\n",
        "    for i in range(1, 1001):\n",
        "        dW, db = gradient(X, W, k, y)\n",
        "        W -= LEARNING_RATE * dW\n",
        "        k -= LEARNING_RATE * db\n",
        "        L = loss(X, W, k, y)\n",
        "        losses.append(L)\n",
        "    if i % 10 == 0:\n",
        "        #Training이 10회 단위로 진행 될 때마다 Loss출력\n",
        "        print('Iteration %d : b %0.4f' % (i, k))"
      ]
    },
    {
      "cell_type": "code",
      "execution_count": 402,
      "id": "97ce6213",
      "metadata": {
        "colab": {
          "base_uri": "https://localhost:8080/"
        },
        "id": "97ce6213",
        "outputId": "94e1d8f0-3493-45e9-a188-54655376a931"
      },
      "outputs": [
        {
          "output_type": "stream",
          "name": "stdout",
          "text": [
            "Iteration 1000 : b 153.1140\n",
            "[153.11401959]\n"
          ]
        }
      ],
      "source": [
        "import matplotlib.pyplot as plt\n",
        "Training_for_plot(X_train, W, b, y_train)\n",
        "print(b)"
      ]
    },
    {
      "cell_type": "code",
      "execution_count": 403,
      "id": "4be75779",
      "metadata": {
        "colab": {
          "base_uri": "https://localhost:8080/",
          "height": 268
        },
        "id": "4be75779",
        "outputId": "fb45a540-bce3-4cf2-df0b-422a5bc526fe"
      },
      "outputs": [
        {
          "output_type": "display_data",
          "data": {
            "text/plain": [
              "<Figure size 432x288 with 1 Axes>"
            ],
            "image/png": "[encoded data removed]"
          },
          "metadata": {
            "needs_background": "light"
          }
        }
      ],
      "source": [
        "import matplotlib.pyplot as plt\n",
        "plt.plot(losses)\n",
        "plt.show()"
      ]
    },
    {
      "cell_type": "code",
      "execution_count": 404,
      "id": "486dd589",
      "metadata": {
        "colab": {
          "base_uri": "https://localhost:8080/"
        },
        "id": "486dd589",
        "outputId": "42ec05a7-7744-4eea-c176-f5793877121f"
      },
      "outputs": [
        {
          "output_type": "stream",
          "name": "stdout",
          "text": [
            "[153.11401959]\n"
          ]
        }
      ],
      "source": [
        "print(b)"
      ]
    },
    {
      "cell_type": "markdown",
      "id": "ccae37d9",
      "metadata": {
        "id": "ccae37d9"
      },
      "source": [
        "# 😶하이퍼 파라미터인 학습률 설정하기"
      ]
    },
    {
      "cell_type": "code",
      "execution_count": 405,
      "id": "4b355adb",
      "metadata": {
        "id": "4b355adb"
      },
      "outputs": [],
      "source": [
        "LEARNING_RATE = 18.1228"
      ]
    },
    {
      "cell_type": "markdown",
      "id": "d4a6e5c4",
      "metadata": {
        "id": "d4a6e5c4"
      },
      "source": [
        "학습률은 100보다는 아주 약간 작은 수를 아무렇게나 입력하여 정했습니다."
      ]
    },
    {
      "cell_type": "markdown",
      "id": "0594a878",
      "metadata": {
        "id": "0594a878"
      },
      "source": [
        "# 😶test 데이터에 대한 성능 확인하기"
      ]
    },
    {
      "cell_type": "code",
      "execution_count": 406,
      "id": "74a75689",
      "metadata": {
        "colab": {
          "base_uri": "https://localhost:8080/"
        },
        "id": "74a75689",
        "outputId": "5373cab4-498b-4391-9c57-3772f11f3b7b"
      },
      "outputs": [
        {
          "output_type": "execute_result",
          "data": {
            "text/plain": [
              "51.24602368540571"
            ]
          },
          "metadata": {},
          "execution_count": 406
        }
      ],
      "source": [
        "# test 데이터를 입력시켜 모델의 성능 측정\n",
        "prediction = model(X_test, W, b)\n",
        "rmse_t1 = loss(X_test, W, b,y_test)\n",
        "rmse_t1"
      ]
    },
    {
      "cell_type": "markdown",
      "id": "a5e06727",
      "metadata": {
        "id": "a5e06727"
      },
      "source": [
        "# 😶Visualization"
      ]
    },
    {
      "cell_type": "code",
      "execution_count": 407,
      "id": "3806339d",
      "metadata": {
        "colab": {
          "base_uri": "https://localhost:8080/",
          "height": 265
        },
        "id": "3806339d",
        "outputId": "d3820ce2-b715-441a-e097-bd60dbb80de4"
      },
      "outputs": [
        {
          "output_type": "display_data",
          "data": {
            "text/plain": [
              "<Figure size 432x288 with 1 Axes>"
            ],
            "image/png": "[encoded data removed]"
          },
          "metadata": {
            "needs_background": "light"
          }
        }
      ],
      "source": [
        "plt.scatter(X_test[:, 0], y_test)\n",
        "plt.scatter(X_test[:, 0], prediction)\n",
        "plt.legend([\"y_true\",\"prediction\"])\n",
        "plt.show()"
      ]
    },
    {
      "cell_type": "code",
      "source": [
        "#W와 b의 초기값 설정\n",
        "\n",
        "#Case1.\n",
        "# W = np.random.rand(10)\n",
        "# b = np.random.rand(1)\n",
        "#Case2.\n",
        "# W = np.random.rand(10)\n",
        "# b = np.random.rand()"
      ],
      "metadata": {
        "id": "uUzcXe_1aV0F"
      },
      "id": "uUzcXe_1aV0F",
      "execution_count": 408,
      "outputs": []
    },
    {
      "cell_type": "markdown",
      "source": [
        "## ※ 위의 주석처리한 두 코드의 차이점은 무엇일까요?\n",
        "\n",
        "바로 b = np.random.rand()안에 숫자를 집어넣었는지의 여부입니다. \n",
        "\n",
        "Case2.의 경우에서 b=np.random.rand()는 float 자료형으로 난수값이 변수에 할당되고 immutable하기 때문에 함수에 호출되었을때 지역변수로 쓰이다 함수의 실행이 끝나면 원래 값을 그대로 유지합니다.\n",
        "\n",
        "하지만 Case1.의 경우 shape을 출력했을 때 값이 1개 들어있는 1차원 np array를 변수에 할당하기 때문에 mutable 하므로 함수에서 호출되어 변수로 쓰이고, 함수의 실행이 끝났을 때 변한 값이 변수 b에 저장됩니다.\n",
        "\n",
        "이것 때문에 Training결과는 좋았지만 Test에서 좋지 않은 결과가 나왔고\n",
        "\n",
        "이를 해결하는 것을 강남4기 '홍성현'님께서 도와주셨고 덕분에 \n",
        "변수 b의 값이 변하지 않는다는 것을 알아냈으며, 변수 b의 자료형 때문에 변하지 않았다는 원인도 발견할 수 있었습니다.\n"
      ],
      "metadata": {
        "id": "vywP6BfZaoiK"
      },
      "id": "vywP6BfZaoiK"
    },
    {
      "cell_type": "markdown",
      "id": "bf6cfe54",
      "metadata": {
        "id": "bf6cfe54"
      },
      "source": [
        "**교훈**\n",
        "\n",
        "함수에서 호출된 지역변수가 원래 있던 전역변수이고 immutable변수이면 함수 안에서 값이 변경되어도 함수의 실행이 끝났을 때 원래 전역변수의 값은 변경되지 않음.\n",
        "\n",
        "만약 mutable변수이면 함수의 실행이 끝났을 때 변경된 값이 전역변수에 저장됨\n",
        "\n",
        "**함수를 만들 때 변수에 주의해서 만들자.**"
      ]
    },
    {
      "cell_type": "markdown",
      "id": "46aebc27",
      "metadata": {
        "id": "46aebc27"
      },
      "source": [
        "## 😶데이터 가져오기"
      ]
    },
    {
      "cell_type": "code",
      "execution_count": 409,
      "id": "7323dbcc",
      "metadata": {
        "id": "7323dbcc"
      },
      "outputs": [],
      "source": [
        "# LMS 사용시 주석처리 해제.\n",
        "# train = pd.read_csv('~/data/data/bike-sharing-demand/train.csv')"
      ]
    },
    {
      "cell_type": "code",
      "source": [
        "# Colab에서 사용시 드라이브에 마운트, 이미 마운트 했으므로 주석처리.\n",
        "from google.colab import drive\n",
        "drive.mount('/content/drive')"
      ],
      "metadata": {
        "id": "2r89SU4j4lrz",
        "colab": {
          "base_uri": "https://localhost:8080/"
        },
        "outputId": "9567c723-5911-4c84-b6df-74afad8a3c26"
      },
      "id": "2r89SU4j4lrz",
      "execution_count": 410,
      "outputs": [
        {
          "output_type": "stream",
          "name": "stdout",
          "text": [
            "Drive already mounted at /content/drive; to attempt to forcibly remount, call drive.mount(\"/content/drive\", force_remount=True).\n"
          ]
        }
      ]
    },
    {
      "cell_type": "code",
      "execution_count": 411,
      "id": "1e2992ee",
      "metadata": {
        "id": "1e2992ee"
      },
      "outputs": [],
      "source": [
        "train = pd.read_csv('/content/drive/MyDrive/Data/train.csv')"
      ]
    },
    {
      "cell_type": "markdown",
      "source": [
        "캐글에서 제공한 정보의 요약은 다음과 같습니다.\n",
        "\n",
        "Data Fields\\\n",
        "datetime - hourly date + timestamp :날짜별 시간과 time stamp.\\\n",
        "season -  1 = spring, 2 = summer, 3 = fall, 4 = winter\\\n",
        "holiday - whether the day is considered a holiday\\\n",
        "workingday - whether the day is neither a weekend nor holiday \\\n",
        "weather - 1: Clear, Few clouds, Partly cloudy, Partly cloudy\\\n",
        "2: Mist + Cloudy, Mist + Broken clouds, Mist + Few clouds, Mist\\\n",
        "3: Light Snow, Light Rain + Thunderstorm + Scattered clouds, Light Rain + Scattered clouds\\\n",
        "4: Heavy Rain + Ice Pallets + Thunderstorm + Mist, Snow + Fog\\\n",
        "temp - temperature in Celsius\\\n",
        "atemp - \"feels like\" temperature in Celsius\\\n",
        "humidity - relative humidity\\\n",
        "windspeed - wind speed\\\n",
        "casual - number of non-registered user rentals initiated\\\n",
        "registered - number of registered user rentals initiated\\\n",
        "count - number of total rentals\n",
        "\n",
        "-------------------------------------------------------------------------\n",
        "\n",
        "datetime : 날짜별 시간과 time stamp.\\\n",
        "season -  1 = 봄, 2 = 여름, 3 = 가을, 4 = 겨울\\\n",
        "holiday - 공휴일인지 여부(주말은 미포함인듯)\\\n",
        "workingday - 주말이나 공휴일이 아닌지 여부 \\\n",
        "weather - 1: 맑음, 아주 약간 구름낌, 일부 구름\\\n",
        "2: 안개 + 구름, 안개 + Broken clouds? , 안개 + 아주 약간 구름낌, 안개\\\n",
        "3: 가벼운 눈, 가벼운 비 + 천둥번개 + 옅게 퍼진 구름, 가벼운 비 + 옅게 퍼진 구름\\\n",
        "4: 호우 + 싸라기눈 + 천둥번개 + 안개, 눈 + 안개\\\n",
        "temp - 섭씨온도\\\n",
        "atemp - 체감온도\\\n",
        "humidity - 상대습도\\\n",
        "windspeed - 풍속\\\n",
        "casual - 등록하지 않은 렌탈 사용자\\\n",
        "registered - 등록된 렌탈 사용자\\\n",
        "count - 총 렌탈 수."
      ],
      "metadata": {
        "id": "jcSpQZcbtk0M"
      },
      "id": "jcSpQZcbtk0M"
    },
    {
      "cell_type": "code",
      "source": [
        "import pandas as pd\n",
        "from pandas import DataFrame\n",
        "import numpy as np\n",
        "train.head()"
      ],
      "metadata": {
        "colab": {
          "base_uri": "https://localhost:8080/",
          "height": 206
        },
        "id": "32yor_075oWA",
        "outputId": "ac450810-ce97-4cce-eafa-491ebd4cb16b"
      },
      "id": "32yor_075oWA",
      "execution_count": 412,
      "outputs": [
        {
          "output_type": "execute_result",
          "data": {
            "text/plain": [
              "              datetime  season  holiday  workingday  weather  temp   atemp  \\\n",
              "0  2011-01-01 00:00:00       1        0           0        1  9.84  14.395   \n",
              "1  2011-01-01 01:00:00       1        0           0        1  9.02  13.635   \n",
              "2  2011-01-01 02:00:00       1        0           0        1  9.02  13.635   \n",
              "3  2011-01-01 03:00:00       1        0           0        1  9.84  14.395   \n",
              "4  2011-01-01 04:00:00       1        0           0        1  9.84  14.395   \n",
              "\n",
              "   humidity  windspeed  casual  registered  count  \n",
              "0        81        0.0       3          13     16  \n",
              "1        80        0.0       8          32     40  \n",
              "2        80        0.0       5          27     32  \n",
              "3        75        0.0       3          10     13  \n",
              "4        75        0.0       0           1      1  "
            ],
            "text/html": [
              "\n",
              "  <div id=\"df-6867df8b-f41a-4f64-92df-e84529a983dc\">\n",
              "    <div class=\"colab-df-container\">\n",
              "      <div>\n",
              "<style scoped>\n",
              "    .dataframe tbody tr th:only-of-type {\n",
              "        vertical-align: middle;\n",
              "    }\n",
              "\n",
              "    .dataframe tbody tr th {\n",
              "        vertical-align: top;\n",
              "    }\n",
              "\n",
              "    .dataframe thead th {\n",
              "        text-align: right;\n",
              "    }\n",
              "</style>\n",
              "<table border=\"1\" class=\"dataframe\">\n",
              "  <thead>\n",
              "    <tr style=\"text-align: right;\">\n",
              "      <th></th>\n",
              "      <th>datetime</th>\n",
              "      <th>season</th>\n",
              "      <th>holiday</th>\n",
              "      <th>workingday</th>\n",
              "      <th>weather</th>\n",
              "      <th>temp</th>\n",
              "      <th>atemp</th>\n",
              "      <th>humidity</th>\n",
              "      <th>windspeed</th>\n",
              "      <th>casual</th>\n",
              "      <th>registered</th>\n",
              "      <th>count</th>\n",
              "    </tr>\n",
              "  </thead>\n",
              "  <tbody>\n",
              "    <tr>\n",
              "      <th>0</th>\n",
              "      <td>2011-01-01 00:00:00</td>\n",
              "      <td>1</td>\n",
              "      <td>0</td>\n",
              "      <td>0</td>\n",
              "      <td>1</td>\n",
              "      <td>9.84</td>\n",
              "      <td>14.395</td>\n",
              "      <td>81</td>\n",
              "      <td>0.0</td>\n",
              "      <td>3</td>\n",
              "      <td>13</td>\n",
              "      <td>16</td>\n",
              "    </tr>\n",
              "    <tr>\n",
              "      <th>1</th>\n",
              "      <td>2011-01-01 01:00:00</td>\n",
              "      <td>1</td>\n",
              "      <td>0</td>\n",
              "      <td>0</td>\n",
              "      <td>1</td>\n",
              "      <td>9.02</td>\n",
              "      <td>13.635</td>\n",
              "      <td>80</td>\n",
              "      <td>0.0</td>\n",
              "      <td>8</td>\n",
              "      <td>32</td>\n",
              "      <td>40</td>\n",
              "    </tr>\n",
              "    <tr>\n",
              "      <th>2</th>\n",
              "      <td>2011-01-01 02:00:00</td>\n",
              "      <td>1</td>\n",
              "      <td>0</td>\n",
              "      <td>0</td>\n",
              "      <td>1</td>\n",
              "      <td>9.02</td>\n",
              "      <td>13.635</td>\n",
              "      <td>80</td>\n",
              "      <td>0.0</td>\n",
              "      <td>5</td>\n",
              "      <td>27</td>\n",
              "      <td>32</td>\n",
              "    </tr>\n",
              "    <tr>\n",
              "      <th>3</th>\n",
              "      <td>2011-01-01 03:00:00</td>\n",
              "      <td>1</td>\n",
              "      <td>0</td>\n",
              "      <td>0</td>\n",
              "      <td>1</td>\n",
              "      <td>9.84</td>\n",
              "      <td>14.395</td>\n",
              "      <td>75</td>\n",
              "      <td>0.0</td>\n",
              "      <td>3</td>\n",
              "      <td>10</td>\n",
              "      <td>13</td>\n",
              "    </tr>\n",
              "    <tr>\n",
              "      <th>4</th>\n",
              "      <td>2011-01-01 04:00:00</td>\n",
              "      <td>1</td>\n",
              "      <td>0</td>\n",
              "      <td>0</td>\n",
              "      <td>1</td>\n",
              "      <td>9.84</td>\n",
              "      <td>14.395</td>\n",
              "      <td>75</td>\n",
              "      <td>0.0</td>\n",
              "      <td>0</td>\n",
              "      <td>1</td>\n",
              "      <td>1</td>\n",
              "    </tr>\n",
              "  </tbody>\n",
              "</table>\n",
              "</div>\n",
              "      <button class=\"colab-df-convert\" onclick=\"convertToInteractive('df-6867df8b-f41a-4f64-92df-e84529a983dc')\"\n",
              "              title=\"Convert this dataframe to an interactive table.\"\n",
              "              style=\"display:none;\">\n",
              "        \n",
              "  <svg xmlns=\"http://www.w3.org/2000/svg\" height=\"24px\"viewBox=\"0 0 24 24\"\n",
              "       width=\"24px\">\n",
              "    <path d=\"M0 0h24v24H0V0z\" fill=\"none\"/>\n",
              "    <path d=\"M18.56 5.44l.94 2.06.94-2.06 2.06-.94-2.06-.94-.94-2.06-.94 2.06-2.06.94zm-11 1L8.5 8.5l.94-2.06 2.06-.94-2.06-.94L8.5 2.5l-.94 2.06-2.06.94zm10 10l.94 2.06.94-2.06 2.06-.94-2.06-.94-.94-2.06-.94 2.06-2.06.94z\"/><path d=\"M17.41 7.96l-1.37-1.37c-.4-.4-.92-.59-1.43-.59-.52 0-1.04.2-1.43.59L10.3 9.45l-7.72 7.72c-.78.78-.78 2.05 0 2.83L4 21.41c.39.39.9.59 1.41.59.51 0 1.02-.2 1.41-.59l7.78-7.78 2.81-2.81c.8-.78.8-2.07 0-2.86zM5.41 20L4 18.59l7.72-7.72 1.47 1.35L5.41 20z\"/>\n",
              "  </svg>\n",
              "      </button>\n",
              "      \n",
              "  <style>\n",
              "    .colab-df-container {\n",
              "      display:flex;\n",
              "      flex-wrap:wrap;\n",
              "      gap: 12px;\n",
              "    }\n",
              "\n",
              "    .colab-df-convert {\n",
              "      background-color: #E8F0FE;\n",
              "      border: none;\n",
              "      border-radius: 50%;\n",
              "      cursor: pointer;\n",
              "      display: none;\n",
              "      fill: #1967D2;\n",
              "      height: 32px;\n",
              "      padding: 0 0 0 0;\n",
              "      width: 32px;\n",
              "    }\n",
              "\n",
              "    .colab-df-convert:hover {\n",
              "      background-color: #E2EBFA;\n",
              "      box-shadow: 0px 1px 2px rgba(60, 64, 67, 0.3), 0px 1px 3px 1px rgba(60, 64, 67, 0.15);\n",
              "      fill: #174EA6;\n",
              "    }\n",
              "\n",
              "    [theme=dark] .colab-df-convert {\n",
              "      background-color: #3B4455;\n",
              "      fill: #D2E3FC;\n",
              "    }\n",
              "\n",
              "    [theme=dark] .colab-df-convert:hover {\n",
              "      background-color: #434B5C;\n",
              "      box-shadow: 0px 1px 3px 1px rgba(0, 0, 0, 0.15);\n",
              "      filter: drop-shadow(0px 1px 2px rgba(0, 0, 0, 0.3));\n",
              "      fill: #FFFFFF;\n",
              "    }\n",
              "  </style>\n",
              "\n",
              "      <script>\n",
              "        const buttonEl =\n",
              "          document.querySelector('#df-6867df8b-f41a-4f64-92df-e84529a983dc button.colab-df-convert');\n",
              "        buttonEl.style.display =\n",
              "          google.colab.kernel.accessAllowed ? 'block' : 'none';\n",
              "\n",
              "        async function convertToInteractive(key) {\n",
              "          const element = document.querySelector('#df-6867df8b-f41a-4f64-92df-e84529a983dc');\n",
              "          const dataTable =\n",
              "            await google.colab.kernel.invokeFunction('convertToInteractive',\n",
              "                                                     [key], {});\n",
              "          if (!dataTable) return;\n",
              "\n",
              "          const docLinkHtml = 'Like what you see? Visit the ' +\n",
              "            '<a target=\"_blank\" href=https://colab.research.google.com/notebooks/data_table.ipynb>data table notebook</a>'\n",
              "            + ' to learn more about interactive tables.';\n",
              "          element.innerHTML = '';\n",
              "          dataTable['output_type'] = 'display_data';\n",
              "          await google.colab.output.renderOutput(dataTable, element);\n",
              "          const docLink = document.createElement('div');\n",
              "          docLink.innerHTML = docLinkHtml;\n",
              "          element.appendChild(docLink);\n",
              "        }\n",
              "      </script>\n",
              "    </div>\n",
              "  </div>\n",
              "  "
            ]
          },
          "metadata": {},
          "execution_count": 412
        }
      ]
    },
    {
      "cell_type": "code",
      "source": [
        "train.tail()"
      ],
      "metadata": {
        "colab": {
          "base_uri": "https://localhost:8080/",
          "height": 206
        },
        "id": "3xhCMruJ6D0F",
        "outputId": "52848556-5645-403b-d561-e114ef456b7c"
      },
      "id": "3xhCMruJ6D0F",
      "execution_count": 413,
      "outputs": [
        {
          "output_type": "execute_result",
          "data": {
            "text/plain": [
              "                  datetime  season  holiday  workingday  weather   temp  \\\n",
              "10881  2012-12-19 19:00:00       4        0           1        1  15.58   \n",
              "10882  2012-12-19 20:00:00       4        0           1        1  14.76   \n",
              "10883  2012-12-19 21:00:00       4        0           1        1  13.94   \n",
              "10884  2012-12-19 22:00:00       4        0           1        1  13.94   \n",
              "10885  2012-12-19 23:00:00       4        0           1        1  13.12   \n",
              "\n",
              "        atemp  humidity  windspeed  casual  registered  count  \n",
              "10881  19.695        50    26.0027       7         329    336  \n",
              "10882  17.425        57    15.0013      10         231    241  \n",
              "10883  15.910        61    15.0013       4         164    168  \n",
              "10884  17.425        61     6.0032      12         117    129  \n",
              "10885  16.665        66     8.9981       4          84     88  "
            ],
            "text/html": [
              "\n",
              "  <div id=\"df-1dcda412-6e0c-4307-a7ef-254ce4f55ce5\">\n",
              "    <div class=\"colab-df-container\">\n",
              "      <div>\n",
              "<style scoped>\n",
              "    .dataframe tbody tr th:only-of-type {\n",
              "        vertical-align: middle;\n",
              "    }\n",
              "\n",
              "    .dataframe tbody tr th {\n",
              "        vertical-align: top;\n",
              "    }\n",
              "\n",
              "    .dataframe thead th {\n",
              "        text-align: right;\n",
              "    }\n",
              "</style>\n",
              "<table border=\"1\" class=\"dataframe\">\n",
              "  <thead>\n",
              "    <tr style=\"text-align: right;\">\n",
              "      <th></th>\n",
              "      <th>datetime</th>\n",
              "      <th>season</th>\n",
              "      <th>holiday</th>\n",
              "      <th>workingday</th>\n",
              "      <th>weather</th>\n",
              "      <th>temp</th>\n",
              "      <th>atemp</th>\n",
              "      <th>humidity</th>\n",
              "      <th>windspeed</th>\n",
              "      <th>casual</th>\n",
              "      <th>registered</th>\n",
              "      <th>count</th>\n",
              "    </tr>\n",
              "  </thead>\n",
              "  <tbody>\n",
              "    <tr>\n",
              "      <th>10881</th>\n",
              "      <td>2012-12-19 19:00:00</td>\n",
              "      <td>4</td>\n",
              "      <td>0</td>\n",
              "      <td>1</td>\n",
              "      <td>1</td>\n",
              "      <td>15.58</td>\n",
              "      <td>19.695</td>\n",
              "      <td>50</td>\n",
              "      <td>26.0027</td>\n",
              "      <td>7</td>\n",
              "      <td>329</td>\n",
              "      <td>336</td>\n",
              "    </tr>\n",
              "    <tr>\n",
              "      <th>10882</th>\n",
              "      <td>2012-12-19 20:00:00</td>\n",
              "      <td>4</td>\n",
              "      <td>0</td>\n",
              "      <td>1</td>\n",
              "      <td>1</td>\n",
              "      <td>14.76</td>\n",
              "      <td>17.425</td>\n",
              "      <td>57</td>\n",
              "      <td>15.0013</td>\n",
              "      <td>10</td>\n",
              "      <td>231</td>\n",
              "      <td>241</td>\n",
              "    </tr>\n",
              "    <tr>\n",
              "      <th>10883</th>\n",
              "      <td>2012-12-19 21:00:00</td>\n",
              "      <td>4</td>\n",
              "      <td>0</td>\n",
              "      <td>1</td>\n",
              "      <td>1</td>\n",
              "      <td>13.94</td>\n",
              "      <td>15.910</td>\n",
              "      <td>61</td>\n",
              "      <td>15.0013</td>\n",
              "      <td>4</td>\n",
              "      <td>164</td>\n",
              "      <td>168</td>\n",
              "    </tr>\n",
              "    <tr>\n",
              "      <th>10884</th>\n",
              "      <td>2012-12-19 22:00:00</td>\n",
              "      <td>4</td>\n",
              "      <td>0</td>\n",
              "      <td>1</td>\n",
              "      <td>1</td>\n",
              "      <td>13.94</td>\n",
              "      <td>17.425</td>\n",
              "      <td>61</td>\n",
              "      <td>6.0032</td>\n",
              "      <td>12</td>\n",
              "      <td>117</td>\n",
              "      <td>129</td>\n",
              "    </tr>\n",
              "    <tr>\n",
              "      <th>10885</th>\n",
              "      <td>2012-12-19 23:00:00</td>\n",
              "      <td>4</td>\n",
              "      <td>0</td>\n",
              "      <td>1</td>\n",
              "      <td>1</td>\n",
              "      <td>13.12</td>\n",
              "      <td>16.665</td>\n",
              "      <td>66</td>\n",
              "      <td>8.9981</td>\n",
              "      <td>4</td>\n",
              "      <td>84</td>\n",
              "      <td>88</td>\n",
              "    </tr>\n",
              "  </tbody>\n",
              "</table>\n",
              "</div>\n",
              "      <button class=\"colab-df-convert\" onclick=\"convertToInteractive('df-1dcda412-6e0c-4307-a7ef-254ce4f55ce5')\"\n",
              "              title=\"Convert this dataframe to an interactive table.\"\n",
              "              style=\"display:none;\">\n",
              "        \n",
              "  <svg xmlns=\"http://www.w3.org/2000/svg\" height=\"24px\"viewBox=\"0 0 24 24\"\n",
              "       width=\"24px\">\n",
              "    <path d=\"M0 0h24v24H0V0z\" fill=\"none\"/>\n",
              "    <path d=\"M18.56 5.44l.94 2.06.94-2.06 2.06-.94-2.06-.94-.94-2.06-.94 2.06-2.06.94zm-11 1L8.5 8.5l.94-2.06 2.06-.94-2.06-.94L8.5 2.5l-.94 2.06-2.06.94zm10 10l.94 2.06.94-2.06 2.06-.94-2.06-.94-.94-2.06-.94 2.06-2.06.94z\"/><path d=\"M17.41 7.96l-1.37-1.37c-.4-.4-.92-.59-1.43-.59-.52 0-1.04.2-1.43.59L10.3 9.45l-7.72 7.72c-.78.78-.78 2.05 0 2.83L4 21.41c.39.39.9.59 1.41.59.51 0 1.02-.2 1.41-.59l7.78-7.78 2.81-2.81c.8-.78.8-2.07 0-2.86zM5.41 20L4 18.59l7.72-7.72 1.47 1.35L5.41 20z\"/>\n",
              "  </svg>\n",
              "      </button>\n",
              "      \n",
              "  <style>\n",
              "    .colab-df-container {\n",
              "      display:flex;\n",
              "      flex-wrap:wrap;\n",
              "      gap: 12px;\n",
              "    }\n",
              "\n",
              "    .colab-df-convert {\n",
              "      background-color: #E8F0FE;\n",
              "      border: none;\n",
              "      border-radius: 50%;\n",
              "      cursor: pointer;\n",
              "      display: none;\n",
              "      fill: #1967D2;\n",
              "      height: 32px;\n",
              "      padding: 0 0 0 0;\n",
              "      width: 32px;\n",
              "    }\n",
              "\n",
              "    .colab-df-convert:hover {\n",
              "      background-color: #E2EBFA;\n",
              "      box-shadow: 0px 1px 2px rgba(60, 64, 67, 0.3), 0px 1px 3px 1px rgba(60, 64, 67, 0.15);\n",
              "      fill: #174EA6;\n",
              "    }\n",
              "\n",
              "    [theme=dark] .colab-df-convert {\n",
              "      background-color: #3B4455;\n",
              "      fill: #D2E3FC;\n",
              "    }\n",
              "\n",
              "    [theme=dark] .colab-df-convert:hover {\n",
              "      background-color: #434B5C;\n",
              "      box-shadow: 0px 1px 3px 1px rgba(0, 0, 0, 0.15);\n",
              "      filter: drop-shadow(0px 1px 2px rgba(0, 0, 0, 0.3));\n",
              "      fill: #FFFFFF;\n",
              "    }\n",
              "  </style>\n",
              "\n",
              "      <script>\n",
              "        const buttonEl =\n",
              "          document.querySelector('#df-1dcda412-6e0c-4307-a7ef-254ce4f55ce5 button.colab-df-convert');\n",
              "        buttonEl.style.display =\n",
              "          google.colab.kernel.accessAllowed ? 'block' : 'none';\n",
              "\n",
              "        async function convertToInteractive(key) {\n",
              "          const element = document.querySelector('#df-1dcda412-6e0c-4307-a7ef-254ce4f55ce5');\n",
              "          const dataTable =\n",
              "            await google.colab.kernel.invokeFunction('convertToInteractive',\n",
              "                                                     [key], {});\n",
              "          if (!dataTable) return;\n",
              "\n",
              "          const docLinkHtml = 'Like what you see? Visit the ' +\n",
              "            '<a target=\"_blank\" href=https://colab.research.google.com/notebooks/data_table.ipynb>data table notebook</a>'\n",
              "            + ' to learn more about interactive tables.';\n",
              "          element.innerHTML = '';\n",
              "          dataTable['output_type'] = 'display_data';\n",
              "          await google.colab.output.renderOutput(dataTable, element);\n",
              "          const docLink = document.createElement('div');\n",
              "          docLink.innerHTML = docLinkHtml;\n",
              "          element.appendChild(docLink);\n",
              "        }\n",
              "      </script>\n",
              "    </div>\n",
              "  </div>\n",
              "  "
            ]
          },
          "metadata": {},
          "execution_count": 413
        }
      ]
    },
    {
      "cell_type": "markdown",
      "source": [
        "## 😶datetime 컬럼을 datetime 자료형으로 변환하고 연, 월, 일, 시, 분, 초까지 6가지 컬럼 생성하기"
      ],
      "metadata": {
        "id": "ckjdDHlUhz-y"
      },
      "id": "ckjdDHlUhz-y"
    },
    {
      "cell_type": "code",
      "source": [
        "# train 의 정보를 볼 수 있다.\n",
        "train.info()"
      ],
      "metadata": {
        "colab": {
          "base_uri": "https://localhost:8080/"
        },
        "id": "v9A_osIukfKD",
        "outputId": "0b4f6b79-5fc9-4006-d8d2-a506006fd61a"
      },
      "id": "v9A_osIukfKD",
      "execution_count": 414,
      "outputs": [
        {
          "output_type": "stream",
          "name": "stdout",
          "text": [
            "<class 'pandas.core.frame.DataFrame'>\n",
            "RangeIndex: 10886 entries, 0 to 10885\n",
            "Data columns (total 12 columns):\n",
            " #   Column      Non-Null Count  Dtype  \n",
            "---  ------      --------------  -----  \n",
            " 0   datetime    10886 non-null  object \n",
            " 1   season      10886 non-null  int64  \n",
            " 2   holiday     10886 non-null  int64  \n",
            " 3   workingday  10886 non-null  int64  \n",
            " 4   weather     10886 non-null  int64  \n",
            " 5   temp        10886 non-null  float64\n",
            " 6   atemp       10886 non-null  float64\n",
            " 7   humidity    10886 non-null  int64  \n",
            " 8   windspeed   10886 non-null  float64\n",
            " 9   casual      10886 non-null  int64  \n",
            " 10  registered  10886 non-null  int64  \n",
            " 11  count       10886 non-null  int64  \n",
            "dtypes: float64(3), int64(8), object(1)\n",
            "memory usage: 1020.7+ KB\n"
          ]
        }
      ]
    },
    {
      "cell_type": "markdown",
      "source": [
        "https://www.delftstack.com/ko/howto/python-pandas/how-to-extract-month-and-year-separately-from-datetime-column-in-pandas/\n",
        "\n",
        "링크에서는 열이 Datetime 유형이 아닌 경우, to_datetime() 메서드를 사용해서\n",
        "\n",
        "열을Datetime 유형으로 변환 한 후에 년,월 등을 추출해야한다 합니다."
      ],
      "metadata": {
        "id": "2aKZgl--jBOK"
      },
      "id": "2aKZgl--jBOK"
    },
    {
      "cell_type": "code",
      "source": [
        "#dateTime column을 datetime형식으로 변환.\n",
        "train['datetime'] = pd.to_datetime(train['datetime'])"
      ],
      "metadata": {
        "id": "pFTXLH-sDIV-"
      },
      "id": "pFTXLH-sDIV-",
      "execution_count": 415,
      "outputs": []
    },
    {
      "cell_type": "code",
      "source": [
        "# datetime column의 type이 변경된 것을 확인.\n",
        "train.info()"
      ],
      "metadata": {
        "colab": {
          "base_uri": "https://localhost:8080/"
        },
        "id": "mQ2bJapZkrcv",
        "outputId": "a3a12150-ebf7-4873-9901-570abc41f907"
      },
      "id": "mQ2bJapZkrcv",
      "execution_count": 416,
      "outputs": [
        {
          "output_type": "stream",
          "name": "stdout",
          "text": [
            "<class 'pandas.core.frame.DataFrame'>\n",
            "RangeIndex: 10886 entries, 0 to 10885\n",
            "Data columns (total 12 columns):\n",
            " #   Column      Non-Null Count  Dtype         \n",
            "---  ------      --------------  -----         \n",
            " 0   datetime    10886 non-null  datetime64[ns]\n",
            " 1   season      10886 non-null  int64         \n",
            " 2   holiday     10886 non-null  int64         \n",
            " 3   workingday  10886 non-null  int64         \n",
            " 4   weather     10886 non-null  int64         \n",
            " 5   temp        10886 non-null  float64       \n",
            " 6   atemp       10886 non-null  float64       \n",
            " 7   humidity    10886 non-null  int64         \n",
            " 8   windspeed   10886 non-null  float64       \n",
            " 9   casual      10886 non-null  int64         \n",
            " 10  registered  10886 non-null  int64         \n",
            " 11  count       10886 non-null  int64         \n",
            "dtypes: datetime64[ns](1), float64(3), int64(8)\n",
            "memory usage: 1020.7 KB\n"
          ]
        }
      ]
    },
    {
      "cell_type": "markdown",
      "source": [
        "datetime column의 dytpe이 datetime 형식으로 바뀐것을 확인했습니다.\n",
        "\n",
        "결측치도 없는것을 확인했습니다.\n",
        "\n",
        "년, 월, 일, 시, 분, 초를 추출하는 코드는\n",
        "\n",
        "다음 링크를 참고하였습니다.\n",
        "\n",
        "https://pandas.pydata.org/pandas-docs/stable/reference/api/pandas.Series.dt.year.html"
      ],
      "metadata": {
        "id": "iCrdW8YNpOUv"
      },
      "id": "iCrdW8YNpOUv"
    },
    {
      "cell_type": "code",
      "source": [
        "# 년 월 일 시 분 초 column만들어서 datetime column에서 년 정보 추출해서 할당.\n",
        "\n",
        "# 년 \n",
        "train['year'] = train['datetime'].dt.year\n",
        "# 월\n",
        "train['month'] = train['datetime'].dt.month\n",
        "# 일\n",
        "train['day'] = train['datetime'].dt.day\n",
        "# 시\n",
        "train['hour'] = train['datetime'].dt.hour\n",
        "# 분\n",
        "train['minute'] = train['datetime'].dt.minute\n",
        "# 초\n",
        "train['second'] = train['datetime'].dt.second"
      ],
      "metadata": {
        "id": "qdv8NiUZDz-a"
      },
      "id": "qdv8NiUZDz-a",
      "execution_count": 417,
      "outputs": []
    },
    {
      "cell_type": "code",
      "source": [
        "train.head()"
      ],
      "metadata": {
        "colab": {
          "base_uri": "https://localhost:8080/",
          "height": 206
        },
        "id": "0blAxOLnFLIY",
        "outputId": "fed81b2b-f38b-4d30-cd1f-bbe5dc868b8e"
      },
      "id": "0blAxOLnFLIY",
      "execution_count": 418,
      "outputs": [
        {
          "output_type": "execute_result",
          "data": {
            "text/plain": [
              "             datetime  season  holiday  workingday  weather  temp   atemp  \\\n",
              "0 2011-01-01 00:00:00       1        0           0        1  9.84  14.395   \n",
              "1 2011-01-01 01:00:00       1        0           0        1  9.02  13.635   \n",
              "2 2011-01-01 02:00:00       1        0           0        1  9.02  13.635   \n",
              "3 2011-01-01 03:00:00       1        0           0        1  9.84  14.395   \n",
              "4 2011-01-01 04:00:00       1        0           0        1  9.84  14.395   \n",
              "\n",
              "   humidity  windspeed  casual  registered  count  year  month  day  hour  \\\n",
              "0        81        0.0       3          13     16  2011      1    1     0   \n",
              "1        80        0.0       8          32     40  2011      1    1     1   \n",
              "2        80        0.0       5          27     32  2011      1    1     2   \n",
              "3        75        0.0       3          10     13  2011      1    1     3   \n",
              "4        75        0.0       0           1      1  2011      1    1     4   \n",
              "\n",
              "   minute  second  \n",
              "0       0       0  \n",
              "1       0       0  \n",
              "2       0       0  \n",
              "3       0       0  \n",
              "4       0       0  "
            ],
            "text/html": [
              "\n",
              "  <div id=\"df-d87a4e3a-9e38-4d4e-9071-0f5afdc14f49\">\n",
              "    <div class=\"colab-df-container\">\n",
              "      <div>\n",
              "<style scoped>\n",
              "    .dataframe tbody tr th:only-of-type {\n",
              "        vertical-align: middle;\n",
              "    }\n",
              "\n",
              "    .dataframe tbody tr th {\n",
              "        vertical-align: top;\n",
              "    }\n",
              "\n",
              "    .dataframe thead th {\n",
              "        text-align: right;\n",
              "    }\n",
              "</style>\n",
              "<table border=\"1\" class=\"dataframe\">\n",
              "  <thead>\n",
              "    <tr style=\"text-align: right;\">\n",
              "      <th></th>\n",
              "      <th>datetime</th>\n",
              "      <th>season</th>\n",
              "      <th>holiday</th>\n",
              "      <th>workingday</th>\n",
              "      <th>weather</th>\n",
              "      <th>temp</th>\n",
              "      <th>atemp</th>\n",
              "      <th>humidity</th>\n",
              "      <th>windspeed</th>\n",
              "      <th>casual</th>\n",
              "      <th>registered</th>\n",
              "      <th>count</th>\n",
              "      <th>year</th>\n",
              "      <th>month</th>\n",
              "      <th>day</th>\n",
              "      <th>hour</th>\n",
              "      <th>minute</th>\n",
              "      <th>second</th>\n",
              "    </tr>\n",
              "  </thead>\n",
              "  <tbody>\n",
              "    <tr>\n",
              "      <th>0</th>\n",
              "      <td>2011-01-01 00:00:00</td>\n",
              "      <td>1</td>\n",
              "      <td>0</td>\n",
              "      <td>0</td>\n",
              "      <td>1</td>\n",
              "      <td>9.84</td>\n",
              "      <td>14.395</td>\n",
              "      <td>81</td>\n",
              "      <td>0.0</td>\n",
              "      <td>3</td>\n",
              "      <td>13</td>\n",
              "      <td>16</td>\n",
              "      <td>2011</td>\n",
              "      <td>1</td>\n",
              "      <td>1</td>\n",
              "      <td>0</td>\n",
              "      <td>0</td>\n",
              "      <td>0</td>\n",
              "    </tr>\n",
              "    <tr>\n",
              "      <th>1</th>\n",
              "      <td>2011-01-01 01:00:00</td>\n",
              "      <td>1</td>\n",
              "      <td>0</td>\n",
              "      <td>0</td>\n",
              "      <td>1</td>\n",
              "      <td>9.02</td>\n",
              "      <td>13.635</td>\n",
              "      <td>80</td>\n",
              "      <td>0.0</td>\n",
              "      <td>8</td>\n",
              "      <td>32</td>\n",
              "      <td>40</td>\n",
              "      <td>2011</td>\n",
              "      <td>1</td>\n",
              "      <td>1</td>\n",
              "      <td>1</td>\n",
              "      <td>0</td>\n",
              "      <td>0</td>\n",
              "    </tr>\n",
              "    <tr>\n",
              "      <th>2</th>\n",
              "      <td>2011-01-01 02:00:00</td>\n",
              "      <td>1</td>\n",
              "      <td>0</td>\n",
              "      <td>0</td>\n",
              "      <td>1</td>\n",
              "      <td>9.02</td>\n",
              "      <td>13.635</td>\n",
              "      <td>80</td>\n",
              "      <td>0.0</td>\n",
              "      <td>5</td>\n",
              "      <td>27</td>\n",
              "      <td>32</td>\n",
              "      <td>2011</td>\n",
              "      <td>1</td>\n",
              "      <td>1</td>\n",
              "      <td>2</td>\n",
              "      <td>0</td>\n",
              "      <td>0</td>\n",
              "    </tr>\n",
              "    <tr>\n",
              "      <th>3</th>\n",
              "      <td>2011-01-01 03:00:00</td>\n",
              "      <td>1</td>\n",
              "      <td>0</td>\n",
              "      <td>0</td>\n",
              "      <td>1</td>\n",
              "      <td>9.84</td>\n",
              "      <td>14.395</td>\n",
              "      <td>75</td>\n",
              "      <td>0.0</td>\n",
              "      <td>3</td>\n",
              "      <td>10</td>\n",
              "      <td>13</td>\n",
              "      <td>2011</td>\n",
              "      <td>1</td>\n",
              "      <td>1</td>\n",
              "      <td>3</td>\n",
              "      <td>0</td>\n",
              "      <td>0</td>\n",
              "    </tr>\n",
              "    <tr>\n",
              "      <th>4</th>\n",
              "      <td>2011-01-01 04:00:00</td>\n",
              "      <td>1</td>\n",
              "      <td>0</td>\n",
              "      <td>0</td>\n",
              "      <td>1</td>\n",
              "      <td>9.84</td>\n",
              "      <td>14.395</td>\n",
              "      <td>75</td>\n",
              "      <td>0.0</td>\n",
              "      <td>0</td>\n",
              "      <td>1</td>\n",
              "      <td>1</td>\n",
              "      <td>2011</td>\n",
              "      <td>1</td>\n",
              "      <td>1</td>\n",
              "      <td>4</td>\n",
              "      <td>0</td>\n",
              "      <td>0</td>\n",
              "    </tr>\n",
              "  </tbody>\n",
              "</table>\n",
              "</div>\n",
              "      <button class=\"colab-df-convert\" onclick=\"convertToInteractive('df-d87a4e3a-9e38-4d4e-9071-0f5afdc14f49')\"\n",
              "              title=\"Convert this dataframe to an interactive table.\"\n",
              "              style=\"display:none;\">\n",
              "        \n",
              "  <svg xmlns=\"http://www.w3.org/2000/svg\" height=\"24px\"viewBox=\"0 0 24 24\"\n",
              "       width=\"24px\">\n",
              "    <path d=\"M0 0h24v24H0V0z\" fill=\"none\"/>\n",
              "    <path d=\"M18.56 5.44l.94 2.06.94-2.06 2.06-.94-2.06-.94-.94-2.06-.94 2.06-2.06.94zm-11 1L8.5 8.5l.94-2.06 2.06-.94-2.06-.94L8.5 2.5l-.94 2.06-2.06.94zm10 10l.94 2.06.94-2.06 2.06-.94-2.06-.94-.94-2.06-.94 2.06-2.06.94z\"/><path d=\"M17.41 7.96l-1.37-1.37c-.4-.4-.92-.59-1.43-.59-.52 0-1.04.2-1.43.59L10.3 9.45l-7.72 7.72c-.78.78-.78 2.05 0 2.83L4 21.41c.39.39.9.59 1.41.59.51 0 1.02-.2 1.41-.59l7.78-7.78 2.81-2.81c.8-.78.8-2.07 0-2.86zM5.41 20L4 18.59l7.72-7.72 1.47 1.35L5.41 20z\"/>\n",
              "  </svg>\n",
              "      </button>\n",
              "      \n",
              "  <style>\n",
              "    .colab-df-container {\n",
              "      display:flex;\n",
              "      flex-wrap:wrap;\n",
              "      gap: 12px;\n",
              "    }\n",
              "\n",
              "    .colab-df-convert {\n",
              "      background-color: #E8F0FE;\n",
              "      border: none;\n",
              "      border-radius: 50%;\n",
              "      cursor: pointer;\n",
              "      display: none;\n",
              "      fill: #1967D2;\n",
              "      height: 32px;\n",
              "      padding: 0 0 0 0;\n",
              "      width: 32px;\n",
              "    }\n",
              "\n",
              "    .colab-df-convert:hover {\n",
              "      background-color: #E2EBFA;\n",
              "      box-shadow: 0px 1px 2px rgba(60, 64, 67, 0.3), 0px 1px 3px 1px rgba(60, 64, 67, 0.15);\n",
              "      fill: #174EA6;\n",
              "    }\n",
              "\n",
              "    [theme=dark] .colab-df-convert {\n",
              "      background-color: #3B4455;\n",
              "      fill: #D2E3FC;\n",
              "    }\n",
              "\n",
              "    [theme=dark] .colab-df-convert:hover {\n",
              "      background-color: #434B5C;\n",
              "      box-shadow: 0px 1px 3px 1px rgba(0, 0, 0, 0.15);\n",
              "      filter: drop-shadow(0px 1px 2px rgba(0, 0, 0, 0.3));\n",
              "      fill: #FFFFFF;\n",
              "    }\n",
              "  </style>\n",
              "\n",
              "      <script>\n",
              "        const buttonEl =\n",
              "          document.querySelector('#df-d87a4e3a-9e38-4d4e-9071-0f5afdc14f49 button.colab-df-convert');\n",
              "        buttonEl.style.display =\n",
              "          google.colab.kernel.accessAllowed ? 'block' : 'none';\n",
              "\n",
              "        async function convertToInteractive(key) {\n",
              "          const element = document.querySelector('#df-d87a4e3a-9e38-4d4e-9071-0f5afdc14f49');\n",
              "          const dataTable =\n",
              "            await google.colab.kernel.invokeFunction('convertToInteractive',\n",
              "                                                     [key], {});\n",
              "          if (!dataTable) return;\n",
              "\n",
              "          const docLinkHtml = 'Like what you see? Visit the ' +\n",
              "            '<a target=\"_blank\" href=https://colab.research.google.com/notebooks/data_table.ipynb>data table notebook</a>'\n",
              "            + ' to learn more about interactive tables.';\n",
              "          element.innerHTML = '';\n",
              "          dataTable['output_type'] = 'display_data';\n",
              "          await google.colab.output.renderOutput(dataTable, element);\n",
              "          const docLink = document.createElement('div');\n",
              "          docLink.innerHTML = docLinkHtml;\n",
              "          element.appendChild(docLink);\n",
              "        }\n",
              "      </script>\n",
              "    </div>\n",
              "  </div>\n",
              "  "
            ]
          },
          "metadata": {},
          "execution_count": 418
        }
      ]
    },
    {
      "cell_type": "markdown",
      "source": [
        "## 😶year, month, day, hour, minute, second 데이터 개수 시각화하기"
      ],
      "metadata": {
        "id": "L7YQVcMNoqNe"
      },
      "id": "L7YQVcMNoqNe"
    },
    {
      "cell_type": "code",
      "source": [
        "import seaborn as sns\n",
        "plt.figure(figsize=(25,10))\n",
        "index_a = ['year', 'month', 'day', 'hour', 'minute', 'second']\n",
        "#enumerate를 이용하여 인덱스값과 미리 만들어둔 리스트로 for문 사용하여 countplot출력.\n",
        "for i,a in enumerate(index_a):\n",
        "    plt.subplot(231+i)\n",
        "    sns.countplot(x=train[a])\n",
        "plt.show()"
      ],
      "metadata": {
        "colab": {
          "base_uri": "https://localhost:8080/",
          "height": 608
        },
        "id": "DjQl1pYyorC2",
        "outputId": "d4acf63c-9487-46e1-d8ab-6d77eca3aad1"
      },
      "id": "DjQl1pYyorC2",
      "execution_count": 419,
      "outputs": [
        {
          "output_type": "display_data",
          "data": {
            "text/plain": [
              "<Figure size 1800x720 with 6 Axes>"
            ],
            "image/png": "[encoded data removed]"
          },
          "metadata": {
            "needs_background": "light"
          }
        }
      ]
    },
    {
      "cell_type": "code",
      "source": [
        "train.describe()"
      ],
      "metadata": {
        "colab": {
          "base_uri": "https://localhost:8080/",
          "height": 300
        },
        "id": "o_B5yneQzq-i",
        "outputId": "5e0fa374-3dba-4dcf-df80-c51a86bd218a"
      },
      "id": "o_B5yneQzq-i",
      "execution_count": 420,
      "outputs": [
        {
          "output_type": "execute_result",
          "data": {
            "text/plain": [
              "             season       holiday    workingday       weather         temp  \\\n",
              "count  10886.000000  10886.000000  10886.000000  10886.000000  10886.00000   \n",
              "mean       2.506614      0.028569      0.680875      1.418427     20.23086   \n",
              "std        1.116174      0.166599      0.466159      0.633839      7.79159   \n",
              "min        1.000000      0.000000      0.000000      1.000000      0.82000   \n",
              "25%        2.000000      0.000000      0.000000      1.000000     13.94000   \n",
              "50%        3.000000      0.000000      1.000000      1.000000     20.50000   \n",
              "75%        4.000000      0.000000      1.000000      2.000000     26.24000   \n",
              "max        4.000000      1.000000      1.000000      4.000000     41.00000   \n",
              "\n",
              "              atemp      humidity     windspeed        casual    registered  \\\n",
              "count  10886.000000  10886.000000  10886.000000  10886.000000  10886.000000   \n",
              "mean      23.655084     61.886460     12.799395     36.021955    155.552177   \n",
              "std        8.474601     19.245033      8.164537     49.960477    151.039033   \n",
              "min        0.760000      0.000000      0.000000      0.000000      0.000000   \n",
              "25%       16.665000     47.000000      7.001500      4.000000     36.000000   \n",
              "50%       24.240000     62.000000     12.998000     17.000000    118.000000   \n",
              "75%       31.060000     77.000000     16.997900     49.000000    222.000000   \n",
              "max       45.455000    100.000000     56.996900    367.000000    886.000000   \n",
              "\n",
              "              count          year         month           day          hour  \\\n",
              "count  10886.000000  10886.000000  10886.000000  10886.000000  10886.000000   \n",
              "mean     191.574132   2011.501929      6.521495      9.992559     11.541613   \n",
              "std      181.144454      0.500019      3.444373      5.476608      6.915838   \n",
              "min        1.000000   2011.000000      1.000000      1.000000      0.000000   \n",
              "25%       42.000000   2011.000000      4.000000      5.000000      6.000000   \n",
              "50%      145.000000   2012.000000      7.000000     10.000000     12.000000   \n",
              "75%      284.000000   2012.000000     10.000000     15.000000     18.000000   \n",
              "max      977.000000   2012.000000     12.000000     19.000000     23.000000   \n",
              "\n",
              "        minute   second  \n",
              "count  10886.0  10886.0  \n",
              "mean       0.0      0.0  \n",
              "std        0.0      0.0  \n",
              "min        0.0      0.0  \n",
              "25%        0.0      0.0  \n",
              "50%        0.0      0.0  \n",
              "75%        0.0      0.0  \n",
              "max        0.0      0.0  "
            ],
            "text/html": [
              "\n",
              "  <div id=\"df-cc527410-abbf-4cd6-8a42-aa4dddb6043a\">\n",
              "    <div class=\"colab-df-container\">\n",
              "      <div>\n",
              "<style scoped>\n",
              "    .dataframe tbody tr th:only-of-type {\n",
              "        vertical-align: middle;\n",
              "    }\n",
              "\n",
              "    .dataframe tbody tr th {\n",
              "        vertical-align: top;\n",
              "    }\n",
              "\n",
              "    .dataframe thead th {\n",
              "        text-align: right;\n",
              "    }\n",
              "</style>\n",
              "<table border=\"1\" class=\"dataframe\">\n",
              "  <thead>\n",
              "    <tr style=\"text-align: right;\">\n",
              "      <th></th>\n",
              "      <th>season</th>\n",
              "      <th>holiday</th>\n",
              "      <th>workingday</th>\n",
              "      <th>weather</th>\n",
              "      <th>temp</th>\n",
              "      <th>atemp</th>\n",
              "      <th>humidity</th>\n",
              "      <th>windspeed</th>\n",
              "      <th>casual</th>\n",
              "      <th>registered</th>\n",
              "      <th>count</th>\n",
              "      <th>year</th>\n",
              "      <th>month</th>\n",
              "      <th>day</th>\n",
              "      <th>hour</th>\n",
              "      <th>minute</th>\n",
              "      <th>second</th>\n",
              "    </tr>\n",
              "  </thead>\n",
              "  <tbody>\n",
              "    <tr>\n",
              "      <th>count</th>\n",
              "      <td>10886.000000</td>\n",
              "      <td>10886.000000</td>\n",
              "      <td>10886.000000</td>\n",
              "      <td>10886.000000</td>\n",
              "      <td>10886.00000</td>\n",
              "      <td>10886.000000</td>\n",
              "      <td>10886.000000</td>\n",
              "      <td>10886.000000</td>\n",
              "      <td>10886.000000</td>\n",
              "      <td>10886.000000</td>\n",
              "      <td>10886.000000</td>\n",
              "      <td>10886.000000</td>\n",
              "      <td>10886.000000</td>\n",
              "      <td>10886.000000</td>\n",
              "      <td>10886.000000</td>\n",
              "      <td>10886.0</td>\n",
              "      <td>10886.0</td>\n",
              "    </tr>\n",
              "    <tr>\n",
              "      <th>mean</th>\n",
              "      <td>2.506614</td>\n",
              "      <td>0.028569</td>\n",
              "      <td>0.680875</td>\n",
              "      <td>1.418427</td>\n",
              "      <td>20.23086</td>\n",
              "      <td>23.655084</td>\n",
              "      <td>61.886460</td>\n",
              "      <td>12.799395</td>\n",
              "      <td>36.021955</td>\n",
              "      <td>155.552177</td>\n",
              "      <td>191.574132</td>\n",
              "      <td>2011.501929</td>\n",
              "      <td>6.521495</td>\n",
              "      <td>9.992559</td>\n",
              "      <td>11.541613</td>\n",
              "      <td>0.0</td>\n",
              "      <td>0.0</td>\n",
              "    </tr>\n",
              "    <tr>\n",
              "      <th>std</th>\n",
              "      <td>1.116174</td>\n",
              "      <td>0.166599</td>\n",
              "      <td>0.466159</td>\n",
              "      <td>0.633839</td>\n",
              "      <td>7.79159</td>\n",
              "      <td>8.474601</td>\n",
              "      <td>19.245033</td>\n",
              "      <td>8.164537</td>\n",
              "      <td>49.960477</td>\n",
              "      <td>151.039033</td>\n",
              "      <td>181.144454</td>\n",
              "      <td>0.500019</td>\n",
              "      <td>3.444373</td>\n",
              "      <td>5.476608</td>\n",
              "      <td>6.915838</td>\n",
              "      <td>0.0</td>\n",
              "      <td>0.0</td>\n",
              "    </tr>\n",
              "    <tr>\n",
              "      <th>min</th>\n",
              "      <td>1.000000</td>\n",
              "      <td>0.000000</td>\n",
              "      <td>0.000000</td>\n",
              "      <td>1.000000</td>\n",
              "      <td>0.82000</td>\n",
              "      <td>0.760000</td>\n",
              "      <td>0.000000</td>\n",
              "      <td>0.000000</td>\n",
              "      <td>0.000000</td>\n",
              "      <td>0.000000</td>\n",
              "      <td>1.000000</td>\n",
              "      <td>2011.000000</td>\n",
              "      <td>1.000000</td>\n",
              "      <td>1.000000</td>\n",
              "      <td>0.000000</td>\n",
              "      <td>0.0</td>\n",
              "      <td>0.0</td>\n",
              "    </tr>\n",
              "    <tr>\n",
              "      <th>25%</th>\n",
              "      <td>2.000000</td>\n",
              "      <td>0.000000</td>\n",
              "      <td>0.000000</td>\n",
              "      <td>1.000000</td>\n",
              "      <td>13.94000</td>\n",
              "      <td>16.665000</td>\n",
              "      <td>47.000000</td>\n",
              "      <td>7.001500</td>\n",
              "      <td>4.000000</td>\n",
              "      <td>36.000000</td>\n",
              "      <td>42.000000</td>\n",
              "      <td>2011.000000</td>\n",
              "      <td>4.000000</td>\n",
              "      <td>5.000000</td>\n",
              "      <td>6.000000</td>\n",
              "      <td>0.0</td>\n",
              "      <td>0.0</td>\n",
              "    </tr>\n",
              "    <tr>\n",
              "      <th>50%</th>\n",
              "      <td>3.000000</td>\n",
              "      <td>0.000000</td>\n",
              "      <td>1.000000</td>\n",
              "      <td>1.000000</td>\n",
              "      <td>20.50000</td>\n",
              "      <td>24.240000</td>\n",
              "      <td>62.000000</td>\n",
              "      <td>12.998000</td>\n",
              "      <td>17.000000</td>\n",
              "      <td>118.000000</td>\n",
              "      <td>145.000000</td>\n",
              "      <td>2012.000000</td>\n",
              "      <td>7.000000</td>\n",
              "      <td>10.000000</td>\n",
              "      <td>12.000000</td>\n",
              "      <td>0.0</td>\n",
              "      <td>0.0</td>\n",
              "    </tr>\n",
              "    <tr>\n",
              "      <th>75%</th>\n",
              "      <td>4.000000</td>\n",
              "      <td>0.000000</td>\n",
              "      <td>1.000000</td>\n",
              "      <td>2.000000</td>\n",
              "      <td>26.24000</td>\n",
              "      <td>31.060000</td>\n",
              "      <td>77.000000</td>\n",
              "      <td>16.997900</td>\n",
              "      <td>49.000000</td>\n",
              "      <td>222.000000</td>\n",
              "      <td>284.000000</td>\n",
              "      <td>2012.000000</td>\n",
              "      <td>10.000000</td>\n",
              "      <td>15.000000</td>\n",
              "      <td>18.000000</td>\n",
              "      <td>0.0</td>\n",
              "      <td>0.0</td>\n",
              "    </tr>\n",
              "    <tr>\n",
              "      <th>max</th>\n",
              "      <td>4.000000</td>\n",
              "      <td>1.000000</td>\n",
              "      <td>1.000000</td>\n",
              "      <td>4.000000</td>\n",
              "      <td>41.00000</td>\n",
              "      <td>45.455000</td>\n",
              "      <td>100.000000</td>\n",
              "      <td>56.996900</td>\n",
              "      <td>367.000000</td>\n",
              "      <td>886.000000</td>\n",
              "      <td>977.000000</td>\n",
              "      <td>2012.000000</td>\n",
              "      <td>12.000000</td>\n",
              "      <td>19.000000</td>\n",
              "      <td>23.000000</td>\n",
              "      <td>0.0</td>\n",
              "      <td>0.0</td>\n",
              "    </tr>\n",
              "  </tbody>\n",
              "</table>\n",
              "</div>\n",
              "      <button class=\"colab-df-convert\" onclick=\"convertToInteractive('df-cc527410-abbf-4cd6-8a42-aa4dddb6043a')\"\n",
              "              title=\"Convert this dataframe to an interactive table.\"\n",
              "              style=\"display:none;\">\n",
              "        \n",
              "  <svg xmlns=\"http://www.w3.org/2000/svg\" height=\"24px\"viewBox=\"0 0 24 24\"\n",
              "       width=\"24px\">\n",
              "    <path d=\"M0 0h24v24H0V0z\" fill=\"none\"/>\n",
              "    <path d=\"M18.56 5.44l.94 2.06.94-2.06 2.06-.94-2.06-.94-.94-2.06-.94 2.06-2.06.94zm-11 1L8.5 8.5l.94-2.06 2.06-.94-2.06-.94L8.5 2.5l-.94 2.06-2.06.94zm10 10l.94 2.06.94-2.06 2.06-.94-2.06-.94-.94-2.06-.94 2.06-2.06.94z\"/><path d=\"M17.41 7.96l-1.37-1.37c-.4-.4-.92-.59-1.43-.59-.52 0-1.04.2-1.43.59L10.3 9.45l-7.72 7.72c-.78.78-.78 2.05 0 2.83L4 21.41c.39.39.9.59 1.41.59.51 0 1.02-.2 1.41-.59l7.78-7.78 2.81-2.81c.8-.78.8-2.07 0-2.86zM5.41 20L4 18.59l7.72-7.72 1.47 1.35L5.41 20z\"/>\n",
              "  </svg>\n",
              "      </button>\n",
              "      \n",
              "  <style>\n",
              "    .colab-df-container {\n",
              "      display:flex;\n",
              "      flex-wrap:wrap;\n",
              "      gap: 12px;\n",
              "    }\n",
              "\n",
              "    .colab-df-convert {\n",
              "      background-color: #E8F0FE;\n",
              "      border: none;\n",
              "      border-radius: 50%;\n",
              "      cursor: pointer;\n",
              "      display: none;\n",
              "      fill: #1967D2;\n",
              "      height: 32px;\n",
              "      padding: 0 0 0 0;\n",
              "      width: 32px;\n",
              "    }\n",
              "\n",
              "    .colab-df-convert:hover {\n",
              "      background-color: #E2EBFA;\n",
              "      box-shadow: 0px 1px 2px rgba(60, 64, 67, 0.3), 0px 1px 3px 1px rgba(60, 64, 67, 0.15);\n",
              "      fill: #174EA6;\n",
              "    }\n",
              "\n",
              "    [theme=dark] .colab-df-convert {\n",
              "      background-color: #3B4455;\n",
              "      fill: #D2E3FC;\n",
              "    }\n",
              "\n",
              "    [theme=dark] .colab-df-convert:hover {\n",
              "      background-color: #434B5C;\n",
              "      box-shadow: 0px 1px 3px 1px rgba(0, 0, 0, 0.15);\n",
              "      filter: drop-shadow(0px 1px 2px rgba(0, 0, 0, 0.3));\n",
              "      fill: #FFFFFF;\n",
              "    }\n",
              "  </style>\n",
              "\n",
              "      <script>\n",
              "        const buttonEl =\n",
              "          document.querySelector('#df-cc527410-abbf-4cd6-8a42-aa4dddb6043a button.colab-df-convert');\n",
              "        buttonEl.style.display =\n",
              "          google.colab.kernel.accessAllowed ? 'block' : 'none';\n",
              "\n",
              "        async function convertToInteractive(key) {\n",
              "          const element = document.querySelector('#df-cc527410-abbf-4cd6-8a42-aa4dddb6043a');\n",
              "          const dataTable =\n",
              "            await google.colab.kernel.invokeFunction('convertToInteractive',\n",
              "                                                     [key], {});\n",
              "          if (!dataTable) return;\n",
              "\n",
              "          const docLinkHtml = 'Like what you see? Visit the ' +\n",
              "            '<a target=\"_blank\" href=https://colab.research.google.com/notebooks/data_table.ipynb>data table notebook</a>'\n",
              "            + ' to learn more about interactive tables.';\n",
              "          element.innerHTML = '';\n",
              "          dataTable['output_type'] = 'display_data';\n",
              "          await google.colab.output.renderOutput(dataTable, element);\n",
              "          const docLink = document.createElement('div');\n",
              "          docLink.innerHTML = docLinkHtml;\n",
              "          element.appendChild(docLink);\n",
              "        }\n",
              "      </script>\n",
              "    </div>\n",
              "  </div>\n",
              "  "
            ]
          },
          "metadata": {},
          "execution_count": 420
        }
      ]
    },
    {
      "cell_type": "markdown",
      "source": [
        "데이터를 살펴보니 우리가 모델에 사용할 데이터에 대해 다음과 같은 결론을 내릴 수 있었습니다.\n",
        "\n",
        "1. minute 과 Second는 필요 없는 데이터이므로 지우고, datetime column 또한 지워도 무방할 것이다.\n",
        "\n",
        "2. kaggle의 데이터 요약에서 Count = Registered + Causal 이므로 Casual, Registered column은 지워도 모델에 큰 영향이 없을것이다."
      ],
      "metadata": {
        "id": "wazR1yl-0HaF"
      },
      "id": "wazR1yl-0HaF"
    },
    {
      "cell_type": "code",
      "source": [
        "#원하는 column들만 원하는 순서대로 정렬하여 train에 재할당.\n",
        "train = train[['year','month','day','hour','weather','season', 'holiday','workingday','temp','humidity','atemp','windspeed','count']]\n",
        "train"
      ],
      "metadata": {
        "colab": {
          "base_uri": "https://localhost:8080/",
          "height": 424
        },
        "id": "lECTMGx42GmL",
        "outputId": "f2a1d9aa-17ae-475a-81a3-c6c08c8c9e41"
      },
      "id": "lECTMGx42GmL",
      "execution_count": 421,
      "outputs": [
        {
          "output_type": "execute_result",
          "data": {
            "text/plain": [
              "       year  month  day  hour  weather  season  holiday  workingday   temp  \\\n",
              "0      2011      1    1     0        1       1        0           0   9.84   \n",
              "1      2011      1    1     1        1       1        0           0   9.02   \n",
              "2      2011      1    1     2        1       1        0           0   9.02   \n",
              "3      2011      1    1     3        1       1        0           0   9.84   \n",
              "4      2011      1    1     4        1       1        0           0   9.84   \n",
              "...     ...    ...  ...   ...      ...     ...      ...         ...    ...   \n",
              "10881  2012     12   19    19        1       4        0           1  15.58   \n",
              "10882  2012     12   19    20        1       4        0           1  14.76   \n",
              "10883  2012     12   19    21        1       4        0           1  13.94   \n",
              "10884  2012     12   19    22        1       4        0           1  13.94   \n",
              "10885  2012     12   19    23        1       4        0           1  13.12   \n",
              "\n",
              "       humidity   atemp  windspeed  count  \n",
              "0            81  14.395     0.0000     16  \n",
              "1            80  13.635     0.0000     40  \n",
              "2            80  13.635     0.0000     32  \n",
              "3            75  14.395     0.0000     13  \n",
              "4            75  14.395     0.0000      1  \n",
              "...         ...     ...        ...    ...  \n",
              "10881        50  19.695    26.0027    336  \n",
              "10882        57  17.425    15.0013    241  \n",
              "10883        61  15.910    15.0013    168  \n",
              "10884        61  17.425     6.0032    129  \n",
              "10885        66  16.665     8.9981     88  \n",
              "\n",
              "[10886 rows x 13 columns]"
            ],
            "text/html": [
              "\n",
              "  <div id=\"df-c950c563-94d1-4914-a44b-9c8f9c826968\">\n",
              "    <div class=\"colab-df-container\">\n",
              "      <div>\n",
              "<style scoped>\n",
              "    .dataframe tbody tr th:only-of-type {\n",
              "        vertical-align: middle;\n",
              "    }\n",
              "\n",
              "    .dataframe tbody tr th {\n",
              "        vertical-align: top;\n",
              "    }\n",
              "\n",
              "    .dataframe thead th {\n",
              "        text-align: right;\n",
              "    }\n",
              "</style>\n",
              "<table border=\"1\" class=\"dataframe\">\n",
              "  <thead>\n",
              "    <tr style=\"text-align: right;\">\n",
              "      <th></th>\n",
              "      <th>year</th>\n",
              "      <th>month</th>\n",
              "      <th>day</th>\n",
              "      <th>hour</th>\n",
              "      <th>weather</th>\n",
              "      <th>season</th>\n",
              "      <th>holiday</th>\n",
              "      <th>workingday</th>\n",
              "      <th>temp</th>\n",
              "      <th>humidity</th>\n",
              "      <th>atemp</th>\n",
              "      <th>windspeed</th>\n",
              "      <th>count</th>\n",
              "    </tr>\n",
              "  </thead>\n",
              "  <tbody>\n",
              "    <tr>\n",
              "      <th>0</th>\n",
              "      <td>2011</td>\n",
              "      <td>1</td>\n",
              "      <td>1</td>\n",
              "      <td>0</td>\n",
              "      <td>1</td>\n",
              "      <td>1</td>\n",
              "      <td>0</td>\n",
              "      <td>0</td>\n",
              "      <td>9.84</td>\n",
              "      <td>81</td>\n",
              "      <td>14.395</td>\n",
              "      <td>0.0000</td>\n",
              "      <td>16</td>\n",
              "    </tr>\n",
              "    <tr>\n",
              "      <th>1</th>\n",
              "      <td>2011</td>\n",
              "      <td>1</td>\n",
              "      <td>1</td>\n",
              "      <td>1</td>\n",
              "      <td>1</td>\n",
              "      <td>1</td>\n",
              "      <td>0</td>\n",
              "      <td>0</td>\n",
              "      <td>9.02</td>\n",
              "      <td>80</td>\n",
              "      <td>13.635</td>\n",
              "      <td>0.0000</td>\n",
              "      <td>40</td>\n",
              "    </tr>\n",
              "    <tr>\n",
              "      <th>2</th>\n",
              "      <td>2011</td>\n",
              "      <td>1</td>\n",
              "      <td>1</td>\n",
              "      <td>2</td>\n",
              "      <td>1</td>\n",
              "      <td>1</td>\n",
              "      <td>0</td>\n",
              "      <td>0</td>\n",
              "      <td>9.02</td>\n",
              "      <td>80</td>\n",
              "      <td>13.635</td>\n",
              "      <td>0.0000</td>\n",
              "      <td>32</td>\n",
              "    </tr>\n",
              "    <tr>\n",
              "      <th>3</th>\n",
              "      <td>2011</td>\n",
              "      <td>1</td>\n",
              "      <td>1</td>\n",
              "      <td>3</td>\n",
              "      <td>1</td>\n",
              "      <td>1</td>\n",
              "      <td>0</td>\n",
              "      <td>0</td>\n",
              "      <td>9.84</td>\n",
              "      <td>75</td>\n",
              "      <td>14.395</td>\n",
              "      <td>0.0000</td>\n",
              "      <td>13</td>\n",
              "    </tr>\n",
              "    <tr>\n",
              "      <th>4</th>\n",
              "      <td>2011</td>\n",
              "      <td>1</td>\n",
              "      <td>1</td>\n",
              "      <td>4</td>\n",
              "      <td>1</td>\n",
              "      <td>1</td>\n",
              "      <td>0</td>\n",
              "      <td>0</td>\n",
              "      <td>9.84</td>\n",
              "      <td>75</td>\n",
              "      <td>14.395</td>\n",
              "      <td>0.0000</td>\n",
              "      <td>1</td>\n",
              "    </tr>\n",
              "    <tr>\n",
              "      <th>...</th>\n",
              "      <td>...</td>\n",
              "      <td>...</td>\n",
              "      <td>...</td>\n",
              "      <td>...</td>\n",
              "      <td>...</td>\n",
              "      <td>...</td>\n",
              "      <td>...</td>\n",
              "      <td>...</td>\n",
              "      <td>...</td>\n",
              "      <td>...</td>\n",
              "      <td>...</td>\n",
              "      <td>...</td>\n",
              "      <td>...</td>\n",
              "    </tr>\n",
              "    <tr>\n",
              "      <th>10881</th>\n",
              "      <td>2012</td>\n",
              "      <td>12</td>\n",
              "      <td>19</td>\n",
              "      <td>19</td>\n",
              "      <td>1</td>\n",
              "      <td>4</td>\n",
              "      <td>0</td>\n",
              "      <td>1</td>\n",
              "      <td>15.58</td>\n",
              "      <td>50</td>\n",
              "      <td>19.695</td>\n",
              "      <td>26.0027</td>\n",
              "      <td>336</td>\n",
              "    </tr>\n",
              "    <tr>\n",
              "      <th>10882</th>\n",
              "      <td>2012</td>\n",
              "      <td>12</td>\n",
              "      <td>19</td>\n",
              "      <td>20</td>\n",
              "      <td>1</td>\n",
              "      <td>4</td>\n",
              "      <td>0</td>\n",
              "      <td>1</td>\n",
              "      <td>14.76</td>\n",
              "      <td>57</td>\n",
              "      <td>17.425</td>\n",
              "      <td>15.0013</td>\n",
              "      <td>241</td>\n",
              "    </tr>\n",
              "    <tr>\n",
              "      <th>10883</th>\n",
              "      <td>2012</td>\n",
              "      <td>12</td>\n",
              "      <td>19</td>\n",
              "      <td>21</td>\n",
              "      <td>1</td>\n",
              "      <td>4</td>\n",
              "      <td>0</td>\n",
              "      <td>1</td>\n",
              "      <td>13.94</td>\n",
              "      <td>61</td>\n",
              "      <td>15.910</td>\n",
              "      <td>15.0013</td>\n",
              "      <td>168</td>\n",
              "    </tr>\n",
              "    <tr>\n",
              "      <th>10884</th>\n",
              "      <td>2012</td>\n",
              "      <td>12</td>\n",
              "      <td>19</td>\n",
              "      <td>22</td>\n",
              "      <td>1</td>\n",
              "      <td>4</td>\n",
              "      <td>0</td>\n",
              "      <td>1</td>\n",
              "      <td>13.94</td>\n",
              "      <td>61</td>\n",
              "      <td>17.425</td>\n",
              "      <td>6.0032</td>\n",
              "      <td>129</td>\n",
              "    </tr>\n",
              "    <tr>\n",
              "      <th>10885</th>\n",
              "      <td>2012</td>\n",
              "      <td>12</td>\n",
              "      <td>19</td>\n",
              "      <td>23</td>\n",
              "      <td>1</td>\n",
              "      <td>4</td>\n",
              "      <td>0</td>\n",
              "      <td>1</td>\n",
              "      <td>13.12</td>\n",
              "      <td>66</td>\n",
              "      <td>16.665</td>\n",
              "      <td>8.9981</td>\n",
              "      <td>88</td>\n",
              "    </tr>\n",
              "  </tbody>\n",
              "</table>\n",
              "<p>10886 rows × 13 columns</p>\n",
              "</div>\n",
              "      <button class=\"colab-df-convert\" onclick=\"convertToInteractive('df-c950c563-94d1-4914-a44b-9c8f9c826968')\"\n",
              "              title=\"Convert this dataframe to an interactive table.\"\n",
              "              style=\"display:none;\">\n",
              "        \n",
              "  <svg xmlns=\"http://www.w3.org/2000/svg\" height=\"24px\"viewBox=\"0 0 24 24\"\n",
              "       width=\"24px\">\n",
              "    <path d=\"M0 0h24v24H0V0z\" fill=\"none\"/>\n",
              "    <path d=\"M18.56 5.44l.94 2.06.94-2.06 2.06-.94-2.06-.94-.94-2.06-.94 2.06-2.06.94zm-11 1L8.5 8.5l.94-2.06 2.06-.94-2.06-.94L8.5 2.5l-.94 2.06-2.06.94zm10 10l.94 2.06.94-2.06 2.06-.94-2.06-.94-.94-2.06-.94 2.06-2.06.94z\"/><path d=\"M17.41 7.96l-1.37-1.37c-.4-.4-.92-.59-1.43-.59-.52 0-1.04.2-1.43.59L10.3 9.45l-7.72 7.72c-.78.78-.78 2.05 0 2.83L4 21.41c.39.39.9.59 1.41.59.51 0 1.02-.2 1.41-.59l7.78-7.78 2.81-2.81c.8-.78.8-2.07 0-2.86zM5.41 20L4 18.59l7.72-7.72 1.47 1.35L5.41 20z\"/>\n",
              "  </svg>\n",
              "      </button>\n",
              "      \n",
              "  <style>\n",
              "    .colab-df-container {\n",
              "      display:flex;\n",
              "      flex-wrap:wrap;\n",
              "      gap: 12px;\n",
              "    }\n",
              "\n",
              "    .colab-df-convert {\n",
              "      background-color: #E8F0FE;\n",
              "      border: none;\n",
              "      border-radius: 50%;\n",
              "      cursor: pointer;\n",
              "      display: none;\n",
              "      fill: #1967D2;\n",
              "      height: 32px;\n",
              "      padding: 0 0 0 0;\n",
              "      width: 32px;\n",
              "    }\n",
              "\n",
              "    .colab-df-convert:hover {\n",
              "      background-color: #E2EBFA;\n",
              "      box-shadow: 0px 1px 2px rgba(60, 64, 67, 0.3), 0px 1px 3px 1px rgba(60, 64, 67, 0.15);\n",
              "      fill: #174EA6;\n",
              "    }\n",
              "\n",
              "    [theme=dark] .colab-df-convert {\n",
              "      background-color: #3B4455;\n",
              "      fill: #D2E3FC;\n",
              "    }\n",
              "\n",
              "    [theme=dark] .colab-df-convert:hover {\n",
              "      background-color: #434B5C;\n",
              "      box-shadow: 0px 1px 3px 1px rgba(0, 0, 0, 0.15);\n",
              "      filter: drop-shadow(0px 1px 2px rgba(0, 0, 0, 0.3));\n",
              "      fill: #FFFFFF;\n",
              "    }\n",
              "  </style>\n",
              "\n",
              "      <script>\n",
              "        const buttonEl =\n",
              "          document.querySelector('#df-c950c563-94d1-4914-a44b-9c8f9c826968 button.colab-df-convert');\n",
              "        buttonEl.style.display =\n",
              "          google.colab.kernel.accessAllowed ? 'block' : 'none';\n",
              "\n",
              "        async function convertToInteractive(key) {\n",
              "          const element = document.querySelector('#df-c950c563-94d1-4914-a44b-9c8f9c826968');\n",
              "          const dataTable =\n",
              "            await google.colab.kernel.invokeFunction('convertToInteractive',\n",
              "                                                     [key], {});\n",
              "          if (!dataTable) return;\n",
              "\n",
              "          const docLinkHtml = 'Like what you see? Visit the ' +\n",
              "            '<a target=\"_blank\" href=https://colab.research.google.com/notebooks/data_table.ipynb>data table notebook</a>'\n",
              "            + ' to learn more about interactive tables.';\n",
              "          element.innerHTML = '';\n",
              "          dataTable['output_type'] = 'display_data';\n",
              "          await google.colab.output.renderOutput(dataTable, element);\n",
              "          const docLink = document.createElement('div');\n",
              "          docLink.innerHTML = docLinkHtml;\n",
              "          element.appendChild(docLink);\n",
              "        }\n",
              "      </script>\n",
              "    </div>\n",
              "  </div>\n",
              "  "
            ]
          },
          "metadata": {},
          "execution_count": 421
        }
      ]
    },
    {
      "cell_type": "markdown",
      "source": [
        "## 😶 X, y 컬럼 선택 및 train/test 데이터 분리\n",
        "\n"
      ],
      "metadata": {
        "id": "8DE5VXOY4Niq"
      },
      "id": "8DE5VXOY4Niq"
    },
    {
      "cell_type": "markdown",
      "source": [
        "사실 저 데이터 컬럼들에서 **숫자형 데이터라면, y는 아무거나 정해도 예측할 수 있지 않을까?** 이런 생각이 듭니다.\n",
        "\n",
        "온도를 예측할 수도 있고, 풍속을 예측할 수도 있고 ,습도도 예측할 수 있지 않을까요?\n",
        "\n",
        "하지만 우리 프로젝트는 자전거 대여량을 예측하는 것이므로 Count가 y_true가 되겠죠?\n",
        "\n",
        "하지만 Count를 예측하기 위한 중요한 Feature는 어떤 것인지 알 수 는 없습니다.\n",
        "\n",
        "그래서 저는 다음과 같은 가설을 세웠습니다.\n",
        "\n",
        "1. **특별한 상황이 아니라면 연도는 중요한 Feature가 아닐 것이다. Ex) COVID-19**\n",
        "\n",
        "2. **계절, 월 과 같은 데이터는 온도, 습도, 풍속,상대온도 등의 데이터로 간접적으로 알 수 있을것이다.**\n",
        "\n",
        "3. **날짜 데이터 대부분은 크게 중요하지 않을것이다.즉, 평균적인 추세를 따라갈 것이다. 날짜보단 휴일, 일하는 날의 여부가 자전거의 렌탈에 더 영향을 미치는 요소일 것이다.**\n",
        "\n",
        "4. **날씨와 시간대 또한 자전거의 렌탈에 영향을 미치는 요소일 것이다.**\n",
        "\n",
        "이 가정을 바탕으로 X의 feature를 선정했습니다.\n",
        "\n",
        "y_label = y_true = $Count$ column\n",
        "\n",
        "X_feature =  column $[ 'hour', 'holiday','workingday', 'temp', 'humidity','atemp', 'windspeed','weather']$\n",
        "\n"
      ],
      "metadata": {
        "id": "_l57pF4m5e6k"
      },
      "id": "_l57pF4m5e6k"
    },
    {
      "cell_type": "code",
      "source": [
        "# DataFrame을 위의 기준에 맞게 column을 분리하여 np array로 변환.\n",
        "X_df_b = train[['hour','holiday','workingday', 'temp', 'humidity','atemp', 'windspeed','weather']]\n",
        "y_df_b =  train['count']\n",
        "X = X_df_b.to_numpy()\n",
        "y = y_df_b.to_numpy()\n",
        "print(X.shape,y.shape)"
      ],
      "metadata": {
        "id": "CwgG-JTI4rtm",
        "colab": {
          "base_uri": "https://localhost:8080/"
        },
        "outputId": "aa1c8ac5-ab8c-49e7-f17d-3eaefa746adc"
      },
      "id": "CwgG-JTI4rtm",
      "execution_count": 422,
      "outputs": [
        {
          "output_type": "stream",
          "name": "stdout",
          "text": [
            "(10886, 8) (10886,)\n"
          ]
        }
      ]
    },
    {
      "cell_type": "code",
      "source": [
        "X_df_b.head()"
      ],
      "metadata": {
        "colab": {
          "base_uri": "https://localhost:8080/",
          "height": 206
        },
        "id": "fAmGvZpdY5xw",
        "outputId": "01f65c11-272a-4a3a-8b4b-ab1daa5d24d1"
      },
      "id": "fAmGvZpdY5xw",
      "execution_count": 423,
      "outputs": [
        {
          "output_type": "execute_result",
          "data": {
            "text/plain": [
              "   hour  holiday  workingday  temp  humidity   atemp  windspeed  weather\n",
              "0     0        0           0  9.84        81  14.395        0.0        1\n",
              "1     1        0           0  9.02        80  13.635        0.0        1\n",
              "2     2        0           0  9.02        80  13.635        0.0        1\n",
              "3     3        0           0  9.84        75  14.395        0.0        1\n",
              "4     4        0           0  9.84        75  14.395        0.0        1"
            ],
            "text/html": [
              "\n",
              "  <div id=\"df-d25ea0b6-731c-45e7-8882-e5df359658a0\">\n",
              "    <div class=\"colab-df-container\">\n",
              "      <div>\n",
              "<style scoped>\n",
              "    .dataframe tbody tr th:only-of-type {\n",
              "        vertical-align: middle;\n",
              "    }\n",
              "\n",
              "    .dataframe tbody tr th {\n",
              "        vertical-align: top;\n",
              "    }\n",
              "\n",
              "    .dataframe thead th {\n",
              "        text-align: right;\n",
              "    }\n",
              "</style>\n",
              "<table border=\"1\" class=\"dataframe\">\n",
              "  <thead>\n",
              "    <tr style=\"text-align: right;\">\n",
              "      <th></th>\n",
              "      <th>hour</th>\n",
              "      <th>holiday</th>\n",
              "      <th>workingday</th>\n",
              "      <th>temp</th>\n",
              "      <th>humidity</th>\n",
              "      <th>atemp</th>\n",
              "      <th>windspeed</th>\n",
              "      <th>weather</th>\n",
              "    </tr>\n",
              "  </thead>\n",
              "  <tbody>\n",
              "    <tr>\n",
              "      <th>0</th>\n",
              "      <td>0</td>\n",
              "      <td>0</td>\n",
              "      <td>0</td>\n",
              "      <td>9.84</td>\n",
              "      <td>81</td>\n",
              "      <td>14.395</td>\n",
              "      <td>0.0</td>\n",
              "      <td>1</td>\n",
              "    </tr>\n",
              "    <tr>\n",
              "      <th>1</th>\n",
              "      <td>1</td>\n",
              "      <td>0</td>\n",
              "      <td>0</td>\n",
              "      <td>9.02</td>\n",
              "      <td>80</td>\n",
              "      <td>13.635</td>\n",
              "      <td>0.0</td>\n",
              "      <td>1</td>\n",
              "    </tr>\n",
              "    <tr>\n",
              "      <th>2</th>\n",
              "      <td>2</td>\n",
              "      <td>0</td>\n",
              "      <td>0</td>\n",
              "      <td>9.02</td>\n",
              "      <td>80</td>\n",
              "      <td>13.635</td>\n",
              "      <td>0.0</td>\n",
              "      <td>1</td>\n",
              "    </tr>\n",
              "    <tr>\n",
              "      <th>3</th>\n",
              "      <td>3</td>\n",
              "      <td>0</td>\n",
              "      <td>0</td>\n",
              "      <td>9.84</td>\n",
              "      <td>75</td>\n",
              "      <td>14.395</td>\n",
              "      <td>0.0</td>\n",
              "      <td>1</td>\n",
              "    </tr>\n",
              "    <tr>\n",
              "      <th>4</th>\n",
              "      <td>4</td>\n",
              "      <td>0</td>\n",
              "      <td>0</td>\n",
              "      <td>9.84</td>\n",
              "      <td>75</td>\n",
              "      <td>14.395</td>\n",
              "      <td>0.0</td>\n",
              "      <td>1</td>\n",
              "    </tr>\n",
              "  </tbody>\n",
              "</table>\n",
              "</div>\n",
              "      <button class=\"colab-df-convert\" onclick=\"convertToInteractive('df-d25ea0b6-731c-45e7-8882-e5df359658a0')\"\n",
              "              title=\"Convert this dataframe to an interactive table.\"\n",
              "              style=\"display:none;\">\n",
              "        \n",
              "  <svg xmlns=\"http://www.w3.org/2000/svg\" height=\"24px\"viewBox=\"0 0 24 24\"\n",
              "       width=\"24px\">\n",
              "    <path d=\"M0 0h24v24H0V0z\" fill=\"none\"/>\n",
              "    <path d=\"M18.56 5.44l.94 2.06.94-2.06 2.06-.94-2.06-.94-.94-2.06-.94 2.06-2.06.94zm-11 1L8.5 8.5l.94-2.06 2.06-.94-2.06-.94L8.5 2.5l-.94 2.06-2.06.94zm10 10l.94 2.06.94-2.06 2.06-.94-2.06-.94-.94-2.06-.94 2.06-2.06.94z\"/><path d=\"M17.41 7.96l-1.37-1.37c-.4-.4-.92-.59-1.43-.59-.52 0-1.04.2-1.43.59L10.3 9.45l-7.72 7.72c-.78.78-.78 2.05 0 2.83L4 21.41c.39.39.9.59 1.41.59.51 0 1.02-.2 1.41-.59l7.78-7.78 2.81-2.81c.8-.78.8-2.07 0-2.86zM5.41 20L4 18.59l7.72-7.72 1.47 1.35L5.41 20z\"/>\n",
              "  </svg>\n",
              "      </button>\n",
              "      \n",
              "  <style>\n",
              "    .colab-df-container {\n",
              "      display:flex;\n",
              "      flex-wrap:wrap;\n",
              "      gap: 12px;\n",
              "    }\n",
              "\n",
              "    .colab-df-convert {\n",
              "      background-color: #E8F0FE;\n",
              "      border: none;\n",
              "      border-radius: 50%;\n",
              "      cursor: pointer;\n",
              "      display: none;\n",
              "      fill: #1967D2;\n",
              "      height: 32px;\n",
              "      padding: 0 0 0 0;\n",
              "      width: 32px;\n",
              "    }\n",
              "\n",
              "    .colab-df-convert:hover {\n",
              "      background-color: #E2EBFA;\n",
              "      box-shadow: 0px 1px 2px rgba(60, 64, 67, 0.3), 0px 1px 3px 1px rgba(60, 64, 67, 0.15);\n",
              "      fill: #174EA6;\n",
              "    }\n",
              "\n",
              "    [theme=dark] .colab-df-convert {\n",
              "      background-color: #3B4455;\n",
              "      fill: #D2E3FC;\n",
              "    }\n",
              "\n",
              "    [theme=dark] .colab-df-convert:hover {\n",
              "      background-color: #434B5C;\n",
              "      box-shadow: 0px 1px 3px 1px rgba(0, 0, 0, 0.15);\n",
              "      filter: drop-shadow(0px 1px 2px rgba(0, 0, 0, 0.3));\n",
              "      fill: #FFFFFF;\n",
              "    }\n",
              "  </style>\n",
              "\n",
              "      <script>\n",
              "        const buttonEl =\n",
              "          document.querySelector('#df-d25ea0b6-731c-45e7-8882-e5df359658a0 button.colab-df-convert');\n",
              "        buttonEl.style.display =\n",
              "          google.colab.kernel.accessAllowed ? 'block' : 'none';\n",
              "\n",
              "        async function convertToInteractive(key) {\n",
              "          const element = document.querySelector('#df-d25ea0b6-731c-45e7-8882-e5df359658a0');\n",
              "          const dataTable =\n",
              "            await google.colab.kernel.invokeFunction('convertToInteractive',\n",
              "                                                     [key], {});\n",
              "          if (!dataTable) return;\n",
              "\n",
              "          const docLinkHtml = 'Like what you see? Visit the ' +\n",
              "            '<a target=\"_blank\" href=https://colab.research.google.com/notebooks/data_table.ipynb>data table notebook</a>'\n",
              "            + ' to learn more about interactive tables.';\n",
              "          element.innerHTML = '';\n",
              "          dataTable['output_type'] = 'display_data';\n",
              "          await google.colab.output.renderOutput(dataTable, element);\n",
              "          const docLink = document.createElement('div');\n",
              "          docLink.innerHTML = docLinkHtml;\n",
              "          element.appendChild(docLink);\n",
              "        }\n",
              "      </script>\n",
              "    </div>\n",
              "  </div>\n",
              "  "
            ]
          },
          "metadata": {},
          "execution_count": 423
        }
      ]
    },
    {
      "cell_type": "markdown",
      "source": [
        "X,y shape 모두 row가 일치합니다. 이대로 사용해도 될 것 같습니다.\n",
        "\n",
        "다음으론 Trainset과 Testset을 분리했습니다."
      ],
      "metadata": {
        "id": "LDEYQS_3zwzH"
      },
      "id": "LDEYQS_3zwzH"
    },
    {
      "cell_type": "code",
      "source": [
        "# 분리한 X와 y를 Train set과 Test set으로 분리.\n",
        "X_train, X_test, y_train, y_test = train_test_split(X, \n",
        "                                                    y, \n",
        "                                                    test_size=0.2, \n",
        "                                                    random_state=3489)"
      ],
      "metadata": {
        "id": "ujaalqvvyny5"
      },
      "id": "ujaalqvvyny5",
      "execution_count": 424,
      "outputs": []
    },
    {
      "cell_type": "markdown",
      "source": [
        "## 😶LinearRegression 모델 학습"
      ],
      "metadata": {
        "id": "MV_8lzzXozab"
      },
      "id": "MV_8lzzXozab"
    },
    {
      "cell_type": "markdown",
      "source": [
        "이제는 모델을 학습시켜 예측 결과가 얼마나 좋을 지 예측해보겠습니다.\n",
        "\n",
        "과연 가설이 맞을까요?"
      ],
      "metadata": {
        "id": "kLMEcE9e08yN"
      },
      "id": "kLMEcE9e08yN"
    },
    {
      "cell_type": "code",
      "source": [
        "import sklearn\n",
        "from sklearn.linear_model import LinearRegression\n",
        "\n",
        "linear_regression = LinearRegression()\n",
        "\n",
        "linear_regression.fit(X_train,y_train)"
      ],
      "metadata": {
        "id": "Qcfm-ZAGpJGT",
        "colab": {
          "base_uri": "https://localhost:8080/"
        },
        "outputId": "261b0403-da0e-443e-96f8-ca1e2b02ea6e"
      },
      "id": "Qcfm-ZAGpJGT",
      "execution_count": 425,
      "outputs": [
        {
          "output_type": "execute_result",
          "data": {
            "text/plain": [
              "LinearRegression()"
            ]
          },
          "metadata": {},
          "execution_count": 425
        }
      ]
    },
    {
      "cell_type": "markdown",
      "source": [
        "## 😶학습된 모델로 X_test에 대한 예측값 출력 및 손실함수값 계산"
      ],
      "metadata": {
        "id": "dd3O8jjLozOm"
      },
      "id": "dd3O8jjLozOm"
    },
    {
      "cell_type": "code",
      "source": [
        "from sklearn.metrics import mean_squared_error\n",
        "from sklearn.metrics import mean_squared_error\n",
        "\n",
        "y_pred = linear_regression.predict(X_test)\n",
        "\n",
        "mse = mean_squared_error(y_test, y_pred)\n",
        "\n",
        "rmse =mean_squared_error(y_test, y_pred, squared=False)\n",
        "\n",
        "print(mse)\n",
        "print(rmse)"
      ],
      "metadata": {
        "id": "h8y_EbHApJeK",
        "colab": {
          "base_uri": "https://localhost:8080/"
        },
        "outputId": "087ad7d1-679e-4ff0-a283-cf5dc895a52d"
      },
      "id": "h8y_EbHApJeK",
      "execution_count": 426,
      "outputs": [
        {
          "output_type": "stream",
          "name": "stdout",
          "text": [
            "21848.96493204703\n",
            "147.81395377990208\n"
          ]
        }
      ]
    },
    {
      "cell_type": "code",
      "source": [
        "from sklearn.metrics import r2_score\n",
        "r2 = r2_score(y_test, y_pred)\n",
        "print(r2)"
      ],
      "metadata": {
        "colab": {
          "base_uri": "https://localhost:8080/"
        },
        "id": "RKWWl0yvGS9p",
        "outputId": "bb410d63-d0a0-4b7f-beb1-151bffe6cfbf"
      },
      "id": "RKWWl0yvGS9p",
      "execution_count": 427,
      "outputs": [
        {
          "output_type": "stream",
          "name": "stdout",
          "text": [
            "0.29704161112604166\n"
          ]
        }
      ]
    },
    {
      "cell_type": "markdown",
      "source": [
        "데이터의 값을 예측하는 회귀모델의 성능을 RMSE, MSE 말고도 측정할 방법을 찾아보니\n",
        "\n",
        "분류모델과는 달리 선형 회귀모델은 R2 score를 가지고 모델의 적합성을 측정한다합니다.\n",
        "\n",
        "R2 Score가 1에 가까울수록 모델의 적합도가 높다는데요.\n",
        "\n",
        " 지금 학습시킨 모델에 R2 Score를 측정해봤으나 상당히 낮은 점수를 받았습니다.\n"
      ],
      "metadata": {
        "id": "FKS42DUpGRTh"
      },
      "id": "FKS42DUpGRTh"
    },
    {
      "cell_type": "markdown",
      "source": [
        "## 😶 x축은 temp 또는 humidity로, y축은 count로 예측 결과 시각화하기"
      ],
      "metadata": {
        "id": "USzQB3Rroywi"
      },
      "id": "USzQB3Rroywi"
    },
    {
      "cell_type": "code",
      "source": [
        "# Temp를 X축으로 했을 때.\n",
        "plt.figure(figsize=(15,10))\n",
        "\n",
        "plt.scatter(X_test[:, 3], y_test)\n",
        "plt.scatter(X_test[:, 3], y_pred)\n",
        "plt.xlabel('Temp')\n",
        "plt.ylabel('Count')\n",
        "plt.legend([\"y_true\",\"prediction\"])\n",
        "plt.show()"
      ],
      "metadata": {
        "id": "mK2oookAo1Gz",
        "colab": {
          "base_uri": "https://localhost:8080/",
          "height": 606
        },
        "outputId": "c9ef126f-6f33-4ae3-91be-f351922e14b8"
      },
      "id": "mK2oookAo1Gz",
      "execution_count": 428,
      "outputs": [
        {
          "output_type": "display_data",
          "data": {
            "text/plain": [
              "<Figure size 1080x720 with 1 Axes>"
            ],
            "image/png": "[encoded data removed]"
          },
          "metadata": {
            "needs_background": "light"
          }
        }
      ]
    },
    {
      "cell_type": "code",
      "source": [
        "plt.figure(figsize=(15,10))\n",
        "plt.xlabel('Temp')\n",
        "plt.ylabel('Count')\n",
        "plt.scatter(X_test[:, 3], y_test)"
      ],
      "metadata": {
        "colab": {
          "base_uri": "https://localhost:8080/",
          "height": 624
        },
        "id": "hQa3soLGCbkP",
        "outputId": "6d95c7d4-78fa-4211-e904-7a6a43011ca5"
      },
      "id": "hQa3soLGCbkP",
      "execution_count": 429,
      "outputs": [
        {
          "output_type": "execute_result",
          "data": {
            "text/plain": [
              "<matplotlib.collections.PathCollection at 0x7f2ef84289d0>"
            ]
          },
          "metadata": {},
          "execution_count": 429
        },
        {
          "output_type": "display_data",
          "data": {
            "text/plain": [
              "<Figure size 1080x720 with 1 Axes>"
            ],
            "image/png": "[encoded data removed]"
          },
          "metadata": {
            "needs_background": "light"
          }
        }
      ]
    },
    {
      "cell_type": "code",
      "source": [
        "plt.figure(figsize=(15,10))\n",
        "plt.xlabel('Temp')\n",
        "plt.ylabel('Count')\n",
        "plt.scatter(X_test[:, 3], y_pred)"
      ],
      "metadata": {
        "colab": {
          "base_uri": "https://localhost:8080/",
          "height": 624
        },
        "id": "LLdvZOrJCoiy",
        "outputId": "b946b316-21b8-4402-fff8-fdd71da7000d"
      },
      "id": "LLdvZOrJCoiy",
      "execution_count": 430,
      "outputs": [
        {
          "output_type": "execute_result",
          "data": {
            "text/plain": [
              "<matplotlib.collections.PathCollection at 0x7f2ef830a350>"
            ]
          },
          "metadata": {},
          "execution_count": 430
        },
        {
          "output_type": "display_data",
          "data": {
            "text/plain": [
              "<Figure size 1080x720 with 1 Axes>"
            ],
            "image/png": "[encoded data removed]"
          },
          "metadata": {
            "needs_background": "light"
          }
        }
      ]
    },
    {
      "cell_type": "markdown",
      "source": [
        "음...위쪽 영역은 잘 못맞추는군요."
      ],
      "metadata": {
        "id": "P7Lb5s5KB5Ck"
      },
      "id": "P7Lb5s5KB5Ck"
    },
    {
      "cell_type": "code",
      "source": [
        "# humidity를 X축으로 했을 때.\n",
        "plt.figure(figsize=(15,10))\n",
        "\n",
        "plt.scatter(X_test[:, 4], y_test)\n",
        "plt.scatter(X_test[:, 4], y_pred)\n",
        "plt.xlabel('Humidity')\n",
        "plt.ylabel('Count')\n",
        "plt.legend([\"y_true\",\"prediction\"])\n",
        "plt.show()"
      ],
      "metadata": {
        "colab": {
          "base_uri": "https://localhost:8080/",
          "height": 606
        },
        "id": "Zh8sc2Ni6aey",
        "outputId": "d54a8f02-fc86-4e62-d7dd-34f27ea910aa"
      },
      "id": "Zh8sc2Ni6aey",
      "execution_count": 431,
      "outputs": [
        {
          "output_type": "display_data",
          "data": {
            "text/plain": [
              "<Figure size 1080x720 with 1 Axes>"
            ],
            "image/png": "[encoded data removed]"
          },
          "metadata": {
            "needs_background": "light"
          }
        }
      ]
    },
    {
      "cell_type": "markdown",
      "source": [
        "Humidity를 기준으로 했을 때도 마찬가지입니다."
      ],
      "metadata": {
        "id": "qWJJV9jiDY6c"
      },
      "id": "qWJJV9jiDY6c"
    },
    {
      "cell_type": "code",
      "source": [
        "# atemp를 X축으로 했을 때.\n",
        "plt.figure(figsize=(15,10))\n",
        "\n",
        "plt.scatter(X_test[:, 5], y_test)\n",
        "plt.scatter(X_test[:, 5], y_pred)\n",
        "plt.xlabel('atemp')\n",
        "plt.ylabel('Count')\n",
        "plt.legend([\"y_true\",\"prediction\"])\n",
        "plt.show()"
      ],
      "metadata": {
        "colab": {
          "base_uri": "https://localhost:8080/",
          "height": 606
        },
        "id": "YfHlmT4rZcve",
        "outputId": "be71cd4c-8dd2-4969-f9a3-7a10bc4f1fea"
      },
      "id": "YfHlmT4rZcve",
      "execution_count": 432,
      "outputs": [
        {
          "output_type": "display_data",
          "data": {
            "text/plain": [
              "<Figure size 1080x720 with 1 Axes>"
            ],
            "image/png": "[encoded data removed]"
          },
          "metadata": {
            "needs_background": "light"
          }
        }
      ]
    },
    {
      "cell_type": "markdown",
      "source": [
        "데이터들을 Visualization한 결과\n",
        "\n",
        "Count가 매우 클 경우에는 잘 예측하지 못하는것 같습니다.\n",
        "\n",
        "제가 모르는 다른 Feature들이 Count에 영향을 미쳤기 때문에 제대로 학습시키지 못해 모델의 성능이 제대로 안 나오는 것인지, \n",
        "\n",
        "아니면 데이터를 제대로 정규화시키지 못한 탓인지 알기 어렵습니다.\n",
        "\n",
        "그래서 이번엔 모든 데이터들을 넣어보고 결과를 비교해보려 합니다."
      ],
      "metadata": {
        "id": "vL3kaHMpZa2x"
      },
      "id": "vL3kaHMpZa2x"
    },
    {
      "cell_type": "code",
      "source": [
        "# 모든 feature를 집어넣어 학습시킬 데이터 셋을 생성\n",
        "X_df_b2 = train[['year','month','day','hour','weather','season', 'holiday','workingday','temp','humidity','atemp','windspeed']]\n",
        "X2 = X_df_b2.to_numpy()"
      ],
      "metadata": {
        "id": "TP_ayCkdAE-B"
      },
      "id": "TP_ayCkdAE-B",
      "execution_count": 436,
      "outputs": []
    },
    {
      "cell_type": "code",
      "source": [
        "X_train2, X_test2, y_train, y_test = train_test_split(X2, \n",
        "                                                    y, \n",
        "                                                    test_size=0.2, \n",
        "                                                    random_state=3489)\n",
        "\n",
        "linear_regression.fit(X_train2,y_train)\n",
        "\n",
        "y_pred = linear_regression.predict(X_test2)\n",
        "\n",
        "mse = mean_squared_error(y_test, y_pred)\n",
        "\n",
        "rmse =mean_squared_error(y_test, y_pred, squared=False)\n",
        "\n",
        "print(mse)\n",
        "print(rmse)"
      ],
      "metadata": {
        "colab": {
          "base_uri": "https://localhost:8080/"
        },
        "id": "E5Q_GAjZdo_y",
        "outputId": "8ea83f28-a6d1-4631-a982-d158c0fe3daf"
      },
      "id": "E5Q_GAjZdo_y",
      "execution_count": 434,
      "outputs": [
        {
          "output_type": "stream",
          "name": "stdout",
          "text": [
            "19678.89910303069\n",
            "140.2814995037859\n"
          ]
        }
      ]
    },
    {
      "cell_type": "code",
      "source": [
        "r2 = r2_score(y_test, y_pred)\n",
        "print(r2)"
      ],
      "metadata": {
        "colab": {
          "base_uri": "https://localhost:8080/"
        },
        "id": "jT_n1vakeFV1",
        "outputId": "f70ef3a9-8fcb-4c91-83e3-c0b9237a2b32"
      },
      "id": "jT_n1vakeFV1",
      "execution_count": 435,
      "outputs": [
        {
          "output_type": "stream",
          "name": "stdout",
          "text": [
            "0.36686029515341523\n"
          ]
        }
      ]
    },
    {
      "cell_type": "markdown",
      "source": [
        "**완벽하게 제 가설이 반박당한 것 같습니다.** 분명 다른 요소들도 모델의 성능에 영향을 미치고 있음을 확인 할 수 있습니다. 가설을 다시 보면.\n",
        "\n",
        "1. 특별한 상황이 아니라면 **년도**는 특별한 Feature가 아닐 것이다. Ex) COVID-19\n",
        "\n",
        "2. **계절, 월** 과 같은 데이터는 온도, 습도, 풍속,상대온도 등의 데이터로 간접적으로 알 수 있을것이다.\n",
        "\n",
        "3. **날짜 데이터** 대부분은 크게 중요하지 않을것이다.즉, 평균적인 추세를 따라갈 것이다. 날짜보단 휴일, 일하는 날의 여부가 자전거의 렌탈에 더 영향을 미치는 요소일 것이다.\n",
        "\n",
        "4. 날씨와 시간대 또한 자전거의 렌탈에 영향을 미치는 요소일 것이다.\n",
        "\n",
        "제가 뺐던건 년,월, 일,계절 데이터였습니다. 뭔지는 모르겠지만 저 feature들이 모델의 성능에 영향을 미친다는 것입니다."
      ],
      "metadata": {
        "id": "LZdQtpO3eSKV"
      },
      "id": "LZdQtpO3eSKV"
    },
    {
      "cell_type": "markdown",
      "source": [
        "## END\n",
        "\n",
        "이번 노드를 진행하면서 Project.1은 선형회귀모델을 사용해보기 전 어떤 원리로 모델이 동작하고 학습을 하게되는지, 어떤 방식으로 MSE혹은 RMSE값을 출력하게 되는지를 라이브러리를 사용하지 않고 직접 코드로 구현하는 과정이었습니다.\n",
        "이 과정에서 편미분을 통해 Grafient를 계산하는 공식을 구했고, 직접 hyper parameter를 설정해서 학습을 시켜 학습률에 따라 모델의 성능이 어떻게 달라지는지도 확인했습니다.\n",
        "\\\n",
        "\\\n",
        "반면 Project.2의 경우 Project.1에서 얻은 결론을 기반으로 대회에서 쓰이는 데이터를 사용하여 학습시킨 결과가 어떤지를 보는 과정이었습니다. \n",
        "\\\n",
        "\\\n",
        "이 과정에서 의미없어 보이는 데이터를 간단한 전처리를 통해 삭제했고, 가설을 세워 예측에 큰 영향이 없을 것이라 생각되는 feature들을 제거하고 학습을 시켰지만 결과는 모든 데이터를 사용했을 때보다 낮은 성능을 보였습니다.\n",
        "\n",
        "이를 통해 관계없어 보이는 데이터라도 LinearRegression에서 충분한 데이터만 있다면 모델의 성능이 올라간다는 추측을 할 수 있을것 같습니다.\n"
      ],
      "metadata": {
        "id": "FIzS9F4X0Ufw"
      },
      "id": "FIzS9F4X0Ufw"
    },
    {
      "cell_type": "code",
      "source": [
        ""
      ],
      "metadata": {
        "id": "7Ezjnt4L6OKa"
      },
      "id": "7Ezjnt4L6OKa",
      "execution_count": null,
      "outputs": []
    }
  ],
  "metadata": {
    "colab": {
      "collapsed_sections": [],
      "name": "[E_02]_Sweet_Child_O_Mine.ipynb",
      "provenance": []
    },
    "kernelspec": {
      "display_name": "Python 3 (ipykernel)",
      "language": "python",
      "name": "python3"
    },
    "language_info": {
      "codemirror_mode": {
        "name": "ipython",
        "version": 3
      },
      "file_extension": ".py",
      "mimetype": "text/x-python",
      "name": "python",
      "nbconvert_exporter": "python",
      "pygments_lexer": "ipython3",
      "version": "3.9.7"
    }
  },
  "nbformat": 4,
  "nbformat_minor": 5
}
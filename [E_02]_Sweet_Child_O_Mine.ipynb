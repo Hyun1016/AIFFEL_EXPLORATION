{
  "cells": [
    {
      "cell_type": "markdown",
      "source": [
        "# 😶 데이터 가져오기\n",
        "\n",
        "as_frame 옵션을 통해 데이터를 데이터 프레임형식으로 가져올지 말지를 결정할 수 있습니다.\n",
        "\n",
        "데이터가 어떻게 되어있는지 보기 편하게 데이터 프레임 형식으로 본 후 np어레이 형식으로 바꾸려 합니다."
      ],
      "metadata": {
        "id": "T388czTYTXWM"
      },
      "id": "T388czTYTXWM"
    },
    {
      "cell_type": "code",
      "execution_count": 1,
      "id": "8b95ac18",
      "metadata": {
        "id": "8b95ac18"
      },
      "outputs": [],
      "source": [
        "from sklearn.datasets import load_diabetes\n",
        "import pandas as pd\n",
        "from pandas import DataFrame\n",
        "import numpy as np\n",
        "#df 형식으로 자료를 불러올 것인지 as_frame 인자를 통해 결정할 수 있다. default값이 False이므로 아무것도 입력하지 않으면 자료들이\n",
        "# ndarray형식으로 가져와진다.\n",
        "diabets = load_diabetes(as_frame=1)"
      ]
    },
    {
      "cell_type": "markdown",
      "source": [
        "변수 X,y에 당뇨병 데이터의 feature 와 label을 각각 할당해 줍니다."
      ],
      "metadata": {
        "id": "XjlhTkDVUBjZ"
      },
      "id": "XjlhTkDVUBjZ"
    },
    {
      "cell_type": "code",
      "execution_count": 2,
      "id": "f495d4f1",
      "metadata": {
        "id": "f495d4f1"
      },
      "outputs": [],
      "source": [
        "df_X = diabets.data\n",
        "df_y = diabets.target"
      ]
    },
    {
      "cell_type": "code",
      "source": [
        "print(diabets.DESCR)"
      ],
      "metadata": {
        "colab": {
          "base_uri": "https://localhost:8080/"
        },
        "id": "awsRxOrdbNEF",
        "outputId": "abeb07c5-10ab-4d35-e03d-7872ef4a2480"
      },
      "id": "awsRxOrdbNEF",
      "execution_count": 3,
      "outputs": [
        {
          "output_type": "stream",
          "name": "stdout",
          "text": [
            ".. _diabetes_dataset:\n",
            "\n",
            "Diabetes dataset\n",
            "----------------\n",
            "\n",
            "Ten baseline variables, age, sex, body mass index, average blood\n",
            "pressure, and six blood serum measurements were obtained for each of n =\n",
            "442 diabetes patients, as well as the response of interest, a\n",
            "quantitative measure of disease progression one year after baseline.\n",
            "\n",
            "**Data Set Characteristics:**\n",
            "\n",
            "  :Number of Instances: 442\n",
            "\n",
            "  :Number of Attributes: First 10 columns are numeric predictive values\n",
            "\n",
            "  :Target: Column 11 is a quantitative measure of disease progression one year after baseline\n",
            "\n",
            "  :Attribute Information:\n",
            "      - age     age in years\n",
            "      - sex\n",
            "      - bmi     body mass index\n",
            "      - bp      average blood pressure\n",
            "      - s1      tc, total serum cholesterol\n",
            "      - s2      ldl, low-density lipoproteins\n",
            "      - s3      hdl, high-density lipoproteins\n",
            "      - s4      tch, total cholesterol / HDL\n",
            "      - s5      ltg, possibly log of serum triglycerides level\n",
            "      - s6      glu, blood sugar level\n",
            "\n",
            "Note: Each of these 10 feature variables have been mean centered and scaled by the standard deviation times `n_samples` (i.e. the sum of squares of each column totals 1).\n",
            "\n",
            "Source URL:\n",
            "https://www4.stat.ncsu.edu/~boos/var.select/diabetes.html\n",
            "\n",
            "For more information see:\n",
            "Bradley Efron, Trevor Hastie, Iain Johnstone and Robert Tibshirani (2004) \"Least Angle Regression,\" Annals of Statistics (with discussion), 407-499.\n",
            "(https://web.stanford.edu/~hastie/Papers/LARS/LeastAngle_2002.pdf)\n"
          ]
        }
      ]
    },
    {
      "cell_type": "code",
      "execution_count": 4,
      "id": "4488c188",
      "metadata": {
        "scrolled": true,
        "colab": {
          "base_uri": "https://localhost:8080/"
        },
        "id": "4488c188",
        "outputId": "14216f0b-e714-4e9c-a8c0-6c6e820a868a"
      },
      "outputs": [
        {
          "output_type": "execute_result",
          "data": {
            "text/plain": [
              "(pandas.core.frame.DataFrame, pandas.core.series.Series)"
            ]
          },
          "metadata": {},
          "execution_count": 4
        }
      ],
      "source": [
        "type(df_X),type(df_y)"
      ]
    },
    {
      "cell_type": "markdown",
      "source": [
        "데이터의 type을 확인해 본 결과.\n",
        "X는 dataframe y는 Series 자료 형식이네요. Series 형식은 dict형식과 비슷하다 합니다."
      ],
      "metadata": {
        "id": "bSdxCWB5cVyA"
      },
      "id": "bSdxCWB5cVyA"
    },
    {
      "cell_type": "code",
      "execution_count": 5,
      "id": "bfe46c23",
      "metadata": {
        "scrolled": true,
        "colab": {
          "base_uri": "https://localhost:8080/"
        },
        "id": "bfe46c23",
        "outputId": "98c2ac1f-5302-4b26-aa0f-4b68189a9164"
      },
      "outputs": [
        {
          "output_type": "execute_result",
          "data": {
            "text/plain": [
              "((442, 10), (442,))"
            ]
          },
          "metadata": {},
          "execution_count": 5
        }
      ],
      "source": [
        "df_X.shape,df_y.shape"
      ]
    },
    {
      "cell_type": "markdown",
      "id": "29d4c0f7",
      "metadata": {
        "id": "29d4c0f7"
      },
      "source": [
        "df_X = 442개 데이터, 10개 columns\n",
        "\n",
        "df_y = 442개 데이터의 배열."
      ]
    },
    {
      "cell_type": "code",
      "execution_count": 6,
      "id": "b20220e5",
      "metadata": {
        "scrolled": true,
        "colab": {
          "base_uri": "https://localhost:8080/",
          "height": 206
        },
        "id": "b20220e5",
        "outputId": "51b8f625-4181-4706-edd9-d34e6c9d5806"
      },
      "outputs": [
        {
          "output_type": "execute_result",
          "data": {
            "text/plain": [
              "        age       sex       bmi        bp        s1        s2        s3  \\\n",
              "0  0.038076  0.050680  0.061696  0.021872 -0.044223 -0.034821 -0.043401   \n",
              "1 -0.001882 -0.044642 -0.051474 -0.026328 -0.008449 -0.019163  0.074412   \n",
              "2  0.085299  0.050680  0.044451 -0.005671 -0.045599 -0.034194 -0.032356   \n",
              "3 -0.089063 -0.044642 -0.011595 -0.036656  0.012191  0.024991 -0.036038   \n",
              "4  0.005383 -0.044642 -0.036385  0.021872  0.003935  0.015596  0.008142   \n",
              "\n",
              "         s4        s5        s6  \n",
              "0 -0.002592  0.019908 -0.017646  \n",
              "1 -0.039493 -0.068330 -0.092204  \n",
              "2 -0.002592  0.002864 -0.025930  \n",
              "3  0.034309  0.022692 -0.009362  \n",
              "4 -0.002592 -0.031991 -0.046641  "
            ],
            "text/html": [
              "\n",
              "  <div id=\"df-3226a753-488c-444c-9ca7-df4b1a0f0fdd\">\n",
              "    <div class=\"colab-df-container\">\n",
              "      <div>\n",
              "<style scoped>\n",
              "    .dataframe tbody tr th:only-of-type {\n",
              "        vertical-align: middle;\n",
              "    }\n",
              "\n",
              "    .dataframe tbody tr th {\n",
              "        vertical-align: top;\n",
              "    }\n",
              "\n",
              "    .dataframe thead th {\n",
              "        text-align: right;\n",
              "    }\n",
              "</style>\n",
              "<table border=\"1\" class=\"dataframe\">\n",
              "  <thead>\n",
              "    <tr style=\"text-align: right;\">\n",
              "      <th></th>\n",
              "      <th>age</th>\n",
              "      <th>sex</th>\n",
              "      <th>bmi</th>\n",
              "      <th>bp</th>\n",
              "      <th>s1</th>\n",
              "      <th>s2</th>\n",
              "      <th>s3</th>\n",
              "      <th>s4</th>\n",
              "      <th>s5</th>\n",
              "      <th>s6</th>\n",
              "    </tr>\n",
              "  </thead>\n",
              "  <tbody>\n",
              "    <tr>\n",
              "      <th>0</th>\n",
              "      <td>0.038076</td>\n",
              "      <td>0.050680</td>\n",
              "      <td>0.061696</td>\n",
              "      <td>0.021872</td>\n",
              "      <td>-0.044223</td>\n",
              "      <td>-0.034821</td>\n",
              "      <td>-0.043401</td>\n",
              "      <td>-0.002592</td>\n",
              "      <td>0.019908</td>\n",
              "      <td>-0.017646</td>\n",
              "    </tr>\n",
              "    <tr>\n",
              "      <th>1</th>\n",
              "      <td>-0.001882</td>\n",
              "      <td>-0.044642</td>\n",
              "      <td>-0.051474</td>\n",
              "      <td>-0.026328</td>\n",
              "      <td>-0.008449</td>\n",
              "      <td>-0.019163</td>\n",
              "      <td>0.074412</td>\n",
              "      <td>-0.039493</td>\n",
              "      <td>-0.068330</td>\n",
              "      <td>-0.092204</td>\n",
              "    </tr>\n",
              "    <tr>\n",
              "      <th>2</th>\n",
              "      <td>0.085299</td>\n",
              "      <td>0.050680</td>\n",
              "      <td>0.044451</td>\n",
              "      <td>-0.005671</td>\n",
              "      <td>-0.045599</td>\n",
              "      <td>-0.034194</td>\n",
              "      <td>-0.032356</td>\n",
              "      <td>-0.002592</td>\n",
              "      <td>0.002864</td>\n",
              "      <td>-0.025930</td>\n",
              "    </tr>\n",
              "    <tr>\n",
              "      <th>3</th>\n",
              "      <td>-0.089063</td>\n",
              "      <td>-0.044642</td>\n",
              "      <td>-0.011595</td>\n",
              "      <td>-0.036656</td>\n",
              "      <td>0.012191</td>\n",
              "      <td>0.024991</td>\n",
              "      <td>-0.036038</td>\n",
              "      <td>0.034309</td>\n",
              "      <td>0.022692</td>\n",
              "      <td>-0.009362</td>\n",
              "    </tr>\n",
              "    <tr>\n",
              "      <th>4</th>\n",
              "      <td>0.005383</td>\n",
              "      <td>-0.044642</td>\n",
              "      <td>-0.036385</td>\n",
              "      <td>0.021872</td>\n",
              "      <td>0.003935</td>\n",
              "      <td>0.015596</td>\n",
              "      <td>0.008142</td>\n",
              "      <td>-0.002592</td>\n",
              "      <td>-0.031991</td>\n",
              "      <td>-0.046641</td>\n",
              "    </tr>\n",
              "  </tbody>\n",
              "</table>\n",
              "</div>\n",
              "      <button class=\"colab-df-convert\" onclick=\"convertToInteractive('df-3226a753-488c-444c-9ca7-df4b1a0f0fdd')\"\n",
              "              title=\"Convert this dataframe to an interactive table.\"\n",
              "              style=\"display:none;\">\n",
              "        \n",
              "  <svg xmlns=\"http://www.w3.org/2000/svg\" height=\"24px\"viewBox=\"0 0 24 24\"\n",
              "       width=\"24px\">\n",
              "    <path d=\"M0 0h24v24H0V0z\" fill=\"none\"/>\n",
              "    <path d=\"M18.56 5.44l.94 2.06.94-2.06 2.06-.94-2.06-.94-.94-2.06-.94 2.06-2.06.94zm-11 1L8.5 8.5l.94-2.06 2.06-.94-2.06-.94L8.5 2.5l-.94 2.06-2.06.94zm10 10l.94 2.06.94-2.06 2.06-.94-2.06-.94-.94-2.06-.94 2.06-2.06.94z\"/><path d=\"M17.41 7.96l-1.37-1.37c-.4-.4-.92-.59-1.43-.59-.52 0-1.04.2-1.43.59L10.3 9.45l-7.72 7.72c-.78.78-.78 2.05 0 2.83L4 21.41c.39.39.9.59 1.41.59.51 0 1.02-.2 1.41-.59l7.78-7.78 2.81-2.81c.8-.78.8-2.07 0-2.86zM5.41 20L4 18.59l7.72-7.72 1.47 1.35L5.41 20z\"/>\n",
              "  </svg>\n",
              "      </button>\n",
              "      \n",
              "  <style>\n",
              "    .colab-df-container {\n",
              "      display:flex;\n",
              "      flex-wrap:wrap;\n",
              "      gap: 12px;\n",
              "    }\n",
              "\n",
              "    .colab-df-convert {\n",
              "      background-color: #E8F0FE;\n",
              "      border: none;\n",
              "      border-radius: 50%;\n",
              "      cursor: pointer;\n",
              "      display: none;\n",
              "      fill: #1967D2;\n",
              "      height: 32px;\n",
              "      padding: 0 0 0 0;\n",
              "      width: 32px;\n",
              "    }\n",
              "\n",
              "    .colab-df-convert:hover {\n",
              "      background-color: #E2EBFA;\n",
              "      box-shadow: 0px 1px 2px rgba(60, 64, 67, 0.3), 0px 1px 3px 1px rgba(60, 64, 67, 0.15);\n",
              "      fill: #174EA6;\n",
              "    }\n",
              "\n",
              "    [theme=dark] .colab-df-convert {\n",
              "      background-color: #3B4455;\n",
              "      fill: #D2E3FC;\n",
              "    }\n",
              "\n",
              "    [theme=dark] .colab-df-convert:hover {\n",
              "      background-color: #434B5C;\n",
              "      box-shadow: 0px 1px 3px 1px rgba(0, 0, 0, 0.15);\n",
              "      filter: drop-shadow(0px 1px 2px rgba(0, 0, 0, 0.3));\n",
              "      fill: #FFFFFF;\n",
              "    }\n",
              "  </style>\n",
              "\n",
              "      <script>\n",
              "        const buttonEl =\n",
              "          document.querySelector('#df-3226a753-488c-444c-9ca7-df4b1a0f0fdd button.colab-df-convert');\n",
              "        buttonEl.style.display =\n",
              "          google.colab.kernel.accessAllowed ? 'block' : 'none';\n",
              "\n",
              "        async function convertToInteractive(key) {\n",
              "          const element = document.querySelector('#df-3226a753-488c-444c-9ca7-df4b1a0f0fdd');\n",
              "          const dataTable =\n",
              "            await google.colab.kernel.invokeFunction('convertToInteractive',\n",
              "                                                     [key], {});\n",
              "          if (!dataTable) return;\n",
              "\n",
              "          const docLinkHtml = 'Like what you see? Visit the ' +\n",
              "            '<a target=\"_blank\" href=https://colab.research.google.com/notebooks/data_table.ipynb>data table notebook</a>'\n",
              "            + ' to learn more about interactive tables.';\n",
              "          element.innerHTML = '';\n",
              "          dataTable['output_type'] = 'display_data';\n",
              "          await google.colab.output.renderOutput(dataTable, element);\n",
              "          const docLink = document.createElement('div');\n",
              "          docLink.innerHTML = docLinkHtml;\n",
              "          element.appendChild(docLink);\n",
              "        }\n",
              "      </script>\n",
              "    </div>\n",
              "  </div>\n",
              "  "
            ]
          },
          "metadata": {},
          "execution_count": 6
        }
      ],
      "source": [
        "df_X.head()"
      ]
    },
    {
      "cell_type": "code",
      "execution_count": 7,
      "id": "a95e6eb1",
      "metadata": {
        "scrolled": true,
        "colab": {
          "base_uri": "https://localhost:8080/"
        },
        "id": "a95e6eb1",
        "outputId": "f95353e9-cd37-4238-d19f-eb520c90246f"
      },
      "outputs": [
        {
          "output_type": "execute_result",
          "data": {
            "text/plain": [
              "0    151.0\n",
              "1     75.0\n",
              "2    141.0\n",
              "3    206.0\n",
              "4    135.0\n",
              "Name: target, dtype: float64"
            ]
          },
          "metadata": {},
          "execution_count": 7
        }
      ],
      "source": [
        "df_y.head()"
      ]
    },
    {
      "cell_type": "markdown",
      "id": "8c76ce41",
      "metadata": {
        "id": "8c76ce41"
      },
      "source": [
        "범주형 데이터를 연속형 데이터처럼 변환해야 할 줄 알았으나 데이터를 살펴보니 그럴 필요가 없었다."
      ]
    },
    {
      "cell_type": "markdown",
      "source": [
        "# 😶 모델에 입력할 데이터 X,y 준비하기\n",
        "\n",
        "to_numpy() 함수를 사용해서 X,y를 np array형식으로 변경."
      ],
      "metadata": {
        "id": "iMzB03pLawyg"
      },
      "id": "iMzB03pLawyg"
    },
    {
      "cell_type": "code",
      "execution_count": 8,
      "id": "c93933ee",
      "metadata": {
        "id": "c93933ee"
      },
      "outputs": [],
      "source": [
        "X = df_X.to_numpy()\n",
        "y = df_y.to_numpy()"
      ]
    },
    {
      "cell_type": "code",
      "execution_count": 9,
      "id": "07219b82",
      "metadata": {
        "scrolled": true,
        "colab": {
          "base_uri": "https://localhost:8080/"
        },
        "id": "07219b82",
        "outputId": "cc5ce86c-e46a-4e28-c7f1-72b7d0ba30ca"
      },
      "outputs": [
        {
          "output_type": "execute_result",
          "data": {
            "text/plain": [
              "(442, 10)"
            ]
          },
          "metadata": {},
          "execution_count": 9
        }
      ],
      "source": [
        "X.shape"
      ]
    },
    {
      "cell_type": "code",
      "execution_count": 10,
      "id": "0755b482",
      "metadata": {
        "scrolled": true,
        "colab": {
          "base_uri": "https://localhost:8080/"
        },
        "id": "0755b482",
        "outputId": "ad886af9-1adc-4d3c-91a7-6f191b67ab1b"
      },
      "outputs": [
        {
          "output_type": "execute_result",
          "data": {
            "text/plain": [
              "(442,)"
            ]
          },
          "metadata": {},
          "execution_count": 10
        }
      ],
      "source": [
        "y.shape"
      ]
    },
    {
      "cell_type": "markdown",
      "source": [
        "# 😶훈련용 데이터와 Test용 데이터로 분리."
      ],
      "metadata": {
        "id": "RJAdoV1MdO27"
      },
      "id": "RJAdoV1MdO27"
    },
    {
      "cell_type": "code",
      "execution_count": 11,
      "id": "01d10e13",
      "metadata": {
        "id": "01d10e13"
      },
      "outputs": [],
      "source": [
        "from sklearn.model_selection import train_test_split\n",
        "X_train, X_test, y_train, y_test = train_test_split(X, \n",
        "                                                    y, \n",
        "                                                    test_size=0.2, \n",
        "                                                    random_state=3489)"
      ]
    },
    {
      "cell_type": "code",
      "execution_count": 12,
      "id": "90f771a6",
      "metadata": {
        "id": "90f771a6"
      },
      "outputs": [],
      "source": [
        "#W와 b의 초기값 설정\n",
        "W = np.random.rand(10)\n",
        "b = np.random.rand()  "
      ]
    },
    {
      "cell_type": "code",
      "source": [
        "print(W)\n",
        "print(W.shape)\n",
        "print(b)"
      ],
      "metadata": {
        "colab": {
          "base_uri": "https://localhost:8080/"
        },
        "id": "vtvdwxg7ZZr2",
        "outputId": "d4169970-35c8-4774-8f9e-134e1811cfaa"
      },
      "id": "vtvdwxg7ZZr2",
      "execution_count": 13,
      "outputs": [
        {
          "output_type": "stream",
          "name": "stdout",
          "text": [
            "[0.79049166 0.695522   0.80008303 0.13959833 0.23735726 0.5514559\n",
            " 0.06025873 0.71540567 0.15266199 0.37687795]\n",
            "(10,)\n",
            "0.7360342767821936\n"
          ]
        }
      ]
    },
    {
      "cell_type": "markdown",
      "source": [
        "# 😶모델 준비하기"
      ],
      "metadata": {
        "id": "L1R1emXhfnr7"
      },
      "id": "L1R1emXhfnr7"
    },
    {
      "cell_type": "code",
      "source": [
        "#벡터의 내적과 브로드캐스트 연산을 이용하여 모델을 만든다.\n",
        "# dot 연산은 1차원 배열과 n*m차원의 벡터의 연산을 지원한다.\n",
        "def model(X,W,b):\n",
        "    pred_y = X.dot(W)+b\n",
        "    return pred_y"
      ],
      "metadata": {
        "id": "QwOizv2EgTqJ"
      },
      "id": "QwOizv2EgTqJ",
      "execution_count": 14,
      "outputs": []
    },
    {
      "cell_type": "markdown",
      "source": [
        "모델에 X,W,b를 넣어서 계산해본 결과 생각한 대로 (442,) 배열이 나왔다.\n",
        "\n",
        "이대로 써도 됨"
      ],
      "metadata": {
        "id": "NC8Ah7fGhx8t"
      },
      "id": "NC8Ah7fGhx8t"
    },
    {
      "cell_type": "markdown",
      "source": [
        "# 😶손실함수 loss 정의하기"
      ],
      "metadata": {
        "id": "RsFnGikGjcCi"
      },
      "id": "RsFnGikGjcCi"
    },
    {
      "cell_type": "code",
      "source": [
        "# y에 모델링한 결과를 할당.\n",
        "# pred_y = model(X,W,b)\n",
        "\n",
        "# 결과의 shape을 출력 (검증)\n",
        "# print('shape of predicted y:', pred_y.shape)\n",
        "\n",
        "\n",
        "# 실제 y와 pred_y 간의 오차를 정의\n",
        "# er_t = y-pred_y \n",
        "\n",
        "\n",
        "# 결과의 shape을 출력 (검증)\n",
        "# print('shape of error:', er_t.shape)\n",
        "# sqer_t = er_t**2\n",
        "\n",
        "\n",
        "# MSE 값 출력 (검증)\n",
        "# mse_t = sqer_t.mean()\n",
        "# print('shape of squared error:', sqer_t.shape)\n",
        "# print('Value of MSE:', mse_t)\n",
        "\n",
        "\n",
        "# Root Mean Squre Error 구하는 함수를 정의\n",
        "def RMSE(y_actual,y_predict):\n",
        "    er = y_actual-y_predict\n",
        "    sqer = er**2\n",
        "    #sqer의 평균을 구해 제곱근을 구하여 rmse에 할당.\n",
        "    rmse = np.sqrt(sqer.mean())\n",
        "    return rmse"
      ],
      "metadata": {
        "colab": {
          "base_uri": "https://localhost:8080/"
        },
        "id": "-btSOewwJGpR",
        "outputId": "9664af02-0534-40ea-e3e8-1131bd6721c0"
      },
      "id": "-btSOewwJGpR",
      "execution_count": 15,
      "outputs": [
        {
          "output_type": "stream",
          "name": "stdout",
          "text": [
            "shape of predicted y: (442,)\n",
            "shape of error: (442,)\n",
            "shape of squared error: (442,)\n",
            "Value of MSE: 28841.051641588536\n"
          ]
        }
      ]
    },
    {
      "cell_type": "code",
      "source": [
        "# RMSE값 출력(검증)\n",
        "# test_rmse_t = RMSE(y,pred_y)\n",
        "# print('Value of RMSE:',test_rmse_t)"
      ],
      "metadata": {
        "colab": {
          "base_uri": "https://localhost:8080/"
        },
        "id": "IN6UXXxJMSb-",
        "outputId": "256ba903-0396-4db4-d19e-d7ffd812f931"
      },
      "id": "IN6UXXxJMSb-",
      "execution_count": 16,
      "outputs": [
        {
          "output_type": "stream",
          "name": "stdout",
          "text": [
            "Value of RMSE: 169.82653397390095\n"
          ]
        }
      ]
    },
    {
      "cell_type": "code",
      "source": [
        "# 손실함수 Loss를 정의\n",
        "def loss(x,w,b,y):\n",
        "    '모델에서 예측한 pred_y와 실제 y의 error을 통해 RMSE 값을 반환'\n",
        "    pred_y = model(x,w,b)\n",
        "    l = RMSE(y,pred_y)\n",
        "    return l"
      ],
      "metadata": {
        "id": "4gKHp8rNNRpM"
      },
      "id": "4gKHp8rNNRpM",
      "execution_count": 17,
      "outputs": []
    },
    {
      "cell_type": "markdown",
      "source": [
        "# 😶기울기를 구하는 gradient 함수 구현하기"
      ],
      "metadata": {
        "id": "J2sg-sprjoxo"
      },
      "id": "J2sg-sprjoxo"
    },
    {
      "cell_type": "markdown",
      "source": [
        "RMSE를 사용한 Loss에 대한 Gradient는 다음 공식을 구현\n",
        "\n",
        "$∂L \\over \\partialω_i$ =  $1 \\over N \\times RMSE$$ \\sum_{i=1}^N x_i \\left\\{y_{i,pred}-y_{i,true} \\right\\}$\n",
        "\n",
        "$∂L \\over \\partial b$ = $1 \\over N \\times RMSE $$ \\sum_{i=1}^N\\left\\{y_{i,pred}-y_{i,true} \\right\\}$\n",
        "\n"
      ],
      "metadata": {
        "id": "-BdK82yVdIpz"
      },
      "id": "-BdK82yVdIpz"
    },
    {
      "cell_type": "markdown",
      "source": [
        "gradient는 특정한 $ω_i$ 와 b에 대해 미분한 것이므로 $∂L \\over \\partialω_i$ 공식을 표기할 때 밑첨자 때문에 혼동을 주며, 직관적인 이해도 쉽지 않다.\n",
        "\n",
        "따라서 다음을 제안한다.\n",
        "\n",
        "$∂L \\over \\partialω_k$ =  $1 \\over N \\times RMSE$$ \\sum_{i=1}^N x^k_i \\left\\{y_{i,pred}-y_{i,true} \\right\\}$\n",
        "\n",
        "$ω_k$ = k번째의 가중치\n",
        "\n",
        "$x^k_i$ = k 번째의 feature의 i번째 데이터\n",
        "\n",
        "N = 데이터의 총 개수\n",
        "\n",
        "RMSE = 실제 데이터와 모델의 RMSE값\n",
        "\n",
        "$y_{i,true}$ = i번째 label 데이터\n",
        "\n",
        "$y_{i,pred}$ = i번째 predicted 데이터"
      ],
      "metadata": {
        "id": "2xslT58VIL-C"
      },
      "id": "2xslT58VIL-C"
    },
    {
      "cell_type": "code",
      "source": [
        "def gradient(X, W, b, y):\n",
        "    pred_y = model(X, W, b)\n",
        "    #label데이터의 총 개수를 N으로 지정.(헷갈림 방지)\n",
        "    N = len(y)\n",
        "    rmse = RMSE(y,pred_y)    \n",
        "    # X의 shape은 (442,10) er의 shape은 (442,) 벡터의 내적을 수행할 수 없으므로 전치행렬 메서드로 shape을 (10,442)로 바꿔준 후 계산.\n",
        "    dW =1/(rmse*N)*X.T.dot(pred_y - y)\n",
        "    # b의 gradient 계산\n",
        "    db = (1/rmse) * (pred_y - y).mean()\n",
        "    return dW, db"
      ],
      "metadata": {
        "id": "l8b0SWWAJG93"
      },
      "id": "l8b0SWWAJG93",
      "execution_count": 18,
      "outputs": []
    },
    {
      "cell_type": "code",
      "source": [
        "dW, db = gradient(X, W, b, y)\n",
        "print(\"dW:\", dW)\n",
        "print(\"shape of dW :\",W.shape)\n",
        "print(\"db:\", db)"
      ],
      "metadata": {
        "colab": {
          "base_uri": "https://localhost:8080/"
        },
        "id": "bJfzYYOJSgvK",
        "outputId": "a0df0a12-5e6f-42f9-c5b8-eb295044aa1f"
      },
      "id": "bJfzYYOJSgvK",
      "execution_count": 19,
      "outputs": [
        {
          "output_type": "stream",
          "name": "stdout",
          "text": [
            "dW: [-0.00403123 -0.0009109  -0.01262508 -0.00950281 -0.00454904 -0.00372878\n",
            "  0.0084965  -0.00925497 -0.01218125 -0.00822648]\n",
            "shape of dW : (10,)\n",
            "db: -0.8914828934174714\n"
          ]
        }
      ]
    },
    {
      "cell_type": "markdown",
      "source": [
        "# 😶모델 학습하기"
      ],
      "metadata": {
        "id": "YZHaei2LjoNv"
      },
      "id": "YZHaei2LjoNv"
    },
    {
      "cell_type": "code",
      "source": [
        "# 학습률 후보 생성\n",
        "LEARNING_RATE_for_test =[0.1,1,10,15,50,75,100,150,500,750,1000]"
      ],
      "metadata": {
        "id": "ud5YUzoR2ml2"
      },
      "id": "ud5YUzoR2ml2",
      "execution_count": 20,
      "outputs": []
    },
    {
      "cell_type": "code",
      "source": [
        "# def Training(X, W, b, y):\n",
        "#     결과 입력할 빈 리스트 생성\n",
        "#     losses_t = []\n",
        "#     #LEARNING_RATE_for_test 개수만큼 LEARNING_RATE 달라지게 1000회 학습\n",
        "#     for a in LEARNING_RATE_for_test:\n",
        "#         for i in range(1, 1001):\n",
        "#             dW, db = gradient(X, W, b, y)\n",
        "#             W -= a * dW\n",
        "#             b -= a * db\n",
        "#             L = loss(X, W, b, y)\n",
        "#             if i == 1000:\n",
        "#                 losses_t.append(L)\n",
        "#     return losses_t\n",
        "#     print(losses_t)        "
      ],
      "metadata": {
        "id": "-opUivpyAABT"
      },
      "id": "-opUivpyAABT",
      "execution_count": 21,
      "outputs": []
    },
    {
      "cell_type": "code",
      "source": [
        "# LEARNING_RATE 별로 학습된 모델의 Loss를 Dataframe형식으로 생성.\n",
        "# list_of_loss = Training(X_train, W, b, y_train)\n",
        "# Loss_df = pd.DataFrame({\"LR_t Value\":LEARNING_RATE_for_test,\"Loss Value\":list_of_loss})\n",
        "# Loss_df"
      ],
      "metadata": {
        "id": "rTljM7ANMwRJ"
      },
      "id": "rTljM7ANMwRJ",
      "execution_count": 22,
      "outputs": []
    },
    {
      "cell_type": "markdown",
      "source": [
        "LEARNING RATE(학습률)은 대략적으로 15~100 사이의 수이면 성능에 큰 차이가 없음을 알았다. \n",
        "\n",
        "75이상의 LEARNING RATE에서 소수점 3자리수의 Loss값이 줄어들지만 아주 작은 차이이다.\n",
        "\n",
        "따라서 이를 토대로 LEARNING RATE를 결정할 것이다."
      ],
      "metadata": {
        "id": "8u7BKlkaP6Wo"
      },
      "id": "8u7BKlkaP6Wo"
    },
    {
      "cell_type": "code",
      "source": [
        "# 학습률 한 개에 대해서 학습.\n",
        "LEARNING_RATE = 18.2233\n",
        "print(b)"
      ],
      "metadata": {
        "id": "VOvAacSQDJ3e",
        "colab": {
          "base_uri": "https://localhost:8080/"
        },
        "outputId": "1726ad49-4938-4298-bb39-2178483ba8b8"
      },
      "id": "VOvAacSQDJ3e",
      "execution_count": 23,
      "outputs": [
        {
          "output_type": "stream",
          "name": "stdout",
          "text": [
            "0.7360342767821936\n"
          ]
        }
      ]
    },
    {
      "cell_type": "code",
      "source": [
        "losses = []\n",
        "def Training_for_plot(X1, W1, k1, y1):\n",
        "    for i in range(1, 1001):\n",
        "        dW, db = gradient(X1, W1, k1, y1)\n",
        "        W1 -= LEARNING_RATE * dW\n",
        "        k1 -= LEARNING_RATE * db\n",
        "        L = loss(X1, W1, k1, y1)\n",
        "        losses.append(L)\n",
        "        if i % 10 == 0:\n",
        "            #Training이 10회 단위로 진행 될 때마다 Loss출력\n",
        "            print('Iteration %d : b %0.4f' % (i, k1))\n",
        "    return k1"
      ],
      "metadata": {
        "id": "Gg7DFyODJHf-"
      },
      "id": "Gg7DFyODJHf-",
      "execution_count": 24,
      "outputs": []
    },
    {
      "cell_type": "code",
      "source": [
        "import matplotlib.pyplot as plt\n",
        "b = Training_for_plot(X_train, W, b, y_train)\n",
        "print(b)"
      ],
      "metadata": {
        "colab": {
          "base_uri": "https://localhost:8080/"
        },
        "id": "hNqdCAYNyToG",
        "outputId": "48de330f-04c7-42be-fb46-86a91789bf31"
      },
      "id": "hNqdCAYNyToG",
      "execution_count": 25,
      "outputs": [
        {
          "output_type": "stream",
          "name": "stdout",
          "text": [
            "Iteration 10 : b 126.5235\n",
            "Iteration 20 : b 150.9504\n",
            "Iteration 30 : b 152.7241\n",
            "Iteration 40 : b 152.8422\n",
            "Iteration 50 : b 152.8474\n",
            "Iteration 60 : b 152.8451\n",
            "Iteration 70 : b 152.8425\n",
            "Iteration 80 : b 152.8399\n",
            "Iteration 90 : b 152.8374\n",
            "Iteration 100 : b 152.8350\n",
            "Iteration 110 : b 152.8327\n",
            "Iteration 120 : b 152.8305\n",
            "Iteration 130 : b 152.8283\n",
            "Iteration 140 : b 152.8263\n",
            "Iteration 150 : b 152.8243\n",
            "Iteration 160 : b 152.8224\n",
            "Iteration 170 : b 152.8206\n",
            "Iteration 180 : b 152.8189\n",
            "Iteration 190 : b 152.8173\n",
            "Iteration 200 : b 152.8157\n",
            "Iteration 210 : b 152.8143\n",
            "Iteration 220 : b 152.8129\n",
            "Iteration 230 : b 152.8116\n",
            "Iteration 240 : b 152.8104\n",
            "Iteration 250 : b 152.8092\n",
            "Iteration 260 : b 152.8081\n",
            "Iteration 270 : b 152.8071\n",
            "Iteration 280 : b 152.8062\n",
            "Iteration 290 : b 152.8053\n",
            "Iteration 300 : b 152.8046\n",
            "Iteration 310 : b 152.8038\n",
            "Iteration 320 : b 152.8032\n",
            "Iteration 330 : b 152.8026\n",
            "Iteration 340 : b 152.8021\n",
            "Iteration 350 : b 152.8016\n",
            "Iteration 360 : b 152.8013\n",
            "Iteration 370 : b 152.8009\n",
            "Iteration 380 : b 152.8007\n",
            "Iteration 390 : b 152.8005\n",
            "Iteration 400 : b 152.8003\n",
            "Iteration 410 : b 152.8002\n",
            "Iteration 420 : b 152.8002\n",
            "Iteration 430 : b 152.8002\n",
            "Iteration 440 : b 152.8003\n",
            "Iteration 450 : b 152.8004\n",
            "Iteration 460 : b 152.8006\n",
            "Iteration 470 : b 152.8008\n",
            "Iteration 480 : b 152.8011\n",
            "Iteration 490 : b 152.8014\n",
            "Iteration 500 : b 152.8017\n",
            "Iteration 510 : b 152.8021\n",
            "Iteration 520 : b 152.8026\n",
            "Iteration 530 : b 152.8031\n",
            "Iteration 540 : b 152.8036\n",
            "Iteration 550 : b 152.8041\n",
            "Iteration 560 : b 152.8047\n",
            "Iteration 570 : b 152.8054\n",
            "Iteration 580 : b 152.8061\n",
            "Iteration 590 : b 152.8068\n",
            "Iteration 600 : b 152.8075\n",
            "Iteration 610 : b 152.8083\n",
            "Iteration 620 : b 152.8091\n",
            "Iteration 630 : b 152.8099\n",
            "Iteration 640 : b 152.8108\n",
            "Iteration 650 : b 152.8116\n",
            "Iteration 660 : b 152.8126\n",
            "Iteration 670 : b 152.8135\n",
            "Iteration 680 : b 152.8144\n",
            "Iteration 690 : b 152.8154\n",
            "Iteration 700 : b 152.8164\n",
            "Iteration 710 : b 152.8175\n",
            "Iteration 720 : b 152.8185\n",
            "Iteration 730 : b 152.8196\n",
            "Iteration 740 : b 152.8207\n",
            "Iteration 750 : b 152.8218\n",
            "Iteration 760 : b 152.8229\n",
            "Iteration 770 : b 152.8241\n",
            "Iteration 780 : b 152.8252\n",
            "Iteration 790 : b 152.8264\n",
            "Iteration 800 : b 152.8276\n",
            "Iteration 810 : b 152.8288\n",
            "Iteration 820 : b 152.8300\n",
            "Iteration 830 : b 152.8312\n",
            "Iteration 840 : b 152.8324\n",
            "Iteration 850 : b 152.8337\n",
            "Iteration 860 : b 152.8349\n",
            "Iteration 870 : b 152.8362\n",
            "Iteration 880 : b 152.8375\n",
            "Iteration 890 : b 152.8388\n",
            "Iteration 900 : b 152.8401\n",
            "Iteration 910 : b 152.8414\n",
            "Iteration 920 : b 152.8427\n",
            "Iteration 930 : b 152.8440\n",
            "Iteration 940 : b 152.8453\n",
            "Iteration 950 : b 152.8466\n",
            "Iteration 960 : b 152.8480\n",
            "Iteration 970 : b 152.8493\n",
            "Iteration 980 : b 152.8506\n",
            "Iteration 990 : b 152.8520\n",
            "Iteration 1000 : b 152.8533\n",
            "152.85333190524892\n"
          ]
        }
      ]
    },
    {
      "cell_type": "code",
      "source": [
        "import matplotlib.pyplot as plt\n",
        "plt.plot(losses)\n",
        "plt.show()"
      ],
      "metadata": {
        "colab": {
          "base_uri": "https://localhost:8080/",
          "height": 265
        },
        "id": "9T4qc-CSVE2L",
        "outputId": "f6d6a42a-c546-400d-ccbe-675ddf6962a9"
      },
      "id": "9T4qc-CSVE2L",
      "execution_count": 26,
      "outputs": [
        {
          "output_type": "display_data",
          "data": {
            "text/plain": [
              "<Figure size 432x288 with 1 Axes>"
            ],
            "image/png": "[encoded data removed]"
          },
          "metadata": {
            "needs_background": "light"
          }
        }
      ]
    },
    {
      "cell_type": "code",
      "source": [
        "print(b)"
      ],
      "metadata": {
        "colab": {
          "base_uri": "https://localhost:8080/"
        },
        "id": "Fbth2wHCybcn",
        "outputId": "5e45fe55-5ea9-48c4-e0d6-68a8925c5b47"
      },
      "id": "Fbth2wHCybcn",
      "execution_count": 27,
      "outputs": [
        {
          "output_type": "stream",
          "name": "stdout",
          "text": [
            "152.85333190524892\n"
          ]
        }
      ]
    },
    {
      "cell_type": "markdown",
      "source": [
        "# 😶하이퍼 파라미터인 학습률 설정하기"
      ],
      "metadata": {
        "id": "mjNylQm02qZo"
      },
      "id": "mjNylQm02qZo"
    },
    {
      "cell_type": "code",
      "source": [
        "LEARNING_RATE = 18.1228"
      ],
      "metadata": {
        "id": "uvLxNf1n2rcp"
      },
      "id": "uvLxNf1n2rcp",
      "execution_count": 28,
      "outputs": []
    },
    {
      "cell_type": "markdown",
      "source": [
        "학습률은 100보다는 아주 약간 작은 수를 아무렇게나 입력하여 정했다."
      ],
      "metadata": {
        "id": "VgpvY1fhQrwf"
      },
      "id": "VgpvY1fhQrwf"
    },
    {
      "cell_type": "markdown",
      "source": [
        "# 😶test 데이터에 대한 성능 확인하기"
      ],
      "metadata": {
        "id": "GTHFwzvEIOi2"
      },
      "id": "GTHFwzvEIOi2"
    },
    {
      "cell_type": "code",
      "source": [
        "prediction = model(X_test, W, b)\n",
        "rmse_t1 = loss(X_test, W, b,y_test)\n",
        "rmse_t1"
      ],
      "metadata": {
        "id": "QGd83FgHJH24",
        "colab": {
          "base_uri": "https://localhost:8080/"
        },
        "outputId": "2b6ec8ef-d2b9-41b6-cc9a-9b04e6cb219f"
      },
      "id": "QGd83FgHJH24",
      "execution_count": 29,
      "outputs": [
        {
          "output_type": "execute_result",
          "data": {
            "text/plain": [
              "51.210605465595265"
            ]
          },
          "metadata": {},
          "execution_count": 29
        }
      ]
    },
    {
      "cell_type": "markdown",
      "source": [
        "# 😶Visualization"
      ],
      "metadata": {
        "id": "FpJ85fGrIRxC"
      },
      "id": "FpJ85fGrIRxC"
    },
    {
      "cell_type": "code",
      "source": [
        "plt.scatter(X_test[:, 0], y_test)\n",
        "plt.scatter(X_test[:, 0], prediction)\n",
        "plt.legend([\"y_true\",\"prediction\"])\n",
        "plt.show()"
      ],
      "metadata": {
        "id": "50CZ-uPijSUl",
        "colab": {
          "base_uri": "https://localhost:8080/",
          "height": 265
        },
        "outputId": "6244fba1-31c0-46bc-a661-7cc5e7f6fe2b"
      },
      "id": "50CZ-uPijSUl",
      "execution_count": 30,
      "outputs": [
        {
          "output_type": "display_data",
          "data": {
            "text/plain": [
              "<Figure size 432x288 with 1 Axes>"
            ],
            "image/png": "[encoded data removed]"
          },
          "metadata": {
            "needs_background": "light"
          }
        }
      ]
    },
    {
      "cell_type": "markdown",
      "source": [
        "예측값과 실제값의 모양은 비슷하지만 알 수 없는 이유로 실제값과의 off-set이 오차를 키운것 같다.\n",
        "\n",
        "그렇다면 off-set에 가장 가까운 b값을 조정한다면 실제값과 예측값이 잘 맞아 떨어질 것 같다."
      ],
      "metadata": {
        "id": "4F9d_CUqZ1dc"
      },
      "id": "4F9d_CUqZ1dc"
    },
    {
      "cell_type": "code",
      "source": [
        "# # b값을 off-set값에 비슷하게 조정\n",
        "# prediction = model(X_test, W, 135)\n",
        "# rmse_t1 = loss(X_test, W, 135,y_test)\n",
        "# rmse_t1"
      ],
      "metadata": {
        "id": "K1QYs7YlAcXR"
      },
      "id": "K1QYs7YlAcXR",
      "execution_count": 31,
      "outputs": []
    },
    {
      "cell_type": "code",
      "source": [
        "# # b값을 off-set값에 비슷하게 조정\n",
        "# prediction = model(X_test, W, 140)\n",
        "# rmse_t1 = loss(X_test, W, 140,y_test)\n",
        "# rmse_t1"
      ],
      "metadata": {
        "id": "UGuymZcpe_g0"
      },
      "id": "UGuymZcpe_g0",
      "execution_count": 32,
      "outputs": []
    },
    {
      "cell_type": "code",
      "source": [
        "# # b값을 off-set값에 비슷하게 조정\n",
        "# prediction = model(X_test, W, 145)\n",
        "# rmse_t1 = loss(X_test, W, 145,y_test)\n",
        "# rmse_t1"
      ],
      "metadata": {
        "id": "E6di5cxGfOrW"
      },
      "id": "E6di5cxGfOrW",
      "execution_count": 33,
      "outputs": []
    },
    {
      "cell_type": "code",
      "source": [
        "# # b값을 off-set값에 비슷하게 조정\n",
        "# prediction = model(X_test, W, 150)\n",
        "# rmse_t1 = loss(X_test, W, 150,y_test)\n",
        "# rmse_t1"
      ],
      "metadata": {
        "id": "y_Chv5OEfRVd"
      },
      "id": "y_Chv5OEfRVd",
      "execution_count": 34,
      "outputs": []
    },
    {
      "cell_type": "code",
      "source": [
        "# # b값을 off-set값에 비슷하게 조정\n",
        "# prediction = model(X_test, W, 155)\n",
        "# rmse_t1 = loss(X_test, W, 155,y_test)\n",
        "# rmse_t1"
      ],
      "metadata": {
        "id": "JGMh2hI3fXc2"
      },
      "id": "JGMh2hI3fXc2",
      "execution_count": 35,
      "outputs": []
    },
    {
      "cell_type": "markdown",
      "source": [
        "일단 155를 넣고 돌린 결과를 plotting 해보면"
      ],
      "metadata": {
        "id": "XaNucaulfcdF"
      },
      "id": "XaNucaulfcdF"
    },
    {
      "cell_type": "code",
      "source": [
        "# plt.scatter(X_test[:, 0], y_test)\n",
        "# plt.scatter(X_test[:, 0], prediction)\n",
        "# plt.legend([\"y_true\",\"prediction\"])\n",
        "# plt.show()"
      ],
      "metadata": {
        "id": "ku-CRigYfZ0m"
      },
      "id": "ku-CRigYfZ0m",
      "execution_count": 36,
      "outputs": []
    },
    {
      "cell_type": "markdown",
      "source": [
        "산점도 그래프가 잘 맞아 떨어진다. 왜 off-set이 나왔는지는 모르겠다.\n",
        "\n",
        "과적합인지 아니면 학습률을 잘못 설정해서인지.."
      ],
      "metadata": {
        "id": "0YZWPqstfs2K"
      },
      "id": "0YZWPqstfs2K"
    },
    {
      "cell_type": "code",
      "source": [
        ""
      ],
      "metadata": {
        "id": "_fnz0pNTfqWY"
      },
      "id": "_fnz0pNTfqWY",
      "execution_count": 36,
      "outputs": []
    }
  ],
  "metadata": {
    "kernelspec": {
      "display_name": "Python 3 (ipykernel)",
      "language": "python",
      "name": "python3"
    },
    "language_info": {
      "codemirror_mode": {
        "name": "ipython",
        "version": 3
      },
      "file_extension": ".py",
      "mimetype": "text/x-python",
      "name": "python",
      "nbconvert_exporter": "python",
      "pygments_lexer": "ipython3",
      "version": "3.9.7"
    },
    "colab": {
      "name": "[E-02].Sweet_Child_O_Mine.ipynb",
      "provenance": [],
      "collapsed_sections": []
    }
  },
  "nbformat": 4,
  "nbformat_minor": 5
}
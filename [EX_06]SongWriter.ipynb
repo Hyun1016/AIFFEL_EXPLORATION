{
  "nbformat": 4,
  "nbformat_minor": 0,
  "metadata": {
    "colab": {
      "name": "[EX-06]SongWriter",
      "provenance": [],
      "collapsed_sections": []
    },
    "kernelspec": {
      "name": "python3",
      "display_name": "Python 3"
    },
    "language_info": {
      "name": "python"
    },
    "accelerator": "GPU"
  },
  "cells": [
    {
      "cell_type": "code",
      "source": [
        "# find -name '*.txt' -exec basename {} \\; > list.txt"
      ],
      "metadata": {
        "id": "0TyF-FDQSRkI"
      },
      "execution_count": 84,
      "outputs": []
    },
    {
      "cell_type": "markdown",
      "source": [
        "# Start"
      ],
      "metadata": {
        "id": "AL2v9V81DdOj"
      }
    },
    {
      "cell_type": "markdown",
      "source": [
        "## Import Library"
      ],
      "metadata": {
        "id": "yHWvo84HDhFN"
      }
    },
    {
      "cell_type": "code",
      "source": [
        "import os, re \n",
        "import numpy as np\n",
        "import tensorflow as tf"
      ],
      "metadata": {
        "id": "old0w6JJYijv"
      },
      "execution_count": 85,
      "outputs": []
    },
    {
      "cell_type": "code",
      "source": [
        "import tensorflow as tf\n",
        "from tensorflow import keras\n",
        "\n",
        "import numpy as np\n",
        "import matplotlib.pyplot as plt\n",
        "import os"
      ],
      "metadata": {
        "id": "dzIb6zSwQrgA"
      },
      "execution_count": 86,
      "outputs": []
    },
    {
      "cell_type": "markdown",
      "source": [
        "## 데이터 불러오기\n",
        "\n",
        "가사 모음집을 가져옵니다."
      ],
      "metadata": {
        "id": "2DM1TVemDppc"
      }
    },
    {
      "cell_type": "code",
      "execution_count": 87,
      "metadata": {
        "colab": {
          "base_uri": "https://localhost:8080/"
        },
        "id": "pl8xhBf8LwuZ",
        "outputId": "aff3c503-ef1e-4fda-e50c-b4cec7b92d55"
      },
      "outputs": [
        {
          "output_type": "stream",
          "name": "stdout",
          "text": [
            "['prince.txt', 'dickinson.txt', 'notorious-big.txt', 'beatles.txt', 'bob-dylan.txt', 'bjork.txt', 'johnny-cash.txt', 'disney.txt', 'janisjoplin.txt', 'kanye.txt', 'bob-marley.txt', 'leonard-cohen.txt', 'ludacris.txt', 'adele.txt', 'alicia-keys.txt', 'joni-mitchell.txt', 'amy-winehouse.txt', 'lorde.txt', 'rihanna.txt', 'Kanye_West.txt', 'nirvana.txt', 'cake.txt', 'bieber.txt', 'notorious_big.txt', 'missy-elliott.txt', 'dolly-parton.txt', 'jimi-hendrix.txt', 'michael-jackson.txt', 'al-green.txt', 'lil-wayne.txt', 'lady-gaga.txt', 'lin-manuel-miranda.txt', 'nursery_rhymes.txt', 'dj-khaled.txt', 'radiohead.txt', 'patti-smith.txt', 'blink-182.txt', 'Lil_Wayne.txt', 'dr-seuss.txt', 'r-kelly.txt', 'drake.txt', 'britney-spears.txt', 'bruce-springsteen.txt', 'nicki-minaj.txt', 'kanye-west.txt', 'paul-simon.txt', 'nickelback.txt', 'eminem.txt', 'bruno-mars.txt']\n"
          ]
        }
      ],
      "source": [
        "lyric_list_path = '/content/drive/MyDrive/Data/list.txt'\n",
        "with open(lyric_list_path, \"r\") as f:\n",
        "    # 읽어온 파일을 splitlines() 함수로 줄 단위로 문자열을 리스트로 저장\n",
        "    lyric_list = f.read().splitlines()\n",
        "\n",
        "# 앞에서부터 10라인만 화면에 출력해 볼까요?\n",
        "print(lyric_list[:])"
      ]
    },
    {
      "cell_type": "markdown",
      "source": [
        "## Preprocessing"
      ],
      "metadata": {
        "id": "AA6W_w5oEHzP"
      }
    },
    {
      "cell_type": "markdown",
      "source": [
        "### step1.말뭉치 만들기"
      ],
      "metadata": {
        "id": "HPjbGOM4ECaQ"
      }
    },
    {
      "cell_type": "code",
      "source": [
        "raw_corpus = [] # 전처리 이전 말뭉치 리스트 생성\n",
        "for i in lyric_list:\n",
        "   path_lyric = '/content/drive/MyDrive/Data/lyrics/' + i\n",
        "   with open(path_lyric,\"r\") as f:\n",
        "        raw = f.read().splitlines()\n",
        "        # extend 메서드 리스트 끼리 더할 때 사용\n",
        "        raw_corpus.extend(raw)\n",
        "print(raw_corpus[-9:])"
      ],
      "metadata": {
        "colab": {
          "base_uri": "https://localhost:8080/"
        },
        "id": "ourFjDl-TA4V",
        "outputId": "3e735649-e399-4ece-d598-2b2f045116f9"
      },
      "execution_count": 88,
      "outputs": [
        {
          "output_type": "stream",
          "name": "stdout",
          "text": [
            "['No one can do me the way you do', \"It's always been you\", \"I'm all about you Oh oh oh oh oh oh oh oh\", \"I'm all about you\", 'Oh oh oh oh oh oh oh oh', \"I'm all about you\", 'Oh oh oh oh oh oh oh oh', \"I'm all about you girl\", 'Oh oh oh oh oh oh oh oh ']\n"
          ]
        }
      ]
    },
    {
      "cell_type": "code",
      "source": [
        "len(raw_corpus)"
      ],
      "metadata": {
        "colab": {
          "base_uri": "https://localhost:8080/"
        },
        "id": "kMkPFG8cXFk3",
        "outputId": "3caa1e1f-d3af-4879-b0ef-b7d9f26d8cce"
      },
      "execution_count": 89,
      "outputs": [
        {
          "output_type": "execute_result",
          "data": {
            "text/plain": [
              "187088"
            ]
          },
          "metadata": {},
          "execution_count": 89
        }
      ]
    },
    {
      "cell_type": "markdown",
      "source": [
        "말뭉치를 대충 알아보기"
      ],
      "metadata": {
        "id": "B5ZK0AqKEy1z"
      }
    },
    {
      "cell_type": "code",
      "source": [
        "for idx, sentence in enumerate(raw_corpus):\n",
        "    if len(sentence) == 0: continue   \n",
        "    # 길이가 0인 문장은 건너뜁니다.\n",
        "    if sentence[-1] == \":\": continue  # 문장의 끝이 : 인 문장은 건너뜁니다.\n",
        "\n",
        "    if idx > 9: break   # 문장 10개만 확인\n",
        "    print(sentence)\n",
        "    print(type(sentence))"
      ],
      "metadata": {
        "colab": {
          "base_uri": "https://localhost:8080/"
        },
        "id": "gIiYZ14NVXRH",
        "outputId": "0c4ee16d-9084-46d1-e5b4-a4949a224ae0"
      },
      "execution_count": 90,
      "outputs": [
        {
          "output_type": "stream",
          "name": "stdout",
          "text": [
            "All of this and more is for you\n",
            "<class 'str'>\n",
            "With love, sincerity and deepest care\n",
            "<class 'str'>\n",
            "My life with you I share\n",
            "<class 'str'>\n",
            "Ever since I met you, baby\n",
            "<class 'str'>\n",
            "I've been wantin' to lay you down\n",
            "<class 'str'>\n",
            "But it's so hard to get you\n",
            "<class 'str'>\n"
          ]
        }
      ]
    },
    {
      "cell_type": "code",
      "source": [
        "lenght_sentence = []\n",
        "for idx, sentence in enumerate(raw_corpus):\n",
        "    if len(sentence) == 0: continue   \n",
        "    if sentence[-1] == \":\": continue  # 문장의 끝이 : 인 문장은 건너뜀\n",
        "    lenght_sentence.append([idx,len(sentence)]) #문장의 길이 측정 및 저장"
      ],
      "metadata": {
        "id": "8WRHdH-Of0BH"
      },
      "execution_count": 91,
      "outputs": []
    },
    {
      "cell_type": "code",
      "source": [
        "len(lenght_sentence) # 대충 정제한 후 문장개수"
      ],
      "metadata": {
        "colab": {
          "base_uri": "https://localhost:8080/"
        },
        "id": "aSdOrn9AktJD",
        "outputId": "94d061f4-2983-4ffd-9b2f-827f57b4c8c2"
      },
      "execution_count": 92,
      "outputs": [
        {
          "output_type": "execute_result",
          "data": {
            "text/plain": [
              "175749"
            ]
          },
          "metadata": {},
          "execution_count": 92
        }
      ]
    },
    {
      "cell_type": "code",
      "source": [
        "lenght_sentence = np.array(lenght_sentence) #문자열 길이list를 ndarray로 변환"
      ],
      "metadata": {
        "id": "dgIkin45hguh"
      },
      "execution_count": 93,
      "outputs": []
    },
    {
      "cell_type": "code",
      "source": [
        "lenght_sentence.shape"
      ],
      "metadata": {
        "colab": {
          "base_uri": "https://localhost:8080/"
        },
        "id": "iTF_aBz8rRCq",
        "outputId": "7d3ac170-4628-4b59-c36e-d760e22429a6"
      },
      "execution_count": 94,
      "outputs": [
        {
          "output_type": "execute_result",
          "data": {
            "text/plain": [
              "(175749, 2)"
            ]
          },
          "metadata": {},
          "execution_count": 94
        }
      ]
    },
    {
      "cell_type": "code",
      "source": [
        "lenght_sentence # raw_corpus에서 인덱스와 문자열 길이를 반환"
      ],
      "metadata": {
        "colab": {
          "base_uri": "https://localhost:8080/"
        },
        "id": "LShKJhOakfxq",
        "outputId": "ff19a379-6587-4fb6-f9c8-8a685e67d922"
      },
      "execution_count": 95,
      "outputs": [
        {
          "output_type": "execute_result",
          "data": {
            "text/plain": [
              "array([[     2,     31],\n",
              "       [     3,     37],\n",
              "       [     4,     24],\n",
              "       ...,\n",
              "       [187085,     23],\n",
              "       [187086,     22],\n",
              "       [187087,     24]])"
            ]
          },
          "metadata": {},
          "execution_count": 95
        }
      ]
    },
    {
      "cell_type": "code",
      "source": [
        "index_r = np.argmax(lenght_sentence,axis = 0) #최댓값이 들어있는 위치 찾기\n",
        "print(index_r)"
      ],
      "metadata": {
        "colab": {
          "base_uri": "https://localhost:8080/"
        },
        "id": "yE4YcYNFggry",
        "outputId": "8bff8abb-b52e-46a4-ae36-f2be5fd836b7"
      },
      "execution_count": 96,
      "outputs": [
        {
          "output_type": "stream",
          "name": "stdout",
          "text": [
            "[175748  91284]\n"
          ]
        }
      ]
    },
    {
      "cell_type": "markdown",
      "source": [
        "[175748 91284]에서 첫 번째 열은 인덱스의 크기가 위치한 행 이므로 제외하고 , 두번째 열은 문자열 길이를 나타내므로 제일 긴 문장은 91284 행에 위치합니다."
      ],
      "metadata": {
        "id": "jjivR6J9n_-l"
      }
    },
    {
      "cell_type": "code",
      "source": [
        "lenght_sentence[175748,]"
      ],
      "metadata": {
        "colab": {
          "base_uri": "https://localhost:8080/"
        },
        "id": "9isSL03vqIj2",
        "outputId": "3a197e38-56d4-413f-9388-9f7fd7151b26"
      },
      "execution_count": 97,
      "outputs": [
        {
          "output_type": "execute_result",
          "data": {
            "text/plain": [
              "array([187087,     24])"
            ]
          },
          "metadata": {},
          "execution_count": 97
        }
      ]
    },
    {
      "cell_type": "code",
      "source": [
        "lenght_sentence[91284,]  # ...? 1465글자...?"
      ],
      "metadata": {
        "colab": {
          "base_uri": "https://localhost:8080/"
        },
        "id": "75oVz4YFiySN",
        "outputId": "9a7b3ba1-2aa3-4dec-a053-8a5632691a71"
      },
      "execution_count": 98,
      "outputs": [
        {
          "output_type": "execute_result",
          "data": {
            "text/plain": [
              "array([98199,  1465])"
            ]
          },
          "metadata": {},
          "execution_count": 98
        }
      ]
    },
    {
      "cell_type": "markdown",
      "source": [
        "가장 긴 문자열이 들어있는 raw_corpus의 위치는 98199 번째 인덱스입니다. 이정도면 가사 전체를 한번에 넣은거 같은 크깁니다."
      ],
      "metadata": {
        "id": "kjvRCeBYr_IN"
      }
    },
    {
      "cell_type": "code",
      "source": [
        "raw_corpus[98199]"
      ],
      "metadata": {
        "colab": {
          "base_uri": "https://localhost:8080/",
          "height": 90
        },
        "id": "1nN6aPX-lWiz",
        "outputId": "085fdd5b-4052-4223-993e-e26ecb1b2c3a"
      },
      "execution_count": 99,
      "outputs": [
        {
          "output_type": "execute_result",
          "data": {
            "text/plain": [
              "\"WRITERS RUSSELL BROWN, IRWIN LEVINE I'm comin' home, I've done my time Now I've got to know what is and isn't mine If you received my letter telling you I'd soon be free Then you'll know just what to do if you still want me If you still want me Just tie a yellow ribbon 'round the old oak tree It's been way too long, do you still want me? If I don't see a ribbon 'round the old oak tree I'll just stay on the bus, forget about us, put the blame on me If I don't see a yellow ribbon 'round the old oak tree Bus driver, please look for me 'Cause I couldn't bear to see what I might see I'm really still in prison and my love, he holds the key A simple yellow ribbon's all I need to set me free I wrote and told him please... Just tie a yellow ribbon 'round the old oak tree It's been way too long, do you still want me? If I don't see a ribbon 'round the old oak tree I'll just stay on the bus, forget about us, put the blame on me If I don't see a ribbon 'round the old oak tree Tie a yellow ribbon 'round that old oak tree I'm coming home Now the whole dang bus is cheerin' and I can't believe I see a hundred yellow ribbons tied 'round the old oak tree I'm comin' home, I'm glad you waited for me Tie a yellow ribbon 'round the old oak tree Tie a ribbon 'round the old oak tree Tie a ribbon 'round the old oak tree Tie a yellow ribbon if you still want me Tie a yellow ribbon 'round the old oak tree Tie a yellow ribbon 'round the old oak tree Here you come again\""
            ],
            "application/vnd.google.colaboratory.intrinsic+json": {
              "type": "string"
            }
          },
          "metadata": {},
          "execution_count": 99
        }
      ]
    },
    {
      "cell_type": "markdown",
      "source": [
        "문장을 고봉밥으로 넣어놨네요. 가사 넣다가 졸았나봅니다. 이해해요"
      ],
      "metadata": {
        "id": "yRGXrLpIp7bT"
      }
    },
    {
      "cell_type": "markdown",
      "source": [
        "다음으로는 문장 길이의 중간값을 찾아보겠습니다."
      ],
      "metadata": {
        "id": "ARv03_H5tTdX"
      }
    },
    {
      "cell_type": "code",
      "source": [
        "len_sent = []\n",
        "for idx, sentence in enumerate(raw_corpus):\n",
        "    if len(sentence) == 0: continue   \n",
        "    if sentence[-1] == \":\": continue  # 문장의 끝이 : 인 문장은 건너뜀\n",
        "    len_sent.append(len(sentence)) #문장의 길이 측정 및 저장"
      ],
      "metadata": {
        "id": "f0CTKBHmtYR8"
      },
      "execution_count": 100,
      "outputs": []
    },
    {
      "cell_type": "code",
      "source": [
        "med_corpus = np.median(len_sent)"
      ],
      "metadata": {
        "id": "1tHzi4XWtgWY"
      },
      "execution_count": 101,
      "outputs": []
    },
    {
      "cell_type": "code",
      "source": [
        "med_corpus"
      ],
      "metadata": {
        "colab": {
          "base_uri": "https://localhost:8080/"
        },
        "id": "vRxMbVkny41E",
        "outputId": "cb77388a-2166-42be-e38d-725f49b7275a"
      },
      "execution_count": 102,
      "outputs": [
        {
          "output_type": "execute_result",
          "data": {
            "text/plain": [
              "34.0"
            ]
          },
          "metadata": {},
          "execution_count": 102
        }
      ]
    },
    {
      "cell_type": "markdown",
      "source": [
        "문장 길이의 중간값은 약 34 였습니다, 그렇다면 문장을 정제할 때는 중간값보다 조금 더 여유를 줘서 40을 초과하는 문장도 패스 하도록 하겠습니다."
      ],
      "metadata": {
        "id": "q5F0wbyC0t35"
      }
    },
    {
      "cell_type": "markdown",
      "source": [
        "### step2. 조금 더 진심으로 전처리하기"
      ],
      "metadata": {
        "id": "3A7QL9p6JXPi"
      }
    },
    {
      "cell_type": "markdown",
      "source": [
        "특수문자를 필터링하는 함수를 정의합니다."
      ],
      "metadata": {
        "id": "CJMRF5VECMMI"
      }
    },
    {
      "cell_type": "code",
      "source": [
        "def preprocess_sentence(sentence):\n",
        "    # lower 소문자화,  strip : string.strip([문자]) == 문자열에서 공백을 제거하여 반환.\n",
        "    sentence = sentence.lower().strip() # 1 문장을 소문자로 만들고 공백을 제거   \n",
        "    sentence = re.sub(r\"([[]?.!,¿,])\", r\" \\1 \", sentence) # 2 문장에서 특수문자 양 쪽에 공백\n",
        "    sentence = re.sub(r'[\" \"]+', \" \", sentence) # 3 공백 여러개는 공백 하나로 변경\n",
        "    sentence = re.sub(r\"[^a-zA-Z?.!,¿]+\", \" \", sentence) # 4 첫 단어에 영어, 지정된 특수 문자 아닌것은 공백으로\n",
        "    sentence.replace(':','.') # : (콜론)은 . (dot)으로 변경\n",
        "    sentence = sentence.strip() # 5 문자열에서 공백 제거하고 반환.\n",
        "    sentence = '<start> ' + sentence + ' <end>' # 6 <start> <end>로 문장을 구분.\n",
        "    \n",
        "    return sentence\n",
        "\n",
        "# 이 문장이 어떻게 필터링되는지 확인해 보세요.\n",
        "print(preprocess_sentence(\"This @_is ;;;sample::        sentence.:::\"))"
      ],
      "metadata": {
        "colab": {
          "base_uri": "https://localhost:8080/"
        },
        "id": "7vyaaPsiW-LP",
        "outputId": "85b5cd9d-ceec-430e-fea5-74476577a605"
      },
      "execution_count": 103,
      "outputs": [
        {
          "output_type": "stream",
          "name": "stdout",
          "text": [
            "<start> this is sample sentence. <end>\n"
          ]
        }
      ]
    },
    {
      "cell_type": "markdown",
      "source": [
        "### step3. 정제된 말뭉치 만들기"
      ],
      "metadata": {
        "id": "jOGngk2xJS9r"
      }
    },
    {
      "cell_type": "code",
      "source": [
        "corpus = []\n",
        "\n",
        "for sentence in raw_corpus:\n",
        "    # 문장 길이가 0인건 건너뜀\n",
        "    if len(sentence) == 0: continue\n",
        "    #문장 길이가 40초과인것도 건너뜀 \n",
        "    if len(sentence) > 40: continue   \n",
        "    if sentence[-1] == \":\": continue\n",
        "    # 정제를 하고 담아주세요\n",
        "    preprocessed_sentence = preprocess_sentence(sentence) # <start>, <end>토큰 포함된 문장 포함\n",
        "    corpus.append(preprocessed_sentence)\n",
        "    if preprocessed_sentence[-1] == \":\":\n",
        "        print(preprocessed_sentence)\n",
        "    \n",
        "# 정제된 말뭉치 확인\n",
        "print(len(corpus)) "
      ],
      "metadata": {
        "colab": {
          "base_uri": "https://localhost:8080/"
        },
        "id": "31wSrMYAYdHh",
        "outputId": "66ce01b5-8158-48bc-a2e5-eff8d0b89470"
      },
      "execution_count": 104,
      "outputs": [
        {
          "output_type": "stream",
          "name": "stdout",
          "text": [
            "111948\n"
          ]
        }
      ]
    },
    {
      "cell_type": "markdown",
      "source": [
        "정제된 문장 수는 111948입니다. set을 사용하면 중복되는 문장을 제거할 수 있습니다."
      ],
      "metadata": {
        "id": "FXYFSheQBaVx"
      }
    },
    {
      "cell_type": "code",
      "source": [
        "corpus = list(set(corpus)) # set자료형을 사용해서 중복 제거\n",
        "print(len(corpus)) # set을 이용해 중복 제거후 말뭉치 길이 확인\n",
        "corpus[:10] # 말뭉치에 담긴 문장들 확인"
      ],
      "metadata": {
        "colab": {
          "base_uri": "https://localhost:8080/"
        },
        "id": "bd628aS0Xcev",
        "outputId": "7914b1ba-6f45-4b1e-cc29-b53c70858f11"
      },
      "execution_count": 105,
      "outputs": [
        {
          "output_type": "stream",
          "name": "stdout",
          "text": [
            "70471\n"
          ]
        },
        {
          "output_type": "execute_result",
          "data": {
            "text/plain": [
              "['<start> it s not getting any stronger <end>',\n",
              " '<start> say you liking how i feel, <end>',\n",
              " '<start> i could skate away on <end>',\n",
              " '<start> u know why? why? <end>',\n",
              " '<start> transporting must the moment be, <end>',\n",
              " '<start> it s his <end>',\n",
              " '<start> when you gon come for me, yeah <end>',\n",
              " '<start> just like you re ready <end>',\n",
              " '<start> nnnnow my flow <end>',\n",
              " '<start> it s all for man <end>']"
            ]
          },
          "metadata": {},
          "execution_count": 105
        }
      ]
    },
    {
      "cell_type": "markdown",
      "source": [
        ""
      ],
      "metadata": {
        "id": "NJx7JloGBedb"
      }
    },
    {
      "cell_type": "markdown",
      "source": [
        "## 토큰화"
      ],
      "metadata": {
        "id": "nZeleATqJbqb"
      }
    },
    {
      "cell_type": "markdown",
      "source": [
        "원어민은 2만 단어이상의 어휘를 구사한다 합니다.\n",
        "\n",
        "인공지능 작사가는 원어민 수준은 되어야 하므로 2만 단어를 넣어보겠습니다."
      ],
      "metadata": {
        "id": "78gecH4PyOws"
      }
    },
    {
      "cell_type": "code",
      "source": [
        "def tokenize(corpus):\n",
        "    tokenizer = tf.keras.preprocessing.text.Tokenizer(\n",
        "        # 단어장에 빈도수에 따라20000단어 저장,\n",
        "        num_words=20000, \n",
        "        # 공백이 있다면 공백 제거.\n",
        "        filters=' ',\n",
        "        # text_to_sequence() 함수를 실행 했을 때,단어장에 없는 단어는 <unk>로 대체하는 옵션\n",
        "        oov_token=\"<unk>\"\n",
        "    )\n",
        "    # fit_on_texts()에 corpus를 입력으로 넣어 tokenizer 내부의 단어장을 완성\n",
        "    tokenizer.fit_on_texts(corpus)\n",
        "    # 준비한 tokenizer를 이용해 corpus를 Tensor로 변환합니다\n",
        "    tensor = tokenizer.texts_to_sequences(corpus)   \n",
        "    # 입력 데이터의 시퀀스 길이를 일정하게 맞춰줍니다\n",
        "    # 만약 시퀀스가 짧다면 문장 뒤에 패딩을 붙여 길이를 맞춰줍니다.\n",
        "    # 문장 앞에 패딩을 붙여 길이를 맞추고 싶다면 padding='pre'를 사용합니다\n",
        "    tensor = tf.keras.preprocessing.sequence.pad_sequences(tensor, padding='post',maxlen=15)  \n",
        "    #maxlen을 사용해 사용할 시퀀스 최대 개수를 15개로 제한.\n",
        "    print(tensor,tokenizer)\n",
        "    return tensor, tokenizer\n",
        "\n",
        "tensor, tokenizer = tokenize(corpus)"
      ],
      "metadata": {
        "colab": {
          "base_uri": "https://localhost:8080/"
        },
        "id": "rCaWW57wYrx-",
        "outputId": "cd506121-5882-4bd3-f2c6-8434ebfaa748"
      },
      "execution_count": 106,
      "outputs": [
        {
          "output_type": "stream",
          "name": "stdout",
          "text": [
            "[[   2   10   14 ...    0    0    0]\n",
            " [   2   64    6 ...    0    0    0]\n",
            " [   2    4   91 ...    0    0    0]\n",
            " ...\n",
            " [   2    5 8745 ...    0    0    0]\n",
            " [   2   49   38 ...    0    0    0]\n",
            " [   2  742   40 ...    0    0    0]] <keras_preprocessing.text.Tokenizer object at 0x7f6f503549d0>\n"
          ]
        }
      ]
    },
    {
      "cell_type": "code",
      "source": [
        "tensor.shape"
      ],
      "metadata": {
        "colab": {
          "base_uri": "https://localhost:8080/"
        },
        "id": "KEgjNYav3LAw",
        "outputId": "69e57092-a413-4866-c891-8643fdb68e09"
      },
      "execution_count": 121,
      "outputs": [
        {
          "output_type": "execute_result",
          "data": {
            "text/plain": [
              "(70471, 15)"
            ]
          },
          "metadata": {},
          "execution_count": 121
        }
      ]
    },
    {
      "cell_type": "markdown",
      "source": [
        "maxlen argment를 사용하면 생성될 문장의 단어 갯수를 제한 할 수 있습니다."
      ],
      "metadata": {
        "id": "BZ8hU2WPvaWN"
      }
    },
    {
      "cell_type": "code",
      "source": [
        "for idx in tokenizer.index_word:\n",
        "    print(idx, \":\", tokenizer.index_word[idx])\n",
        "\n",
        "    if idx >= 10: break"
      ],
      "metadata": {
        "colab": {
          "base_uri": "https://localhost:8080/"
        },
        "id": "MVZjJRYBZWP1",
        "outputId": "697c3d7b-eb6f-4c24-9066-99a5836afdca"
      },
      "execution_count": 107,
      "outputs": [
        {
          "output_type": "stream",
          "name": "stdout",
          "text": [
            "1 : <unk>\n",
            "2 : <start>\n",
            "3 : <end>\n",
            "4 : i\n",
            "5 : the\n",
            "6 : you\n",
            "7 : and\n",
            "8 : a\n",
            "9 : to\n",
            "10 : it\n"
          ]
        }
      ]
    },
    {
      "cell_type": "code",
      "source": [
        "# tensor에서 마지막 토큰을 잘라내서 소스 문장을 생성합니다\n",
        "# 마지막 토큰은 <end>가 아니라 <pad>일 가능성이 높습니다.\n",
        "src_input = tensor[:, :-1]  \n",
        "# tensor에서 <start>를 잘라내서 타겟 문장을 생성합니다.\n",
        "tgt_input = tensor[:, 1:]    \n",
        "\n",
        "print(src_input[0])\n",
        "print(tgt_input[0])"
      ],
      "metadata": {
        "colab": {
          "base_uri": "https://localhost:8080/"
        },
        "id": "8iuclqcpjxXB",
        "outputId": "ebe0a38a-c03a-4d1c-c56d-e560f8de19d5"
      },
      "execution_count": 108,
      "outputs": [
        {
          "output_type": "stream",
          "name": "stdout",
          "text": [
            "[   2   10   14   53  447  286 1237    3    0    0    0    0    0    0]\n",
            "[  10   14   53  447  286 1237    3    0    0    0    0    0    0    0]\n"
          ]
        }
      ]
    },
    {
      "cell_type": "code",
      "source": [
        "BUFFER_SIZE = len(src_input)\n",
        "BATCH_SIZE = 256\n",
        "steps_per_epoch = len(src_input) // BATCH_SIZE\n",
        "\n",
        "VOCAB_SIZE = tokenizer.num_words + 1   \n",
        "\n",
        "# 준비한 데이터 소스로부터 데이터셋을 만듭니다\n",
        "# 데이터셋에 대해서는 아래 문서를 참고하세요\n",
        "# 자세히 알아둘수록 도움이 많이 되는 중요한 문서입니다\n",
        "# https://www.tensorflow.org/api_docs/python/tf/data/Dataset\n",
        "dataset = tf.data.Dataset.from_tensor_slices((src_input, tgt_input))\n",
        "dataset = dataset.shuffle(BUFFER_SIZE)\n",
        "dataset = dataset.batch(BATCH_SIZE, drop_remainder=True)\n",
        "dataset"
      ],
      "metadata": {
        "colab": {
          "base_uri": "https://localhost:8080/"
        },
        "id": "VWb16J9rkAS2",
        "outputId": "c96297bd-6e55-484f-dd77-e4ab844421a2"
      },
      "execution_count": 109,
      "outputs": [
        {
          "output_type": "execute_result",
          "data": {
            "text/plain": [
              "<BatchDataset element_spec=(TensorSpec(shape=(256, 14), dtype=tf.int32, name=None), TensorSpec(shape=(256, 14), dtype=tf.int32, name=None))>"
            ]
          },
          "metadata": {},
          "execution_count": 109
        }
      ]
    },
    {
      "cell_type": "markdown",
      "source": [
        "## 모델만들기"
      ],
      "metadata": {
        "id": "gAU0BsjOb5W1"
      }
    },
    {
      "cell_type": "code",
      "source": [
        "class TextGenerator(tf.keras.Model):\n",
        "    def __init__(self, vocab_size, embedding_size, hidden_size):\n",
        "        super().__init__()\n",
        "        self.embedding = tf.keras.layers.Embedding(vocab_size, embedding_size)\n",
        "        self.rnn_1 = tf.keras.layers.LSTM(hidden_size, return_sequences=True)\n",
        "        self.rnn_2 = tf.keras.layers.LSTM(hidden_size, return_sequences=True)\n",
        "        self.linear = tf.keras.layers.Dense(vocab_size)\n",
        "        \n",
        "    def call(self, x):\n",
        "        out = self.embedding(x)\n",
        "        out = self.rnn_1(out)\n",
        "        out = self.rnn_2(out)\n",
        "        out = self.linear(out)\n",
        "        \n",
        "        return out\n",
        "    \n",
        "embedding_size = 256\n",
        "hidden_size = 1024\n",
        "model = TextGenerator(tokenizer.num_words + 1, embedding_size , hidden_size)"
      ],
      "metadata": {
        "id": "2jL2l6uRkD6T"
      },
      "execution_count": 110,
      "outputs": []
    },
    {
      "cell_type": "code",
      "source": [
        "# 데이터셋에서 데이터 한 배치만 불러오는 방법입니다.\n",
        "# 지금은 동작 원리에 너무 빠져들지 마세요~\n",
        "for src_sample, tgt_sample in dataset.take(1): break\n",
        "\n",
        "# 한 배치만 불러온 데이터를 모델에 넣어봅니다\n",
        "model(src_sample)"
      ],
      "metadata": {
        "colab": {
          "base_uri": "https://localhost:8080/"
        },
        "id": "GK7ZeHW3b8tC",
        "outputId": "50c4ef7c-5d4b-43e3-93bd-dd6f6321a66f"
      },
      "execution_count": 111,
      "outputs": [
        {
          "output_type": "execute_result",
          "data": {
            "text/plain": [
              "<tf.Tensor: shape=(256, 14, 20001), dtype=float32, numpy=\n",
              "array([[[-5.83302699e-06, -1.55708913e-05, -3.31264018e-04, ...,\n",
              "          1.44143458e-04,  7.36774600e-05,  1.00691032e-04],\n",
              "        [ 2.29179990e-04, -1.34499351e-04, -3.88123823e-04, ...,\n",
              "          1.04649225e-04,  1.08246832e-05,  2.97411840e-04],\n",
              "        [ 2.49359291e-04, -4.24794825e-06, -4.42419550e-04, ...,\n",
              "          8.57973064e-05, -7.77922469e-05,  3.11498734e-04],\n",
              "        ...,\n",
              "        [-5.22307761e-04,  5.57427877e-04, -3.98365431e-04, ...,\n",
              "         -6.72326889e-04, -4.81695664e-04,  5.46537107e-04],\n",
              "        [-6.20833656e-04,  5.45505201e-04, -3.67911154e-04, ...,\n",
              "         -7.60139897e-04, -5.40209236e-04,  3.52090341e-04],\n",
              "        [-7.17637246e-04,  5.26991265e-04, -3.44818895e-04, ...,\n",
              "         -8.16656044e-04, -5.71909302e-04,  1.43808196e-04]],\n",
              "\n",
              "       [[-5.83302699e-06, -1.55708913e-05, -3.31264018e-04, ...,\n",
              "          1.44143458e-04,  7.36774600e-05,  1.00691032e-04],\n",
              "        [ 3.86974280e-05, -2.26183838e-04, -5.25937707e-04, ...,\n",
              "          1.15547111e-04, -7.70312909e-05,  2.43543211e-04],\n",
              "        [ 1.68716288e-05, -3.87956505e-04, -4.59801202e-04, ...,\n",
              "          3.07319278e-05, -4.33373847e-04,  3.65723128e-04],\n",
              "        ...,\n",
              "        [-1.41656274e-04, -1.89730792e-06,  2.30190752e-04, ...,\n",
              "          2.38226319e-04, -1.80970645e-04,  2.30683712e-04],\n",
              "        [-2.55670602e-04,  9.62193808e-05,  2.06557423e-04, ...,\n",
              "         -1.27171397e-05, -2.28352452e-04,  2.20293747e-04],\n",
              "        [-3.77682969e-04,  1.66535130e-04,  1.58056690e-04, ...,\n",
              "         -2.46913085e-04, -2.86513707e-04,  1.63991062e-04]],\n",
              "\n",
              "       [[-5.83302699e-06, -1.55708913e-05, -3.31264018e-04, ...,\n",
              "          1.44143458e-04,  7.36774600e-05,  1.00691032e-04],\n",
              "        [-2.01041985e-05, -5.69249314e-05, -3.09261610e-04, ...,\n",
              "          3.31289746e-04,  2.12660481e-04,  1.39503638e-04],\n",
              "        [ 1.58731957e-04, -4.68995859e-05, -2.50974554e-04, ...,\n",
              "          3.67781176e-04,  3.78628203e-04, -3.30812036e-05],\n",
              "        ...,\n",
              "        [ 5.38227978e-05,  9.81999328e-04,  3.30514071e-04, ...,\n",
              "          2.04551572e-04, -2.61916226e-04, -3.34417331e-04],\n",
              "        [-5.40415058e-05,  8.88891460e-04,  3.87537846e-04, ...,\n",
              "         -1.70948097e-05, -4.47407947e-04, -2.75326194e-04],\n",
              "        [-1.83539945e-04,  7.92106031e-04,  4.05810482e-04, ...,\n",
              "         -2.30059537e-04, -5.94699057e-04, -2.59261491e-04]],\n",
              "\n",
              "       ...,\n",
              "\n",
              "       [[-5.83302699e-06, -1.55708913e-05, -3.31264018e-04, ...,\n",
              "          1.44143458e-04,  7.36774600e-05,  1.00691032e-04],\n",
              "        [-9.66574589e-06, -4.84043849e-05, -4.40743315e-04, ...,\n",
              "          2.61480425e-04,  1.27303370e-04,  2.82046851e-04],\n",
              "        [ 8.34578750e-05, -8.17098917e-05, -3.96770280e-04, ...,\n",
              "          2.76567676e-04,  1.52919296e-04,  2.65175710e-04],\n",
              "        ...,\n",
              "        [ 8.04116571e-05, -2.68069096e-04,  4.20117256e-04, ...,\n",
              "         -5.98478364e-04, -1.66755068e-04,  1.37655967e-04],\n",
              "        [-1.21124867e-04, -1.95397399e-04,  3.41775187e-04, ...,\n",
              "         -6.90457935e-04, -2.72280507e-04,  2.47366279e-05],\n",
              "        [-3.12460324e-04, -1.29898341e-04,  2.57606327e-04, ...,\n",
              "         -7.58794602e-04, -3.45235108e-04, -1.11453657e-04]],\n",
              "\n",
              "       [[-5.83302699e-06, -1.55708913e-05, -3.31264018e-04, ...,\n",
              "          1.44143458e-04,  7.36774600e-05,  1.00691032e-04],\n",
              "        [ 1.69384220e-04,  4.83027070e-05, -4.46743332e-04, ...,\n",
              "          3.07333394e-04,  2.08148049e-04,  1.77761787e-04],\n",
              "        [ 1.41235272e-04,  2.29416619e-05, -3.43184598e-04, ...,\n",
              "          2.51341407e-04,  2.06820652e-04,  1.85918398e-04],\n",
              "        ...,\n",
              "        [ 9.79462406e-04, -9.71625850e-04,  1.57665112e-03, ...,\n",
              "         -3.48760805e-04,  3.26032896e-04, -7.14814581e-04],\n",
              "        [ 7.09174492e-04, -7.84813252e-04,  1.51480699e-03, ...,\n",
              "         -4.49253479e-04,  2.45487056e-04, -6.73143193e-04],\n",
              "        [ 4.17036674e-04, -6.08958129e-04,  1.39766152e-03, ...,\n",
              "         -5.61512774e-04,  1.38338131e-04, -6.40274840e-04]],\n",
              "\n",
              "       [[-5.83302699e-06, -1.55708913e-05, -3.31264018e-04, ...,\n",
              "          1.44143458e-04,  7.36774600e-05,  1.00691032e-04],\n",
              "        [ 2.96548445e-04, -8.71879311e-05, -3.16074176e-04, ...,\n",
              "          2.11183378e-05,  2.02336611e-04, -8.68392381e-05],\n",
              "        [ 4.50501713e-04,  1.35994953e-04, -3.78426252e-04, ...,\n",
              "         -1.73703520e-05,  1.44058824e-04, -1.45386366e-04],\n",
              "        ...,\n",
              "        [ 3.13521450e-04,  3.49568843e-04, -3.62343308e-05, ...,\n",
              "         -5.37869229e-04, -6.41392719e-04, -7.81672425e-04],\n",
              "        [ 5.84612935e-05,  3.28930939e-04, -7.75248773e-05, ...,\n",
              "         -6.00974541e-04, -6.92275760e-04, -7.69224891e-04],\n",
              "        [-1.72383923e-04,  3.05207301e-04, -1.12310183e-04, ...,\n",
              "         -6.47913781e-04, -7.11752102e-04, -7.76885834e-04]]],\n",
              "      dtype=float32)>"
            ]
          },
          "metadata": {},
          "execution_count": 111
        }
      ]
    },
    {
      "cell_type": "code",
      "source": [
        "model.summary()"
      ],
      "metadata": {
        "colab": {
          "base_uri": "https://localhost:8080/"
        },
        "id": "C1ecLqTV-nR4",
        "outputId": "53219cb4-7fe4-494a-b568-a005b0e9b50f"
      },
      "execution_count": 112,
      "outputs": [
        {
          "output_type": "stream",
          "name": "stdout",
          "text": [
            "Model: \"text_generator_2\"\n",
            "_________________________________________________________________\n",
            " Layer (type)                Output Shape              Param #   \n",
            "=================================================================\n",
            " embedding_2 (Embedding)     multiple                  5120256   \n",
            "                                                                 \n",
            " lstm_4 (LSTM)               multiple                  5246976   \n",
            "                                                                 \n",
            " lstm_5 (LSTM)               multiple                  8392704   \n",
            "                                                                 \n",
            " dense_2 (Dense)             multiple                  20501025  \n",
            "                                                                 \n",
            "=================================================================\n",
            "Total params: 39,260,961\n",
            "Trainable params: 39,260,961\n",
            "Non-trainable params: 0\n",
            "_________________________________________________________________\n"
          ]
        }
      ]
    },
    {
      "cell_type": "markdown",
      "source": [
        "## 옵?티마이저"
      ],
      "metadata": {
        "id": "-nTcOmKag9zk"
      }
    },
    {
      "cell_type": "code",
      "source": [
        "# optimizer와 loss등은 차차 배웁니다\n",
        "# 혹시 미리 알고 싶다면 아래 문서를 참고하세요\n",
        "# https://www.tensorflow.org/api_docs/python/tf/keras/optimizers\n",
        "# https://www.tensorflow.org/api_docs/python/tf/keras/losses\n",
        "# 양이 상당히 많은 편이니 지금 보는 것은 추천하지 않습니다\n",
        "optimizer = tf.keras.optimizers.Adam()\n",
        "loss = tf.keras.losses.SparseCategoricalCrossentropy(\n",
        "    from_logits=True,\n",
        "    reduction='none'\n",
        ")"
      ],
      "metadata": {
        "id": "Q4dKiOey-sa-"
      },
      "execution_count": 113,
      "outputs": []
    },
    {
      "cell_type": "markdown",
      "source": [
        "## 모델 학습"
      ],
      "metadata": {
        "id": "3RYp0IAgg3_s"
      }
    },
    {
      "cell_type": "markdown",
      "source": [
        "만들어진 모델을 가지고 학습"
      ],
      "metadata": {
        "id": "8Ez5hXTphK5n"
      }
    },
    {
      "cell_type": "code",
      "source": [
        "model.compile(loss=loss, optimizer=optimizer)\n",
        "model.fit(dataset, epochs=10)"
      ],
      "metadata": {
        "colab": {
          "base_uri": "https://localhost:8080/"
        },
        "id": "DNGo3qf_hLVH",
        "outputId": "21e8a016-78aa-4dbb-a37b-5b5dd37fb472"
      },
      "execution_count": 114,
      "outputs": [
        {
          "output_type": "stream",
          "name": "stdout",
          "text": [
            "Epoch 1/10\n",
            "275/275 [==============================] - 68s 238ms/step - loss: 3.2702\n",
            "Epoch 2/10\n",
            "275/275 [==============================] - 65s 238ms/step - loss: 2.7238\n",
            "Epoch 3/10\n",
            "275/275 [==============================] - 66s 239ms/step - loss: 2.5955\n",
            "Epoch 4/10\n",
            "275/275 [==============================] - 65s 236ms/step - loss: 2.5035\n",
            "Epoch 5/10\n",
            "275/275 [==============================] - 65s 236ms/step - loss: 2.4313\n",
            "Epoch 6/10\n",
            "275/275 [==============================] - 66s 239ms/step - loss: 2.3679\n",
            "Epoch 7/10\n",
            "275/275 [==============================] - 66s 239ms/step - loss: 2.3088\n",
            "Epoch 8/10\n",
            "275/275 [==============================] - 65s 236ms/step - loss: 2.2535\n",
            "Epoch 9/10\n",
            "275/275 [==============================] - 65s 237ms/step - loss: 2.2010\n",
            "Epoch 10/10\n",
            "275/275 [==============================] - 66s 240ms/step - loss: 2.1505\n"
          ]
        },
        {
          "output_type": "execute_result",
          "data": {
            "text/plain": [
              "<keras.callbacks.History at 0x7f6f686aa450>"
            ]
          },
          "metadata": {},
          "execution_count": 114
        }
      ]
    },
    {
      "cell_type": "markdown",
      "source": [
        "## 문장 생성 함수"
      ],
      "metadata": {
        "id": "T9r5glm1hIpI"
      }
    },
    {
      "cell_type": "code",
      "source": [
        "def generate_text(model, tokenizer, init_sentence=\"<start>\", max_len=15):\n",
        "    # 테스트를 위해서 입력받은 init_sentence도 텐서로 변환합니다\n",
        "    test_input = tokenizer.texts_to_sequences([init_sentence])\n",
        "    test_tensor = tf.convert_to_tensor(test_input, dtype=tf.int64)\n",
        "    end_token = tokenizer.word_index[\"<end>\"]\n",
        "\n",
        "    # 단어 하나씩 예측해 문장을 만듭니다\n",
        "    #    1. 입력받은 문장의 텐서를 입력합니다\n",
        "    #    2. 예측된 값 중 가장 높은 확률인 word index를 뽑아냅니다\n",
        "    #    3. 2에서 예측된 word index를 문장 뒤에 붙입니다\n",
        "    #    4. 모델이 <end>를 예측했거나, max_len에 도달했다면 문장 생성을 마칩니다\n",
        "    while True:\n",
        "        # 1\n",
        "        predict = model(test_tensor) \n",
        "        # 2\n",
        "        predict_word = tf.argmax(tf.nn.softmax(predict, axis=-1), axis=-1)[:, -1] \n",
        "        # 3 \n",
        "        test_tensor = tf.concat([test_tensor, tf.expand_dims(predict_word, axis=0)], axis=-1)\n",
        "        # 4\n",
        "        if predict_word.numpy()[0] == end_token: break\n",
        "        if test_tensor.shape[1] >= max_len: break\n",
        "\n",
        "    generated = \"\"\n",
        "    # tokenizer를 이용해 word index를 단어로 하나씩 변환합니다 \n",
        "    for word_index in test_tensor[0].numpy():\n",
        "        generated += tokenizer.index_word[word_index] + \" \"\n",
        "\n",
        "    return generated"
      ],
      "metadata": {
        "id": "tIa3BPqm-uYE"
      },
      "execution_count": 144,
      "outputs": []
    },
    {
      "cell_type": "markdown",
      "source": [
        "### 문장 생성"
      ],
      "metadata": {
        "id": "EaDWGLFsKOKF"
      }
    },
    {
      "cell_type": "code",
      "source": [
        "generate_text(model, tokenizer, init_sentence = \"<start> What do\")"
      ],
      "metadata": {
        "id": "pC0ew1B1-ws8",
        "colab": {
          "base_uri": "https://localhost:8080/",
          "height": 35
        },
        "outputId": "570ce22d-7a17-4a84-f5d9-b5862e8ec3b0"
      },
      "execution_count": 116,
      "outputs": [
        {
          "output_type": "execute_result",
          "data": {
            "text/plain": [
              "'<start> what do you want to be <end> '"
            ],
            "application/vnd.google.colaboratory.intrinsic+json": {
              "type": "string"
            }
          },
          "metadata": {},
          "execution_count": 116
        }
      ]
    },
    {
      "cell_type": "code",
      "source": [
        "generate_text(model, tokenizer, init_sentence = \"<start> sorry\")"
      ],
      "metadata": {
        "colab": {
          "base_uri": "https://localhost:8080/",
          "height": 35
        },
        "id": "3JpCmPvsxsQ-",
        "outputId": "05937f9c-e68f-4db3-e7db-92d39fe00eeb"
      },
      "execution_count": 117,
      "outputs": [
        {
          "output_type": "execute_result",
          "data": {
            "text/plain": [
              "'<start> sorry i m a <unk> <end> '"
            ],
            "application/vnd.google.colaboratory.intrinsic+json": {
              "type": "string"
            }
          },
          "metadata": {},
          "execution_count": 117
        }
      ]
    },
    {
      "cell_type": "code",
      "source": [
        "generate_text(model, tokenizer, init_sentence = \"<start> I love\")"
      ],
      "metadata": {
        "id": "EkAnk21_-zBj",
        "colab": {
          "base_uri": "https://localhost:8080/",
          "height": 35
        },
        "outputId": "bcb9597c-d762-4c50-c200-8309eba4e7e7"
      },
      "execution_count": 118,
      "outputs": [
        {
          "output_type": "execute_result",
          "data": {
            "text/plain": [
              "'<start> i love you <end> '"
            ],
            "application/vnd.google.colaboratory.intrinsic+json": {
              "type": "string"
            }
          },
          "metadata": {},
          "execution_count": 118
        }
      ]
    },
    {
      "cell_type": "code",
      "source": [
        "generate_text(model, tokenizer, init_sentence = \"<start> I \")"
      ],
      "metadata": {
        "colab": {
          "base_uri": "https://localhost:8080/",
          "height": 35
        },
        "id": "eg8HN1BFd0bJ",
        "outputId": "bdafc62a-9eda-4ba8-a6af-f1f573c5c400"
      },
      "execution_count": 119,
      "outputs": [
        {
          "output_type": "execute_result",
          "data": {
            "text/plain": [
              "'<start> i m not a <unk> <end> '"
            ],
            "application/vnd.google.colaboratory.intrinsic+json": {
              "type": "string"
            }
          },
          "metadata": {},
          "execution_count": 119
        }
      ]
    },
    {
      "cell_type": "markdown",
      "source": [
        "도대체 뭘 말하고 싶었길래 \"나는 $<unk>$ 이 아니다\" 라고 했을까요?"
      ],
      "metadata": {
        "id": "FjKVyO04w4MZ"
      }
    },
    {
      "cell_type": "code",
      "source": [
        "generate_text(model, tokenizer, init_sentence = \"<start> You \")"
      ],
      "metadata": {
        "colab": {
          "base_uri": "https://localhost:8080/",
          "height": 35
        },
        "id": "kF06RJeReBhP",
        "outputId": "d88af49b-dcc8-4dd8-b34a-6febc1e2dadf"
      },
      "execution_count": 122,
      "outputs": [
        {
          "output_type": "execute_result",
          "data": {
            "text/plain": [
              "'<start> you know i m not a <unk> <end> '"
            ],
            "application/vnd.google.colaboratory.intrinsic+json": {
              "type": "string"
            }
          },
          "metadata": {},
          "execution_count": 122
        }
      ]
    },
    {
      "cell_type": "code",
      "source": [
        "generate_text(model, tokenizer, init_sentence = \"<start> Replace\")"
      ],
      "metadata": {
        "colab": {
          "base_uri": "https://localhost:8080/",
          "height": 35
        },
        "id": "VGLuEzFF52aT",
        "outputId": "15a07253-193a-4c1b-f691-d42afdc8517a"
      },
      "execution_count": 124,
      "outputs": [
        {
          "output_type": "execute_result",
          "data": {
            "text/plain": [
              "'<start> replace the <unk> <end> '"
            ],
            "application/vnd.google.colaboratory.intrinsic+json": {
              "type": "string"
            }
          },
          "metadata": {},
          "execution_count": 124
        }
      ]
    },
    {
      "cell_type": "code",
      "source": [
        "generate_text(model, tokenizer, init_sentence = \"<start> This\")"
      ],
      "metadata": {
        "colab": {
          "base_uri": "https://localhost:8080/",
          "height": 35
        },
        "id": "pQJhv_YM6H6e",
        "outputId": "495129ed-a282-4868-c870-389ce04140b4"
      },
      "execution_count": 125,
      "outputs": [
        {
          "output_type": "execute_result",
          "data": {
            "text/plain": [
              "'<start> this is the only one <end> '"
            ],
            "application/vnd.google.colaboratory.intrinsic+json": {
              "type": "string"
            }
          },
          "metadata": {},
          "execution_count": 125
        }
      ]
    },
    {
      "cell_type": "code",
      "source": [
        "generate_text(model, tokenizer, init_sentence = \"<start> You son\")"
      ],
      "metadata": {
        "colab": {
          "base_uri": "https://localhost:8080/",
          "height": 35
        },
        "id": "zRVBOcbCCot6",
        "outputId": "e41b9077-8cfd-43d2-c493-961ea1aafc8d"
      },
      "execution_count": 130,
      "outputs": [
        {
          "output_type": "execute_result",
          "data": {
            "text/plain": [
              "'<start> you son i m a <unk> <end> '"
            ],
            "application/vnd.google.colaboratory.intrinsic+json": {
              "type": "string"
            }
          },
          "metadata": {},
          "execution_count": 130
        }
      ]
    },
    {
      "cell_type": "markdown",
      "source": [
        "음 .. 의도한 대로는 안나옵니다."
      ],
      "metadata": {
        "id": "MJpeQ2ETCw-A"
      }
    },
    {
      "cell_type": "code",
      "source": [
        "generate_text(model, tokenizer, init_sentence = \"<start> Oh\")"
      ],
      "metadata": {
        "colab": {
          "base_uri": "https://localhost:8080/",
          "height": 35
        },
        "id": "tSdHq_7fBnUe",
        "outputId": "8f620c36-e8e6-4bd4-a1d6-dac333426356"
      },
      "execution_count": 126,
      "outputs": [
        {
          "output_type": "execute_result",
          "data": {
            "text/plain": [
              "'<start> oh i m a little bit of the <unk> <end> '"
            ],
            "application/vnd.google.colaboratory.intrinsic+json": {
              "type": "string"
            }
          },
          "metadata": {},
          "execution_count": 126
        }
      ]
    },
    {
      "cell_type": "code",
      "source": [
        "generate_text(model, tokenizer, init_sentence = \"<start> Oh\")"
      ],
      "metadata": {
        "colab": {
          "base_uri": "https://localhost:8080/",
          "height": 35
        },
        "id": "txxKtSKMB9_t",
        "outputId": "f3e330e6-a987-4b6d-e9f6-5f99c0e2a9b6"
      },
      "execution_count": 127,
      "outputs": [
        {
          "output_type": "execute_result",
          "data": {
            "text/plain": [
              "'<start> oh i m a little bit of the <unk> <end> '"
            ],
            "application/vnd.google.colaboratory.intrinsic+json": {
              "type": "string"
            }
          },
          "metadata": {},
          "execution_count": 127
        }
      ]
    },
    {
      "cell_type": "markdown",
      "source": [
        "같은 단어를 넣으면 같은 문장밖에 뱉지 않습니다."
      ],
      "metadata": {
        "id": "A-J2ps1JB_QK"
      }
    },
    {
      "cell_type": "markdown",
      "source": [
        "# End"
      ],
      "metadata": {
        "id": "Z_1-R5M6x4Fv"
      }
    },
    {
      "cell_type": "markdown",
      "source": [
        "## 회고"
      ],
      "metadata": {
        "id": "pkRV1T4xyAml"
      }
    },
    {
      "cell_type": "markdown",
      "source": [
        "일단 문장 생성기가 일반적으로는 잘 작동해서 만족스러웠지만\n",
        "\n",
        "\n",
        "가끔 이상한 문장을 출력할 때가 있는데 이것은 학습한 데이터의 문제이지 않을까 싶습니다. 한 번은 maxlen을 설정하지 않고 학습시켰을 경우가 있었는데\n",
        "\n",
        "이 경우 꽤 괜찮은 문장을 출력했던 것으로 기억합니다.\n",
        "\n",
        "이 문장 생성기는 같은 단어를 입력했을 때는 같은 단어밖에 출력하지 않으므로 여러 Variation의 문장은 생성하지 못하는것 같습니다.\n",
        "\n",
        "실수로 기록하지는 못했지만 $<unk>$ 이 안보였으면 해서 \n",
        "\n",
        "단어 개수를 7000 > 10000 > 20000 으로 늘려봤지만 사용하는 어휘에는 큰 변화가 없었습니다.\n",
        "\n",
        "또한 전처리 과정에서 일정기준(문장길이 = 40)을 초과하는 문장은 제거 하였습니다.\n",
        "\n",
        "이 과정에서 pad_sequences 의 옵션 중 maxlen을 15로 설정 했었는데 다음 섹션에서 그럴 필요는 없음을 알아냈습니다.\n",
        "\n",
        "\n"
      ],
      "metadata": {
        "id": "Fs9KjrWy6L8A"
      }
    },
    {
      "cell_type": "markdown",
      "source": [
        "## 실험)문장길이 40초과하는 문장 제거했을 때, pad_sequences()메서드에서 maxlen = 15 옵션 제거"
      ],
      "metadata": {
        "id": "Orgc_Kx0FKWu"
      }
    },
    {
      "cell_type": "code",
      "source": [
        "corpus = []\n",
        "\n",
        "for sentence in raw_corpus:\n",
        "    # 문장 길이가 0인건 건너뜀\n",
        "    if len(sentence) == 0: continue\n",
        "    #문장 길이가 40초과인것도 건너뜀 \n",
        "    if len(sentence) > 40: continue   \n",
        "    if sentence[-1] == \":\": continue\n",
        "    # 정제를 하고 담아주세요\n",
        "    preprocessed_sentence = preprocess_sentence(sentence) # <start>, <end>토큰 포함된 문장 포함\n",
        "    corpus.append(preprocessed_sentence)\n",
        "    if preprocessed_sentence[-1] == \":\":\n",
        "        print(preprocessed_sentence)\n",
        "    \n",
        "# 정제된 말뭉치 확인\n",
        "print(len(corpus)) "
      ],
      "metadata": {
        "colab": {
          "base_uri": "https://localhost:8080/"
        },
        "id": "6Go2xL9XEgg2",
        "outputId": "44efc262-f848-467d-ba2d-c35ec8d3119c"
      },
      "execution_count": 137,
      "outputs": [
        {
          "output_type": "stream",
          "name": "stdout",
          "text": [
            "111948\n"
          ]
        }
      ]
    },
    {
      "cell_type": "code",
      "source": [
        "corpus = list(set(corpus)) # set자료형을 사용해서 중복 제거\n",
        "print(len(corpus)) # set을 이용해 중복 제거후 말뭉치 길이 확인"
      ],
      "metadata": {
        "colab": {
          "base_uri": "https://localhost:8080/"
        },
        "id": "E0JF100BFn7a",
        "outputId": "ba7dd2bb-7e13-48e3-ef76-a4d171d2293e"
      },
      "execution_count": 138,
      "outputs": [
        {
          "output_type": "stream",
          "name": "stdout",
          "text": [
            "70471\n"
          ]
        }
      ]
    },
    {
      "cell_type": "code",
      "source": [
        "def tokenize(corpus):\n",
        "    tokenizer = tf.keras.preprocessing.text.Tokenizer(\n",
        "        # 단어장에 빈도수에 따라20000단어 저장,\n",
        "        num_words=20000, \n",
        "        # 공백이 있다면 공백 제거.\n",
        "        filters=' ',\n",
        "        # text_to_sequence() 함수를 실행 했을 때,단어장에 없는 단어는 <unk>로 대체하는 옵션\n",
        "        oov_token=\"<unk>\"\n",
        "    )\n",
        "    # fit_on_texts()에 corpus를 입력으로 넣어 tokenizer 내부의 단어장을 완성\n",
        "    tokenizer.fit_on_texts(corpus)\n",
        "    # 준비한 tokenizer를 이용해 corpus를 Tensor로 변환합니다\n",
        "    tensor = tokenizer.texts_to_sequences(corpus)   \n",
        "    # 입력 데이터의 시퀀스 길이를 일정하게 맞춰줍니다\n",
        "    # 만약 시퀀스가 짧다면 문장 뒤에 패딩을 붙여 길이를 맞춰줍니다.\n",
        "    # 문장 앞에 패딩을 붙여 길이를 맞추고 싶다면 padding='pre'를 사용합니다\n",
        "    tensor = tf.keras.preprocessing.sequence.pad_sequences(tensor, padding='post')  \n",
        "    #maxlen을 사용해 사용할 시퀀스 최대 개수를 15개로 제한.\n",
        "    print(tensor,tokenizer)\n",
        "    return tensor, tokenizer\n",
        "\n",
        "tensor, tokenizer = tokenize(corpus)"
      ],
      "metadata": {
        "colab": {
          "base_uri": "https://localhost:8080/"
        },
        "id": "QONXxkG1Ekgv",
        "outputId": "1d106805-67be-4f31-b8f8-bbb9655b047f"
      },
      "execution_count": 139,
      "outputs": [
        {
          "output_type": "stream",
          "name": "stdout",
          "text": [
            "[[   2   10   14 ...    0    0    0]\n",
            " [   2   64    6 ...    0    0    0]\n",
            " [   2    4   91 ...    0    0    0]\n",
            " ...\n",
            " [   2    5 8745 ...    0    0    0]\n",
            " [   2   49   38 ...    0    0    0]\n",
            " [   2  742   40 ...    0    0    0]] <keras_preprocessing.text.Tokenizer object at 0x7f6f665f3990>\n"
          ]
        }
      ]
    },
    {
      "cell_type": "code",
      "source": [
        "tensor.shape"
      ],
      "metadata": {
        "colab": {
          "base_uri": "https://localhost:8080/"
        },
        "id": "XhONEpGCFvVA",
        "outputId": "4adff4e4-0194-44ca-af9c-d8e3309399c5"
      },
      "execution_count": 140,
      "outputs": [
        {
          "output_type": "execute_result",
          "data": {
            "text/plain": [
              "(70471, 16)"
            ]
          },
          "metadata": {},
          "execution_count": 140
        }
      ]
    },
    {
      "cell_type": "markdown",
      "source": [
        "이럴 경우 가장 길이가 긴 문장도 16개의 시퀀스를 가지는 것을 알 수있습니다.\n",
        "\n",
        "또한 max = 15를 적용했을 때와 같이 말뭉치의 크기가 같음을 알 수 있습니다.\n",
        "\n",
        "![image.png](data:image/png;base64,iVBORw0KGgoAAAANSUhEUgAABCEAAAGMCAYAAADkyLhpAAAgAElEQVR4nO3dv4/lSGIfcM7ueM+Ge73A4s5YnSQDHsPB/gECXtBRO7oHQ8ClggIdOpGUWRAcdywIVmYraUCBITg7wEFvpI468H+wBgyNA51aZ+/e2pL2IN/gDu1gj7tsDn8UyWJVkfx8gMZMv8fHKhb5XrO+LNZ7cTqdnqoJHh8fpyzOQq9evapev36duxoAAMABXF5eVg8PD7mrwY69k7sCAAAAwDEIIQAA2Kz7+/vcVQAoxhY+E4UQAABs0v39fXV1dZW7GgDFuLq6Kj6IeJm7AiW5ubmpbm5uOh8fex2U6u7u7uv/n8/n2euY+1qIybHI2hxj2yGA2L7Q99vQcqW/Z3/4B79dff8//Ofc1VhsL9tR+vHypz/84+p3v/+Hvc/1ab+mDiJK/YwUQgQYChkEEM+V/sbeixh/tAFg7/wdhH57CRaOpC+g2BohRCVIAADYkpKv8AFMNTTKYa6SR0OYE6Lqvw1jrdcBMI8rmgA0+bvAHvzu9/9wN6McQgghAADYjFKv7EGXvdzusJftOJpSJ6l0OwZRNCc/HJsIsfn80DLn8zl42bFlpi4XWnZqIe3crneMiSn76rJ0f4S0c+z9O2bq/o+1HbnK3cpyzeVjvHe7llly73iKdmnWb+okbaV/7o6Z8/5IWb+1yj3acRBzfzgvmS/3+20vfxfG1PMx/PAPfvvZ432d/ZjLNZdp/n/NoKG9L9r7Ze5501h5c+o5VG5z3SX2FbZCCDGTWzGeCzkh6nt+qDM7tmzo+qaUG7IdIdofTF2mlhHSzmPtE8OSfRb63JT1TS13zFa2I3W5uR6bYsnnxpplxnhs7fqFLlv6+7L0di69fqHLlv554LxkmVzHc+zjPrQ+IeWucV7XNTFkisfq31NPTNls56F9ELLPhkKiJQFErM+DNY6XquqeO2KLt3G4HYNk+t7EXUli/XiM9U0tN6TsEOfzefRni6Z+4M9t5zX375gc25Gr3NKXm2rJ58YcKdtlzfqFllP6+7L0di69fqHlbOXzYEzp7TKl7NhyHM+xj/vQ14eWu8Z5XVcA0B4d0RcUzF0up5A2mnre1BUWxQog+sqoHx+yVj+gnjui+bPGpJZrE0KwWSX9sT6KlFdiQstxHKxnTvuF7o+97Le9bEcMJWxvrjo4Dr6x5udG6fayHaH2uE1bNhQ2bGk+h6nHVfN9l3rEUGp9Ix62GES4HWMGt2LMF/uKRvsP/p4/eHIL+WBf44pV6HC2ko+DNa/kpRS6HaH7o/T9Fip0O3IdB0crN1fZjoNl5eb6PHBestxe/sbtQTuI2FL40DbluKrfd0vfb47ldIQQJLXGH+PmOusPjxL+6K91L1guIR/wsbdn6NaPobJLOg6qqpx6LDVlO0L3R8n7bYqQ7ch5lf5I5U753IjNcbCs3ByfB0c6L1lDzvdbals5r2sGD3UgsbUwItdxFXP/beV4yUUIwa7Ub+YShmPlLn8NsZLmEEvKKek4IHx/pNhvfcdwzBMbx18+JbW542CZofarv3JuC1/TuefjYC/bFPp3YYvbmmsCyiXmHFf1a0o6JkupR6mfleaEoAhzOgB7TNm3YOie1z5rTyy2VaXXPbR+7QnIYq57DfUx3PyZe7IQYztKHyYfe32lH/dzOA6mr2/O50ZKzkuOJebfhVxKmXwytea+mnOOGlpGCbY278MQIQTJ9H0wzP2gD11f7HL3as69d2OP1euNvX9jlDu0vTmO01zllr7cWs7naTNU9x0vKdsltNw59Qu19v5d+r6M3X6hHAfd61vzeKlHQyxRervMtbRd6rp0PZbrOE1h6t+FGLqCg/aohb4JJ+cut7Y135ddj3Xd8jbnmMl9XhKibwLKP/3hH3dOWlnqKIiqcjsGkbXfwCEfDEve2KHri11ubmPtnLIOYycka+3fseQ7xXEVe32ll5truZjWOJlI1S6xH5try8dzyOdGzCDCcZD/88B5yTy53m+x35chcnYyu4KD0K/ZXLJc3/Kl3LIRclwN7bex5+eUW4quIKLvWzNK9uJ0Oj1NecHj4+NadaHDq1evqtevX+euBhxGrpORkpL2vetq6y20/xbquJYjb3ubtniu5Ct9uSxtkyMeYzn+LpQ8T8Pl5WX18PAw67Xek2UofT8YCQHAoWzhSgdlCLn66tjJa0uTVKagLebxdyEOx18ZtrAfjIQonJEQAABAKktGQkAIE1MCAAAASQghAAAAgCSEEAAAAEASQggAAAAgCSEEAAAAkIQQAgAAAEjiZe4KwNH85h+dep/7r//+vyWsyXO/+UenSeXH2I72Otqva9dpah1jKKFdhl6bo03WKHfJ+nK1QZcYdcl13Mcqd8nrpihln09VwudaDFO3YwufawCkIYRouLm5qW5ubgafH/qdbZxc5ey0VdXwiXPIMkvKj7HemNtRwrGhXbotDQXGlLCNU0zpQE1dz9x1lVzmHFPrE/OzfGhdocHiWu2cOpwZK2/u+ks73gDIRwgRqCugGAstoBZ6slwvU2J4U1X72Y7YYrTLlI5G6W0aUr+tHRuxgqoc25zyanO9zhSjIVK25ZT3d9vSdk4dzoyNSAOApYQQ1fiIhr6woX5cEAHhQjsZRzvpPdr2xrK000s8zX0wZ5/kut2K9ZQaKgGQlxCi+iaEECawlvqEvP5/nzVvx4ghxnaUum1LxN6/sYb+s4wOVLiuAGEL4VBzdBLxlbzvAchHCEEUzRO49slc6SehqYSc7G6hnfayHbHFape+90voPesltH2qDt3SK+9jpu6HIxoL1kIDuvayoY6yL/YQiAlXAagJIQL03XbhVoxvdHUA+n5vnpAOdZ6mfnNCW6x7koc6IiHLtu3ppKuvbULNab8tmNsuQ8fsUCe7tHYLDVuW2OqV972YMmqrHdANvca+e9sejuk9hKsAxCOECNQXQjBN84RjKLTom7iv+dhQhyPmV8tNKaPUk8US75sPbb81r6qX2C4lKLldYl55n1N2qnbJdXvAmnO2lHYsTRH7Kv5Wb/+YU++9hKsAxCOECGQkRBxLhqN3nayEjMAINaXc+vGQdS6V8kSsxCtP7X2bQ6p2WSNYK9GcbVnryvuU8te89aMt13Gfo9wtfE7Gfk+W8Lk2x1brDUBZhBABfDtGWlNP6podgtI6aiXVparGO08hw2LnPh4SFOXah6W0S7MuoXVY05z9EdoxmRrs5Lry3hdkrDni4mhKb785V/H3Isbf1qOEqwCEE0JQrKkTccU4mdnjlZ0Y7bLHk8SS22XKete65WCuocBmS8fRlPkLthhGLNkfWxi5UIpYnzNbn7CzpHAVgPyEEBRp6KrJmtY6ISrpBPIIV+/mKKVdSjpW6vWX0C6pTQlTtM1zsSYFXlqPPckxiiD2LUhH2l8ADBNCsFjzxLF9Ejn33u+5rym1s5SiDdZcT9+6+5S4D5pKbpdcx0rsdYWURR4+J9MovX4AkIsQgsViTg45R4oJ4/Z2MrmknUKGnod+g0H7+dztnLtdSrX0fRUyeuDooUSqYyP3e2yLUoXpJel7z8ae+LnPltsOgHFCiAB9E1CalHIdQx3UtpgnSmt3jKfOcRGjvFxhTPNe+dJOJrfQLqmPlbrMmO3SDgcZvrc/RfiQopylchz7IeWE/m3YSjsPGZukt6TP9ZLqAkA4IUSgvhCCdXSdrLc7cGucKA2Vu0TqE6WQ8nKfuK3V1kO20C45TqpLaJdYocyc9U8tc0mQkGPf5ih3jpI7lGOfV2u0c8hxP7bMGiM4St1HAGyHEKJhLFQQOiwzNhw7dLK30KurY6+f+roY605lrXo0T8Rj3HaQur220i6plVafthz1K71NQu1lO9a2NEBao50d9+O2Vl8AviKEIIrQAOGohoZhD72mRM0RKWPLxCprC2K1y16Olb1sRw652iF3+x/lmNlinbtMnePhCPsWgDAvTqfT05QXPD4+rlUXOrx69ap6/fp17moAAAAHcHl5WT08POSuBjv2Tu4KAAAAAMcghAAAAACSEEIAAAAASQghAAAAgCSEEAAAAEASQggYcX9/n7sK8IxjEgCArRJCwID7+/vq6uoqdzXgmaurK0EEAACbJIRouLm5GX2++UMa93/xJ3nKFUBkd3d3l7sKRdShiyACAIAtepm7AlvRFTwII7bn/i/+pLr6N/8u2vru7u6q8/kcbX17oV0AAIAuRkJU42FC3/NCiP0yCoItMBoCAICtEUJUwoTSxRy5AFMZ0QEAAPEIIaDFKAi2xGgIAAC2xJwQLFbPs9CeQLJvBMPc5Zesq/l88/9zR1k0Jyts/r/rqnl7YsO+Zc7nc/CyY8tMXS607DGx26WvjBTtPLW8tvZrcuwPAAAojRCCKLqCgpDwIFXZ9f9jlVt3CMcmYOx6fqhTO7Zs6PqmlBuyHaHWaJeQZWK3c4gpbZlrfwAAQGncjhFgaGJKvtLVse8aoTC0fMyyS9DXkey6yl0/HmN9U8sNKTumOfUbel3sdl5iSthQyv4AAICUjIQI5Cs6ya3utPZ1aPdsCyMDtlBHAADITQgxgcCBqcbmDZiqffX8CJ3e0Ns0SlZ6/QAAIBUhBKxojZCgPUfEWuWUYmgESHOZnEqvHwAAlMKcEAGMgDiWLX3l4fl8Hp1LYQ9K3sbct2H4SlkAALZECAEZzOlQl9oJT2VOEFF6m5VePwAAiE0IEWDo2zGMkvhK17dgxPwaztRijIbo6zTPvXIeur7Y5bblbJeu1669vUPm1jn0tWOMggAAYGvMCRGo79sx+ErX13GWGEC067m0jmMTRfZ1mmOV17e+2OVOtWa7dM0RkWN76/JCvmYz9/4AAIBSvDidTk9TXvD4+LhWXejw6tWr6vXr17mrMWjLIx7GuNL8Nm1SBvsBAFjD5eVl9fDwkLsa7JjbMWDAliapTEHHtwz2AwAAW2UkROG2MBICAADYByMhWJuREAAAAEASQggAAAAgCSEEAAAAkIQQAgAAAEhCCAEAAAAkIYQAAAAAkhBCAAAAAEm8zF2BEtzc3Az+3vfc0HJAee7u7qrz+Xz4OgAAQC6HDyFubm46Q4iugKH9eN9yxPPnv/dn1W/9p9/JXY3FdDyX0X4AALAPh74dIzRsmPIYAAAA0O3QIQRAakZ0AABwZEKIAEMjHoyGAAAAgDCHnhNCeBBXPX/Dn//enz17vD2nw9jz7WWa/28uOzRfRNdzIfUL3YZQd3d3nf/vuhrefH5omfP5HLzs2DJTlwstO5bY7ddXRor9MbW8tvZrSt5vAADQ59AhRB+jG+Ybm0hyKBxoqn+PPTFlyPpC6xii7uiNTazY9fxQZ3Vs2dD1TSk3ZDtiW6P9QpaJvT9CTGnz0vcbAAD0cTtGiwBimakBRP2a9siDtYQECam/jaOvg9h19bp+PMb6ppYbUnYOc7Zj6HWx98cSU8KGre03AACOyUiIX6qDBwEEW1d3Rvs6qmxjZMAW6ggAAFMJISqjH1JKNeJha8bmA5iqfVVcZ/YbobdplKz0+gEAQJ/DhxACiLRS3+qwFWuEBO05ItYqZ2uGRoo0l8mp9PoBAMBc5oQI4Cs62brz+Tw6R8KRlNwWbsMAAGDPDh1CCBDK4TaNbnM6yqV2rkszJ4govW1Lrx8AABw6hJiiK7AQYkzT9y0Yc7/+cmh9W9LXGZ57RTx0fbHLbbu/v1+8jhBLtqPrtWu3y5C5dQ59LQAA5GZOiIEQYSx0EEBM1xUcDAUQ7eXby/atr7QgYmyiyL7OcKzy+tYXu9y1rNl+XXNE5GiXuryQr9ncyn4DAIC2F6fT6WnKCx4fH9eqCx1evXpVvX79Onc1YLL7+/vq6uoqdzUAAJjg8vKyenh4yF0NdsztGEB0AggAAKCLEAKITgABAAB0EUIAAAAASQghAAAAgCSEEAAAAEASQojC+WYMAAAA9kIIAQAAACQhhAAAAACSEEIAAAAASbzMXYES3NzcDP7etfzYMgAAAMBzhw8hugIFIQMAAADEd+jbMfrChqmPAwAAAOMOHUJMJYQAAACA+YQQAAAAQBKHDiGMagAAAIB0Dh1C9HHbBQAAAMQnhGgRQAAAAMA6Dv8VnbU6eBBAAAAAwDqEEJXRDwAAAJDC4W/HEEAAAABAGocPIQAAAIA0Dh1CGAUBAAAA6Rw6hAAAAADSOfzElEMjIYySAAAAgHhenE6npykveHx8XKsuAAAAZHR5eVk9PDzkrgY75nYMAAAAIAkhBAAAAJCEEAIAAABIQggBAAAAJCGEAAAAAJIQQgAAAABJCCEAAACAJIQQALzl/v4+dxWy0wYAAPEJIQB45v7+vrq6uspdjeyurq4EEQAAkb3MXYES3NzcDP4+dTn27+7urjqfz4evw16V0La56iCAeK4OIrQJAEAchw8hbm5uOsOFuY+trYTO0ZZpv32zfwEAoGyHvh2jL0RoPx66HMCWueLfzW0ZAADxHDqEgC1zxX/f7F8AAPZICAGAURAjjIYAAIjj0HNChN5KUcItF3d3d53/77pa2nx+aJnz+Ry87NgyU5cLLTuW2O3XV0aK/TG1vLb2a0reb6Hs3/51xt5fqT8PQttuaD6QrudKPI4BAI7g0CFEn9C5HlLOCdE+Ie/Td7I91DEaeix0fVPKDdmO2NZov5BlYu+PEFM7Yqn321gnuqqmdwjt3zj7d0yuz4Nc2wEAQHxux2gpMYAI1XcS3XUVsX48xvqmlhtSdg5ztmPodbH3xxJTOl1r77fz+Tz6swb7d7h+c8roWt8ax1WO7QAAYB1GQvxSHSiMBQuhy+1BfVLed8LONq6ebqGOpdpC25VQx9zlT+FzDQAgLyFEte3RD22xr+S1rw46Sf9G6DD+kpVev5zs3/3yuQYAkM/hQ4g9BRBVtc7JdHuOiLXK2ZqhK6rNZXIqsX5rzAmxBvt333yuAQDkcfgQgmlCJwA8ipCOai6l1qvEOvU50v6tv4LyiF/TGfK5dtS2AQCI7dATU+5tFMSQuRO4MW7OhHalt23p9UvJ/k2/vjVtqa4AAHt06BBib/o6S3OvmIauL3a5bff394vXEWLJdnS9du12GTK3zqGv3SL7d/y19WiIJetbo12Wlts0p35GQQAAxHP42zGGRjg0nwtdbm1jE6r1dZZilde3vtjlrmXN9usaup+jXeryQr4OcSv7LZT9u+7+zfV5sLTc0McAAFjfi9Pp9DTlBY+Pj2vVBTq5CglplfSeyz0yp6S2AIAULi8vq4eHh9zVYMfcjkHRdAAgvaHbMo7E5w8AQHxGQgAAAFBVlZEQrM9ICAAAACAJIQQAAACQhBACAAAASEIIAQAAACQhhAAAAACSEEIAAAAASQghAAAAgCSEEAAAAEASQggAAAAgCSEEAAAAkIQQAgAAAEhCCAEAAAAkIYQAAAAAknhxOp2eclcCAAAA2D8jIQAAAIAkhBAAAABAEkIIAAAAIAkhBAAAAJCEEAIAAABIQggBAAAAJCGEAAAAAJIQQgAAAABJvMxdgdRub2+//v/19XXwc0BZvF8BAGB7DhdCVNVwhyVVZ6bZgUpV7u3tbWc5JdVl6jJ7kmM/9NlCXep/288DAADlOmQIkVtX53rtDndfR62kukxdZk9y7Ad1AQAAUks2J8R7771XXVxcDP689957qapzOCV12kqqCwAAAOkIITLQCR/mSjcAAMA+Jb8d48c//nHn4x999FHimpRDpxsAAIAjKOYrOr/88svqzZs3uauRnADiOe0BAACwX8WFEO+++251cXFRvfvuu7mrtDodbgAAAI6kmBCi9otf/KKqqqr68MMPdx1ECCDepk0AAAD2rZiv6Hzvvffempjyww8/rL744ouvg4m90Nnu1/5qTm0FAACwH8WNhGjbWwBBv+vr62c/9WOh2gFGjOcAAACIp5iREG/evPl6YsoPPvigqqqq+uyzz3JWaVVdHd8cV/yvr6/fqouRB+mVtB/UBQAAWMuL0+n0lKKgi4uL6uLiovcrOmv1bRlffvnlKvVodmjanZmh54CyeL8CAMD2FBNCXFxcPBsNAQAAAOxLMXNCXFxcvDUxJQAAALAfyeeE+Oijj1IXCQAAABQgWQjx5s2b0Xke3IoBAAAA+5U0hCg9ZDDRHWyH9ysAAGxPMV/RWYpUnZnUXzsYWt7t7W3WDt2Rv46xpG3fQl3qf7u+7hYAACiTECKDro7+mp3/0PJyd+ZSt0tJStp2dQEAANZSzLdjkNZWOnFbqScAAADjhBAZlNixdnUZAACAtbkdowApAoCS7vEfspV6AgAAMJ0QIrNUIxCG7qsvaRSE+/8BAAD2y+0YGelgAwAAcCRCiExKCSBKqQcAAAD753aMDErr+LfnYSitfgAAAOyDkRAHd319/eynfmyL2mFKjOcAAACIx0iITLo6vmt1/q+vrzfxrRNbqecaStp2dQEAANby4nQ6PeWuRCmanR0dHSib9ysAAGyPEAIAAABIwpwQAAAAQBJCCAAAACAJIQQAAACQhBACAAAASMJXdDaYbR+2w/sVAAC2RwjRkqoz0+xApSx3zO3t7ep1Gdv2FHUoUUnHxBbqUv/bfh4AACiXECKDrk52CR3vFJ25sW0/aoeypGNCXQAAgLWYE4Ki6FwCAADslxAigxI72q4uAwAAsDYhRAEEAAAAAByBECKzEgKIEuoAAADA/pmYMqMjdv6vr68PO/kkAADA0QkhMiklgMhRj65vOwAAAGD/hBAZlBJA1NohQGn1AwAAYB/MCXFw19fXz37qx9ay5qiHoXXPfQ4AAIB4jITIpKvje4TRB11zQhxhu8eU1C7qAgAArOXF6XR6yl2JUjQ7Ozo6UDbvVwAA2B4hBAAAAJCEOSEAAACAJIQQAAAAQBJCCAAAACAJIQQAAACQhBACAAAASEIIAQAAACQhhAAAAACSEEIAAAAASQghAAAAgCSEEAAAAEASQggAAAAgCSEEAAAAkIQQAgAAAEhCCNFwe3sb/TkAAADgK0IIAAAAIIkXp9PpKXclAAAAgP0zEgIAAABIQggBAAAAJCGEAAAAAJIQQgAAAABJvMxdgZI0v2rz+vo6Y02AMd6vAACwPUKIllSdmWYHKmW5Y/WohdSnbxumrPP29nbW6/aolGOiqrZRl7HjBgAAKI8QIoNmx3vosVTmlDu0DX1hQ8hjRwkc2ko6JtQFAABYizkhWJ1OIwAAAFUlhMhCh1wwAQAAcERuxyhA7g75mvf/T922kuYiAAAAIC4hRGa5A4iqerujH1Kn6+vr2YHB0Prd/w8AALBfQoiMSuhgzy1/jQkDc7cFAAAA6zInRCYlBBBr880GAAAANAkhMiipI971NZkpyqx/mnXIURcAAADSEUKQ1PX19bOf+rEYhkKMuc8BAAAQjzkhMunq+OYYHTF3gsklE1OmXOdWlLTt6gIAAKzlxel0espdiVI0Ozs6OlA271cAANgeIQQAAACQhDkhAAAAgCSEEAAAAEASQggAAAAgCSEEAAAAkISv6Gww2z5sh/crAABsjxCiJVVnptmBSlluXXazvNR1GSovZ7vkVtK2b6Eu9b/t5wEAgHIJITJohwB9j61Vds66DJWXs11yK2nb1QUAAFiLOSEAAACAJIQQGeS6ilvCFeTc5QMAAJCP2zEKUEI4kJpJBQEAAI5HCJFZyrkgSurstyejvL6+/npeiL7lAAAA2DYhREYlBANdHf9cTEIIAACwb0KITFJ2rsfK6ur4AwAAQGwmpswgx9X929vbr3/q33MQcAAAAByXEOIA6vkW6p/6saraVygwtC1znwMAACAet2Nk0tXxzTH3QerJIIfKO/LElCVtu7oAAABreXE6nZ5yV6IUvjYStsP7FQAAtkcIAQAAACRhTggAAAAgCSEEAAAAkIQQAgAAAEjCt2M0mOgOtmPo/eq9DAAAZRJCtKTqsMT+2sGur/zsW+/t7e2zx3N+BWJJdcmtpG3fQl3qf4e+7rbvfTG3Hkc6HvfqiPtx7ldCr9lWpe+HkPqVvg1LzPkbEHoeUi839W9/+3Vj5Q2ts++5VOdSzdeW9PcWIBUhRAZdJy5LT2aG/mAPPbZGXUKVVJfcStp2dYE41jhW56yz2dnx3ilXKcfL3M/dkPOQ0HV3dfC71t9Xp6F1jpU3J3CZ22b+xgFHZU6InfJHDJa7vb2NOpqC/HwulmEP+2EP27CmJech2tbfH2DfjITIINcf1+ZVgBLrAiWZehVrbOhv83jvG8I7NLdF1/NDdeoqa0pdms8tWWdzvWNXSkOHNs99rlnXvjqM1bPvSmrf8mNt0i5z7Aru0DqXCF1nyDEf2p5jbTJlvWPH4JCQ4zN0G8bq2X6+vW1L6t9+3RrHy5Ir93PrE3s7Ytz+Ouf8ZWr9jWAC9kwIUYDYf2CWrM8fO45ubmdsznDioWWWnuxPXc/YY3PrNvS6vt/nDqVe0mYh9ar/H2IorBiqZ/t17WHiaw/ZH1r/lGMgZCh921CHfu57bEzo8TnnvTeljLn7dqjOaxwvQ8fnUL3G6jMU3Mx93Zg5Aehccz5DmuWvETwC5OR2jMxSdfpDr9yVUhfIodkhCFluiq7lY6xjbLmuK3Zz3n9z1tlup/bV/K5OyhxDr4t11TPW+koztI+GlkthaplLO/DtbQ9plyXltcuYYy/HY/252wxk1nxd+7Xt/d73XIygaO7nb4xjEKAURkJkVFJnvKS6QC4hV5xCr8iF6ntdjqtfJZ3gzmmXLV0xHGrr0rYj9jE/t8ySjs8hqeuZurxSjs81yl4ShK79fqjLAdgDIUQma3X65wxHThlACDso3dhw87HXTdE1lLqvLnPLmKKk92bI6IaudkndZnOVWq+22Md8aJkxRg7lkrKeY58hOez17/zYdq0Vmu21PYFjcztGBrmGtdY/9e+l1QVKUl/Z6hqmm+PKo6G4bxtql1ht1jUce23teQJySl0PHa7ylXJ8xh59FrLOlOcvdTneD8AeCSEOoH1/Y0wHRQIAAAdBSURBVP3Y3uoy98Qi90k+5Woep+3HQ05Wp2gvv+S4XHoPc996pq5z6H7qrjYMeZ/meC83A6m1bkuIedV0itB73tc45rteP+VYXSNg6htVEON9NPWYn1sO6xg6fwm9vWps2a7yAPbI7RiZ9F25y6GUunSdoB3lD3BJ264uYeq69V0RnNpJb3d0l2z7nHu2x8qbex946BwOzeeH6jL3ubma+2Oqvm0fqme7s9s8zobWuUToOmMc82OmjGqJUV7o8bnG+2joubnv9XZYFnsbxo7POWJ8frZfl/ozZOrn51AwVcrfOIA1vTidTk+5K1GKvhMDoDxD79e9v5f7rqTF6BD0lbfHdgylk0BT7BAIAI5GCAEAAAAkYU4IAAAAIAkhBAAAAJCEEAIAAABIQggBAAAAJCGEAAAAAJIQQgAAAABJCCEAAACAJIQQAAAAQBJCCAAAACAJIQQAAACQhBACAAAASEIIAQAAACQhhAAAAACSEEIAAAAASQghAAAAgCSEEAAAAEASQggAAAAgCSEEAAAAkIQQAgAAAEhCCAEAAAAkIYQAAAAAkhBCAAAAAEkIIQAAAIAkhBAAAABAEi+nvuDx8XGNegAAAAA7ZyQEAAAAkIQQAgAAAEhCCAEAAAAkIYQAAAAAkhBCAAAAAEkIIQAAAIAkhBAAAABAEkIIAAAAIAkhBAAAAJCEEAIAAABIQggBAAAAJPEy1oo++eSTr///ve99L9Zqs5UDAAAAxNUbQnzxG+9XF3/5D9V7X/w8eGV9ocAnn3zS+VwzUOh6fdfr6t/brwUAAADK1nk7xl/9/q9UP/2Ni0kBRJ++sKAOGJo/zWVLDhlubm5yV4EJ7u7uclcBAACAqiOE+Kvf/5Wqqqrq1//j30QpYO4tE2616KZDDQAAwFY9ux0jdgAxZIshgxEQAAAAMN/XIyFSBhBd+uaNKMnNzY0gAgAAAGZ6p6oEEAAAAMD6XgogtqE5F0Tz/+fzeXDZoWXO53PwsmPLTF0utOwQa9RvaLmp9Y+1nQAAAFv38p0vfl796n/5LEvhAohwdce17gD36Xq+7zUhy4aub0q5IdsRKnb9cj0GAABwBO8IIPajr3PbddW+fjzG+qaWG1J2iCnlxt6OtdoFAABgz976ik6orR0iLBW7fiVsEwAAwJ69HF9kPZ988slbjxkdsUzsK+ztjn5pHfU16hezDY14AAAA+EbUEKIOFdpBQlewEBI2dC3TFVzwjTVCgvYcEWuVM1fM+g3Nn7G0bgAAAEf3LIT41nd+rXr/b39Uff5m+opSjWAwUiKv0Akyc1lSv1K3CQAAYC/e+dZ3/mX18ccfVx9//HH16tvvV9/5Vx9//fuvvf8id/2IZM6V/NJvJSi9fkO2XHcAAIC53vnZZ/+z+vTTT6tPP31dffazp+r/fV7//mn1o79/yl0/JuibqHHuFf7Q9cUut2s9S+oXamh9oY+lbBcAAICteVm98071j//pt6t//tEHVfWTx+rvLn69+tf/4u+q//XZ/6n+/h/eVGKIsoxNxBj6dZJzy+tbX+xyQ6Xc3mZ4UHq7AAAAlOjFv/2t33n6Z28+rz773z+p3nzwq9X7f/vX1f/9Rx9WH33n29U/+dlfV//jb7589oLHx8dMVYUyGMkAAAAwz8vPX//36vNf/vKtqqqq6qn6+U9/Uv3opz/JVysAAABgd1784Ac/GLjj4mfVZ3/5+tm3ZRgJAQAAAMzx8tNPP81dBwAAAOAA3sldAQAAAOAYhBAAAABAEkIIAAAAIAkhBAAAAJCEEAIAAABIQggBAAAAJCGEAAAAAJIQQgAAAABJCCEAAACAJIQQAAAAQBJCCAAAACAJIQQAAACQxMupL/jud7+7Rj0AAACAnTMSAgAAAEhCCAEAAAAkIYQAAAAAkhBCAAAAAEkIIQAAAIAkhBAAAABAEkIIAAAAIAkhBAAAAJDEIUOI29vb3FUoivYAAAAghRen0+kpdyVSur29ra6vr996rEu9XPv59uu71j22zr66LDVn+9aqCwAAADS9zF2BEnR1vuuOe1+nfqyjP7TOruVjGFqngAEAAIDcDnU7RujV/hQjFNYIBZas8/r62m0ZAAAArOpQIcRa3MoAAAAA49yO0ZJqnobUQue1AAAAgLUIIRYqIWAIETKvBQAAAKzJ7RgHIGwAAACgBEKIhqmjA0KWN+IAAAAAviKEWOj29vbrn/r30pRYJwAAAI7nUCFE7K+hvL6+fvZTPxZD6uDAiA0AAADWZmLKEV3BxdY663vYBgAAALbvxel0espdidRKv+qfun6ltwcAAAD7cMgQAgAAAEjvUHNCAAAAAPkIIQAAAIAkhBAAAABAEkIIAAAAIAkhBAAAAJCEEAIAAABIQggBAAAAJCGEAAAAAJIQQgAAAABJCCEAAACAJIQQAAAAQBJCCAAAACAJIQQAAACQhBACAAAASEIIAQAAACQhhAAAAACSEEIAAAAASfx/OQbnUkkQZTIAAAAASUVORK5CYII=)\n",
        "\n",
        "따라서 pad_sequences메서드에서 maxlen = 15라는 옵션을 굳이 설정해 줄 필요는 없을 것 같습니다."
      ],
      "metadata": {
        "id": "5cq4NH-VFyvg"
      }
    },
    {
      "cell_type": "code",
      "source": [
        "src_input = tensor[:, :-1]  \n",
        "tgt_input = tensor[:, 1:]    "
      ],
      "metadata": {
        "colab": {
          "base_uri": "https://localhost:8080/"
        },
        "id": "_sMmqh7XE-te",
        "outputId": "56139642-d997-4b3f-9ab2-338e88176629"
      },
      "execution_count": 136,
      "outputs": [
        {
          "output_type": "stream",
          "name": "stdout",
          "text": [
            "[   2   10   14   53  447  286 1237    3    0    0    0    0    0    0\n",
            "    0]\n",
            "[  10   14   53  447  286 1237    3    0    0    0    0    0    0    0\n",
            "    0]\n"
          ]
        }
      ]
    },
    {
      "cell_type": "code",
      "source": [
        "BUFFER_SIZE = len(src_input)\n",
        "BATCH_SIZE = 256\n",
        "steps_per_epoch = len(src_input) // BATCH_SIZE\n",
        "\n",
        "VOCAB_SIZE = tokenizer.num_words + 1   \n",
        "\n",
        "dataset = tf.data.Dataset.from_tensor_slices((src_input, tgt_input))\n",
        "dataset = dataset.shuffle(BUFFER_SIZE)\n",
        "dataset = dataset.batch(BATCH_SIZE, drop_remainder=True)\n",
        "dataset"
      ],
      "metadata": {
        "colab": {
          "base_uri": "https://localhost:8080/"
        },
        "id": "UT_dMKdRFIns",
        "outputId": "3b56db4d-071d-4b68-e0cf-2d7361f8653d"
      },
      "execution_count": 141,
      "outputs": [
        {
          "output_type": "execute_result",
          "data": {
            "text/plain": [
              "<BatchDataset element_spec=(TensorSpec(shape=(256, 15), dtype=tf.int32, name=None), TensorSpec(shape=(256, 15), dtype=tf.int32, name=None))>"
            ]
          },
          "metadata": {},
          "execution_count": 141
        }
      ]
    },
    {
      "cell_type": "code",
      "source": [
        "model.compile(loss=loss, optimizer=optimizer)\n",
        "model.fit(dataset, epochs=10)"
      ],
      "metadata": {
        "colab": {
          "base_uri": "https://localhost:8080/"
        },
        "id": "wlNn9Y8gD1Vd",
        "outputId": "71f828a8-00a4-41b7-c003-f12069026eff"
      },
      "execution_count": 142,
      "outputs": [
        {
          "output_type": "stream",
          "name": "stdout",
          "text": [
            "Epoch 1/10\n",
            "275/275 [==============================] - 64s 228ms/step - loss: 1.8924\n",
            "Epoch 2/10\n",
            "275/275 [==============================] - 67s 242ms/step - loss: 1.8495\n",
            "Epoch 3/10\n",
            "275/275 [==============================] - 68s 248ms/step - loss: 1.8096\n",
            "Epoch 4/10\n",
            "275/275 [==============================] - 69s 250ms/step - loss: 1.7710\n",
            "Epoch 5/10\n",
            "275/275 [==============================] - 69s 250ms/step - loss: 1.7346\n",
            "Epoch 6/10\n",
            "275/275 [==============================] - 68s 247ms/step - loss: 1.7001\n",
            "Epoch 7/10\n",
            "275/275 [==============================] - 68s 246ms/step - loss: 1.6662\n",
            "Epoch 8/10\n",
            "275/275 [==============================] - 68s 248ms/step - loss: 1.6338\n",
            "Epoch 9/10\n",
            "275/275 [==============================] - 69s 250ms/step - loss: 1.6031\n",
            "Epoch 10/10\n",
            "275/275 [==============================] - 68s 248ms/step - loss: 1.5736\n"
          ]
        },
        {
          "output_type": "execute_result",
          "data": {
            "text/plain": [
              "<keras.callbacks.History at 0x7f6f68604710>"
            ]
          },
          "metadata": {},
          "execution_count": 142
        }
      ]
    },
    {
      "cell_type": "markdown",
      "source": [
        "이 때 학습 시간도 별 차이가 나지 않았습니다."
      ],
      "metadata": {
        "id": "tadbE9wyGtL5"
      }
    },
    {
      "cell_type": "markdown",
      "source": [
        "### 문장 생성 및 비교"
      ],
      "metadata": {
        "id": "QFWdbX6GKDG6"
      }
    },
    {
      "cell_type": "markdown",
      "source": [
        "- 아래쪽이 maxlen = 15 적용시 입니다."
      ],
      "metadata": {
        "id": "hYAiJi_KLcuv"
      }
    },
    {
      "cell_type": "markdown",
      "source": [
        "비교 1."
      ],
      "metadata": {
        "id": "6Ci7BbiiKbw1"
      }
    },
    {
      "cell_type": "code",
      "source": [
        "generate_text(model, tokenizer, init_sentence = \"<start> What do\")"
      ],
      "metadata": {
        "colab": {
          "base_uri": "https://localhost:8080/",
          "height": 35
        },
        "id": "BLh1fqyuJUtQ",
        "outputId": "25bc5b40-03da-4368-b3c8-bb28ae75a5ea"
      },
      "execution_count": 145,
      "outputs": [
        {
          "output_type": "execute_result",
          "data": {
            "text/plain": [
              "'<start> what do you mean? <end> '"
            ],
            "application/vnd.google.colaboratory.intrinsic+json": {
              "type": "string"
            }
          },
          "metadata": {},
          "execution_count": 145
        }
      ]
    },
    {
      "cell_type": "markdown",
      "source": [
        "![image.png](data:image/png;base64,iVBORw0KGgoAAAANSUhEUgAAAuMAAABkCAYAAAAsVz7tAAAIyElEQVR4nO3dO3LcNhwH4JVHp3DhS7hxrVJdene6gWfc6wS5wXbp3anUcXwNp8gwYWg+ABLgHyS/b8YTaZeLFx/7WwjcPHz+/PnXDQAA2N3jw8NDdBsAAOCSHj98+BDdBgAAuCQz4wAAEMS0OAAABDEzDgAAQcyMAwBAEGEcAACCPP78+TO6DQAAcElmxgEAIIgwDgAAQYRxAAAIIowDAEAQYRwAAIII4wAAEEQYBwCAIMI4AAAEEcYBACCIMA4AAEGEcQAACCKMcynv7+/RTQAAArWWBYRxLuP9/f329PQU3QwAINDT01NTgbx6GH99fa1dBSxqIYi/vb01UUaUFtreQhv2VLq/Vxs/1vnx7evs72yzNL7d70ce9y1tTz3+WgrkZsZPJOqN8mr1Xo1xJsdZjpez9ONqogLokYPvGlfrb22PtQo2I04rWpgVBwDa0s2OR2eEajPjr6+vAjnQlOfn5+gm7Kp0f682fuzvx7evp5t1PWOfKKvazDi0oIVPvABX8seff83+PuXHt6/J2x5J16ez9q81ucdfC7Pjpw3jw/V+z8/Pt7e3t99mdsa2Gyure33Ktkvb5JSZW2f/5y3tS1Gy3rF9M/V8Tr1LhvthuE/W7I8a20XY47ia2u+lz8vc+oa2HAe5bSxp7rwqOX7dc2M/l7rGzJVV8ngpfdzXev9I2e4oulnjqdA0nFUe266/Tf/npW2X6v3jz79mt8+pt1/WnqE8p79L2+X0N6J9R3XKMJ4Suue2m7ugzj2WU97Scznl9UNqifJSlax36sPS1LZb2z5V/tw+TR2/GsdfhNrH1ZZzbWvdQznnaOnzPFLJY7DmeVnisdRtaxz3Jd8/Su6zlJtUax+7S7PFY8+PPZY6+5xaXmr7cme9S8ySd6F+KiwPPyyk9Lf0OKeaqjd1u7ME8tN9m8rURSn14jU2gzH2+px6py54a2ag5sor3b4Scuode2yPIJNSfmo/ah1/rVrbj5zQMldezWMjJ/SsPc+jtdq2EudbzeMl6v2j9HXj+fl58V8t3Trq3OB8u/1/hjm3ztzyaoW9rs6ta8mnZu/79UzVPSxjabvS5upN3e4sa/FPF8bPotU3ydr6byotzyiy3hH26xHaeGZH/XBTwxn724WrpaBbOiS3NovajUF0oGxtXK7olMtUUpWegawxo1myzKgZ19x655asnMmRZsBLSV2+0rLW23cWw0A+twwowtXqLSln7fQwrJZaGtGCiPXjc1oZlyu6dBgvHfZKlzf3p/w1osLt2UP1Wlccl5QPWtHj0nr7rmS4pnr42NjvezlDvZFrxnPWHo/dMLk2wM6ttd5Ta+udWxmXqzpdGJ96sz/abMIVZoan9L99YOsYtPCVRfxfy3/5aLVdlL9BlDY+WOZ+w8iWGwhbCMClZsOHN3HO3dSZ0qbocYnUQkY45Zrx7s2+/y/nonOE5SsltfTn1v6+OtrNjKVcoc9r9m3r49J6+46kxFi2dF3bo7wjH39Ta6fPNiubulae6zllGL/dfr9LfOz51K+bS61vr/LWKN2+GvWOPVYikHez41uk9iN1v9XeH1v7m2pLP1K/USe1vK3Wtjn1tSn22m+tK3G+tXJdK1le5Pmxh+E3jEzd3Lh2JneuvJpSvjkmUtS4pNZb+jjoa2FW/HY74TKVnIvSVBhYa8/yUoJrSrAtcQEvUe/cfpta1pB6g1cpqeOXGjJr7Y/Sah5XY/s2Ylz63+AzJrp9R1LqvNx6vm219/U0ur+tGPte65z/2cvSDZ9z5ZX47u+xelsN4X2541LqxtqpelMfO4uHT58+/YpuRGmps65cSyufgPdwpb6eif0GsI+WrrenDOO32/iyAJZF3l2/h5ZOvlqu0MczusJ+O/v1BTiG1q63pw3jAADQutPewAkAAK0TxgEAIIgwDgAAQYRxAAAIIowDAEAQYRwAAIII4wAAEEQYBwCAIMI4AAAEEcYBACCIMA4AAEGEcQAACCKMAwBAkMePHz9GtwEAAC7JzDgAAAQRxgEAIIgwDgAAQYRxAAAIIowDAEAQYRwAAIII4wAAEEQYBwCAIMI4AAAEEcYBACDIbBj//v37Xu04hPv9Ht2EJtrAf468P0q13XUCANbbdWa8RnA5Shg6SjuPYu142g8AQEs2h/H7/d5kwGm1XZCr9rHsXAGAOA9fvnz5tfbF9/v99vLy8ttjfd3zU4+PvW7suZeXl3+3SS1zqo1z+nX1/ztW37DOqT6ktHOpTd3rhv0ZjklKWVPjO1dmyuvm6hsbz35dY/X1lRjP1OMlt8yxY3NrW4flp5SZ27+xfZHbPgBgm8c1L5oLHlOPjb35T70uNfjNlTncZqy9a8x9UJjqQ0o7p8x9GBg+V6J/NcpMqWvs99LjufS6tX2fet3aDzDddl2bl14/HJupbVM+WJY8VwCAZdnLVPrhOkXKdqW2mXttP2jUUCO8pIbT7rmU/g23mwuPRxyztbb0vfSY5Z5jOWV2psre41wBAP6TPTM+N3u2ZWat9prY261++BNg8p19zNb0b+k8OsO5AgD8Y9Uylbk/ww//DJ76J/m5NcFb7LUOtmYfaoleI3zEMcu1dnxTzrHSoo8HALiiVWG8szRLfrvFvcGvneGbu9nwLPZchnCF8axpj3XcZsMBIM7mrzbsr20tEfBKhcTSa25zlOzDcH333HNrPngs1Td3s2NJ0bPiW8Yz53Vrl61sLXPpWBLEASDGppnxobEZ16mb2+Yev9/vyWGolW+AWOrD2naOlTv1XI1+jD0+9nuJuvbY7zXueUgds9xyl+rKLXPuWAIAYmz6nnGOp4UPLgAA/EMYBwCAIJvXjAMAAOsI4wAAEEQYBwCAIMI4AAAEEcYBACCIMA4AAEGEcQAACCKMAwBAEGEcAACCCOMAABBEGAcAgCDCOAAABBHGAQAgiDAOAABBhHEAAAgijAMAQBBhHAAAggjjAAAQRBgHAIAgwjgAAAQRxgEAIIgwDgAAQYRxAAAI8jdzP4TSD2Q6GAAAAABJRU5ErkJggg==)"
      ],
      "metadata": {
        "id": "VLqgiadQKYDb"
      }
    },
    {
      "cell_type": "markdown",
      "source": [
        "비교 2."
      ],
      "metadata": {
        "id": "JQ00SMGDKf0k"
      }
    },
    {
      "cell_type": "code",
      "source": [
        "generate_text(model, tokenizer, init_sentence = \"<start> sorry\")"
      ],
      "metadata": {
        "colab": {
          "base_uri": "https://localhost:8080/",
          "height": 35
        },
        "id": "vD4Tu_n8JisD",
        "outputId": "a00a0ef5-99d8-47cf-fe2b-1b30fd46050f"
      },
      "execution_count": 146,
      "outputs": [
        {
          "output_type": "execute_result",
          "data": {
            "text/plain": [
              "'<start> sorry i m a voodoo chile <end> '"
            ],
            "application/vnd.google.colaboratory.intrinsic+json": {
              "type": "string"
            }
          },
          "metadata": {},
          "execution_count": 146
        }
      ]
    },
    {
      "cell_type": "markdown",
      "source": [
        "![image.png](data:image/png;base64,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)"
      ],
      "metadata": {
        "id": "ONpbu_l5KajO"
      }
    },
    {
      "cell_type": "markdown",
      "source": [
        "비교 3."
      ],
      "metadata": {
        "id": "nCTDAno2Khwh"
      }
    },
    {
      "cell_type": "code",
      "source": [
        "generate_text(model, tokenizer, init_sentence = \"<start> I love\")"
      ],
      "metadata": {
        "colab": {
          "base_uri": "https://localhost:8080/",
          "height": 35
        },
        "id": "2_Z8yhctJwB9",
        "outputId": "265c223a-9060-4b45-adf1-7e75ee303ea6"
      },
      "execution_count": 148,
      "outputs": [
        {
          "output_type": "execute_result",
          "data": {
            "text/plain": [
              "'<start> i love you <end> '"
            ],
            "application/vnd.google.colaboratory.intrinsic+json": {
              "type": "string"
            }
          },
          "metadata": {},
          "execution_count": 148
        }
      ]
    },
    {
      "cell_type": "markdown",
      "source": [
        "![image.png](data:image/png;base64,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)"
      ],
      "metadata": {
        "id": "65r__855KkH8"
      }
    },
    {
      "cell_type": "markdown",
      "source": [
        "비교 4."
      ],
      "metadata": {
        "id": "boB_4zceKkfF"
      }
    },
    {
      "cell_type": "code",
      "source": [
        "generate_text(model, tokenizer, init_sentence = \"<start> I \")"
      ],
      "metadata": {
        "colab": {
          "base_uri": "https://localhost:8080/",
          "height": 35
        },
        "id": "13AQY2b3KIXA",
        "outputId": "8be8f0fb-1c8a-41ca-8843-b9a0712bc024"
      },
      "execution_count": 152,
      "outputs": [
        {
          "output_type": "execute_result",
          "data": {
            "text/plain": [
              "'<start> i m a <unk> <end> '"
            ],
            "application/vnd.google.colaboratory.intrinsic+json": {
              "type": "string"
            }
          },
          "metadata": {},
          "execution_count": 152
        }
      ]
    },
    {
      "cell_type": "markdown",
      "source": [
        "![image.png](data:image/png;base64,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)"
      ],
      "metadata": {
        "id": "63uRuGG-KmbV"
      }
    },
    {
      "cell_type": "markdown",
      "source": [
        "비교 5."
      ],
      "metadata": {
        "id": "RYCA9YXIKmSt"
      }
    },
    {
      "cell_type": "code",
      "source": [
        "generate_text(model, tokenizer, init_sentence = \"<start> Replace\")"
      ],
      "metadata": {
        "colab": {
          "base_uri": "https://localhost:8080/",
          "height": 35
        },
        "id": "tLK7teUkJrLR",
        "outputId": "435e8e60-b4fc-43cc-9ed3-c5cb29082d66"
      },
      "execution_count": 147,
      "outputs": [
        {
          "output_type": "execute_result",
          "data": {
            "text/plain": [
              "'<start> replace the <unk> <end> '"
            ],
            "application/vnd.google.colaboratory.intrinsic+json": {
              "type": "string"
            }
          },
          "metadata": {},
          "execution_count": 147
        }
      ]
    },
    {
      "cell_type": "markdown",
      "source": [
        "![image.png](data:image/png;base64,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)"
      ],
      "metadata": {
        "id": "N3efih24KqzV"
      }
    },
    {
      "cell_type": "markdown",
      "source": [
        "비교 6."
      ],
      "metadata": {
        "id": "alONd6rCKqqI"
      }
    },
    {
      "cell_type": "code",
      "source": [
        "generate_text(model, tokenizer, init_sentence = \"<start> You son\")"
      ],
      "metadata": {
        "colab": {
          "base_uri": "https://localhost:8080/",
          "height": 35
        },
        "id": "t720lyNiJz08",
        "outputId": "cac38d79-0753-498e-b592-46f666ee7940"
      },
      "execution_count": 149,
      "outputs": [
        {
          "output_type": "execute_result",
          "data": {
            "text/plain": [
              "'<start> you son of the <unk> <end> '"
            ],
            "application/vnd.google.colaboratory.intrinsic+json": {
              "type": "string"
            }
          },
          "metadata": {},
          "execution_count": 149
        }
      ]
    },
    {
      "cell_type": "markdown",
      "source": [
        "![image.png](data:image/png;base64,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)"
      ],
      "metadata": {
        "id": "PZNkbafDKuLq"
      }
    },
    {
      "cell_type": "markdown",
      "source": [
        "비교 7."
      ],
      "metadata": {
        "id": "Vd-QvcTcKuI8"
      }
    },
    {
      "cell_type": "code",
      "source": [
        "generate_text(model, tokenizer, init_sentence = \"<start> Oh\")"
      ],
      "metadata": {
        "colab": {
          "base_uri": "https://localhost:8080/",
          "height": 35
        },
        "id": "1W6r0vveJ2vI",
        "outputId": "0504c03b-4be3-4afc-acb8-703aca7688ff"
      },
      "execution_count": 150,
      "outputs": [
        {
          "output_type": "execute_result",
          "data": {
            "text/plain": [
              "'<start> oh oh oh oh oh oh oh oh oh oh oh oh oh oh '"
            ],
            "application/vnd.google.colaboratory.intrinsic+json": {
              "type": "string"
            }
          },
          "metadata": {},
          "execution_count": 150
        }
      ]
    },
    {
      "cell_type": "markdown",
      "source": [
        "![image.png](data:image/png;base64,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)"
      ],
      "metadata": {
        "id": "ll8b-vxtKwS-"
      }
    },
    {
      "cell_type": "markdown",
      "source": [
        "비교 8."
      ],
      "metadata": {
        "id": "q78eEP4EKv_b"
      }
    },
    {
      "cell_type": "code",
      "source": [
        "generate_text(model, tokenizer, init_sentence = \"<start> This\")"
      ],
      "metadata": {
        "colab": {
          "base_uri": "https://localhost:8080/",
          "height": 35
        },
        "id": "5E8htXqlJ7hc",
        "outputId": "dd37f317-38e4-479e-91aa-d3d30092910d"
      },
      "execution_count": 151,
      "outputs": [
        {
          "output_type": "execute_result",
          "data": {
            "text/plain": [
              "'<start> this is the new day <end> '"
            ],
            "application/vnd.google.colaboratory.intrinsic+json": {
              "type": "string"
            }
          },
          "metadata": {},
          "execution_count": 151
        }
      ]
    },
    {
      "cell_type": "markdown",
      "source": [
        "![image.png](data:image/png;base64,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)"
      ],
      "metadata": {
        "id": "KUMD78tZLtpo"
      }
    },
    {
      "cell_type": "markdown",
      "source": [
        "비교 9."
      ],
      "metadata": {
        "id": "RU0w5oUQL2AA"
      }
    },
    {
      "cell_type": "code",
      "source": [
        "generate_text(model, tokenizer, init_sentence = \"<start> You\")"
      ],
      "metadata": {
        "colab": {
          "base_uri": "https://localhost:8080/",
          "height": 35
        },
        "id": "Q9MgZCpbL9vf",
        "outputId": "2481e9f4-114e-4337-8318-69b70ca0e578"
      },
      "execution_count": 153,
      "outputs": [
        {
          "output_type": "execute_result",
          "data": {
            "text/plain": [
              "'<start> you re the only one that i adore <end> '"
            ],
            "application/vnd.google.colaboratory.intrinsic+json": {
              "type": "string"
            }
          },
          "metadata": {},
          "execution_count": 153
        }
      ]
    },
    {
      "cell_type": "markdown",
      "source": [
        "![image.png](data:image/png;base64,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)"
      ],
      "metadata": {
        "id": "kNuYNhTnL9XA"
      }
    },
    {
      "cell_type": "markdown",
      "source": [
        "시퀀스의 크기가 1개 더 길어서인지는 모르겠지만 문장이 조금더 자연스러운 것이 많았고, 표현도 더 좋은거 같습니다.\n",
        "\n",
        "학습에 문제도 없었음을 알 수 있습니다."
      ],
      "metadata": {
        "id": "fvJGA24RMFnP"
      }
    },
    {
      "cell_type": "markdown",
      "source": [
        "## 회고 이어서"
      ],
      "metadata": {
        "id": "pFJ0y8nsG2_f"
      }
    },
    {
      "cell_type": "markdown",
      "source": [
        "따라서 데이터를 적절히 전처리 한다면 일부 옵션을 사용하지 않아도 됨을 알게 되었습니다. \n",
        "\n",
        "또한 데이터의 전처리가 모델 만큼이나 원하는 결과를 좀더 퀄리티 있게 만들어 줄 것이라는 나름의 insight 도 생겼습니다."
      ],
      "metadata": {
        "id": "zTJ-EeUeG9F3"
      }
    }
  ]
}